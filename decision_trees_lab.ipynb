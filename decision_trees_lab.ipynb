{
 "cells":[
  {
   "cell_type":"markdown",
   "source":[
    "# Decision Trees"
   ],
   "attachments":{},
   "metadata":{
    "datalore":{
     "node_id":"GVo10nb36uDS9vJ9EhxcZ4",
     "type":"MD",
     "hide_input_from_viewers":false,
     "hide_output_from_viewers":false,
     "report_properties":{
      "rowId":"JoHk2C319pxhiBaGkNQMDg"
     }
    }
   }
  },
  {
   "cell_type":"markdown",
   "source":[
    "## Setup\n",
    "### Imports"
   ],
   "attachments":{},
   "metadata":{
    "datalore":{
     "node_id":"XRS0rFPXUlRgtEHlNxcpID",
     "type":"MD",
     "hide_input_from_viewers":false,
     "hide_output_from_viewers":false,
     "report_properties":{
      "rowId":"UcaZxTvte2AQBKxsfYBVTL"
     }
    }
   }
  },
  {
   "cell_type":"code",
   "source":[
    "import pandas as pd                                     # for dataset manipulation (DataFrames)\n",
    "import numpy as np                                      # allows some mathematical operations\n",
    "import matplotlib.pyplot as plt                         # library used to display graphs\n",
    "import seaborn as sns                                   # more convenient visualisation library for dataframes\n",
    "import time                                             # for execution time measurement"
   ],
   "execution_count":33,
   "outputs":[],
   "metadata":{
    "datalore":{
     "node_id":"TbLv57fkMm1TbExf2jVxHh",
     "type":"CODE",
     "hide_input_from_viewers":false,
     "hide_output_from_viewers":false,
     "report_properties":{
      "rowId":"PvEHx5cM4msrC9cCg1cW9N"
     }
    }
   }
  },
  {
   "cell_type":"markdown",
   "source":[
    "### Import `graphviz`\n",
    "In order to visualize decision trees, you can use the `graphviz` library. In order to install it (in Datalore), you need to run the following commands in the terminal (Tools > Terminal):\n",
    "```\n",
    "sudo apt update\n",
    "sudo apt-get install graphviz\n",
    "```\n",
    "Then, you will need to import the library in Python. Remember to add it to your environment!\n",
    "\n",
    "If you are working locally, you can refer to [the graphviz website](https:\/\/graphviz.org\/download\/)."
   ],
   "attachments":{},
   "metadata":{
    "datalore":{
     "node_id":"MmaIMncXuA2o6QdLMOSao9",
     "type":"MD",
     "hide_input_from_viewers":true,
     "hide_output_from_viewers":true
    }
   }
  },
  {
   "cell_type":"code",
   "source":[
    "import graphviz\n",
    "import os\n",
    "os.environ[\"PATH\"] += os.pathsep + 'C:\\\\Program Files\\\\Graphviz\\\\bin\\\\'"
   ],
   "execution_count":5,
   "outputs":[],
   "metadata":{
    "datalore":{
     "node_id":"J445jbw7mGlGuskkr40ye1",
     "type":"CODE",
     "hide_input_from_viewers":true,
     "hide_output_from_viewers":true
    }
   }
  },
  {
   "cell_type":"markdown",
   "source":[
    "## Decision trees\n",
    "\n",
    "### Importing and observing the data\n",
    "Using what you've learned in the previous practicals, answer the following questions:\n",
    "1. Import the iris dataset directly from `scikit-learn`.\n",
    "2. Convert it to a `pandas` Dataframe. Remember to add the `target` column. ***Note**: Keep the `target` column as digits, do not replace the digits with the names. This is because machine learning algorithms prefer working with numerical values.*\n",
    "3. Using the relevant graphs and functions, realize an analysis of the dataset and its features."
   ],
   "attachments":{},
   "metadata":{
    "datalore":{
     "node_id":"lqpL20bjkfGlehb5Klwwbt",
     "type":"MD",
     "hide_input_from_viewers":true,
     "hide_output_from_viewers":true
    }
   }
  },
  {
   "cell_type":"markdown",
   "source":[
    "*[Your comments here]*"
   ],
   "attachments":{},
   "metadata":{
    "datalore":{
     "node_id":"HoIJcHG0Vx5XRvf3Hqzfcc",
     "type":"MD",
     "hide_input_from_viewers":true,
     "hide_output_from_viewers":true
    }
   }
  },
  {
   "cell_type":"code",
   "source":[
    "import sklearn.datasets\n",
    "iris = sklearn.datasets.load_iris()\n",
    "df = pd.DataFrame(data= np.c_[iris['data'], iris['target']], columns= iris['feature_names'] + ['target'])"
   ],
   "execution_count":10,
   "outputs":[],
   "metadata":{
    "datalore":{
     "node_id":"xboa1kXChth2v07ShH81Br",
     "type":"CODE",
     "hide_input_from_viewers":true,
     "hide_output_from_viewers":true
    }
   }
  },
  {
   "cell_type":"code",
   "source":[
    "df.head()"
   ],
   "execution_count":11,
   "outputs":[
    {
     "data":{
      "text\/html":[
       "<div>\n",
       "<style scoped>\n",
       "    .dataframe tbody tr th:only-of-type {\n",
       "        vertical-align: middle;\n",
       "    }\n",
       "\n",
       "    .dataframe tbody tr th {\n",
       "        vertical-align: top;\n",
       "    }\n",
       "\n",
       "    .dataframe thead th {\n",
       "        text-align: right;\n",
       "    }\n",
       "<\/style>\n",
       "<table border=\"1\" class=\"dataframe\">\n",
       "  <thead>\n",
       "    <tr style=\"text-align: right;\">\n",
       "      <th><\/th>\n",
       "      <th>sepal length (cm)<\/th>\n",
       "      <th>sepal width (cm)<\/th>\n",
       "      <th>petal length (cm)<\/th>\n",
       "      <th>petal width (cm)<\/th>\n",
       "      <th>target<\/th>\n",
       "    <\/tr>\n",
       "  <\/thead>\n",
       "  <tbody>\n",
       "    <tr>\n",
       "      <th>0<\/th>\n",
       "      <td>5.1<\/td>\n",
       "      <td>3.5<\/td>\n",
       "      <td>1.4<\/td>\n",
       "      <td>0.2<\/td>\n",
       "      <td>0.0<\/td>\n",
       "    <\/tr>\n",
       "    <tr>\n",
       "      <th>1<\/th>\n",
       "      <td>4.9<\/td>\n",
       "      <td>3.0<\/td>\n",
       "      <td>1.4<\/td>\n",
       "      <td>0.2<\/td>\n",
       "      <td>0.0<\/td>\n",
       "    <\/tr>\n",
       "    <tr>\n",
       "      <th>2<\/th>\n",
       "      <td>4.7<\/td>\n",
       "      <td>3.2<\/td>\n",
       "      <td>1.3<\/td>\n",
       "      <td>0.2<\/td>\n",
       "      <td>0.0<\/td>\n",
       "    <\/tr>\n",
       "    <tr>\n",
       "      <th>3<\/th>\n",
       "      <td>4.6<\/td>\n",
       "      <td>3.1<\/td>\n",
       "      <td>1.5<\/td>\n",
       "      <td>0.2<\/td>\n",
       "      <td>0.0<\/td>\n",
       "    <\/tr>\n",
       "    <tr>\n",
       "      <th>4<\/th>\n",
       "      <td>5.0<\/td>\n",
       "      <td>3.6<\/td>\n",
       "      <td>1.4<\/td>\n",
       "      <td>0.2<\/td>\n",
       "      <td>0.0<\/td>\n",
       "    <\/tr>\n",
       "  <\/tbody>\n",
       "<\/table>\n",
       "<\/div>"
      ]
     },
     "metadata":{},
     "output_type":"display_data"
    }
   ],
   "metadata":{
    "datalore":{
     "node_id":"Z4CHoD4yIZrQfeEPwccGBB",
     "type":"CODE",
     "hide_input_from_viewers":true,
     "hide_output_from_viewers":true
    }
   }
  },
  {
   "cell_type":"code",
   "source":[
    "df.info()"
   ],
   "execution_count":12,
   "outputs":[
    {
     "name":"stdout",
     "text":[
      "<class 'pandas.core.frame.DataFrame'>\n",
      "RangeIndex: 150 entries, 0 to 149\n",
      "Data columns (total 5 columns):\n",
      " #   Column             Non-Null Count  Dtype  \n",
      "---  ------             --------------  -----  \n",
      " 0   sepal length (cm)  150 non-null    float64\n",
      " 1   sepal width (cm)   150 non-null    float64\n",
      " 2   petal length (cm)  150 non-null    float64\n",
      " 3   petal width (cm)   150 non-null    float64\n",
      " 4   target             150 non-null    float64\n",
      "dtypes: float64(5)\n",
      "memory usage: 6.0 KB\n"
     ],
     "output_type":"stream"
    }
   ],
   "metadata":{
    "datalore":{
     "node_id":"FGkVWFauh60Mlj3ODpSYfY",
     "type":"CODE",
     "hide_input_from_viewers":true,
     "hide_output_from_viewers":true
    }
   }
  },
  {
   "cell_type":"code",
   "source":[
    "df.columns"
   ],
   "execution_count":16,
   "outputs":[
    {
     "data":{
      "text\/plain":[
       "Index(['sepal length (cm)', 'sepal width (cm)', 'petal length (cm)',\n",
       "       'petal width (cm)', 'target'],\n",
       "      dtype='object')"
      ]
     },
     "metadata":{},
     "output_type":"display_data"
    }
   ],
   "metadata":{
    "datalore":{
     "node_id":"zn76bASnwRZyl7wAFtcDSD",
     "type":"CODE",
     "hide_input_from_viewers":true,
     "hide_output_from_viewers":true
    }
   }
  },
  {
   "cell_type":"code",
   "source":[
    "df.shape"
   ],
   "execution_count":17,
   "outputs":[
    {
     "data":{
      "text\/plain":[
       "(150, 5)"
      ]
     },
     "metadata":{},
     "output_type":"display_data"
    }
   ],
   "metadata":{
    "datalore":{
     "node_id":"RrkbKzXYDEizV4LNrZ2ng6",
     "type":"CODE",
     "hide_input_from_viewers":true,
     "hide_output_from_viewers":true
    }
   }
  },
  {
   "cell_type":"code",
   "source":[
    "df.describe()"
   ],
   "execution_count":18,
   "outputs":[
    {
     "data":{
      "text\/html":[
       "<div>\n",
       "<style scoped>\n",
       "    .dataframe tbody tr th:only-of-type {\n",
       "        vertical-align: middle;\n",
       "    }\n",
       "\n",
       "    .dataframe tbody tr th {\n",
       "        vertical-align: top;\n",
       "    }\n",
       "\n",
       "    .dataframe thead th {\n",
       "        text-align: right;\n",
       "    }\n",
       "<\/style>\n",
       "<table border=\"1\" class=\"dataframe\">\n",
       "  <thead>\n",
       "    <tr style=\"text-align: right;\">\n",
       "      <th><\/th>\n",
       "      <th>sepal length (cm)<\/th>\n",
       "      <th>sepal width (cm)<\/th>\n",
       "      <th>petal length (cm)<\/th>\n",
       "      <th>petal width (cm)<\/th>\n",
       "      <th>target<\/th>\n",
       "    <\/tr>\n",
       "  <\/thead>\n",
       "  <tbody>\n",
       "    <tr>\n",
       "      <th>count<\/th>\n",
       "      <td>150.000000<\/td>\n",
       "      <td>150.000000<\/td>\n",
       "      <td>150.000000<\/td>\n",
       "      <td>150.000000<\/td>\n",
       "      <td>150.000000<\/td>\n",
       "    <\/tr>\n",
       "    <tr>\n",
       "      <th>mean<\/th>\n",
       "      <td>5.843333<\/td>\n",
       "      <td>3.057333<\/td>\n",
       "      <td>3.758000<\/td>\n",
       "      <td>1.199333<\/td>\n",
       "      <td>1.000000<\/td>\n",
       "    <\/tr>\n",
       "    <tr>\n",
       "      <th>std<\/th>\n",
       "      <td>0.828066<\/td>\n",
       "      <td>0.435866<\/td>\n",
       "      <td>1.765298<\/td>\n",
       "      <td>0.762238<\/td>\n",
       "      <td>0.819232<\/td>\n",
       "    <\/tr>\n",
       "    <tr>\n",
       "      <th>min<\/th>\n",
       "      <td>4.300000<\/td>\n",
       "      <td>2.000000<\/td>\n",
       "      <td>1.000000<\/td>\n",
       "      <td>0.100000<\/td>\n",
       "      <td>0.000000<\/td>\n",
       "    <\/tr>\n",
       "    <tr>\n",
       "      <th>25%<\/th>\n",
       "      <td>5.100000<\/td>\n",
       "      <td>2.800000<\/td>\n",
       "      <td>1.600000<\/td>\n",
       "      <td>0.300000<\/td>\n",
       "      <td>0.000000<\/td>\n",
       "    <\/tr>\n",
       "    <tr>\n",
       "      <th>50%<\/th>\n",
       "      <td>5.800000<\/td>\n",
       "      <td>3.000000<\/td>\n",
       "      <td>4.350000<\/td>\n",
       "      <td>1.300000<\/td>\n",
       "      <td>1.000000<\/td>\n",
       "    <\/tr>\n",
       "    <tr>\n",
       "      <th>75%<\/th>\n",
       "      <td>6.400000<\/td>\n",
       "      <td>3.300000<\/td>\n",
       "      <td>5.100000<\/td>\n",
       "      <td>1.800000<\/td>\n",
       "      <td>2.000000<\/td>\n",
       "    <\/tr>\n",
       "    <tr>\n",
       "      <th>max<\/th>\n",
       "      <td>7.900000<\/td>\n",
       "      <td>4.400000<\/td>\n",
       "      <td>6.900000<\/td>\n",
       "      <td>2.500000<\/td>\n",
       "      <td>2.000000<\/td>\n",
       "    <\/tr>\n",
       "  <\/tbody>\n",
       "<\/table>\n",
       "<\/div>"
      ]
     },
     "metadata":{},
     "output_type":"display_data"
    }
   ],
   "metadata":{
    "datalore":{
     "node_id":"k0EyTkdeyX80PjjfQm2aMi",
     "type":"CODE",
     "hide_input_from_viewers":true,
     "hide_output_from_viewers":true
    }
   }
  },
  {
   "cell_type":"code",
   "source":[
    "df.target.value_counts()"
   ],
   "execution_count":25,
   "outputs":[
    {
     "data":{
      "text\/html":[
       "<pre>0.0    50\n",
       "1.0    50\n",
       "2.0    50\n",
       "Name: target, dtype: int64<\/pre>"
      ]
     },
     "metadata":{},
     "output_type":"display_data"
    }
   ],
   "metadata":{
    "datalore":{
     "node_id":"OEzVRUFXcG4O2puQopKIJG",
     "type":"CODE",
     "hide_input_from_viewers":true,
     "hide_output_from_viewers":true
    }
   }
  },
  {
   "cell_type":"code",
   "source":[
    "sns.countplot(df, x= \"target\", y= None, hue=None)"
   ],
   "execution_count":23,
   "outputs":[
    {
     "data":{
      "text\/plain":[
       "<Axes: xlabel='target', ylabel='count'>"
      ]
     },
     "metadata":{},
     "output_type":"display_data"
    },
    {
     "data":{
      "image\/png":"[encoded data removed]"
     },
     "metadata":{
      "image\/png":{}
     },
     "output_type":"display_data"
    }
   ],
   "metadata":{
    "datalore":{
     "node_id":"vAczq5dRIQF7Qrqywu0LrC",
     "type":"CODE",
     "hide_input_from_viewers":true,
     "hide_output_from_viewers":true
    }
   }
  },
  {
   "cell_type":"markdown",
   "source":[
    "### Preparing the data\n",
    "\n",
    "1. Split the data into a training and a test set with an 80-20 proportion.\n",
    "2. Display the number of examples in each set."
   ],
   "attachments":{},
   "metadata":{
    "datalore":{
     "node_id":"E9U0UeRZi0ZLZs6YQJCr4W",
     "type":"MD",
     "hide_input_from_viewers":true,
     "hide_output_from_viewers":true
    }
   }
  },
  {
   "cell_type":"markdown",
   "source":[
    "*[Your comments here]*"
   ],
   "attachments":{},
   "metadata":{
    "datalore":{
     "node_id":"n0ZyVRRA4x63U5XbDZ9JUe",
     "type":"MD",
     "hide_input_from_viewers":true,
     "hide_output_from_viewers":true
    }
   }
  },
  {
   "cell_type":"code",
   "source":[
    "from sklearn.model_selection import train_test_split, cross_val_score, ShuffleSplit, cross_val_predict\n",
    "# Diviser les données en ensembles d'entraînement et de test (80% train, 20% test)\n",
    "X = df.drop('target', axis = 1)\n",
    "y = df.target\n",
    "X_train, X_test, y_train, y_test = train_test_split(X, y, test_size=0.2, random_state=42, stratify=df.target)"
   ],
   "execution_count":93,
   "outputs":[],
   "metadata":{
    "datalore":{
     "node_id":"0ecilkez0XOiCXS4alufLd",
     "type":"CODE",
     "hide_input_from_viewers":true,
     "hide_output_from_viewers":true
    }
   }
  },
  {
   "cell_type":"code",
   "source":[
    "X_train.shape"
   ],
   "execution_count":35,
   "outputs":[
    {
     "data":{
      "text\/plain":[
       "(120, 4)"
      ]
     },
     "metadata":{},
     "output_type":"display_data"
    }
   ],
   "metadata":{
    "datalore":{
     "node_id":"c9SBaqgoA2F1awfWxJ3RTz",
     "type":"CODE",
     "hide_input_from_viewers":true,
     "hide_output_from_viewers":true
    }
   }
  },
  {
   "cell_type":"code",
   "source":[
    "X_test.shape"
   ],
   "execution_count":36,
   "outputs":[
    {
     "data":{
      "text\/plain":[
       "(30, 4)"
      ]
     },
     "metadata":{},
     "output_type":"display_data"
    }
   ],
   "metadata":{
    "datalore":{
     "node_id":"3MWZpXluW6v4QogYzbyEJ7",
     "type":"CODE",
     "hide_input_from_viewers":true,
     "hide_output_from_viewers":true
    }
   }
  },
  {
   "cell_type":"code",
   "source":[
    "y_train.shape"
   ],
   "execution_count":37,
   "outputs":[
    {
     "data":{
      "text\/plain":[
       "(120,)"
      ]
     },
     "metadata":{},
     "output_type":"display_data"
    }
   ],
   "metadata":{
    "datalore":{
     "node_id":"1AuWrvLdmaNOmA9LvYLQKL",
     "type":"CODE",
     "hide_input_from_viewers":true,
     "hide_output_from_viewers":true
    }
   }
  },
  {
   "cell_type":"code",
   "source":[
    "y_test.shape"
   ],
   "execution_count":38,
   "outputs":[
    {
     "data":{
      "text\/plain":[
       "(30,)"
      ]
     },
     "metadata":{},
     "output_type":"display_data"
    }
   ],
   "metadata":{
    "datalore":{
     "node_id":"yrS8tWGCVnIrGFYwimyXgb",
     "type":"CODE",
     "hide_input_from_viewers":true,
     "hide_output_from_viewers":true
    }
   }
  },
  {
   "cell_type":"code",
   "source":[
    "y_train.value_counts()"
   ],
   "execution_count":46,
   "outputs":[
    {
     "data":{
      "text\/html":[
       "<pre>0.0    40\n",
       "2.0    40\n",
       "1.0    40\n",
       "Name: target, dtype: int64<\/pre>"
      ]
     },
     "metadata":{},
     "output_type":"display_data"
    }
   ],
   "metadata":{
    "datalore":{
     "node_id":"oOIk9G3PfYOWwcI9GIYk0F",
     "type":"CODE",
     "hide_input_from_viewers":true,
     "hide_output_from_viewers":true
    }
   }
  },
  {
   "cell_type":"markdown",
   "source":[
    "### Training a decision tree\n",
    "\n",
    "We will now train a decision tree on this dataset. In the following cell, import, instantiate and train a decision tree classifier."
   ],
   "attachments":{},
   "metadata":{
    "datalore":{
     "node_id":"Y6vgs49d73FLnRHCksqNaB",
     "type":"MD",
     "hide_input_from_viewers":true,
     "hide_output_from_viewers":true
    }
   }
  },
  {
   "cell_type":"code",
   "source":[
    "# >>> from sklearn.model_selection import cross_val_score\n",
    "from sklearn.model_selection import cross_val_score\n",
    "from sklearn.tree import DecisionTreeClassifier\n",
    "\n",
    "# Instantiate the classifier\n",
    "clf = DecisionTreeClassifier(random_state=0, max_depth=2)\n",
    "clf.fit(X_train, y_train)\n",
    "\n",
    "# Train the classifier\n",
    "y_pred = clf.predict(X_test)"
   ],
   "execution_count":94,
   "outputs":[],
   "metadata":{
    "datalore":{
     "node_id":"2iG4R6eraGCh2gI11IWCqL",
     "type":"CODE",
     "hide_input_from_viewers":true,
     "hide_output_from_viewers":true
    }
   }
  },
  {
   "cell_type":"markdown",
   "source":[
    "### Visualizing a decision tree\n",
    "\n",
    "The `graphviz` library that we installed at the beginning of this practical can be used to visualize decision trees.\n",
    "1. Complete the following code cell to display the decision tree you created above.\n",
    "2. Explain the content of the blocks in the resulting graph."
   ],
   "attachments":{},
   "metadata":{
    "datalore":{
     "node_id":"KZ0vG9yuVf5PoW7p1VxAAU",
     "type":"MD",
     "hide_input_from_viewers":true,
     "hide_output_from_viewers":true
    }
   }
  },
  {
   "cell_type":"code",
   "source":[
    "from sklearn.tree import export_graphviz\n",
    "\n",
    "graph_data = export_graphviz(\n",
    "    decision_tree = clf, # the decision tree you trained \n",
    "    feature_names = iris.feature_names, # the names of the features  \n",
    "    class_names = iris.target_names,   # the names of the classes\n",
    "    \n",
    "    # the following parameters format the graph\n",
    "    filled=True, \n",
    "    rounded=True,  \n",
    "    special_characters=True\n",
    ")\n",
    "\n",
    "graph = graphviz.Source(graph_data)  \n",
    "graph "
   ],
   "execution_count":95,
   "outputs":[
    {
     "data":{
      "image\/svg+xml":[
       "<?xml version=\"1.0\" encoding=\"UTF-8\" standalone=\"no\"?>\n",
       "<!DOCTYPE svg PUBLIC \"-\/\/W3C\/\/DTD SVG 1.1\/\/EN\"\n",
       " \"http:\/\/www.w3.org\/Graphics\/SVG\/1.1\/DTD\/svg11.dtd\">\n",
       "<!-- Generated by graphviz version 2.43.0 (0)\n",
       " -->\n",
       "<!-- Title: Tree Pages: 1 -->\n",
       "<svg width=\"406pt\" height=\"314pt\"\n",
       " viewBox=\"0.00 0.00 406.00 314.00\" xmlns=\"http:\/\/www.w3.org\/2000\/svg\" xmlns:xlink=\"http:\/\/www.w3.org\/1999\/xlink\">\n",
       "<g id=\"graph0\" class=\"graph\" transform=\"scale(1 1) rotate(0) translate(4 310)\">\n",
       "<title>Tree<\/title>\n",
       "<polygon fill=\"white\" stroke=\"transparent\" points=\"-4,4 -4,-310 402,-310 402,4 -4,4\"\/>\n",
       "<!-- 0 -->\n",
       "<g id=\"node1\" class=\"node\">\n",
       "<title>0<\/title>\n",
       "<path fill=\"#ffffff\" stroke=\"black\" d=\"M233.5,-306C233.5,-306 84.5,-306 84.5,-306 78.5,-306 72.5,-300 72.5,-294 72.5,-294 72.5,-235 72.5,-235 72.5,-229 78.5,-223 84.5,-223 84.5,-223 233.5,-223 233.5,-223 239.5,-223 245.5,-229 245.5,-235 245.5,-235 245.5,-294 245.5,-294 245.5,-300 239.5,-306 233.5,-306\"\/>\n",
       "<text text-anchor=\"start\" x=\"80.5\" y=\"-290.8\" font-family=\"Helvetica,sans-Serif\" font-size=\"14.00\">petal width (cm) ≤ 0.8<\/text>\n",
       "<text text-anchor=\"start\" x=\"115\" y=\"-275.8\" font-family=\"Helvetica,sans-Serif\" font-size=\"14.00\">gini = 0.667<\/text>\n",
       "<text text-anchor=\"start\" x=\"106\" y=\"-260.8\" font-family=\"Helvetica,sans-Serif\" font-size=\"14.00\">samples = 120<\/text>\n",
       "<text text-anchor=\"start\" x=\"88\" y=\"-245.8\" font-family=\"Helvetica,sans-Serif\" font-size=\"14.00\">value = [40, 40, 40]<\/text>\n",
       "<text text-anchor=\"start\" x=\"108.5\" y=\"-230.8\" font-family=\"Helvetica,sans-Serif\" font-size=\"14.00\">class = setosa<\/text>\n",
       "<\/g>\n",
       "<!-- 1 -->\n",
       "<g id=\"node2\" class=\"node\">\n",
       "<title>1<\/title>\n",
       "<path fill=\"#e58139\" stroke=\"black\" d=\"M128,-179.5C128,-179.5 12,-179.5 12,-179.5 6,-179.5 0,-173.5 0,-167.5 0,-167.5 0,-123.5 0,-123.5 0,-117.5 6,-111.5 12,-111.5 12,-111.5 128,-111.5 128,-111.5 134,-111.5 140,-117.5 140,-123.5 140,-123.5 140,-167.5 140,-167.5 140,-173.5 134,-179.5 128,-179.5\"\/>\n",
       "<text text-anchor=\"start\" x=\"35\" y=\"-164.3\" font-family=\"Helvetica,sans-Serif\" font-size=\"14.00\">gini = 0.0<\/text>\n",
       "<text text-anchor=\"start\" x=\"21.5\" y=\"-149.3\" font-family=\"Helvetica,sans-Serif\" font-size=\"14.00\">samples = 40<\/text>\n",
       "<text text-anchor=\"start\" x=\"8\" y=\"-134.3\" font-family=\"Helvetica,sans-Serif\" font-size=\"14.00\">value = [40, 0, 0]<\/text>\n",
       "<text text-anchor=\"start\" x=\"19.5\" y=\"-119.3\" font-family=\"Helvetica,sans-Serif\" font-size=\"14.00\">class = setosa<\/text>\n",
       "<\/g>\n",
       "<!-- 0&#45;&gt;1 -->\n",
       "<g id=\"edge1\" class=\"edge\">\n",
       "<title>0&#45;&gt;1<\/title>\n",
       "<path fill=\"none\" stroke=\"black\" d=\"M128.12,-222.91C119.48,-211.54 110.07,-199.18 101.4,-187.77\"\/>\n",
       "<polygon fill=\"black\" stroke=\"black\" points=\"104.07,-185.51 95.23,-179.67 98.5,-189.74 104.07,-185.51\"\/>\n",
       "<text text-anchor=\"middle\" x=\"91.86\" y=\"-200.74\" font-family=\"Helvetica,sans-Serif\" font-size=\"14.00\">True<\/text>\n",
       "<\/g>\n",
       "<!-- 2 -->\n",
       "<g id=\"node3\" class=\"node\">\n",
       "<title>2<\/title>\n",
       "<path fill=\"#ffffff\" stroke=\"black\" d=\"M328,-187C328,-187 170,-187 170,-187 164,-187 158,-181 158,-175 158,-175 158,-116 158,-116 158,-110 164,-104 170,-104 170,-104 328,-104 328,-104 334,-104 340,-110 340,-116 340,-116 340,-175 340,-175 340,-181 334,-187 328,-187\"\/>\n",
       "<text text-anchor=\"start\" x=\"166\" y=\"-171.8\" font-family=\"Helvetica,sans-Serif\" font-size=\"14.00\">petal width (cm) ≤ 1.65<\/text>\n",
       "<text text-anchor=\"start\" x=\"214\" y=\"-156.8\" font-family=\"Helvetica,sans-Serif\" font-size=\"14.00\">gini = 0.5<\/text>\n",
       "<text text-anchor=\"start\" x=\"200.5\" y=\"-141.8\" font-family=\"Helvetica,sans-Serif\" font-size=\"14.00\">samples = 80<\/text>\n",
       "<text text-anchor=\"start\" x=\"182.5\" y=\"-126.8\" font-family=\"Helvetica,sans-Serif\" font-size=\"14.00\">value = [0, 40, 40]<\/text>\n",
       "<text text-anchor=\"start\" x=\"187\" y=\"-111.8\" font-family=\"Helvetica,sans-Serif\" font-size=\"14.00\">class = versicolor<\/text>\n",
       "<\/g>\n",
       "<!-- 0&#45;&gt;2 -->\n",
       "<g id=\"edge2\" class=\"edge\">\n",
       "<title>0&#45;&gt;2<\/title>\n",
       "<path fill=\"none\" stroke=\"black\" d=\"M190.23,-222.91C197.14,-213.92 204.53,-204.32 211.65,-195.05\"\/>\n",
       "<polygon fill=\"black\" stroke=\"black\" points=\"214.51,-197.08 217.83,-187.02 208.96,-192.81 214.51,-197.08\"\/>\n",
       "<text text-anchor=\"middle\" x=\"221.06\" y=\"-208.11\" font-family=\"Helvetica,sans-Serif\" font-size=\"14.00\">False<\/text>\n",
       "<\/g>\n",
       "<!-- 3 -->\n",
       "<g id=\"node4\" class=\"node\">\n",
       "<title>3<\/title>\n",
       "<path fill=\"#48e78b\" stroke=\"black\" d=\"M228,-68C228,-68 112,-68 112,-68 106,-68 100,-62 100,-56 100,-56 100,-12 100,-12 100,-6 106,0 112,0 112,0 228,0 228,0 234,0 240,-6 240,-12 240,-12 240,-56 240,-56 240,-62 234,-68 228,-68\"\/>\n",
       "<text text-anchor=\"start\" x=\"126\" y=\"-52.8\" font-family=\"Helvetica,sans-Serif\" font-size=\"14.00\">gini = 0.133<\/text>\n",
       "<text text-anchor=\"start\" x=\"121.5\" y=\"-37.8\" font-family=\"Helvetica,sans-Serif\" font-size=\"14.00\">samples = 42<\/text>\n",
       "<text text-anchor=\"start\" x=\"108\" y=\"-22.8\" font-family=\"Helvetica,sans-Serif\" font-size=\"14.00\">value = [0, 39, 3]<\/text>\n",
       "<text text-anchor=\"start\" x=\"108\" y=\"-7.8\" font-family=\"Helvetica,sans-Serif\" font-size=\"14.00\">class = versicolor<\/text>\n",
       "<\/g>\n",
       "<!-- 2&#45;&gt;3 -->\n",
       "<g id=\"edge3\" class=\"edge\">\n",
       "<title>2&#45;&gt;3<\/title>\n",
       "<path fill=\"none\" stroke=\"black\" d=\"M219.58,-103.73C213.2,-94.88 206.44,-85.51 200.03,-76.63\"\/>\n",
       "<polygon fill=\"black\" stroke=\"black\" points=\"202.71,-74.36 194.02,-68.3 197.04,-78.46 202.71,-74.36\"\/>\n",
       "<\/g>\n",
       "<!-- 4 -->\n",
       "<g id=\"node5\" class=\"node\">\n",
       "<title>4<\/title>\n",
       "<path fill=\"#843ee6\" stroke=\"black\" d=\"M386,-68C386,-68 270,-68 270,-68 264,-68 258,-62 258,-56 258,-56 258,-12 258,-12 258,-6 264,0 270,0 270,0 386,0 386,0 392,0 398,-6 398,-12 398,-12 398,-56 398,-56 398,-62 392,-68 386,-68\"\/>\n",
       "<text text-anchor=\"start\" x=\"284\" y=\"-52.8\" font-family=\"Helvetica,sans-Serif\" font-size=\"14.00\">gini = 0.051<\/text>\n",
       "<text text-anchor=\"start\" x=\"279.5\" y=\"-37.8\" font-family=\"Helvetica,sans-Serif\" font-size=\"14.00\">samples = 38<\/text>\n",
       "<text text-anchor=\"start\" x=\"266\" y=\"-22.8\" font-family=\"Helvetica,sans-Serif\" font-size=\"14.00\">value = [0, 1, 37]<\/text>\n",
       "<text text-anchor=\"start\" x=\"270.5\" y=\"-7.8\" font-family=\"Helvetica,sans-Serif\" font-size=\"14.00\">class = virginica<\/text>\n",
       "<\/g>\n",
       "<!-- 2&#45;&gt;4 -->\n",
       "<g id=\"edge4\" class=\"edge\">\n",
       "<title>2&#45;&gt;4<\/title>\n",
       "<path fill=\"none\" stroke=\"black\" d=\"M278.42,-103.73C284.8,-94.88 291.56,-85.51 297.97,-76.63\"\/>\n",
       "<polygon fill=\"black\" stroke=\"black\" points=\"300.96,-78.46 303.98,-68.3 295.29,-74.36 300.96,-78.46\"\/>\n",
       "<\/g>\n",
       "<\/g>\n",
       "<\/svg>\n"
      ]
     },
     "metadata":{},
     "output_type":"display_data"
    }
   ],
   "metadata":{
    "datalore":{
     "node_id":"RqTfkqs7WmhAg1xsQyKDT2",
     "type":"CODE",
     "hide_input_from_viewers":true,
     "hide_output_from_viewers":true
    }
   }
  },
  {
   "cell_type":"markdown",
   "source":[
    "### Measuring the performance of the classifier\n",
    "\n",
    "In the cells underneath, answer the following questions:\n",
    "1. Measure and analyze the performance of the decision tree you have built.\n",
    "2. Create and train two new decision trees: one using only sepal features, and one using only petal features.\n",
    "3. Measure the performance of these new trees. Compare and comment.\n",
    "4. [**Bonus**] Using the `criterion` parameter, build new decision trees using a different splitting criterion. How does it impact the performance?\n"
   ],
   "attachments":{},
   "metadata":{
    "datalore":{
     "node_id":"bXQEY5ZJnB6nyJZL8P4pXr",
     "type":"MD",
     "hide_input_from_viewers":true,
     "hide_output_from_viewers":true
    }
   }
  },
  {
   "cell_type":"code",
   "source":[
    "from sklearn.metrics import classification_report\n",
    "print (classification_report(y_test, y_pred))"
   ],
   "execution_count":96,
   "outputs":[
    {
     "name":"stdout",
     "text":[
      "              precision    recall  f1-score   support\n",
      "\n",
      "         0.0       1.00      1.00      1.00        10\n",
      "         1.0       0.90      0.90      0.90        10\n",
      "         2.0       0.90      0.90      0.90        10\n",
      "\n",
      "    accuracy                           0.93        30\n",
      "   macro avg       0.93      0.93      0.93        30\n",
      "weighted avg       0.93      0.93      0.93        30\n",
      "\n"
     ],
     "output_type":"stream"
    }
   ],
   "metadata":{
    "datalore":{
     "node_id":"YZXnjXd5cay8r78asHp7cO",
     "type":"CODE",
     "hide_input_from_viewers":true,
     "hide_output_from_viewers":true
    }
   }
  },
  {
   "cell_type":"code",
   "source":[
    "# >>> from sklearn.model_selection import cross_val_score\n",
    "from sklearn.model_selection import cross_val_score\n",
    "from sklearn.tree import DecisionTreeClassifier\n",
    "\n",
    "# Instantiate the classifier\n",
    "clf = DecisionTreeClassifier(random_state=0, max_depth=2, criterion='entropy')\n",
    "clf.fit(X_train, y_train)\n",
    "\n",
    "# Train the classifier\n",
    "y_pred = clf.predict(X_test)"
   ],
   "execution_count":71,
   "outputs":[],
   "metadata":{
    "datalore":{
     "node_id":"K0La63UH44zQEwLaQ1YFIV",
     "type":"CODE",
     "hide_input_from_viewers":true,
     "hide_output_from_viewers":true
    }
   }
  },
  {
   "cell_type":"code",
   "source":[
    "from sklearn.tree import export_graphviz\n",
    "\n",
    "graph_data = export_graphviz(\n",
    "    decision_tree = clf, # the decision tree you trained \n",
    "    feature_names = iris.feature_names, # the names of the features  \n",
    "    class_names = iris.target_names,   # the names of the classes\n",
    "    \n",
    "    # the following parameters format the graph\n",
    "    filled=True, \n",
    "    rounded=True,  \n",
    "    special_characters=True\n",
    ")\n",
    "\n",
    "graph = graphviz.Source(graph_data)  \n",
    "graph "
   ],
   "execution_count":102,
   "outputs":[
    {
     "data":{
      "image\/svg+xml":[
       "<?xml version=\"1.0\" encoding=\"UTF-8\" standalone=\"no\"?>\n",
       "<!DOCTYPE svg PUBLIC \"-\/\/W3C\/\/DTD SVG 1.1\/\/EN\"\n",
       " \"http:\/\/www.w3.org\/Graphics\/SVG\/1.1\/DTD\/svg11.dtd\">\n",
       "<!-- Generated by graphviz version 2.43.0 (0)\n",
       " -->\n",
       "<!-- Title: Tree Pages: 1 -->\n",
       "<svg width=\"406pt\" height=\"314pt\"\n",
       " viewBox=\"0.00 0.00 406.00 314.00\" xmlns=\"http:\/\/www.w3.org\/2000\/svg\" xmlns:xlink=\"http:\/\/www.w3.org\/1999\/xlink\">\n",
       "<g id=\"graph0\" class=\"graph\" transform=\"scale(1 1) rotate(0) translate(4 310)\">\n",
       "<title>Tree<\/title>\n",
       "<polygon fill=\"white\" stroke=\"transparent\" points=\"-4,4 -4,-310 402,-310 402,4 -4,4\"\/>\n",
       "<!-- 0 -->\n",
       "<g id=\"node1\" class=\"node\">\n",
       "<title>0<\/title>\n",
       "<path fill=\"#ffffff\" stroke=\"black\" d=\"M233.5,-306C233.5,-306 84.5,-306 84.5,-306 78.5,-306 72.5,-300 72.5,-294 72.5,-294 72.5,-235 72.5,-235 72.5,-229 78.5,-223 84.5,-223 84.5,-223 233.5,-223 233.5,-223 239.5,-223 245.5,-229 245.5,-235 245.5,-235 245.5,-294 245.5,-294 245.5,-300 239.5,-306 233.5,-306\"\/>\n",
       "<text text-anchor=\"start\" x=\"80.5\" y=\"-290.8\" font-family=\"Helvetica,sans-Serif\" font-size=\"14.00\">petal width (cm) ≤ 0.8<\/text>\n",
       "<text text-anchor=\"start\" x=\"115\" y=\"-275.8\" font-family=\"Helvetica,sans-Serif\" font-size=\"14.00\">gini = 0.667<\/text>\n",
       "<text text-anchor=\"start\" x=\"106\" y=\"-260.8\" font-family=\"Helvetica,sans-Serif\" font-size=\"14.00\">samples = 120<\/text>\n",
       "<text text-anchor=\"start\" x=\"88\" y=\"-245.8\" font-family=\"Helvetica,sans-Serif\" font-size=\"14.00\">value = [40, 40, 40]<\/text>\n",
       "<text text-anchor=\"start\" x=\"108.5\" y=\"-230.8\" font-family=\"Helvetica,sans-Serif\" font-size=\"14.00\">class = setosa<\/text>\n",
       "<\/g>\n",
       "<!-- 1 -->\n",
       "<g id=\"node2\" class=\"node\">\n",
       "<title>1<\/title>\n",
       "<path fill=\"#e58139\" stroke=\"black\" d=\"M128,-179.5C128,-179.5 12,-179.5 12,-179.5 6,-179.5 0,-173.5 0,-167.5 0,-167.5 0,-123.5 0,-123.5 0,-117.5 6,-111.5 12,-111.5 12,-111.5 128,-111.5 128,-111.5 134,-111.5 140,-117.5 140,-123.5 140,-123.5 140,-167.5 140,-167.5 140,-173.5 134,-179.5 128,-179.5\"\/>\n",
       "<text text-anchor=\"start\" x=\"35\" y=\"-164.3\" font-family=\"Helvetica,sans-Serif\" font-size=\"14.00\">gini = 0.0<\/text>\n",
       "<text text-anchor=\"start\" x=\"21.5\" y=\"-149.3\" font-family=\"Helvetica,sans-Serif\" font-size=\"14.00\">samples = 40<\/text>\n",
       "<text text-anchor=\"start\" x=\"8\" y=\"-134.3\" font-family=\"Helvetica,sans-Serif\" font-size=\"14.00\">value = [40, 0, 0]<\/text>\n",
       "<text text-anchor=\"start\" x=\"19.5\" y=\"-119.3\" font-family=\"Helvetica,sans-Serif\" font-size=\"14.00\">class = setosa<\/text>\n",
       "<\/g>\n",
       "<!-- 0&#45;&gt;1 -->\n",
       "<g id=\"edge1\" class=\"edge\">\n",
       "<title>0&#45;&gt;1<\/title>\n",
       "<path fill=\"none\" stroke=\"black\" d=\"M128.12,-222.91C119.48,-211.54 110.07,-199.18 101.4,-187.77\"\/>\n",
       "<polygon fill=\"black\" stroke=\"black\" points=\"104.07,-185.51 95.23,-179.67 98.5,-189.74 104.07,-185.51\"\/>\n",
       "<text text-anchor=\"middle\" x=\"91.86\" y=\"-200.74\" font-family=\"Helvetica,sans-Serif\" font-size=\"14.00\">True<\/text>\n",
       "<\/g>\n",
       "<!-- 2 -->\n",
       "<g id=\"node3\" class=\"node\">\n",
       "<title>2<\/title>\n",
       "<path fill=\"#ffffff\" stroke=\"black\" d=\"M328,-187C328,-187 170,-187 170,-187 164,-187 158,-181 158,-175 158,-175 158,-116 158,-116 158,-110 164,-104 170,-104 170,-104 328,-104 328,-104 334,-104 340,-110 340,-116 340,-116 340,-175 340,-175 340,-181 334,-187 328,-187\"\/>\n",
       "<text text-anchor=\"start\" x=\"166\" y=\"-171.8\" font-family=\"Helvetica,sans-Serif\" font-size=\"14.00\">petal width (cm) ≤ 1.65<\/text>\n",
       "<text text-anchor=\"start\" x=\"214\" y=\"-156.8\" font-family=\"Helvetica,sans-Serif\" font-size=\"14.00\">gini = 0.5<\/text>\n",
       "<text text-anchor=\"start\" x=\"200.5\" y=\"-141.8\" font-family=\"Helvetica,sans-Serif\" font-size=\"14.00\">samples = 80<\/text>\n",
       "<text text-anchor=\"start\" x=\"182.5\" y=\"-126.8\" font-family=\"Helvetica,sans-Serif\" font-size=\"14.00\">value = [0, 40, 40]<\/text>\n",
       "<text text-anchor=\"start\" x=\"187\" y=\"-111.8\" font-family=\"Helvetica,sans-Serif\" font-size=\"14.00\">class = versicolor<\/text>\n",
       "<\/g>\n",
       "<!-- 0&#45;&gt;2 -->\n",
       "<g id=\"edge2\" class=\"edge\">\n",
       "<title>0&#45;&gt;2<\/title>\n",
       "<path fill=\"none\" stroke=\"black\" d=\"M190.23,-222.91C197.14,-213.92 204.53,-204.32 211.65,-195.05\"\/>\n",
       "<polygon fill=\"black\" stroke=\"black\" points=\"214.51,-197.08 217.83,-187.02 208.96,-192.81 214.51,-197.08\"\/>\n",
       "<text text-anchor=\"middle\" x=\"221.06\" y=\"-208.11\" font-family=\"Helvetica,sans-Serif\" font-size=\"14.00\">False<\/text>\n",
       "<\/g>\n",
       "<!-- 3 -->\n",
       "<g id=\"node4\" class=\"node\">\n",
       "<title>3<\/title>\n",
       "<path fill=\"#48e78b\" stroke=\"black\" d=\"M228,-68C228,-68 112,-68 112,-68 106,-68 100,-62 100,-56 100,-56 100,-12 100,-12 100,-6 106,0 112,0 112,0 228,0 228,0 234,0 240,-6 240,-12 240,-12 240,-56 240,-56 240,-62 234,-68 228,-68\"\/>\n",
       "<text text-anchor=\"start\" x=\"126\" y=\"-52.8\" font-family=\"Helvetica,sans-Serif\" font-size=\"14.00\">gini = 0.133<\/text>\n",
       "<text text-anchor=\"start\" x=\"121.5\" y=\"-37.8\" font-family=\"Helvetica,sans-Serif\" font-size=\"14.00\">samples = 42<\/text>\n",
       "<text text-anchor=\"start\" x=\"108\" y=\"-22.8\" font-family=\"Helvetica,sans-Serif\" font-size=\"14.00\">value = [0, 39, 3]<\/text>\n",
       "<text text-anchor=\"start\" x=\"108\" y=\"-7.8\" font-family=\"Helvetica,sans-Serif\" font-size=\"14.00\">class = versicolor<\/text>\n",
       "<\/g>\n",
       "<!-- 2&#45;&gt;3 -->\n",
       "<g id=\"edge3\" class=\"edge\">\n",
       "<title>2&#45;&gt;3<\/title>\n",
       "<path fill=\"none\" stroke=\"black\" d=\"M219.58,-103.73C213.2,-94.88 206.44,-85.51 200.03,-76.63\"\/>\n",
       "<polygon fill=\"black\" stroke=\"black\" points=\"202.71,-74.36 194.02,-68.3 197.04,-78.46 202.71,-74.36\"\/>\n",
       "<\/g>\n",
       "<!-- 4 -->\n",
       "<g id=\"node5\" class=\"node\">\n",
       "<title>4<\/title>\n",
       "<path fill=\"#843ee6\" stroke=\"black\" d=\"M386,-68C386,-68 270,-68 270,-68 264,-68 258,-62 258,-56 258,-56 258,-12 258,-12 258,-6 264,0 270,0 270,0 386,0 386,0 392,0 398,-6 398,-12 398,-12 398,-56 398,-56 398,-62 392,-68 386,-68\"\/>\n",
       "<text text-anchor=\"start\" x=\"284\" y=\"-52.8\" font-family=\"Helvetica,sans-Serif\" font-size=\"14.00\">gini = 0.051<\/text>\n",
       "<text text-anchor=\"start\" x=\"279.5\" y=\"-37.8\" font-family=\"Helvetica,sans-Serif\" font-size=\"14.00\">samples = 38<\/text>\n",
       "<text text-anchor=\"start\" x=\"266\" y=\"-22.8\" font-family=\"Helvetica,sans-Serif\" font-size=\"14.00\">value = [0, 1, 37]<\/text>\n",
       "<text text-anchor=\"start\" x=\"270.5\" y=\"-7.8\" font-family=\"Helvetica,sans-Serif\" font-size=\"14.00\">class = virginica<\/text>\n",
       "<\/g>\n",
       "<!-- 2&#45;&gt;4 -->\n",
       "<g id=\"edge4\" class=\"edge\">\n",
       "<title>2&#45;&gt;4<\/title>\n",
       "<path fill=\"none\" stroke=\"black\" d=\"M278.42,-103.73C284.8,-94.88 291.56,-85.51 297.97,-76.63\"\/>\n",
       "<polygon fill=\"black\" stroke=\"black\" points=\"300.96,-78.46 303.98,-68.3 295.29,-74.36 300.96,-78.46\"\/>\n",
       "<\/g>\n",
       "<\/g>\n",
       "<\/svg>\n"
      ]
     },
     "metadata":{},
     "output_type":"display_data"
    }
   ],
   "metadata":{
    "datalore":{
     "node_id":"Tmac76SS697rNwlFV8Fmmi",
     "type":"CODE",
     "hide_input_from_viewers":true,
     "hide_output_from_viewers":true
    }
   }
  },
  {
   "cell_type":"code",
   "source":[
    "from sklearn.ensemble import RandomForestClassifier\n",
    "\n",
    "rf = RandomForestClassifier (random_state=42)\n",
    "rf.fit (X_train, y_train)\n",
    "y_pred_rf = rf.predict(X_test)\n",
    "print(classification_report(y_test, y_pred_rf))"
   ],
   "execution_count":103,
   "outputs":[
    {
     "name":"stdout",
     "text":[
      "              precision    recall  f1-score   support\n",
      "\n",
      "         0.0       1.00      1.00      1.00        10\n",
      "         1.0       0.82      0.90      0.86        10\n",
      "         2.0       0.89      0.80      0.84        10\n",
      "\n",
      "    accuracy                           0.90        30\n",
      "   macro avg       0.90      0.90      0.90        30\n",
      "weighted avg       0.90      0.90      0.90        30\n",
      "\n"
     ],
     "output_type":"stream"
    }
   ],
   "metadata":{
    "datalore":{
     "node_id":"mi2dVCkZrinnmsp9Ljsmwp",
     "type":"CODE",
     "hide_input_from_viewers":true,
     "hide_output_from_viewers":true
    }
   }
  },
  {
   "cell_type":"code",
   "source":[
    "from sklearn.model_selection import cross_val_score\n",
    "from sklearn.tree import DecisionTreeClassifier\n",
    "from sklearn.model_selection import train_test_split, cross_val_score, ShuffleSplit, cross_val_predict\n",
    "# Diviser les données en ensembles d'entraînement et de test (80% train, 20% test)\n",
    "X = df.drop(['target','petal length (cm)', 'petal width (cm)'], axis = 1)\n",
    "y = df.target\n",
    "X_train1, X_test1, y_train1, y_test1 = train_test_split(X, y, test_size=0.2, random_state=42, stratify=df.target)\n",
    "\n",
    "# Instantiate the classifier\n",
    "clf1 = DecisionTreeClassifier(random_state=0, max_depth=2, criterion='entropy')\n",
    "clf1.fit(X_train1, y_train1)\n",
    "\n",
    "# Train the classifier\n",
    "y_pred1 = clf1.predict(X_test1)"
   ],
   "execution_count":99,
   "outputs":[],
   "metadata":{
    "datalore":{
     "node_id":"7CLDuCBXUE5LLoke6WdW7Z",
     "type":"CODE",
     "hide_input_from_viewers":true,
     "hide_output_from_viewers":true
    }
   }
  },
  {
   "cell_type":"code",
   "source":[
    "from sklearn.tree import export_graphviz\n",
    "\n",
    "graph_data = export_graphviz(\n",
    "    decision_tree = clf1, # the decision tree you trained \n",
    "    feature_names = iris.feature_names, # the names of the features  \n",
    "    class_names = iris.target_names,   # the names of the classes\n",
    "    \n",
    "    # the following parameters format the graph\n",
    "    filled=True, \n",
    "    rounded=True,  \n",
    "    special_characters=True\n",
    ")\n",
    "\n",
    "graph = graphviz.Source(graph_data)  \n",
    "graph "
   ],
   "execution_count":101,
   "outputs":[
    {
     "ename":"ValueError",
     "evalue":"ValueError: Length of feature_names, 4 does not match number of features, 2",
     "traceback":[
      "\u001b[0;31m---------------------------------------------------------------------------",
      "Traceback (most recent call last)",
      "ValueError: Length of feature_names, 4 does not match number of features, 2"
     ],
     "output_type":"error"
    }
   ],
   "metadata":{
    "datalore":{
     "node_id":"NGOw96xmOZ05rH832oOIgN",
     "type":"CODE",
     "hide_input_from_viewers":true,
     "hide_output_from_viewers":true
    }
   }
  },
  {
   "cell_type":"markdown",
   "source":[
    "## Bonus questions"
   ],
   "attachments":{},
   "metadata":{
    "datalore":{
     "node_id":"NqkZCjuLSpgjcsWVUkn79C",
     "type":"MD",
     "hide_input_from_viewers":true,
     "hide_output_from_viewers":true
    }
   }
  },
  {
   "cell_type":"markdown",
   "source":[
    "1. Train a random forest classifier on this same task. Try to optimize its parameters. Compare and comment on the results, as well as the pros and cons of using random forests over decision trees.\n",
    "2. Refer to the documentation to find out how to get the feature importance values for each feature. How are these values computed? How do you interpret them in this case?\n",
    "3. For practice, you can try to follow the same procedure using another of [`scikit-learn`'s toy datasets](https:\/\/scikit-learn.org\/stable\/datasets\/toy_dataset.html)."
   ],
   "attachments":{},
   "metadata":{
    "datalore":{
     "node_id":"u5EaBaWLbVRtmqCUkl03oC",
     "type":"MD",
     "hide_input_from_viewers":true,
     "hide_output_from_viewers":true
    }
   }
  },
  {
   "cell_type":"markdown",
   "source":[
    "*[Your comments here]*"
   ],
   "attachments":{},
   "metadata":{
    "datalore":{
     "node_id":"BNZ1pwaz6nqF7kmwR5piR8",
     "type":"MD",
     "hide_input_from_viewers":true,
     "hide_output_from_viewers":true
    }
   }
  },
  {
   "cell_type":"code",
   "source":[
    "# Your code here"
   ],
   "execution_count":null,
   "outputs":[],
   "metadata":{
    "datalore":{
     "node_id":"8Uw6xPJ7QQ7YTGhCCWnSXT",
     "type":"CODE",
     "hide_input_from_viewers":true,
     "hide_output_from_viewers":true
    }
   }
  }
 ],
 "metadata":{
  "kernelspec":{
   "display_name":"Python",
   "language":"python",
   "name":"python"
  },
  "datalore":{
   "computation_mode":"JUPYTER",
   "package_manager":"pip",
   "base_environment":"default",
   "packages":[
    {
     "name":"graphviz",
     "version":"0.20.1",
     "source":"PIP"
    }
   ],
   "report_row_ids":[
    "JoHk2C319pxhiBaGkNQMDg",
    "UcaZxTvte2AQBKxsfYBVTL",
    "PvEHx5cM4msrC9cCg1cW9N",
    "88aGZKjbW2yebOUDzoYtf1",
    "fTZ8YWjegGDKILAMu1D44H",
    "HWQmszIy97KJ1RhraFUAj8",
    "JuCjblwngnvBdfqezYhilA",
    "aBltzOrMTRxDSy0ZNPzYHb",
    "WQafdfYaFmr4q44RPvLyJb",
    "HJbPfYQCr5TUK3CPEuiAKs",
    "b9jr8VKK89SanxajR65i20",
    "Xa86OEruzAcfgy1yLvogKb",
    "Ckq38I69B3KQnn3Jbyi3re",
    "EwsEGtNBOPdgD6K6wmAiiD",
    "0p61ATR4JOGt74Cgrd10Nj",
    "P9l3UkPXvxi6tPvYFZV6Lj",
    "T4GPV8l4bUkW9fiHtP1PqI",
    "lVKEpvgJSu6x8mEotFcbO9",
    "1e0m1jgvZl9f5gxqAVVPzV",
    "yB9vNEzq8slDwpUBl5UWhm",
    "RCLbNOz5te9A83IbKRJsTR",
    "hEQmNI6MOoBEBQYnExGp2K",
    "m5bakJ18PgHb9SMNwRKkiu",
    "dq50A9krJH464ellM28HIb"
   ],
   "version":3
  }
 },
 "nbformat":4,
 "nbformat_minor":4
}