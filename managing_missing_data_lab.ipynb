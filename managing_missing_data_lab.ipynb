{
 "cells":[
  {
   "cell_type":"markdown",
   "source":[
    "# Managing missing data"
   ],
   "attachments":{},
   "metadata":{
    "datalore":{
     "node_id":"quGkf4M6mD42HSonHMkDhh",
     "type":"MD",
     "hide_input_from_viewers":false,
     "hide_output_from_viewers":false,
     "report_properties":{
      "rowId":"hZwuS4m2VndwGL68q6peb0"
     }
    }
   }
  },
  {
   "cell_type":"markdown",
   "source":[
    "## Setup\n",
    "### Imports"
   ],
   "attachments":{},
   "metadata":{
    "datalore":{
     "node_id":"pgNyvlyk0HCgCucea1okBw",
     "type":"MD",
     "hide_input_from_viewers":false,
     "hide_output_from_viewers":false,
     "report_properties":{
      "rowId":"s5eDehXNDNGx8o52prltoq"
     }
    }
   }
  },
  {
   "cell_type":"code",
   "source":[
    "from pandas import DataFrame\n",
    "import pandas as pd                                     # for dataset manipulation (DataFrames)\n",
    "import numpy as np                                      # allows some mathematical operations\n",
    "import matplotlib.pyplot as plt                         # library used to display graphs\n",
    "import seaborn as sns                                   # more convenient visualisation library for dataframes\n",
    "from sklearn.model_selection import train_test_split    # for classification\n",
    "from sklearn.neighbors import KNeighborsClassifier      # for classification"
   ],
   "execution_count":1,
   "outputs":[],
   "metadata":{
    "datalore":{
     "node_id":"ObSMhMWIm6R9DA4nLLFKJq",
     "type":"CODE",
     "hide_input_from_viewers":false,
     "hide_output_from_viewers":false,
     "report_properties":{
      "rowId":"UHEmy3B1s7lZGvcoga5Vq3"
     }
    }
   }
  },
  {
   "cell_type":"markdown",
   "source":[
    "### Loading the dataset"
   ],
   "attachments":{},
   "metadata":{
    "datalore":{
     "node_id":"az6sIdEdrqXvYdXGcucoM8",
     "type":"MD",
     "hide_input_from_viewers":false,
     "hide_output_from_viewers":false,
     "report_properties":{
      "rowId":"m39jcue2YWuUu3F9o9RhdF"
     }
    }
   }
  },
  {
   "cell_type":"code",
   "source":[
    "df = pd.read_csv(\"diabetes_data.csv\")\n",
    "data_columns = list(df.columns)\n",
    "df"
   ],
   "execution_count":7,
   "outputs":[
    {
     "data":{
      "text\/html":[
       "<div>\n",
       "<style scoped>\n",
       "    .dataframe tbody tr th:only-of-type {\n",
       "        vertical-align: middle;\n",
       "    }\n",
       "\n",
       "    .dataframe tbody tr th {\n",
       "        vertical-align: top;\n",
       "    }\n",
       "\n",
       "    .dataframe thead th {\n",
       "        text-align: right;\n",
       "    }\n",
       "<\/style>\n",
       "<table border=\"1\" class=\"dataframe\">\n",
       "  <thead>\n",
       "    <tr style=\"text-align: right;\">\n",
       "      <th><\/th>\n",
       "      <th>Pregnancies<\/th>\n",
       "      <th>Glucose<\/th>\n",
       "      <th>BloodPressure<\/th>\n",
       "      <th>SkinThickness<\/th>\n",
       "      <th>Insulin<\/th>\n",
       "      <th>BMI<\/th>\n",
       "      <th>DiabetesPedigreeFunction<\/th>\n",
       "      <th>Age<\/th>\n",
       "      <th>Outcome<\/th>\n",
       "    <\/tr>\n",
       "  <\/thead>\n",
       "  <tbody>\n",
       "    <tr>\n",
       "      <th>0<\/th>\n",
       "      <td>6<\/td>\n",
       "      <td>148<\/td>\n",
       "      <td>72<\/td>\n",
       "      <td>35<\/td>\n",
       "      <td>0<\/td>\n",
       "      <td>33.6<\/td>\n",
       "      <td>0.627<\/td>\n",
       "      <td>50<\/td>\n",
       "      <td>1<\/td>\n",
       "    <\/tr>\n",
       "    <tr>\n",
       "      <th>1<\/th>\n",
       "      <td>1<\/td>\n",
       "      <td>85<\/td>\n",
       "      <td>66<\/td>\n",
       "      <td>29<\/td>\n",
       "      <td>0<\/td>\n",
       "      <td>26.6<\/td>\n",
       "      <td>0.351<\/td>\n",
       "      <td>31<\/td>\n",
       "      <td>0<\/td>\n",
       "    <\/tr>\n",
       "    <tr>\n",
       "      <th>2<\/th>\n",
       "      <td>8<\/td>\n",
       "      <td>183<\/td>\n",
       "      <td>64<\/td>\n",
       "      <td>0<\/td>\n",
       "      <td>0<\/td>\n",
       "      <td>23.3<\/td>\n",
       "      <td>0.672<\/td>\n",
       "      <td>32<\/td>\n",
       "      <td>1<\/td>\n",
       "    <\/tr>\n",
       "    <tr>\n",
       "      <th>3<\/th>\n",
       "      <td>1<\/td>\n",
       "      <td>89<\/td>\n",
       "      <td>66<\/td>\n",
       "      <td>23<\/td>\n",
       "      <td>94<\/td>\n",
       "      <td>28.1<\/td>\n",
       "      <td>0.167<\/td>\n",
       "      <td>21<\/td>\n",
       "      <td>0<\/td>\n",
       "    <\/tr>\n",
       "    <tr>\n",
       "      <th>4<\/th>\n",
       "      <td>0<\/td>\n",
       "      <td>137<\/td>\n",
       "      <td>40<\/td>\n",
       "      <td>35<\/td>\n",
       "      <td>168<\/td>\n",
       "      <td>43.1<\/td>\n",
       "      <td>2.288<\/td>\n",
       "      <td>33<\/td>\n",
       "      <td>1<\/td>\n",
       "    <\/tr>\n",
       "    <tr>\n",
       "      <th>...<\/th>\n",
       "      <td>...<\/td>\n",
       "      <td>...<\/td>\n",
       "      <td>...<\/td>\n",
       "      <td>...<\/td>\n",
       "      <td>...<\/td>\n",
       "      <td>...<\/td>\n",
       "      <td>...<\/td>\n",
       "      <td>...<\/td>\n",
       "      <td>...<\/td>\n",
       "    <\/tr>\n",
       "    <tr>\n",
       "      <th>763<\/th>\n",
       "      <td>10<\/td>\n",
       "      <td>101<\/td>\n",
       "      <td>76<\/td>\n",
       "      <td>48<\/td>\n",
       "      <td>180<\/td>\n",
       "      <td>32.9<\/td>\n",
       "      <td>0.171<\/td>\n",
       "      <td>63<\/td>\n",
       "      <td>0<\/td>\n",
       "    <\/tr>\n",
       "    <tr>\n",
       "      <th>764<\/th>\n",
       "      <td>2<\/td>\n",
       "      <td>122<\/td>\n",
       "      <td>70<\/td>\n",
       "      <td>27<\/td>\n",
       "      <td>0<\/td>\n",
       "      <td>36.8<\/td>\n",
       "      <td>0.340<\/td>\n",
       "      <td>27<\/td>\n",
       "      <td>0<\/td>\n",
       "    <\/tr>\n",
       "    <tr>\n",
       "      <th>765<\/th>\n",
       "      <td>5<\/td>\n",
       "      <td>121<\/td>\n",
       "      <td>72<\/td>\n",
       "      <td>23<\/td>\n",
       "      <td>112<\/td>\n",
       "      <td>26.2<\/td>\n",
       "      <td>0.245<\/td>\n",
       "      <td>30<\/td>\n",
       "      <td>0<\/td>\n",
       "    <\/tr>\n",
       "    <tr>\n",
       "      <th>766<\/th>\n",
       "      <td>1<\/td>\n",
       "      <td>126<\/td>\n",
       "      <td>60<\/td>\n",
       "      <td>0<\/td>\n",
       "      <td>0<\/td>\n",
       "      <td>30.1<\/td>\n",
       "      <td>0.349<\/td>\n",
       "      <td>47<\/td>\n",
       "      <td>1<\/td>\n",
       "    <\/tr>\n",
       "    <tr>\n",
       "      <th>767<\/th>\n",
       "      <td>1<\/td>\n",
       "      <td>93<\/td>\n",
       "      <td>70<\/td>\n",
       "      <td>31<\/td>\n",
       "      <td>0<\/td>\n",
       "      <td>30.4<\/td>\n",
       "      <td>0.315<\/td>\n",
       "      <td>23<\/td>\n",
       "      <td>0<\/td>\n",
       "    <\/tr>\n",
       "  <\/tbody>\n",
       "<\/table>\n",
       "<p>768 rows × 9 columns<\/p>\n",
       "<\/div>"
      ]
     },
     "metadata":{},
     "output_type":"display_data"
    }
   ],
   "metadata":{
    "datalore":{
     "node_id":"aXsrfdOqhjsRfAge1vNoZI",
     "type":"CODE",
     "hide_input_from_viewers":false,
     "hide_output_from_viewers":false,
     "report_properties":{
      "rowId":"6X3PCxaCqFI24iGjQEQ0Il"
     }
    }
   }
  },
  {
   "cell_type":"code",
   "source":[],
   "execution_count":null,
   "outputs":[],
   "metadata":{
    "datalore":{
     "node_id":"WriZ9ps1tLYHgfXALnUzqQ",
     "type":"CODE",
     "hide_input_from_viewers":true,
     "hide_output_from_viewers":true
    }
   }
  },
  {
   "cell_type":"markdown",
   "source":[
    "## Data preparation\n",
    "### Preliminary analysis\n",
    "\n",
    "Using what we learned last time, familiarize yourself with the diabetes dataset.\n",
    "What observations can you make ? What problem do you think we are trying to solve with this data ?"
   ],
   "attachments":{},
   "metadata":{
    "datalore":{
     "node_id":"dGC0mhhsJc4DNMcGpTW2QU",
     "type":"MD",
     "hide_input_from_viewers":false,
     "hide_output_from_viewers":false,
     "report_properties":{
      "rowId":"q8oMJj4ZtrEePPpexYGI4K"
     }
    }
   }
  },
  {
   "cell_type":"code",
   "source":[
    "#La base de données nous montre une population donc on pris plusieurs éléments leur concernant afin d'étudier la possibilité ou non d'être atteint par le diabète."
   ],
   "execution_count":null,
   "outputs":[],
   "metadata":{
    "datalore":{
     "node_id":"QGkMEpVtJARTDnBQT6wgQG",
     "type":"CODE",
     "hide_input_from_viewers":false,
     "hide_output_from_viewers":false,
     "report_properties":{
      "rowId":"eclT6rhIRLR0UJw8AxhOY1"
     }
    }
   }
  },
  {
   "cell_type":"markdown",
   "source":[
    "*[Your answers here]*"
   ],
   "attachments":{},
   "metadata":{
    "datalore":{
     "node_id":"fKToZ7HUc2dPkkjuuzCElg",
     "type":"MD",
     "hide_input_from_viewers":false,
     "hide_output_from_viewers":false,
     "report_properties":{
      "rowId":"o98eJXesVejEJzJyAlllBH"
     }
    }
   }
  },
  {
   "cell_type":"markdown",
   "source":[
    "### Objectives and baseline method\n",
    "For the rest of this practical, we will use a K-nearest-neighbours (KNN) algorithm to make a diagnosis from the dataset. This means that today, the only way we can improve this diagnosis is by pre-processing the data.\n",
    "The accuracy of the algorithm will be our metric to evaluate the quality of our pre-processing.\n",
    "\n",
    "Below is the function you will need to use the algorithm. You don't need to understand it yet - it will all be explained in future lessons !"
   ],
   "attachments":{},
   "metadata":{
    "datalore":{
     "node_id":"V5EuTk6SkgsOo9EkXiyMq2",
     "type":"MD",
     "hide_input_from_viewers":false,
     "hide_output_from_viewers":false,
     "report_properties":{
      "rowId":"Mokzv6jgbZZefXaEbxlgxi"
     }
    }
   }
  },
  {
   "cell_type":"code",
   "source":[
    "def split_data(data):\n",
    "    X = data.drop(\"Outcome\", axis=1)\n",
    "    y = data.Outcome\n",
    "    return train_test_split(X, y,\n",
    "                            test_size=0.10,   # 10% of the data will be used for testing\n",
    "                            random_state=42,  # ensures reproducibility of the test\n",
    "                            stratify=y        # ensures the proportion of ill people is the same in the train and test sets\n",
    "                            )\n",
    "\n",
    "def print_knn_score(scores, data_type=\"\"):\n",
    "    max_score = max(scores)\n",
    "    k_values_max_score = [i + 1 for i, v in enumerate(scores) if v == max_score]\n",
    "    print(f'Max {data_type} score {max_score * 100} % for k = {[i for i in k_values_max_score]}')\n",
    "\n",
    "def diagnosis_knn(data):\n",
    "    \"\"\" KNN-based classification for diabetes diagnosis. \"\"\"\n",
    "    X_train, X_test, y_train, y_test = split_data(data)\n",
    "    test_scores = []\n",
    "    train_scores = []\n",
    "\n",
    "    for k in range(1, 15):\n",
    "        knn = KNeighborsClassifier(k)\n",
    "        knn.fit(X_train, y_train)\n",
    "        train_scores.append(knn.score(X_train, y_train))  # \"score\" for KNN is the accuracy of the classification\n",
    "        test_scores.append(knn.score(X_test, y_test))\n",
    "\n",
    "    print_knn_score(train_scores, \"train\")\n",
    "    print_knn_score(test_scores, \"test\")"
   ],
   "execution_count":5,
   "outputs":[],
   "metadata":{
    "datalore":{
     "node_id":"QGXmhiseJyE3u2Dig3c8fr",
     "type":"CODE",
     "hide_input_from_viewers":false,
     "hide_output_from_viewers":false,
     "report_properties":{
      "rowId":"mPK68pNgkOIyxneaMBQrkG"
     }
    }
   }
  },
  {
   "cell_type":"markdown",
   "source":[
    "With this, we can have a \"baseline\" score, *i.e.* a score we can refer to in the future to see how performance evolves with our changes."
   ],
   "attachments":{},
   "metadata":{
    "datalore":{
     "node_id":"dO2V8rf28WxjjDf4T8xKy8",
     "type":"MD",
     "hide_input_from_viewers":false,
     "hide_output_from_viewers":false,
     "report_properties":{
      "rowId":"zfrBhATmw2L02PplWpIxZj"
     }
    }
   }
  },
  {
   "cell_type":"markdown",
   "source":[
    "### Scaling the data\n",
    "\n",
    "KNN is a distance-based algorithm, meaning it is can sensitive to the absolute values of the features. One possible way to counter this issue is to standardize the data (subtract mean and divide by standard deviation).\n",
    "\n",
    "Be careful not to mix up **normalization** and **standardization**!\n",
    "**Normalizing data** means dividing each value by its norm. There are several norms (l1, l2), which all have different properties.\n",
    "\n",
    "**Normalization changes the distribution of the data**, whereas **standardization simply changes its scale**.\n",
    "\n",
    "#### Task\n",
    "Apply each of the following operations. For each of them, check how the prediction score changes, and try to interpret it.\n",
    "- Standardize the data.\n",
    "- Normalize the data. Make sure to use the original data, and not the standardized data!\n",
    "- In a separate variable, use both standardization and normalization.\n",
    "- *Bonus* : You can check out the [`scikit-learn` API](https:\/\/scikit-learn.org\/stable\/modules\/classes.html#module-sklearn.preprocessing) and use one of the other scalers listed there, such as `MinMaxScaler` or `MaxAbsScaler`. Think of use cases for these scalers.\n",
    "\n",
    "*Hints*:\n",
    "- You can either try to define these functions yourself, or you can use `scikit-learn`'s dedicated objects : [`StandardScaler`](https:\/\/scikit-learn.org\/stable\/modules\/generated\/sklearn.preprocessing.StandardScaler.html) and [`Normalizer`](https:\/\/scikit-learn.org\/stable\/modules\/generated\/sklearn.preprocessing.Normalizer.html#sklearn.preprocessing.Normalizer). Refer to the documentation for information on how to use them. Don't forget the imports!\n",
    "- It is advised to create a function that will do the scaling for you. This way, you can easily scale other datasets in the rest of the practical."
   ],
   "attachments":{},
   "metadata":{
    "datalore":{
     "node_id":"eEdQLKNJ76ttB5VsiHNUB8",
     "type":"MD",
     "hide_input_from_viewers":false,
     "hide_output_from_viewers":false,
     "report_properties":{
      "rowId":"x9dXoGeDlE28sENu29nklF"
     }
    }
   }
  },
  {
   "cell_type":"code",
   "source":[
    "\n",
    "from sklearn.preprocessing import StandardScaler\n",
    "\n",
    "scaler = StandardScaler()                                   # create an instance of the scaler\n",
    "outcome = df[\"Outcome\"].to_numpy()                          # we use to_numpy() to avoid problems with the index\n",
    "df_std = df.drop([\"Outcome\"], axis=1, inplace=False)        # create a copy excluding target, axis=1 colonne et 0 ligne, inplace =false pour ne pas changer le dataframe initial\n",
    "df_std = scaler.fit_transform(df_std)                       # fit the scaler prend la moyenne et l'écartype de df pour faire la standardisation par colonne\n",
    "df_std = pd.DataFrame(df_std, columns=data_columns[:-1])    # transform it to dataframe conversion du tableau numpy en panda\n",
    "df_std[\"Outcome\"] = outcome                                 # add the outcome column back remise de la colonne outcome vu qu'elle était supprimé"
   ],
   "execution_count":4,
   "outputs":[],
   "metadata":{
    "datalore":{
     "node_id":"vCiafZwseeW0YzbnLtFaxS",
     "type":"CODE",
     "hide_input_from_viewers":false,
     "hide_output_from_viewers":false,
     "report_properties":{
      "rowId":"hRlJMYnjwYEN6EpC2ccd8b"
     }
    }
   }
  },
  {
   "cell_type":"code",
   "source":[
    "df_std.describe()"
   ],
   "execution_count":261,
   "outputs":[
    {
     "data":{
      "text\/html":[
       "<div>\n",
       "<style scoped>\n",
       "    .dataframe tbody tr th:only-of-type {\n",
       "        vertical-align: middle;\n",
       "    }\n",
       "\n",
       "    .dataframe tbody tr th {\n",
       "        vertical-align: top;\n",
       "    }\n",
       "\n",
       "    .dataframe thead th {\n",
       "        text-align: right;\n",
       "    }\n",
       "<\/style>\n",
       "<table border=\"1\" class=\"dataframe\">\n",
       "  <thead>\n",
       "    <tr style=\"text-align: right;\">\n",
       "      <th><\/th>\n",
       "      <th>Pregnancies<\/th>\n",
       "      <th>Glucose<\/th>\n",
       "      <th>BloodPressure<\/th>\n",
       "      <th>SkinThickness<\/th>\n",
       "      <th>Insulin<\/th>\n",
       "      <th>BMI<\/th>\n",
       "      <th>DiabetesPedigreeFunction<\/th>\n",
       "      <th>Age<\/th>\n",
       "      <th>Outcome<\/th>\n",
       "    <\/tr>\n",
       "  <\/thead>\n",
       "  <tbody>\n",
       "    <tr>\n",
       "      <th>count<\/th>\n",
       "      <td>7.680000e+02<\/td>\n",
       "      <td>7.680000e+02<\/td>\n",
       "      <td>7.680000e+02<\/td>\n",
       "      <td>7.680000e+02<\/td>\n",
       "      <td>7.680000e+02<\/td>\n",
       "      <td>7.680000e+02<\/td>\n",
       "      <td>7.680000e+02<\/td>\n",
       "      <td>7.680000e+02<\/td>\n",
       "      <td>768.000000<\/td>\n",
       "    <\/tr>\n",
       "    <tr>\n",
       "      <th>mean<\/th>\n",
       "      <td>-6.476301e-17<\/td>\n",
       "      <td>-9.251859e-18<\/td>\n",
       "      <td>1.503427e-17<\/td>\n",
       "      <td>1.006140e-16<\/td>\n",
       "      <td>-3.006854e-17<\/td>\n",
       "      <td>2.590520e-16<\/td>\n",
       "      <td>2.451743e-16<\/td>\n",
       "      <td>1.931325e-16<\/td>\n",
       "      <td>0.348958<\/td>\n",
       "    <\/tr>\n",
       "    <tr>\n",
       "      <th>std<\/th>\n",
       "      <td>1.000652e+00<\/td>\n",
       "      <td>1.000652e+00<\/td>\n",
       "      <td>1.000652e+00<\/td>\n",
       "      <td>1.000652e+00<\/td>\n",
       "      <td>1.000652e+00<\/td>\n",
       "      <td>1.000652e+00<\/td>\n",
       "      <td>1.000652e+00<\/td>\n",
       "      <td>1.000652e+00<\/td>\n",
       "      <td>0.476951<\/td>\n",
       "    <\/tr>\n",
       "    <tr>\n",
       "      <th>min<\/th>\n",
       "      <td>-1.141852e+00<\/td>\n",
       "      <td>-3.783654e+00<\/td>\n",
       "      <td>-3.572597e+00<\/td>\n",
       "      <td>-1.288212e+00<\/td>\n",
       "      <td>-6.928906e-01<\/td>\n",
       "      <td>-4.060474e+00<\/td>\n",
       "      <td>-1.189553e+00<\/td>\n",
       "      <td>-1.041549e+00<\/td>\n",
       "      <td>0.000000<\/td>\n",
       "    <\/tr>\n",
       "    <tr>\n",
       "      <th>25%<\/th>\n",
       "      <td>-8.448851e-01<\/td>\n",
       "      <td>-6.852363e-01<\/td>\n",
       "      <td>-3.673367e-01<\/td>\n",
       "      <td>-1.288212e+00<\/td>\n",
       "      <td>-6.928906e-01<\/td>\n",
       "      <td>-5.955785e-01<\/td>\n",
       "      <td>-6.889685e-01<\/td>\n",
       "      <td>-7.862862e-01<\/td>\n",
       "      <td>0.000000<\/td>\n",
       "    <\/tr>\n",
       "    <tr>\n",
       "      <th>50%<\/th>\n",
       "      <td>-2.509521e-01<\/td>\n",
       "      <td>-1.218877e-01<\/td>\n",
       "      <td>1.496408e-01<\/td>\n",
       "      <td>1.545332e-01<\/td>\n",
       "      <td>-4.280622e-01<\/td>\n",
       "      <td>9.419788e-04<\/td>\n",
       "      <td>-3.001282e-01<\/td>\n",
       "      <td>-3.608474e-01<\/td>\n",
       "      <td>0.000000<\/td>\n",
       "    <\/tr>\n",
       "    <tr>\n",
       "      <th>75%<\/th>\n",
       "      <td>6.399473e-01<\/td>\n",
       "      <td>6.057709e-01<\/td>\n",
       "      <td>5.632228e-01<\/td>\n",
       "      <td>7.190857e-01<\/td>\n",
       "      <td>4.120079e-01<\/td>\n",
       "      <td>5.847705e-01<\/td>\n",
       "      <td>4.662269e-01<\/td>\n",
       "      <td>6.602056e-01<\/td>\n",
       "      <td>1.000000<\/td>\n",
       "    <\/tr>\n",
       "    <tr>\n",
       "      <th>max<\/th>\n",
       "      <td>3.906578e+00<\/td>\n",
       "      <td>2.444478e+00<\/td>\n",
       "      <td>2.734528e+00<\/td>\n",
       "      <td>4.921866e+00<\/td>\n",
       "      <td>6.652839e+00<\/td>\n",
       "      <td>4.455807e+00<\/td>\n",
       "      <td>5.883565e+00<\/td>\n",
       "      <td>4.063716e+00<\/td>\n",
       "      <td>1.000000<\/td>\n",
       "    <\/tr>\n",
       "  <\/tbody>\n",
       "<\/table>\n",
       "<\/div>"
      ]
     },
     "metadata":{},
     "output_type":"display_data"
    }
   ],
   "metadata":{
    "datalore":{
     "node_id":"Og11NbYQ7iYzxYaIJVwEE3",
     "type":"CODE",
     "hide_input_from_viewers":false,
     "hide_output_from_viewers":false,
     "report_properties":{
      "rowId":"bzHAzWghYTxPLGLS8HU3JN"
     }
    }
   }
  },
  {
   "cell_type":"code",
   "source":[
    "\n",
    "from sklearn.preprocessing import Normalizer\n",
    "\n",
    "scaler = Normalizer()                                   # create an instance of the scaler\n",
    "outcome = df[\"Outcome\"].to_numpy()                          # we use to_numpy() to avoid problems with the index\n",
    "df_std = df.drop([\"Outcome\"], axis=1, inplace=False)        # create a copy excluding target, axis=1 colonne et 0 ligne, inplace =false pour ne pas changer le dataframe initial\n",
    "df_std = scaler.fit_transform(df_std)                       # fit the scaler prend la moyenne et l'écartype de df pour faire la standardisation par colonne\n",
    "df_std = pd.DataFrame(df_std, columns=data_columns[:-1])    # transform it to dataframe conversion du tableau numpy en panda\n",
    "df_std[\"Outcome\"] = outcome                                 # add the outcome column back remise de la colonne outcome vu qu'elle était supprimé"
   ],
   "execution_count":262,
   "outputs":[],
   "metadata":{
    "datalore":{
     "node_id":"K3eAfyBLo4OYihjDgDM4TD",
     "type":"CODE",
     "hide_input_from_viewers":true,
     "hide_output_from_viewers":true
    }
   }
  },
  {
   "cell_type":"code",
   "source":[
    "df_std.describe()"
   ],
   "execution_count":263,
   "outputs":[
    {
     "data":{
      "text\/html":[
       "<div>\n",
       "<style scoped>\n",
       "    .dataframe tbody tr th:only-of-type {\n",
       "        vertical-align: middle;\n",
       "    }\n",
       "\n",
       "    .dataframe tbody tr th {\n",
       "        vertical-align: top;\n",
       "    }\n",
       "\n",
       "    .dataframe thead th {\n",
       "        text-align: right;\n",
       "    }\n",
       "<\/style>\n",
       "<table border=\"1\" class=\"dataframe\">\n",
       "  <thead>\n",
       "    <tr style=\"text-align: right;\">\n",
       "      <th><\/th>\n",
       "      <th>Pregnancies<\/th>\n",
       "      <th>Glucose<\/th>\n",
       "      <th>BloodPressure<\/th>\n",
       "      <th>SkinThickness<\/th>\n",
       "      <th>Insulin<\/th>\n",
       "      <th>BMI<\/th>\n",
       "      <th>DiabetesPedigreeFunction<\/th>\n",
       "      <th>Age<\/th>\n",
       "      <th>Outcome<\/th>\n",
       "    <\/tr>\n",
       "  <\/thead>\n",
       "  <tbody>\n",
       "    <tr>\n",
       "      <th>count<\/th>\n",
       "      <td>768.000000<\/td>\n",
       "      <td>768.000000<\/td>\n",
       "      <td>768.000000<\/td>\n",
       "      <td>768.000000<\/td>\n",
       "      <td>768.000000<\/td>\n",
       "      <td>768.000000<\/td>\n",
       "      <td>768.000000<\/td>\n",
       "      <td>768.000000<\/td>\n",
       "      <td>768.000000<\/td>\n",
       "    <\/tr>\n",
       "    <tr>\n",
       "      <th>mean<\/th>\n",
       "      <td>0.022645<\/td>\n",
       "      <td>0.682903<\/td>\n",
       "      <td>0.402801<\/td>\n",
       "      <td>0.112086<\/td>\n",
       "      <td>0.318921<\/td>\n",
       "      <td>0.186874<\/td>\n",
       "      <td>0.002710<\/td>\n",
       "      <td>0.195434<\/td>\n",
       "      <td>0.348958<\/td>\n",
       "    <\/tr>\n",
       "    <tr>\n",
       "      <th>std<\/th>\n",
       "      <td>0.020956<\/td>\n",
       "      <td>0.161166<\/td>\n",
       "      <td>0.153428<\/td>\n",
       "      <td>0.092546<\/td>\n",
       "      <td>0.338570<\/td>\n",
       "      <td>0.063402<\/td>\n",
       "      <td>0.001902<\/td>\n",
       "      <td>0.080940<\/td>\n",
       "      <td>0.476951<\/td>\n",
       "    <\/tr>\n",
       "    <tr>\n",
       "      <th>min<\/th>\n",
       "      <td>0.000000<\/td>\n",
       "      <td>0.000000<\/td>\n",
       "      <td>0.000000<\/td>\n",
       "      <td>0.000000<\/td>\n",
       "      <td>0.000000<\/td>\n",
       "      <td>0.000000<\/td>\n",
       "      <td>0.000250<\/td>\n",
       "      <td>0.032460<\/td>\n",
       "      <td>0.000000<\/td>\n",
       "    <\/tr>\n",
       "    <tr>\n",
       "      <th>25%<\/th>\n",
       "      <td>0.006476<\/td>\n",
       "      <td>0.587637<\/td>\n",
       "      <td>0.317522<\/td>\n",
       "      <td>0.000000<\/td>\n",
       "      <td>0.000000<\/td>\n",
       "      <td>0.146291<\/td>\n",
       "      <td>0.001379<\/td>\n",
       "      <td>0.139930<\/td>\n",
       "      <td>0.000000<\/td>\n",
       "    <\/tr>\n",
       "    <tr>\n",
       "      <th>50%<\/th>\n",
       "      <td>0.016716<\/td>\n",
       "      <td>0.704501<\/td>\n",
       "      <td>0.430685<\/td>\n",
       "      <td>0.114464<\/td>\n",
       "      <td>0.249215<\/td>\n",
       "      <td>0.186167<\/td>\n",
       "      <td>0.002159<\/td>\n",
       "      <td>0.181108<\/td>\n",
       "      <td>0.000000<\/td>\n",
       "    <\/tr>\n",
       "    <tr>\n",
       "      <th>75%<\/th>\n",
       "      <td>0.033330<\/td>\n",
       "      <td>0.801606<\/td>\n",
       "      <td>0.511070<\/td>\n",
       "      <td>0.181524<\/td>\n",
       "      <td>0.632833<\/td>\n",
       "      <td>0.226831<\/td>\n",
       "      <td>0.003507<\/td>\n",
       "      <td>0.239313<\/td>\n",
       "      <td>1.000000<\/td>\n",
       "    <\/tr>\n",
       "    <tr>\n",
       "      <th>max<\/th>\n",
       "      <td>0.117208<\/td>\n",
       "      <td>0.973682<\/td>\n",
       "      <td>0.848036<\/td>\n",
       "      <td>0.419691<\/td>\n",
       "      <td>0.970458<\/td>\n",
       "      <td>0.400734<\/td>\n",
       "      <td>0.013417<\/td>\n",
       "      <td>0.616539<\/td>\n",
       "      <td>1.000000<\/td>\n",
       "    <\/tr>\n",
       "  <\/tbody>\n",
       "<\/table>\n",
       "<\/div>"
      ]
     },
     "metadata":{},
     "output_type":"display_data"
    }
   ],
   "metadata":{
    "datalore":{
     "node_id":"k4H02ikFnqiEMNhmAe50Z1",
     "type":"CODE",
     "hide_input_from_viewers":true,
     "hide_output_from_viewers":true
    }
   }
  },
  {
   "cell_type":"markdown",
   "source":[
    "*[Your comments here]*"
   ],
   "attachments":{},
   "metadata":{
    "datalore":{
     "node_id":"vecqhfocHOiayDuisZXWUU",
     "type":"MD",
     "hide_input_from_viewers":false,
     "hide_output_from_viewers":false,
     "report_properties":{
      "rowId":"vS1sYLD9d4P0ePVFAookud"
     }
    }
   }
  },
  {
   "cell_type":"markdown",
   "source":[
    "### Managing missing values\n",
    "\n",
    "#### \"What missing values?\"\n",
    "\n",
    "Using the functions we saw in the last practical, determine (if you have not already) whether the dataset contains missing values.\n",
    "Now observe the minimum and maximum values for each feature. Does anything seem weird to you? Try to interpret the abnormalities."
   ],
   "attachments":{},
   "metadata":{
    "datalore":{
     "node_id":"f865K4qXjKemxCqa9ACAr8",
     "type":"MD",
     "hide_input_from_viewers":false,
     "hide_output_from_viewers":false,
     "report_properties":{
      "rowId":"beIAQppGwEf0hi9V6aowra"
     }
    }
   }
  },
  {
   "cell_type":"code",
   "source":[
    "df.describe()"
   ],
   "execution_count":264,
   "outputs":[
    {
     "data":{
      "text\/html":[
       "<div>\n",
       "<style scoped>\n",
       "    .dataframe tbody tr th:only-of-type {\n",
       "        vertical-align: middle;\n",
       "    }\n",
       "\n",
       "    .dataframe tbody tr th {\n",
       "        vertical-align: top;\n",
       "    }\n",
       "\n",
       "    .dataframe thead th {\n",
       "        text-align: right;\n",
       "    }\n",
       "<\/style>\n",
       "<table border=\"1\" class=\"dataframe\">\n",
       "  <thead>\n",
       "    <tr style=\"text-align: right;\">\n",
       "      <th><\/th>\n",
       "      <th>Pregnancies<\/th>\n",
       "      <th>Glucose<\/th>\n",
       "      <th>BloodPressure<\/th>\n",
       "      <th>SkinThickness<\/th>\n",
       "      <th>Insulin<\/th>\n",
       "      <th>BMI<\/th>\n",
       "      <th>DiabetesPedigreeFunction<\/th>\n",
       "      <th>Age<\/th>\n",
       "      <th>Outcome<\/th>\n",
       "    <\/tr>\n",
       "  <\/thead>\n",
       "  <tbody>\n",
       "    <tr>\n",
       "      <th>count<\/th>\n",
       "      <td>768.000000<\/td>\n",
       "      <td>768.000000<\/td>\n",
       "      <td>768.000000<\/td>\n",
       "      <td>768.000000<\/td>\n",
       "      <td>768.000000<\/td>\n",
       "      <td>768.000000<\/td>\n",
       "      <td>768.000000<\/td>\n",
       "      <td>768.000000<\/td>\n",
       "      <td>768.000000<\/td>\n",
       "    <\/tr>\n",
       "    <tr>\n",
       "      <th>mean<\/th>\n",
       "      <td>3.845052<\/td>\n",
       "      <td>120.894531<\/td>\n",
       "      <td>69.105469<\/td>\n",
       "      <td>20.536458<\/td>\n",
       "      <td>79.799479<\/td>\n",
       "      <td>31.992578<\/td>\n",
       "      <td>0.471876<\/td>\n",
       "      <td>33.240885<\/td>\n",
       "      <td>0.348958<\/td>\n",
       "    <\/tr>\n",
       "    <tr>\n",
       "      <th>std<\/th>\n",
       "      <td>3.369578<\/td>\n",
       "      <td>31.972618<\/td>\n",
       "      <td>19.355807<\/td>\n",
       "      <td>15.952218<\/td>\n",
       "      <td>115.244002<\/td>\n",
       "      <td>7.884160<\/td>\n",
       "      <td>0.331329<\/td>\n",
       "      <td>11.760232<\/td>\n",
       "      <td>0.476951<\/td>\n",
       "    <\/tr>\n",
       "    <tr>\n",
       "      <th>min<\/th>\n",
       "      <td>0.000000<\/td>\n",
       "      <td>0.000000<\/td>\n",
       "      <td>0.000000<\/td>\n",
       "      <td>0.000000<\/td>\n",
       "      <td>0.000000<\/td>\n",
       "      <td>0.000000<\/td>\n",
       "      <td>0.078000<\/td>\n",
       "      <td>21.000000<\/td>\n",
       "      <td>0.000000<\/td>\n",
       "    <\/tr>\n",
       "    <tr>\n",
       "      <th>25%<\/th>\n",
       "      <td>1.000000<\/td>\n",
       "      <td>99.000000<\/td>\n",
       "      <td>62.000000<\/td>\n",
       "      <td>0.000000<\/td>\n",
       "      <td>0.000000<\/td>\n",
       "      <td>27.300000<\/td>\n",
       "      <td>0.243750<\/td>\n",
       "      <td>24.000000<\/td>\n",
       "      <td>0.000000<\/td>\n",
       "    <\/tr>\n",
       "    <tr>\n",
       "      <th>50%<\/th>\n",
       "      <td>3.000000<\/td>\n",
       "      <td>117.000000<\/td>\n",
       "      <td>72.000000<\/td>\n",
       "      <td>23.000000<\/td>\n",
       "      <td>30.500000<\/td>\n",
       "      <td>32.000000<\/td>\n",
       "      <td>0.372500<\/td>\n",
       "      <td>29.000000<\/td>\n",
       "      <td>0.000000<\/td>\n",
       "    <\/tr>\n",
       "    <tr>\n",
       "      <th>75%<\/th>\n",
       "      <td>6.000000<\/td>\n",
       "      <td>140.250000<\/td>\n",
       "      <td>80.000000<\/td>\n",
       "      <td>32.000000<\/td>\n",
       "      <td>127.250000<\/td>\n",
       "      <td>36.600000<\/td>\n",
       "      <td>0.626250<\/td>\n",
       "      <td>41.000000<\/td>\n",
       "      <td>1.000000<\/td>\n",
       "    <\/tr>\n",
       "    <tr>\n",
       "      <th>max<\/th>\n",
       "      <td>17.000000<\/td>\n",
       "      <td>199.000000<\/td>\n",
       "      <td>122.000000<\/td>\n",
       "      <td>99.000000<\/td>\n",
       "      <td>846.000000<\/td>\n",
       "      <td>67.100000<\/td>\n",
       "      <td>2.420000<\/td>\n",
       "      <td>81.000000<\/td>\n",
       "      <td>1.000000<\/td>\n",
       "    <\/tr>\n",
       "  <\/tbody>\n",
       "<\/table>\n",
       "<\/div>"
      ]
     },
     "metadata":{},
     "output_type":"display_data"
    }
   ],
   "metadata":{
    "datalore":{
     "node_id":"IjDpV65Kx71DuhTe7P6HcV",
     "type":"CODE",
     "hide_input_from_viewers":false,
     "hide_output_from_viewers":false,
     "report_properties":{
      "rowId":"KhTBi7OSDxFJmNEmYTD7hG"
     }
    }
   }
  },
  {
   "cell_type":"markdown",
   "source":[
    "*[Your answers here]*"
   ],
   "attachments":{},
   "metadata":{
    "datalore":{
     "node_id":"u3nsTRagFKXOK4ivXD80Ep",
     "type":"MD",
     "hide_input_from_viewers":false,
     "hide_output_from_viewers":false,
     "report_properties":{
      "rowId":"ZGuxfpRHbVDLMzRJE9g5wE"
     }
    }
   }
  },
  {
   "cell_type":"markdown",
   "source":[
    "#### Cleaning the data\n",
    "\n",
    "You must now have noticed that there are indeed missing values in the dataset. To avoid creating bias in the data and misleading both analysis and algorithms, it is actually better to replace those values by actual missing values, which we will manage later on.\n",
    "\n",
    "In the code cell below, replace the missing values with `NaN` types, meaning \"Not a Number\".\n",
    "Make sure to use the original data, not the scaled data from the previous section!\n",
    "It is a good idea to scale data, but the scaling needs to be done after the cleaning. In order to compare the results with and without scaled data, you will need to re-scale the data everytime we impute a different value for `NaN`s.\n",
    "\n",
    "*Hints*:\n",
    "- Make sure to only replace values in the relevant columns!\n",
    "- You can use the `replace()` function to perform the replacement\n",
    "- You can indicate a `NaN` type with `np.NaN`"
   ],
   "attachments":{},
   "metadata":{
    "datalore":{
     "node_id":"vqSSLZPyFqZy1VtT6pESxn",
     "type":"MD",
     "hide_input_from_viewers":false,
     "hide_output_from_viewers":false,
     "report_properties":{
      "rowId":"OvaZQ1wR6POwvoSvXB11Bi"
     }
    }
   }
  },
  {
   "cell_type":"code",
   "source":[
    "columns = ['Glucose','BloodPressure','SkinThickness','Insulin','BMI','DiabetesPedigreeFunction']\n",
    "df[columns] = df[columns].replace(0, np.NaN) # This syntax lets you select several columns at once\n",
    "# df[['column1','column2','column3']]\n",
    "\n",
    "# Your code here"
   ],
   "execution_count":265,
   "outputs":[],
   "metadata":{
    "datalore":{
     "node_id":"UmS1ST0hWuWLstfmcOiaF4",
     "type":"CODE",
     "hide_input_from_viewers":false,
     "hide_output_from_viewers":false,
     "report_properties":{
      "rowId":"Qje5uNPjdVLsxgq9kCGTk9"
     }
    }
   }
  },
  {
   "cell_type":"code",
   "source":[
    "df"
   ],
   "execution_count":266,
   "outputs":[
    {
     "data":{
      "text\/html":[
       "<div>\n",
       "<style scoped>\n",
       "    .dataframe tbody tr th:only-of-type {\n",
       "        vertical-align: middle;\n",
       "    }\n",
       "\n",
       "    .dataframe tbody tr th {\n",
       "        vertical-align: top;\n",
       "    }\n",
       "\n",
       "    .dataframe thead th {\n",
       "        text-align: right;\n",
       "    }\n",
       "<\/style>\n",
       "<table border=\"1\" class=\"dataframe\">\n",
       "  <thead>\n",
       "    <tr style=\"text-align: right;\">\n",
       "      <th><\/th>\n",
       "      <th>Pregnancies<\/th>\n",
       "      <th>Glucose<\/th>\n",
       "      <th>BloodPressure<\/th>\n",
       "      <th>SkinThickness<\/th>\n",
       "      <th>Insulin<\/th>\n",
       "      <th>BMI<\/th>\n",
       "      <th>DiabetesPedigreeFunction<\/th>\n",
       "      <th>Age<\/th>\n",
       "      <th>Outcome<\/th>\n",
       "    <\/tr>\n",
       "  <\/thead>\n",
       "  <tbody>\n",
       "    <tr>\n",
       "      <th>0<\/th>\n",
       "      <td>6<\/td>\n",
       "      <td>148.0<\/td>\n",
       "      <td>72.0<\/td>\n",
       "      <td>35.0<\/td>\n",
       "      <td>NaN<\/td>\n",
       "      <td>33.6<\/td>\n",
       "      <td>0.627<\/td>\n",
       "      <td>50<\/td>\n",
       "      <td>1<\/td>\n",
       "    <\/tr>\n",
       "    <tr>\n",
       "      <th>1<\/th>\n",
       "      <td>1<\/td>\n",
       "      <td>85.0<\/td>\n",
       "      <td>66.0<\/td>\n",
       "      <td>29.0<\/td>\n",
       "      <td>NaN<\/td>\n",
       "      <td>26.6<\/td>\n",
       "      <td>0.351<\/td>\n",
       "      <td>31<\/td>\n",
       "      <td>0<\/td>\n",
       "    <\/tr>\n",
       "    <tr>\n",
       "      <th>2<\/th>\n",
       "      <td>8<\/td>\n",
       "      <td>183.0<\/td>\n",
       "      <td>64.0<\/td>\n",
       "      <td>NaN<\/td>\n",
       "      <td>NaN<\/td>\n",
       "      <td>23.3<\/td>\n",
       "      <td>0.672<\/td>\n",
       "      <td>32<\/td>\n",
       "      <td>1<\/td>\n",
       "    <\/tr>\n",
       "    <tr>\n",
       "      <th>3<\/th>\n",
       "      <td>1<\/td>\n",
       "      <td>89.0<\/td>\n",
       "      <td>66.0<\/td>\n",
       "      <td>23.0<\/td>\n",
       "      <td>94.0<\/td>\n",
       "      <td>28.1<\/td>\n",
       "      <td>0.167<\/td>\n",
       "      <td>21<\/td>\n",
       "      <td>0<\/td>\n",
       "    <\/tr>\n",
       "    <tr>\n",
       "      <th>4<\/th>\n",
       "      <td>0<\/td>\n",
       "      <td>137.0<\/td>\n",
       "      <td>40.0<\/td>\n",
       "      <td>35.0<\/td>\n",
       "      <td>168.0<\/td>\n",
       "      <td>43.1<\/td>\n",
       "      <td>2.288<\/td>\n",
       "      <td>33<\/td>\n",
       "      <td>1<\/td>\n",
       "    <\/tr>\n",
       "    <tr>\n",
       "      <th>...<\/th>\n",
       "      <td>...<\/td>\n",
       "      <td>...<\/td>\n",
       "      <td>...<\/td>\n",
       "      <td>...<\/td>\n",
       "      <td>...<\/td>\n",
       "      <td>...<\/td>\n",
       "      <td>...<\/td>\n",
       "      <td>...<\/td>\n",
       "      <td>...<\/td>\n",
       "    <\/tr>\n",
       "    <tr>\n",
       "      <th>763<\/th>\n",
       "      <td>10<\/td>\n",
       "      <td>101.0<\/td>\n",
       "      <td>76.0<\/td>\n",
       "      <td>48.0<\/td>\n",
       "      <td>180.0<\/td>\n",
       "      <td>32.9<\/td>\n",
       "      <td>0.171<\/td>\n",
       "      <td>63<\/td>\n",
       "      <td>0<\/td>\n",
       "    <\/tr>\n",
       "    <tr>\n",
       "      <th>764<\/th>\n",
       "      <td>2<\/td>\n",
       "      <td>122.0<\/td>\n",
       "      <td>70.0<\/td>\n",
       "      <td>27.0<\/td>\n",
       "      <td>NaN<\/td>\n",
       "      <td>36.8<\/td>\n",
       "      <td>0.340<\/td>\n",
       "      <td>27<\/td>\n",
       "      <td>0<\/td>\n",
       "    <\/tr>\n",
       "    <tr>\n",
       "      <th>765<\/th>\n",
       "      <td>5<\/td>\n",
       "      <td>121.0<\/td>\n",
       "      <td>72.0<\/td>\n",
       "      <td>23.0<\/td>\n",
       "      <td>112.0<\/td>\n",
       "      <td>26.2<\/td>\n",
       "      <td>0.245<\/td>\n",
       "      <td>30<\/td>\n",
       "      <td>0<\/td>\n",
       "    <\/tr>\n",
       "    <tr>\n",
       "      <th>766<\/th>\n",
       "      <td>1<\/td>\n",
       "      <td>126.0<\/td>\n",
       "      <td>60.0<\/td>\n",
       "      <td>NaN<\/td>\n",
       "      <td>NaN<\/td>\n",
       "      <td>30.1<\/td>\n",
       "      <td>0.349<\/td>\n",
       "      <td>47<\/td>\n",
       "      <td>1<\/td>\n",
       "    <\/tr>\n",
       "    <tr>\n",
       "      <th>767<\/th>\n",
       "      <td>1<\/td>\n",
       "      <td>93.0<\/td>\n",
       "      <td>70.0<\/td>\n",
       "      <td>31.0<\/td>\n",
       "      <td>NaN<\/td>\n",
       "      <td>30.4<\/td>\n",
       "      <td>0.315<\/td>\n",
       "      <td>23<\/td>\n",
       "      <td>0<\/td>\n",
       "    <\/tr>\n",
       "  <\/tbody>\n",
       "<\/table>\n",
       "<p>768 rows × 9 columns<\/p>\n",
       "<\/div>"
      ]
     },
     "metadata":{},
     "output_type":"display_data"
    }
   ],
   "metadata":{
    "datalore":{
     "node_id":"4wSZerLEdws1U335B081WO",
     "type":"CODE",
     "hide_input_from_viewers":true,
     "hide_output_from_viewers":true
    }
   }
  },
  {
   "cell_type":"code",
   "source":[
    "df.columns"
   ],
   "execution_count":267,
   "outputs":[
    {
     "data":{
      "text\/plain":[
       "Index(['Pregnancies', 'Glucose', 'BloodPressure', 'SkinThickness', 'Insulin',\n",
       "       'BMI', 'DiabetesPedigreeFunction', 'Age', 'Outcome'],\n",
       "      dtype='object')"
      ]
     },
     "metadata":{},
     "output_type":"display_data"
    }
   ],
   "metadata":{
    "datalore":{
     "node_id":"qWn6X1dPUGKli3ptqOYLAO",
     "type":"CODE",
     "hide_input_from_viewers":true,
     "hide_output_from_viewers":true
    }
   }
  },
  {
   "cell_type":"markdown",
   "source":[
    "#### Observe missing data\n",
    "\n",
    "Sometimes, visualizing missing data lets you determine whether your data is missing randomly or not.\n",
    "In the cell below, use a seaborn heatmap to display missing values."
   ],
   "attachments":{},
   "metadata":{
    "datalore":{
     "node_id":"GXw4HrszK2KD84zS3HYH8R",
     "type":"MD",
     "hide_input_from_viewers":false,
     "hide_output_from_viewers":false,
     "report_properties":{
      "rowId":"MmIs7mEfaOTaaxgMTqgy9D"
     }
    }
   }
  },
  {
   "cell_type":"code",
   "source":[
    "plt.figure(figsize=(20,15))\n",
    "sns.heatmap(df)"
   ],
   "execution_count":283,
   "outputs":[
    {
     "data":{
      "text\/plain":[
       "<Axes: >"
      ]
     },
     "metadata":{},
     "output_type":"display_data"
    },
    {
     "data":{
      "image\/png":"[encoded data removed]"
     },
     "metadata":{
      "image\/png":{}
     },
     "output_type":"display_data"
    }
   ],
   "metadata":{
    "datalore":{
     "node_id":"O7Q2uOcaQSmccQP8rNjgt5",
     "type":"CODE",
     "hide_input_from_viewers":false,
     "hide_output_from_viewers":false,
     "report_properties":{
      "rowId":"3xAfh0eySb6ci7CwYxFWqw"
     }
    }
   }
  },
  {
   "cell_type":"markdown",
   "source":[
    "### Deleting rows with missing values\n",
    "\n",
    "As a first approach, try deleting rows where data is missing. How much data do you have left?\n",
    "Check the new score. How do you interpret this result?"
   ],
   "attachments":{},
   "metadata":{
    "datalore":{
     "node_id":"xZvyFButrR3gbDYDzhUCuc",
     "type":"MD",
     "hide_input_from_viewers":false,
     "hide_output_from_viewers":false,
     "report_properties":{
      "rowId":"goS34PeaBjE9z3KLIUc1fR"
     }
    }
   }
  },
  {
   "cell_type":"code",
   "source":[
    "df_drop = df.dropna()"
   ],
   "execution_count":272,
   "outputs":[],
   "metadata":{
    "datalore":{
     "node_id":"RB68Oubtp6HUFgG8VFp87i",
     "type":"CODE",
     "hide_input_from_viewers":false,
     "hide_output_from_viewers":false,
     "report_properties":{
      "rowId":"zJlcShpi0x77LQuHHZsTi9"
     }
    }
   }
  },
  {
   "cell_type":"code",
   "source":[
    "df_drop.shape"
   ],
   "execution_count":273,
   "outputs":[
    {
     "data":{
      "text\/plain":[
       "(392, 9)"
      ]
     },
     "metadata":{},
     "output_type":"display_data"
    }
   ],
   "metadata":{
    "datalore":{
     "node_id":"6tSyQ5rr5vyMZQp8mWCiEQ",
     "type":"CODE",
     "hide_input_from_viewers":true,
     "hide_output_from_viewers":true
    }
   }
  },
  {
   "cell_type":"code",
   "source":[
    "df_init = pd.read_csv(\"diabetes_data.csv\")\n",
    "diagnosis_knn(df_init)"
   ],
   "execution_count":274,
   "outputs":[
    {
     "name":"stdout",
     "text":[
      "Max train score 100.0 % for k = [1]\n",
      "Max test score 75.32467532467533 % for k = [1, 2]\n"
     ],
     "output_type":"stream"
    }
   ],
   "metadata":{
    "datalore":{
     "node_id":"udivmGn9I9dj3m5eacVPxW",
     "type":"CODE",
     "hide_input_from_viewers":true,
     "hide_output_from_viewers":true
    }
   }
  },
  {
   "cell_type":"markdown",
   "source":[
    "### Replacing missing values\n",
    "\n",
    "In a lot of cases, replacing the missing data can provide better classification results than simply deleting the data. In the sections below, we will test different methods for data replacement.\n",
    "\n",
    "For each of these methods :\n",
    "- Perform the replacement on the data we cleaned up\n",
    "- Check how the diagnosis score evolves\n",
    "- Try providing an explanation for this evolution\n",
    "- Scale the data and see if there are any changes\n",
    "\n",
    "*Hint: Pandas has a `fillna()` function!*"
   ],
   "attachments":{},
   "metadata":{
    "datalore":{
     "node_id":"k8pAWJ7l8yFmexBaP4bD4F",
     "type":"MD",
     "hide_input_from_viewers":false,
     "hide_output_from_viewers":false,
     "report_properties":{
      "rowId":"zJjf7Usr09uXObM40Fyv5q"
     }
    }
   }
  },
  {
   "cell_type":"markdown",
   "source":[
    "#### Replacing with mean values"
   ],
   "attachments":{},
   "metadata":{
    "datalore":{
     "node_id":"YF3XGx4xmBIRqzSjjluuas",
     "type":"MD",
     "hide_input_from_viewers":false,
     "hide_output_from_viewers":false,
     "report_properties":{
      "rowId":"VedReHr4v4ohhS1WuYh7lF"
     }
    }
   }
  },
  {
   "cell_type":"code",
   "source":[
    "\n",
    "# Remplacer NaN par la moyenne de chaque colonne\n",
    "for col in df.columns:\n",
    "    if df[col].isnull().sum() > 0:\n",
    "        # Remplacer par la moyenne de la colonne\n",
    "        df[col].fillna(df[col].mean(), inplace=True)\n",
    "df"
   ],
   "execution_count":284,
   "outputs":[
    {
     "data":{
      "text\/html":[
       "<div>\n",
       "<style scoped>\n",
       "    .dataframe tbody tr th:only-of-type {\n",
       "        vertical-align: middle;\n",
       "    }\n",
       "\n",
       "    .dataframe tbody tr th {\n",
       "        vertical-align: top;\n",
       "    }\n",
       "\n",
       "    .dataframe thead th {\n",
       "        text-align: right;\n",
       "    }\n",
       "<\/style>\n",
       "<table border=\"1\" class=\"dataframe\">\n",
       "  <thead>\n",
       "    <tr style=\"text-align: right;\">\n",
       "      <th><\/th>\n",
       "      <th>Pregnancies<\/th>\n",
       "      <th>Glucose<\/th>\n",
       "      <th>BloodPressure<\/th>\n",
       "      <th>SkinThickness<\/th>\n",
       "      <th>Insulin<\/th>\n",
       "      <th>BMI<\/th>\n",
       "      <th>DiabetesPedigreeFunction<\/th>\n",
       "      <th>Age<\/th>\n",
       "      <th>Outcome<\/th>\n",
       "    <\/tr>\n",
       "  <\/thead>\n",
       "  <tbody>\n",
       "    <tr>\n",
       "      <th>0<\/th>\n",
       "      <td>6<\/td>\n",
       "      <td>148.0<\/td>\n",
       "      <td>72.0<\/td>\n",
       "      <td>35.00000<\/td>\n",
       "      <td>155.548223<\/td>\n",
       "      <td>33.6<\/td>\n",
       "      <td>0.627<\/td>\n",
       "      <td>50<\/td>\n",
       "      <td>1<\/td>\n",
       "    <\/tr>\n",
       "    <tr>\n",
       "      <th>1<\/th>\n",
       "      <td>1<\/td>\n",
       "      <td>85.0<\/td>\n",
       "      <td>66.0<\/td>\n",
       "      <td>29.00000<\/td>\n",
       "      <td>155.548223<\/td>\n",
       "      <td>26.6<\/td>\n",
       "      <td>0.351<\/td>\n",
       "      <td>31<\/td>\n",
       "      <td>0<\/td>\n",
       "    <\/tr>\n",
       "    <tr>\n",
       "      <th>2<\/th>\n",
       "      <td>8<\/td>\n",
       "      <td>183.0<\/td>\n",
       "      <td>64.0<\/td>\n",
       "      <td>29.15342<\/td>\n",
       "      <td>155.548223<\/td>\n",
       "      <td>23.3<\/td>\n",
       "      <td>0.672<\/td>\n",
       "      <td>32<\/td>\n",
       "      <td>1<\/td>\n",
       "    <\/tr>\n",
       "    <tr>\n",
       "      <th>3<\/th>\n",
       "      <td>1<\/td>\n",
       "      <td>89.0<\/td>\n",
       "      <td>66.0<\/td>\n",
       "      <td>23.00000<\/td>\n",
       "      <td>94.000000<\/td>\n",
       "      <td>28.1<\/td>\n",
       "      <td>0.167<\/td>\n",
       "      <td>21<\/td>\n",
       "      <td>0<\/td>\n",
       "    <\/tr>\n",
       "    <tr>\n",
       "      <th>4<\/th>\n",
       "      <td>0<\/td>\n",
       "      <td>137.0<\/td>\n",
       "      <td>40.0<\/td>\n",
       "      <td>35.00000<\/td>\n",
       "      <td>168.000000<\/td>\n",
       "      <td>43.1<\/td>\n",
       "      <td>2.288<\/td>\n",
       "      <td>33<\/td>\n",
       "      <td>1<\/td>\n",
       "    <\/tr>\n",
       "    <tr>\n",
       "      <th>...<\/th>\n",
       "      <td>...<\/td>\n",
       "      <td>...<\/td>\n",
       "      <td>...<\/td>\n",
       "      <td>...<\/td>\n",
       "      <td>...<\/td>\n",
       "      <td>...<\/td>\n",
       "      <td>...<\/td>\n",
       "      <td>...<\/td>\n",
       "      <td>...<\/td>\n",
       "    <\/tr>\n",
       "    <tr>\n",
       "      <th>763<\/th>\n",
       "      <td>10<\/td>\n",
       "      <td>101.0<\/td>\n",
       "      <td>76.0<\/td>\n",
       "      <td>48.00000<\/td>\n",
       "      <td>180.000000<\/td>\n",
       "      <td>32.9<\/td>\n",
       "      <td>0.171<\/td>\n",
       "      <td>63<\/td>\n",
       "      <td>0<\/td>\n",
       "    <\/tr>\n",
       "    <tr>\n",
       "      <th>764<\/th>\n",
       "      <td>2<\/td>\n",
       "      <td>122.0<\/td>\n",
       "      <td>70.0<\/td>\n",
       "      <td>27.00000<\/td>\n",
       "      <td>155.548223<\/td>\n",
       "      <td>36.8<\/td>\n",
       "      <td>0.340<\/td>\n",
       "      <td>27<\/td>\n",
       "      <td>0<\/td>\n",
       "    <\/tr>\n",
       "    <tr>\n",
       "      <th>765<\/th>\n",
       "      <td>5<\/td>\n",
       "      <td>121.0<\/td>\n",
       "      <td>72.0<\/td>\n",
       "      <td>23.00000<\/td>\n",
       "      <td>112.000000<\/td>\n",
       "      <td>26.2<\/td>\n",
       "      <td>0.245<\/td>\n",
       "      <td>30<\/td>\n",
       "      <td>0<\/td>\n",
       "    <\/tr>\n",
       "    <tr>\n",
       "      <th>766<\/th>\n",
       "      <td>1<\/td>\n",
       "      <td>126.0<\/td>\n",
       "      <td>60.0<\/td>\n",
       "      <td>29.15342<\/td>\n",
       "      <td>155.548223<\/td>\n",
       "      <td>30.1<\/td>\n",
       "      <td>0.349<\/td>\n",
       "      <td>47<\/td>\n",
       "      <td>1<\/td>\n",
       "    <\/tr>\n",
       "    <tr>\n",
       "      <th>767<\/th>\n",
       "      <td>1<\/td>\n",
       "      <td>93.0<\/td>\n",
       "      <td>70.0<\/td>\n",
       "      <td>31.00000<\/td>\n",
       "      <td>155.548223<\/td>\n",
       "      <td>30.4<\/td>\n",
       "      <td>0.315<\/td>\n",
       "      <td>23<\/td>\n",
       "      <td>0<\/td>\n",
       "    <\/tr>\n",
       "  <\/tbody>\n",
       "<\/table>\n",
       "<p>768 rows × 9 columns<\/p>\n",
       "<\/div>"
      ]
     },
     "metadata":{},
     "output_type":"display_data"
    }
   ],
   "metadata":{
    "datalore":{
     "node_id":"WXQslkL7UT7aAh9laWdlhH",
     "type":"CODE",
     "hide_input_from_viewers":true,
     "hide_output_from_viewers":true
    }
   }
  },
  {
   "cell_type":"code",
   "source":[
    "\n",
    "# Calculer et afficher la moyenne de chaque colonne\n",
    "for col in df.columns:\n",
    "    col_mean = df[col].mean()\n",
    "    print(f\"Moyenne de la colonne {col}: {col_mean}\")"
   ],
   "execution_count":286,
   "outputs":[
    {
     "name":"stdout",
     "text":[
      "Moyenne de la colonne Pregnancies: 3.8450520833333335\n",
      "Moyenne de la colonne Glucose: 121.68676277850591\n",
      "Moyenne de la colonne BloodPressure: 72.40518417462482\n",
      "Moyenne de la colonne SkinThickness: 29.15341959334565\n",
      "Moyenne de la colonne Insulin: 155.54822335025383\n",
      "Moyenne de la colonne BMI: 32.457463672391015\n",
      "Moyenne de la colonne DiabetesPedigreeFunction: 0.47187630208333325\n",
      "Moyenne de la colonne Age: 33.240885416666664\n",
      "Moyenne de la colonne Outcome: 0.3489583333333333\n"
     ],
     "output_type":"stream"
    }
   ],
   "metadata":{
    "datalore":{
     "node_id":"KBsNV9YxFXEVlGNG9QVvlp",
     "type":"CODE",
     "hide_input_from_viewers":true,
     "hide_output_from_viewers":true
    }
   }
  },
  {
   "cell_type":"markdown",
   "source":[
    "#### Replacing with median values"
   ],
   "attachments":{},
   "metadata":{
    "datalore":{
     "node_id":"mQSZEq2gvoisQk9710i6TS",
     "type":"MD",
     "hide_input_from_viewers":false,
     "hide_output_from_viewers":false,
     "report_properties":{
      "rowId":"rpcv8EGhiPizbNcsNMnkuQ"
     }
    }
   }
  },
  {
   "cell_type":"code",
   "source":[
    "for col in df.columns:\n",
    "    if df[col].isnull().sum() > 0: #Vérification de la présence de valeur NaN\n",
    "\n",
    "        # Remplacer par la médiane de la colonne\n",
    "        df[col].fillna(df[col].median(), inplace=True)\n",
    "\n",
    "df"
   ],
   "execution_count":287,
   "outputs":[
    {
     "data":{
      "text\/html":[
       "<div>\n",
       "<style scoped>\n",
       "    .dataframe tbody tr th:only-of-type {\n",
       "        vertical-align: middle;\n",
       "    }\n",
       "\n",
       "    .dataframe tbody tr th {\n",
       "        vertical-align: top;\n",
       "    }\n",
       "\n",
       "    .dataframe thead th {\n",
       "        text-align: right;\n",
       "    }\n",
       "<\/style>\n",
       "<table border=\"1\" class=\"dataframe\">\n",
       "  <thead>\n",
       "    <tr style=\"text-align: right;\">\n",
       "      <th><\/th>\n",
       "      <th>Pregnancies<\/th>\n",
       "      <th>Glucose<\/th>\n",
       "      <th>BloodPressure<\/th>\n",
       "      <th>SkinThickness<\/th>\n",
       "      <th>Insulin<\/th>\n",
       "      <th>BMI<\/th>\n",
       "      <th>DiabetesPedigreeFunction<\/th>\n",
       "      <th>Age<\/th>\n",
       "      <th>Outcome<\/th>\n",
       "    <\/tr>\n",
       "  <\/thead>\n",
       "  <tbody>\n",
       "    <tr>\n",
       "      <th>0<\/th>\n",
       "      <td>6<\/td>\n",
       "      <td>148.0<\/td>\n",
       "      <td>72.0<\/td>\n",
       "      <td>35.00000<\/td>\n",
       "      <td>155.548223<\/td>\n",
       "      <td>33.6<\/td>\n",
       "      <td>0.627<\/td>\n",
       "      <td>50<\/td>\n",
       "      <td>1<\/td>\n",
       "    <\/tr>\n",
       "    <tr>\n",
       "      <th>1<\/th>\n",
       "      <td>1<\/td>\n",
       "      <td>85.0<\/td>\n",
       "      <td>66.0<\/td>\n",
       "      <td>29.00000<\/td>\n",
       "      <td>155.548223<\/td>\n",
       "      <td>26.6<\/td>\n",
       "      <td>0.351<\/td>\n",
       "      <td>31<\/td>\n",
       "      <td>0<\/td>\n",
       "    <\/tr>\n",
       "    <tr>\n",
       "      <th>2<\/th>\n",
       "      <td>8<\/td>\n",
       "      <td>183.0<\/td>\n",
       "      <td>64.0<\/td>\n",
       "      <td>29.15342<\/td>\n",
       "      <td>155.548223<\/td>\n",
       "      <td>23.3<\/td>\n",
       "      <td>0.672<\/td>\n",
       "      <td>32<\/td>\n",
       "      <td>1<\/td>\n",
       "    <\/tr>\n",
       "    <tr>\n",
       "      <th>3<\/th>\n",
       "      <td>1<\/td>\n",
       "      <td>89.0<\/td>\n",
       "      <td>66.0<\/td>\n",
       "      <td>23.00000<\/td>\n",
       "      <td>94.000000<\/td>\n",
       "      <td>28.1<\/td>\n",
       "      <td>0.167<\/td>\n",
       "      <td>21<\/td>\n",
       "      <td>0<\/td>\n",
       "    <\/tr>\n",
       "    <tr>\n",
       "      <th>4<\/th>\n",
       "      <td>0<\/td>\n",
       "      <td>137.0<\/td>\n",
       "      <td>40.0<\/td>\n",
       "      <td>35.00000<\/td>\n",
       "      <td>168.000000<\/td>\n",
       "      <td>43.1<\/td>\n",
       "      <td>2.288<\/td>\n",
       "      <td>33<\/td>\n",
       "      <td>1<\/td>\n",
       "    <\/tr>\n",
       "    <tr>\n",
       "      <th>...<\/th>\n",
       "      <td>...<\/td>\n",
       "      <td>...<\/td>\n",
       "      <td>...<\/td>\n",
       "      <td>...<\/td>\n",
       "      <td>...<\/td>\n",
       "      <td>...<\/td>\n",
       "      <td>...<\/td>\n",
       "      <td>...<\/td>\n",
       "      <td>...<\/td>\n",
       "    <\/tr>\n",
       "    <tr>\n",
       "      <th>763<\/th>\n",
       "      <td>10<\/td>\n",
       "      <td>101.0<\/td>\n",
       "      <td>76.0<\/td>\n",
       "      <td>48.00000<\/td>\n",
       "      <td>180.000000<\/td>\n",
       "      <td>32.9<\/td>\n",
       "      <td>0.171<\/td>\n",
       "      <td>63<\/td>\n",
       "      <td>0<\/td>\n",
       "    <\/tr>\n",
       "    <tr>\n",
       "      <th>764<\/th>\n",
       "      <td>2<\/td>\n",
       "      <td>122.0<\/td>\n",
       "      <td>70.0<\/td>\n",
       "      <td>27.00000<\/td>\n",
       "      <td>155.548223<\/td>\n",
       "      <td>36.8<\/td>\n",
       "      <td>0.340<\/td>\n",
       "      <td>27<\/td>\n",
       "      <td>0<\/td>\n",
       "    <\/tr>\n",
       "    <tr>\n",
       "      <th>765<\/th>\n",
       "      <td>5<\/td>\n",
       "      <td>121.0<\/td>\n",
       "      <td>72.0<\/td>\n",
       "      <td>23.00000<\/td>\n",
       "      <td>112.000000<\/td>\n",
       "      <td>26.2<\/td>\n",
       "      <td>0.245<\/td>\n",
       "      <td>30<\/td>\n",
       "      <td>0<\/td>\n",
       "    <\/tr>\n",
       "    <tr>\n",
       "      <th>766<\/th>\n",
       "      <td>1<\/td>\n",
       "      <td>126.0<\/td>\n",
       "      <td>60.0<\/td>\n",
       "      <td>29.15342<\/td>\n",
       "      <td>155.548223<\/td>\n",
       "      <td>30.1<\/td>\n",
       "      <td>0.349<\/td>\n",
       "      <td>47<\/td>\n",
       "      <td>1<\/td>\n",
       "    <\/tr>\n",
       "    <tr>\n",
       "      <th>767<\/th>\n",
       "      <td>1<\/td>\n",
       "      <td>93.0<\/td>\n",
       "      <td>70.0<\/td>\n",
       "      <td>31.00000<\/td>\n",
       "      <td>155.548223<\/td>\n",
       "      <td>30.4<\/td>\n",
       "      <td>0.315<\/td>\n",
       "      <td>23<\/td>\n",
       "      <td>0<\/td>\n",
       "    <\/tr>\n",
       "  <\/tbody>\n",
       "<\/table>\n",
       "<p>768 rows × 9 columns<\/p>\n",
       "<\/div>"
      ]
     },
     "metadata":{},
     "output_type":"display_data"
    }
   ],
   "metadata":{
    "datalore":{
     "node_id":"fsmcDlErnKpZn3e1CSDaRB",
     "type":"CODE",
     "hide_input_from_viewers":false,
     "hide_output_from_viewers":false,
     "report_properties":{
      "rowId":"Ni4emoEEYeQnYmxfry4gVD"
     }
    }
   }
  },
  {
   "cell_type":"code",
   "source":[
    "\n",
    "# Calculer et afficher la moyenne de chaque colonne\n",
    "for col in df.columns:\n",
    "    col_median = df[col].median()\n",
    "    print(f\"Mediane de la colonne {col}: {col_median}\")"
   ],
   "execution_count":288,
   "outputs":[
    {
     "name":"stdout",
     "text":[
      "Mediane de la colonne Pregnancies: 3.0\n",
      "Mediane de la colonne Glucose: 117.0\n",
      "Mediane de la colonne BloodPressure: 72.20259208731241\n",
      "Mediane de la colonne SkinThickness: 29.153419593345657\n",
      "Mediane de la colonne Insulin: 155.5482233502538\n",
      "Mediane de la colonne BMI: 32.4\n",
      "Mediane de la colonne DiabetesPedigreeFunction: 0.3725\n",
      "Mediane de la colonne Age: 29.0\n",
      "Mediane de la colonne Outcome: 0.0\n"
     ],
     "output_type":"stream"
    }
   ],
   "metadata":{
    "datalore":{
     "node_id":"Vw9S6LLmGpTmV0wTTq5Ma0",
     "type":"CODE",
     "hide_input_from_viewers":true,
     "hide_output_from_viewers":true
    }
   }
  },
  {
   "cell_type":"markdown",
   "source":[
    "#### Replacing with random values\n",
    "\n",
    "Here are some ways you can replace with random values:\n",
    "- Replace with completely random values\n",
    "- Replace with random values drawn uniformly between the minimum and maximum of each column\n",
    "- Replace with random values drawn from a certain distribution for each column\n",
    "\n",
    "*Hints*:\n",
    "  - Observing the data with a `displot` (with `kind=\"kde\"`) can help you guess what type of distribution you need\n",
    "  - You can use functions such as [`numpy.random.uniform`](https:\/\/numpy.org\/doc\/stable\/reference\/random\/generated\/numpy.random.uniform.html) to draw random samples. Numpy has functions for many distributions, such as uniform, normal or exponential."
   ],
   "attachments":{},
   "metadata":{
    "datalore":{
     "node_id":"DlZ1XzCdkDgGXFHZKYVUdY",
     "type":"MD",
     "hide_input_from_viewers":false,
     "hide_output_from_viewers":false,
     "report_properties":{
      "rowId":"jAH6V7whwPgCpinh58R8Kx"
     }
    }
   }
  },
  {
   "cell_type":"code",
   "source":[
    "# Définir la plage de valeurs pour remplacer les NaN\n",
    "min_value = {'Pregnancies': 0, 'Glucose': 44, 'BloodPressure': 24, 'SkinThickness': 7, 'Insulin': 14, 'BMI': 18.2, 'DiabetesPedigreeFunction':0.078, 'Age': 21, 'Outcome': 0}  # Valeur minimale pour la plage de valeurs aléatoires\n",
    "max_value = {'Pregnancies' : 17, 'Glucose': 199, 'BloodPressure': 122, 'SkinThickness': 99, 'Insulin': 846, 'BMI': 67.1, 'DiabetesPedigreeFunction':2.42, 'Age': 81, 'Outcome': 1}  # Valeur maximale pour la plage de valeurs aléatoires\n",
    "\n",
    "for col in df.columns:  # Parcourt chaque colonne du DataFrame\n",
    "    mask = df[col].isna()  # Crée un masque pour les valeurs NaN dans la colonne\n",
    "    num_nan = np.sum(mask)  # Compte le nombre de NaN dans la colonne\n",
    "    replacement_values = np.random.uniform(low=min_value[col], high=max_value[col], size=num_nan)  # Génère des valeurs aléatoires entre le min et max spécifiques à chaque colonne\n",
    "    df.loc[mask, col] = replacement_values  # Remplace les NaN par les valeurs aléatoires dans la colonne\n",
    "\n",
    "df"
   ],
   "execution_count":289,
   "outputs":[
    {
     "data":{
      "text\/html":[
       "<div>\n",
       "<style scoped>\n",
       "    .dataframe tbody tr th:only-of-type {\n",
       "        vertical-align: middle;\n",
       "    }\n",
       "\n",
       "    .dataframe tbody tr th {\n",
       "        vertical-align: top;\n",
       "    }\n",
       "\n",
       "    .dataframe thead th {\n",
       "        text-align: right;\n",
       "    }\n",
       "<\/style>\n",
       "<table border=\"1\" class=\"dataframe\">\n",
       "  <thead>\n",
       "    <tr style=\"text-align: right;\">\n",
       "      <th><\/th>\n",
       "      <th>Pregnancies<\/th>\n",
       "      <th>Glucose<\/th>\n",
       "      <th>BloodPressure<\/th>\n",
       "      <th>SkinThickness<\/th>\n",
       "      <th>Insulin<\/th>\n",
       "      <th>BMI<\/th>\n",
       "      <th>DiabetesPedigreeFunction<\/th>\n",
       "      <th>Age<\/th>\n",
       "      <th>Outcome<\/th>\n",
       "    <\/tr>\n",
       "  <\/thead>\n",
       "  <tbody>\n",
       "    <tr>\n",
       "      <th>0<\/th>\n",
       "      <td>6<\/td>\n",
       "      <td>148.0<\/td>\n",
       "      <td>72.0<\/td>\n",
       "      <td>35.00000<\/td>\n",
       "      <td>155.548223<\/td>\n",
       "      <td>33.6<\/td>\n",
       "      <td>0.627<\/td>\n",
       "      <td>50<\/td>\n",
       "      <td>1<\/td>\n",
       "    <\/tr>\n",
       "    <tr>\n",
       "      <th>1<\/th>\n",
       "      <td>1<\/td>\n",
       "      <td>85.0<\/td>\n",
       "      <td>66.0<\/td>\n",
       "      <td>29.00000<\/td>\n",
       "      <td>155.548223<\/td>\n",
       "      <td>26.6<\/td>\n",
       "      <td>0.351<\/td>\n",
       "      <td>31<\/td>\n",
       "      <td>0<\/td>\n",
       "    <\/tr>\n",
       "    <tr>\n",
       "      <th>2<\/th>\n",
       "      <td>8<\/td>\n",
       "      <td>183.0<\/td>\n",
       "      <td>64.0<\/td>\n",
       "      <td>29.15342<\/td>\n",
       "      <td>155.548223<\/td>\n",
       "      <td>23.3<\/td>\n",
       "      <td>0.672<\/td>\n",
       "      <td>32<\/td>\n",
       "      <td>1<\/td>\n",
       "    <\/tr>\n",
       "    <tr>\n",
       "      <th>3<\/th>\n",
       "      <td>1<\/td>\n",
       "      <td>89.0<\/td>\n",
       "      <td>66.0<\/td>\n",
       "      <td>23.00000<\/td>\n",
       "      <td>94.000000<\/td>\n",
       "      <td>28.1<\/td>\n",
       "      <td>0.167<\/td>\n",
       "      <td>21<\/td>\n",
       "      <td>0<\/td>\n",
       "    <\/tr>\n",
       "    <tr>\n",
       "      <th>4<\/th>\n",
       "      <td>0<\/td>\n",
       "      <td>137.0<\/td>\n",
       "      <td>40.0<\/td>\n",
       "      <td>35.00000<\/td>\n",
       "      <td>168.000000<\/td>\n",
       "      <td>43.1<\/td>\n",
       "      <td>2.288<\/td>\n",
       "      <td>33<\/td>\n",
       "      <td>1<\/td>\n",
       "    <\/tr>\n",
       "    <tr>\n",
       "      <th>...<\/th>\n",
       "      <td>...<\/td>\n",
       "      <td>...<\/td>\n",
       "      <td>...<\/td>\n",
       "      <td>...<\/td>\n",
       "      <td>...<\/td>\n",
       "      <td>...<\/td>\n",
       "      <td>...<\/td>\n",
       "      <td>...<\/td>\n",
       "      <td>...<\/td>\n",
       "    <\/tr>\n",
       "    <tr>\n",
       "      <th>763<\/th>\n",
       "      <td>10<\/td>\n",
       "      <td>101.0<\/td>\n",
       "      <td>76.0<\/td>\n",
       "      <td>48.00000<\/td>\n",
       "      <td>180.000000<\/td>\n",
       "      <td>32.9<\/td>\n",
       "      <td>0.171<\/td>\n",
       "      <td>63<\/td>\n",
       "      <td>0<\/td>\n",
       "    <\/tr>\n",
       "    <tr>\n",
       "      <th>764<\/th>\n",
       "      <td>2<\/td>\n",
       "      <td>122.0<\/td>\n",
       "      <td>70.0<\/td>\n",
       "      <td>27.00000<\/td>\n",
       "      <td>155.548223<\/td>\n",
       "      <td>36.8<\/td>\n",
       "      <td>0.340<\/td>\n",
       "      <td>27<\/td>\n",
       "      <td>0<\/td>\n",
       "    <\/tr>\n",
       "    <tr>\n",
       "      <th>765<\/th>\n",
       "      <td>5<\/td>\n",
       "      <td>121.0<\/td>\n",
       "      <td>72.0<\/td>\n",
       "      <td>23.00000<\/td>\n",
       "      <td>112.000000<\/td>\n",
       "      <td>26.2<\/td>\n",
       "      <td>0.245<\/td>\n",
       "      <td>30<\/td>\n",
       "      <td>0<\/td>\n",
       "    <\/tr>\n",
       "    <tr>\n",
       "      <th>766<\/th>\n",
       "      <td>1<\/td>\n",
       "      <td>126.0<\/td>\n",
       "      <td>60.0<\/td>\n",
       "      <td>29.15342<\/td>\n",
       "      <td>155.548223<\/td>\n",
       "      <td>30.1<\/td>\n",
       "      <td>0.349<\/td>\n",
       "      <td>47<\/td>\n",
       "      <td>1<\/td>\n",
       "    <\/tr>\n",
       "    <tr>\n",
       "      <th>767<\/th>\n",
       "      <td>1<\/td>\n",
       "      <td>93.0<\/td>\n",
       "      <td>70.0<\/td>\n",
       "      <td>31.00000<\/td>\n",
       "      <td>155.548223<\/td>\n",
       "      <td>30.4<\/td>\n",
       "      <td>0.315<\/td>\n",
       "      <td>23<\/td>\n",
       "      <td>0<\/td>\n",
       "    <\/tr>\n",
       "  <\/tbody>\n",
       "<\/table>\n",
       "<p>768 rows × 9 columns<\/p>\n",
       "<\/div>"
      ]
     },
     "metadata":{},
     "output_type":"display_data"
    }
   ],
   "metadata":{
    "datalore":{
     "node_id":"PRiwAJvsJUTAPmqtUe1AFd",
     "type":"CODE",
     "hide_input_from_viewers":false,
     "hide_output_from_viewers":false,
     "report_properties":{
      "rowId":"8Cs53RHJtthELWAiytD9LR"
     }
    }
   }
  },
  {
   "cell_type":"code",
   "source":[
    "df.max()"
   ],
   "execution_count":290,
   "outputs":[
    {
     "data":{
      "text\/html":[
       "<pre>Pregnancies                  17.00\n",
       "Glucose                     199.00\n",
       "BloodPressure               122.00\n",
       "SkinThickness                99.00\n",
       "Insulin                     846.00\n",
       "BMI                          67.10\n",
       "DiabetesPedigreeFunction      2.42\n",
       "Age                          81.00\n",
       "Outcome                       1.00\n",
       "dtype: float64<\/pre>"
      ]
     },
     "metadata":{},
     "output_type":"display_data"
    }
   ],
   "metadata":{
    "datalore":{
     "node_id":"ovOz6rER50pyCGbGrg48c5",
     "type":"CODE",
     "hide_input_from_viewers":true,
     "hide_output_from_viewers":true
    }
   }
  },
  {
   "cell_type":"code",
   "source":[
    "df.min()"
   ],
   "execution_count":291,
   "outputs":[
    {
     "data":{
      "text\/html":[
       "<pre>Pregnancies                  0.000\n",
       "Glucose                     44.000\n",
       "BloodPressure               24.000\n",
       "SkinThickness                7.000\n",
       "Insulin                     14.000\n",
       "BMI                         18.200\n",
       "DiabetesPedigreeFunction     0.078\n",
       "Age                         21.000\n",
       "Outcome                      0.000\n",
       "dtype: float64<\/pre>"
      ]
     },
     "metadata":{},
     "output_type":"display_data"
    }
   ],
   "metadata":{
    "datalore":{
     "node_id":"veuByb4N3grJ7wsS289m9Q",
     "type":"CODE",
     "hide_input_from_viewers":true,
     "hide_output_from_viewers":true
    }
   }
  },
  {
   "cell_type":"markdown",
   "source":[
    "*[Your comments here]*"
   ],
   "attachments":{},
   "metadata":{
    "datalore":{
     "node_id":"iiuThWbq7J6HjoJO703BCg",
     "type":"MD",
     "hide_input_from_viewers":false,
     "hide_output_from_viewers":false,
     "report_properties":{
      "rowId":"HFCv17P3pMVWvb6mbooyBJ"
     }
    }
   }
  },
  {
   "cell_type":"markdown",
   "source":[
    "#### Scikit learn imputation\n",
    "\n",
    "For this step, you can try using `scikit-learn`'s `SimpleImputer`, `KNN-Imputer` and \/ or `IterativeImputer`. Make sure you refer to the documentation to parametrize the imputers!"
   ],
   "attachments":{},
   "metadata":{
    "datalore":{
     "node_id":"rP4x4MDq0xMdUA63HTfgSD",
     "type":"MD",
     "hide_input_from_viewers":false,
     "hide_output_from_viewers":false,
     "report_properties":{
      "rowId":"Y8QuFiHeAkeNwa0ZhDWYX0"
     }
    }
   }
  },
  {
   "cell_type":"code",
   "source":[
    "from sklearn.impute import SimpleImputer\n",
    "\n",
    "# Remplacer les valeurs NaN par la moyenne des colonnes\n",
    "imputer = SimpleImputer(strategy='mean')\n",
    "df_imputed = pd.DataFrame(imputer.fit_transform(df), columns=df.columns)\n",
    "\n",
    "# Afficher le DataFrame avec les valeurs imputées\n",
    "diagnosis_knn(df_imputed)\n",
    "df_imputed"
   ],
   "execution_count":292,
   "outputs":[
    {
     "name":"stdout",
     "text":[
      "Max train score 100.0 % for k = [1]\n",
      "Max test score 74.02597402597402 % for k = [1]\n"
     ],
     "output_type":"stream"
    },
    {
     "data":{
      "text\/html":[
       "<div>\n",
       "<style scoped>\n",
       "    .dataframe tbody tr th:only-of-type {\n",
       "        vertical-align: middle;\n",
       "    }\n",
       "\n",
       "    .dataframe tbody tr th {\n",
       "        vertical-align: top;\n",
       "    }\n",
       "\n",
       "    .dataframe thead th {\n",
       "        text-align: right;\n",
       "    }\n",
       "<\/style>\n",
       "<table border=\"1\" class=\"dataframe\">\n",
       "  <thead>\n",
       "    <tr style=\"text-align: right;\">\n",
       "      <th><\/th>\n",
       "      <th>Pregnancies<\/th>\n",
       "      <th>Glucose<\/th>\n",
       "      <th>BloodPressure<\/th>\n",
       "      <th>SkinThickness<\/th>\n",
       "      <th>Insulin<\/th>\n",
       "      <th>BMI<\/th>\n",
       "      <th>DiabetesPedigreeFunction<\/th>\n",
       "      <th>Age<\/th>\n",
       "      <th>Outcome<\/th>\n",
       "    <\/tr>\n",
       "  <\/thead>\n",
       "  <tbody>\n",
       "    <tr>\n",
       "      <th>0<\/th>\n",
       "      <td>6.0<\/td>\n",
       "      <td>148.0<\/td>\n",
       "      <td>72.0<\/td>\n",
       "      <td>35.00000<\/td>\n",
       "      <td>155.548223<\/td>\n",
       "      <td>33.6<\/td>\n",
       "      <td>0.627<\/td>\n",
       "      <td>50.0<\/td>\n",
       "      <td>1.0<\/td>\n",
       "    <\/tr>\n",
       "    <tr>\n",
       "      <th>1<\/th>\n",
       "      <td>1.0<\/td>\n",
       "      <td>85.0<\/td>\n",
       "      <td>66.0<\/td>\n",
       "      <td>29.00000<\/td>\n",
       "      <td>155.548223<\/td>\n",
       "      <td>26.6<\/td>\n",
       "      <td>0.351<\/td>\n",
       "      <td>31.0<\/td>\n",
       "      <td>0.0<\/td>\n",
       "    <\/tr>\n",
       "    <tr>\n",
       "      <th>2<\/th>\n",
       "      <td>8.0<\/td>\n",
       "      <td>183.0<\/td>\n",
       "      <td>64.0<\/td>\n",
       "      <td>29.15342<\/td>\n",
       "      <td>155.548223<\/td>\n",
       "      <td>23.3<\/td>\n",
       "      <td>0.672<\/td>\n",
       "      <td>32.0<\/td>\n",
       "      <td>1.0<\/td>\n",
       "    <\/tr>\n",
       "    <tr>\n",
       "      <th>3<\/th>\n",
       "      <td>1.0<\/td>\n",
       "      <td>89.0<\/td>\n",
       "      <td>66.0<\/td>\n",
       "      <td>23.00000<\/td>\n",
       "      <td>94.000000<\/td>\n",
       "      <td>28.1<\/td>\n",
       "      <td>0.167<\/td>\n",
       "      <td>21.0<\/td>\n",
       "      <td>0.0<\/td>\n",
       "    <\/tr>\n",
       "    <tr>\n",
       "      <th>4<\/th>\n",
       "      <td>0.0<\/td>\n",
       "      <td>137.0<\/td>\n",
       "      <td>40.0<\/td>\n",
       "      <td>35.00000<\/td>\n",
       "      <td>168.000000<\/td>\n",
       "      <td>43.1<\/td>\n",
       "      <td>2.288<\/td>\n",
       "      <td>33.0<\/td>\n",
       "      <td>1.0<\/td>\n",
       "    <\/tr>\n",
       "    <tr>\n",
       "      <th>...<\/th>\n",
       "      <td>...<\/td>\n",
       "      <td>...<\/td>\n",
       "      <td>...<\/td>\n",
       "      <td>...<\/td>\n",
       "      <td>...<\/td>\n",
       "      <td>...<\/td>\n",
       "      <td>...<\/td>\n",
       "      <td>...<\/td>\n",
       "      <td>...<\/td>\n",
       "    <\/tr>\n",
       "    <tr>\n",
       "      <th>763<\/th>\n",
       "      <td>10.0<\/td>\n",
       "      <td>101.0<\/td>\n",
       "      <td>76.0<\/td>\n",
       "      <td>48.00000<\/td>\n",
       "      <td>180.000000<\/td>\n",
       "      <td>32.9<\/td>\n",
       "      <td>0.171<\/td>\n",
       "      <td>63.0<\/td>\n",
       "      <td>0.0<\/td>\n",
       "    <\/tr>\n",
       "    <tr>\n",
       "      <th>764<\/th>\n",
       "      <td>2.0<\/td>\n",
       "      <td>122.0<\/td>\n",
       "      <td>70.0<\/td>\n",
       "      <td>27.00000<\/td>\n",
       "      <td>155.548223<\/td>\n",
       "      <td>36.8<\/td>\n",
       "      <td>0.340<\/td>\n",
       "      <td>27.0<\/td>\n",
       "      <td>0.0<\/td>\n",
       "    <\/tr>\n",
       "    <tr>\n",
       "      <th>765<\/th>\n",
       "      <td>5.0<\/td>\n",
       "      <td>121.0<\/td>\n",
       "      <td>72.0<\/td>\n",
       "      <td>23.00000<\/td>\n",
       "      <td>112.000000<\/td>\n",
       "      <td>26.2<\/td>\n",
       "      <td>0.245<\/td>\n",
       "      <td>30.0<\/td>\n",
       "      <td>0.0<\/td>\n",
       "    <\/tr>\n",
       "    <tr>\n",
       "      <th>766<\/th>\n",
       "      <td>1.0<\/td>\n",
       "      <td>126.0<\/td>\n",
       "      <td>60.0<\/td>\n",
       "      <td>29.15342<\/td>\n",
       "      <td>155.548223<\/td>\n",
       "      <td>30.1<\/td>\n",
       "      <td>0.349<\/td>\n",
       "      <td>47.0<\/td>\n",
       "      <td>1.0<\/td>\n",
       "    <\/tr>\n",
       "    <tr>\n",
       "      <th>767<\/th>\n",
       "      <td>1.0<\/td>\n",
       "      <td>93.0<\/td>\n",
       "      <td>70.0<\/td>\n",
       "      <td>31.00000<\/td>\n",
       "      <td>155.548223<\/td>\n",
       "      <td>30.4<\/td>\n",
       "      <td>0.315<\/td>\n",
       "      <td>23.0<\/td>\n",
       "      <td>0.0<\/td>\n",
       "    <\/tr>\n",
       "  <\/tbody>\n",
       "<\/table>\n",
       "<p>768 rows × 9 columns<\/p>\n",
       "<\/div>"
      ]
     },
     "metadata":{},
     "output_type":"display_data"
    }
   ],
   "metadata":{
    "datalore":{
     "node_id":"0y8x5IED5DGLiFoZesbRqr",
     "type":"CODE",
     "hide_input_from_viewers":false,
     "hide_output_from_viewers":false,
     "report_properties":{
      "rowId":"cJ8mrR3PqcklI6w43oIh9j"
     }
    }
   }
  },
  {
   "cell_type":"code",
   "source":[
    "from sklearn.impute import KNNImputer\n",
    "\n",
    "# Charger les données dans le DataFrame df\n",
    "\n",
    "# Créer une instance de l'imputateur KNN avec le nombre de voisins à considérer (k)\n",
    "knn_imputer = KNNImputer(n_neighbors=5)  # Vous pouvez changer le nombre de voisins selon vos besoins\n",
    "\n",
    "# Imputer les valeurs manquantes en utilisant l'imputation KNN\n",
    "df_imputed_knn = knn_imputer.fit_transform(df)\n",
    "\n",
    "# Transformer le résultat en DataFrame avec les noms de colonnes d'origine\n",
    "df_imputed_knn = pd.DataFrame(df_imputed_knn, columns=df.columns)\n",
    "\n",
    "# Afficher le DataFrame avec les valeurs imputées\n",
    "df_imputed_knn"
   ],
   "execution_count":294,
   "outputs":[
    {
     "data":{
      "text\/html":[
       "<div>\n",
       "<style scoped>\n",
       "    .dataframe tbody tr th:only-of-type {\n",
       "        vertical-align: middle;\n",
       "    }\n",
       "\n",
       "    .dataframe tbody tr th {\n",
       "        vertical-align: top;\n",
       "    }\n",
       "\n",
       "    .dataframe thead th {\n",
       "        text-align: right;\n",
       "    }\n",
       "<\/style>\n",
       "<table border=\"1\" class=\"dataframe\">\n",
       "  <thead>\n",
       "    <tr style=\"text-align: right;\">\n",
       "      <th><\/th>\n",
       "      <th>Pregnancies<\/th>\n",
       "      <th>Glucose<\/th>\n",
       "      <th>BloodPressure<\/th>\n",
       "      <th>SkinThickness<\/th>\n",
       "      <th>Insulin<\/th>\n",
       "      <th>BMI<\/th>\n",
       "      <th>DiabetesPedigreeFunction<\/th>\n",
       "      <th>Age<\/th>\n",
       "      <th>Outcome<\/th>\n",
       "    <\/tr>\n",
       "  <\/thead>\n",
       "  <tbody>\n",
       "    <tr>\n",
       "      <th>0<\/th>\n",
       "      <td>6.0<\/td>\n",
       "      <td>148.0<\/td>\n",
       "      <td>72.0<\/td>\n",
       "      <td>35.00000<\/td>\n",
       "      <td>155.548223<\/td>\n",
       "      <td>33.6<\/td>\n",
       "      <td>0.627<\/td>\n",
       "      <td>50.0<\/td>\n",
       "      <td>1.0<\/td>\n",
       "    <\/tr>\n",
       "    <tr>\n",
       "      <th>1<\/th>\n",
       "      <td>1.0<\/td>\n",
       "      <td>85.0<\/td>\n",
       "      <td>66.0<\/td>\n",
       "      <td>29.00000<\/td>\n",
       "      <td>155.548223<\/td>\n",
       "      <td>26.6<\/td>\n",
       "      <td>0.351<\/td>\n",
       "      <td>31.0<\/td>\n",
       "      <td>0.0<\/td>\n",
       "    <\/tr>\n",
       "    <tr>\n",
       "      <th>2<\/th>\n",
       "      <td>8.0<\/td>\n",
       "      <td>183.0<\/td>\n",
       "      <td>64.0<\/td>\n",
       "      <td>29.15342<\/td>\n",
       "      <td>155.548223<\/td>\n",
       "      <td>23.3<\/td>\n",
       "      <td>0.672<\/td>\n",
       "      <td>32.0<\/td>\n",
       "      <td>1.0<\/td>\n",
       "    <\/tr>\n",
       "    <tr>\n",
       "      <th>3<\/th>\n",
       "      <td>1.0<\/td>\n",
       "      <td>89.0<\/td>\n",
       "      <td>66.0<\/td>\n",
       "      <td>23.00000<\/td>\n",
       "      <td>94.000000<\/td>\n",
       "      <td>28.1<\/td>\n",
       "      <td>0.167<\/td>\n",
       "      <td>21.0<\/td>\n",
       "      <td>0.0<\/td>\n",
       "    <\/tr>\n",
       "    <tr>\n",
       "      <th>4<\/th>\n",
       "      <td>0.0<\/td>\n",
       "      <td>137.0<\/td>\n",
       "      <td>40.0<\/td>\n",
       "      <td>35.00000<\/td>\n",
       "      <td>168.000000<\/td>\n",
       "      <td>43.1<\/td>\n",
       "      <td>2.288<\/td>\n",
       "      <td>33.0<\/td>\n",
       "      <td>1.0<\/td>\n",
       "    <\/tr>\n",
       "    <tr>\n",
       "      <th>...<\/th>\n",
       "      <td>...<\/td>\n",
       "      <td>...<\/td>\n",
       "      <td>...<\/td>\n",
       "      <td>...<\/td>\n",
       "      <td>...<\/td>\n",
       "      <td>...<\/td>\n",
       "      <td>...<\/td>\n",
       "      <td>...<\/td>\n",
       "      <td>...<\/td>\n",
       "    <\/tr>\n",
       "    <tr>\n",
       "      <th>763<\/th>\n",
       "      <td>10.0<\/td>\n",
       "      <td>101.0<\/td>\n",
       "      <td>76.0<\/td>\n",
       "      <td>48.00000<\/td>\n",
       "      <td>180.000000<\/td>\n",
       "      <td>32.9<\/td>\n",
       "      <td>0.171<\/td>\n",
       "      <td>63.0<\/td>\n",
       "      <td>0.0<\/td>\n",
       "    <\/tr>\n",
       "    <tr>\n",
       "      <th>764<\/th>\n",
       "      <td>2.0<\/td>\n",
       "      <td>122.0<\/td>\n",
       "      <td>70.0<\/td>\n",
       "      <td>27.00000<\/td>\n",
       "      <td>155.548223<\/td>\n",
       "      <td>36.8<\/td>\n",
       "      <td>0.340<\/td>\n",
       "      <td>27.0<\/td>\n",
       "      <td>0.0<\/td>\n",
       "    <\/tr>\n",
       "    <tr>\n",
       "      <th>765<\/th>\n",
       "      <td>5.0<\/td>\n",
       "      <td>121.0<\/td>\n",
       "      <td>72.0<\/td>\n",
       "      <td>23.00000<\/td>\n",
       "      <td>112.000000<\/td>\n",
       "      <td>26.2<\/td>\n",
       "      <td>0.245<\/td>\n",
       "      <td>30.0<\/td>\n",
       "      <td>0.0<\/td>\n",
       "    <\/tr>\n",
       "    <tr>\n",
       "      <th>766<\/th>\n",
       "      <td>1.0<\/td>\n",
       "      <td>126.0<\/td>\n",
       "      <td>60.0<\/td>\n",
       "      <td>29.15342<\/td>\n",
       "      <td>155.548223<\/td>\n",
       "      <td>30.1<\/td>\n",
       "      <td>0.349<\/td>\n",
       "      <td>47.0<\/td>\n",
       "      <td>1.0<\/td>\n",
       "    <\/tr>\n",
       "    <tr>\n",
       "      <th>767<\/th>\n",
       "      <td>1.0<\/td>\n",
       "      <td>93.0<\/td>\n",
       "      <td>70.0<\/td>\n",
       "      <td>31.00000<\/td>\n",
       "      <td>155.548223<\/td>\n",
       "      <td>30.4<\/td>\n",
       "      <td>0.315<\/td>\n",
       "      <td>23.0<\/td>\n",
       "      <td>0.0<\/td>\n",
       "    <\/tr>\n",
       "  <\/tbody>\n",
       "<\/table>\n",
       "<p>768 rows × 9 columns<\/p>\n",
       "<\/div>"
      ]
     },
     "metadata":{},
     "output_type":"display_data"
    }
   ],
   "metadata":{
    "datalore":{
     "node_id":"ShOvHrL03WzpQnznb2jOjs",
     "type":"CODE",
     "hide_input_from_viewers":true,
     "hide_output_from_viewers":true
    }
   }
  },
  {
   "cell_type":"code",
   "source":[],
   "execution_count":null,
   "outputs":[],
   "metadata":{
    "datalore":{
     "node_id":"liClVXPCzWyxJPOBOvMqUc",
     "type":"CODE",
     "hide_input_from_viewers":true,
     "hide_output_from_viewers":true
    }
   }
  },
  {
   "cell_type":"markdown",
   "source":[
    "*[Your comments here]*"
   ],
   "attachments":{},
   "metadata":{
    "datalore":{
     "node_id":"bEXgjePO2jVzUfDyVfq9ik",
     "type":"MD",
     "hide_input_from_viewers":false,
     "hide_output_from_viewers":false,
     "report_properties":{
      "rowId":"ZWpscNe58mxIwRbMLCiXJF"
     }
    }
   }
  },
  {
   "cell_type":"markdown",
   "source":[
    "#### Mixing and matching\n",
    "\n",
    "You are not obligated to use the same pre-processing for every column. In the cell below, try combining different methods in order to get the best classification possible."
   ],
   "attachments":{},
   "metadata":{
    "datalore":{
     "node_id":"wCaMGqUcuVoP5sd0BsO7kA",
     "type":"MD",
     "hide_input_from_viewers":false,
     "hide_output_from_viewers":false,
     "report_properties":{
      "rowId":"bsB0SmFhQR1y91S4b4FzOT"
     }
    }
   }
  },
  {
   "cell_type":"code",
   "source":[
    "from sklearn.experimental import enable_iterative_imputer\n",
    "from sklearn.impute import IterativeImputer\n",
    "from sklearn.ensemble import RandomForestRegressor\n",
    "\n",
    "# Utilisation d'IterativeImputer pour remplacer les NaN\n",
    "imputer = IterativeImputer(estimator=RandomForestRegressor(), random_state=42)\n",
    "imputed_data = imputer.fit_transform(df)\n",
    "\n",
    "# Crée un nouveau DataFrame avec les valeurs imputées\n",
    "df_imputed = pd.DataFrame(imputed_data, columns=df.columns)\n",
    "\n",
    "df_imputed"
   ],
   "execution_count":295,
   "outputs":[
    {
     "data":{
      "text\/html":[
       "<div>\n",
       "<style scoped>\n",
       "    .dataframe tbody tr th:only-of-type {\n",
       "        vertical-align: middle;\n",
       "    }\n",
       "\n",
       "    .dataframe tbody tr th {\n",
       "        vertical-align: top;\n",
       "    }\n",
       "\n",
       "    .dataframe thead th {\n",
       "        text-align: right;\n",
       "    }\n",
       "<\/style>\n",
       "<table border=\"1\" class=\"dataframe\">\n",
       "  <thead>\n",
       "    <tr style=\"text-align: right;\">\n",
       "      <th><\/th>\n",
       "      <th>Pregnancies<\/th>\n",
       "      <th>Glucose<\/th>\n",
       "      <th>BloodPressure<\/th>\n",
       "      <th>SkinThickness<\/th>\n",
       "      <th>Insulin<\/th>\n",
       "      <th>BMI<\/th>\n",
       "      <th>DiabetesPedigreeFunction<\/th>\n",
       "      <th>Age<\/th>\n",
       "      <th>Outcome<\/th>\n",
       "    <\/tr>\n",
       "  <\/thead>\n",
       "  <tbody>\n",
       "    <tr>\n",
       "      <th>0<\/th>\n",
       "      <td>6.0<\/td>\n",
       "      <td>148.0<\/td>\n",
       "      <td>72.0<\/td>\n",
       "      <td>35.00000<\/td>\n",
       "      <td>155.548223<\/td>\n",
       "      <td>33.6<\/td>\n",
       "      <td>0.627<\/td>\n",
       "      <td>50.0<\/td>\n",
       "      <td>1.0<\/td>\n",
       "    <\/tr>\n",
       "    <tr>\n",
       "      <th>1<\/th>\n",
       "      <td>1.0<\/td>\n",
       "      <td>85.0<\/td>\n",
       "      <td>66.0<\/td>\n",
       "      <td>29.00000<\/td>\n",
       "      <td>155.548223<\/td>\n",
       "      <td>26.6<\/td>\n",
       "      <td>0.351<\/td>\n",
       "      <td>31.0<\/td>\n",
       "      <td>0.0<\/td>\n",
       "    <\/tr>\n",
       "    <tr>\n",
       "      <th>2<\/th>\n",
       "      <td>8.0<\/td>\n",
       "      <td>183.0<\/td>\n",
       "      <td>64.0<\/td>\n",
       "      <td>29.15342<\/td>\n",
       "      <td>155.548223<\/td>\n",
       "      <td>23.3<\/td>\n",
       "      <td>0.672<\/td>\n",
       "      <td>32.0<\/td>\n",
       "      <td>1.0<\/td>\n",
       "    <\/tr>\n",
       "    <tr>\n",
       "      <th>3<\/th>\n",
       "      <td>1.0<\/td>\n",
       "      <td>89.0<\/td>\n",
       "      <td>66.0<\/td>\n",
       "      <td>23.00000<\/td>\n",
       "      <td>94.000000<\/td>\n",
       "      <td>28.1<\/td>\n",
       "      <td>0.167<\/td>\n",
       "      <td>21.0<\/td>\n",
       "      <td>0.0<\/td>\n",
       "    <\/tr>\n",
       "    <tr>\n",
       "      <th>4<\/th>\n",
       "      <td>0.0<\/td>\n",
       "      <td>137.0<\/td>\n",
       "      <td>40.0<\/td>\n",
       "      <td>35.00000<\/td>\n",
       "      <td>168.000000<\/td>\n",
       "      <td>43.1<\/td>\n",
       "      <td>2.288<\/td>\n",
       "      <td>33.0<\/td>\n",
       "      <td>1.0<\/td>\n",
       "    <\/tr>\n",
       "    <tr>\n",
       "      <th>...<\/th>\n",
       "      <td>...<\/td>\n",
       "      <td>...<\/td>\n",
       "      <td>...<\/td>\n",
       "      <td>...<\/td>\n",
       "      <td>...<\/td>\n",
       "      <td>...<\/td>\n",
       "      <td>...<\/td>\n",
       "      <td>...<\/td>\n",
       "      <td>...<\/td>\n",
       "    <\/tr>\n",
       "    <tr>\n",
       "      <th>763<\/th>\n",
       "      <td>10.0<\/td>\n",
       "      <td>101.0<\/td>\n",
       "      <td>76.0<\/td>\n",
       "      <td>48.00000<\/td>\n",
       "      <td>180.000000<\/td>\n",
       "      <td>32.9<\/td>\n",
       "      <td>0.171<\/td>\n",
       "      <td>63.0<\/td>\n",
       "      <td>0.0<\/td>\n",
       "    <\/tr>\n",
       "    <tr>\n",
       "      <th>764<\/th>\n",
       "      <td>2.0<\/td>\n",
       "      <td>122.0<\/td>\n",
       "      <td>70.0<\/td>\n",
       "      <td>27.00000<\/td>\n",
       "      <td>155.548223<\/td>\n",
       "      <td>36.8<\/td>\n",
       "      <td>0.340<\/td>\n",
       "      <td>27.0<\/td>\n",
       "      <td>0.0<\/td>\n",
       "    <\/tr>\n",
       "    <tr>\n",
       "      <th>765<\/th>\n",
       "      <td>5.0<\/td>\n",
       "      <td>121.0<\/td>\n",
       "      <td>72.0<\/td>\n",
       "      <td>23.00000<\/td>\n",
       "      <td>112.000000<\/td>\n",
       "      <td>26.2<\/td>\n",
       "      <td>0.245<\/td>\n",
       "      <td>30.0<\/td>\n",
       "      <td>0.0<\/td>\n",
       "    <\/tr>\n",
       "    <tr>\n",
       "      <th>766<\/th>\n",
       "      <td>1.0<\/td>\n",
       "      <td>126.0<\/td>\n",
       "      <td>60.0<\/td>\n",
       "      <td>29.15342<\/td>\n",
       "      <td>155.548223<\/td>\n",
       "      <td>30.1<\/td>\n",
       "      <td>0.349<\/td>\n",
       "      <td>47.0<\/td>\n",
       "      <td>1.0<\/td>\n",
       "    <\/tr>\n",
       "    <tr>\n",
       "      <th>767<\/th>\n",
       "      <td>1.0<\/td>\n",
       "      <td>93.0<\/td>\n",
       "      <td>70.0<\/td>\n",
       "      <td>31.00000<\/td>\n",
       "      <td>155.548223<\/td>\n",
       "      <td>30.4<\/td>\n",
       "      <td>0.315<\/td>\n",
       "      <td>23.0<\/td>\n",
       "      <td>0.0<\/td>\n",
       "    <\/tr>\n",
       "  <\/tbody>\n",
       "<\/table>\n",
       "<p>768 rows × 9 columns<\/p>\n",
       "<\/div>"
      ]
     },
     "metadata":{},
     "output_type":"display_data"
    }
   ],
   "metadata":{
    "datalore":{
     "node_id":"aaX8fF7s66YEHrMSveaD4F",
     "type":"CODE",
     "hide_input_from_viewers":false,
     "hide_output_from_viewers":false,
     "report_properties":{
      "rowId":"22kwFmJvk8ea95ddqq24pQ"
     }
    }
   }
  },
  {
   "cell_type":"markdown",
   "source":[
    "*[Your comments here]*"
   ],
   "attachments":{},
   "metadata":{
    "datalore":{
     "node_id":"GF2pc1BfOXB5bcChxIqWmV",
     "type":"MD",
     "hide_input_from_viewers":false,
     "hide_output_from_viewers":false,
     "report_properties":{
      "rowId":"mep6W5CfJELCoojUIWceVL"
     }
    }
   }
  }
 ],
 "metadata":{
  "kernelspec":{
   "display_name":"Python",
   "language":"python",
   "name":"python"
  },
  "datalore":{
   "computation_mode":"JUPYTER",
   "package_manager":"pip",
   "base_environment":"default",
   "packages":[],
   "report_row_ids":[
    "hZwuS4m2VndwGL68q6peb0",
    "s5eDehXNDNGx8o52prltoq",
    "UHEmy3B1s7lZGvcoga5Vq3",
    "m39jcue2YWuUu3F9o9RhdF",
    "6X3PCxaCqFI24iGjQEQ0Il",
    "q8oMJj4ZtrEePPpexYGI4K",
    "eclT6rhIRLR0UJw8AxhOY1",
    "o98eJXesVejEJzJyAlllBH",
    "Mokzv6jgbZZefXaEbxlgxi",
    "mPK68pNgkOIyxneaMBQrkG",
    "zfrBhATmw2L02PplWpIxZj",
    "LTn1OBdA2ulKoddh8AbthD",
    "x9dXoGeDlE28sENu29nklF",
    "hRlJMYnjwYEN6EpC2ccd8b",
    "bzHAzWghYTxPLGLS8HU3JN",
    "vS1sYLD9d4P0ePVFAookud",
    "86wgCi8HuP3njaruSfuBPj",
    "beIAQppGwEf0hi9V6aowra",
    "KhTBi7OSDxFJmNEmYTD7hG",
    "ZGuxfpRHbVDLMzRJE9g5wE",
    "OvaZQ1wR6POwvoSvXB11Bi",
    "Qje5uNPjdVLsxgq9kCGTk9",
    "MmIs7mEfaOTaaxgMTqgy9D",
    "3xAfh0eySb6ci7CwYxFWqw",
    "goS34PeaBjE9z3KLIUc1fR",
    "zJlcShpi0x77LQuHHZsTi9",
    "gvxXNB9iCI8XZE9LXB019C",
    "zJjf7Usr09uXObM40Fyv5q",
    "VedReHr4v4ohhS1WuYh7lF",
    "9hg53OQuhvs2LNSrzgFLsO",
    "f7uKyWA6wvhE5BCZfW6Dzv",
    "rpcv8EGhiPizbNcsNMnkuQ",
    "Ni4emoEEYeQnYmxfry4gVD",
    "CgPOdtHpJD8vwfzKf82YxO",
    "jAH6V7whwPgCpinh58R8Kx",
    "8Cs53RHJtthELWAiytD9LR",
    "HFCv17P3pMVWvb6mbooyBJ",
    "Y8QuFiHeAkeNwa0ZhDWYX0",
    "cJ8mrR3PqcklI6w43oIh9j",
    "ZWpscNe58mxIwRbMLCiXJF",
    "bsB0SmFhQR1y91S4b4FzOT",
    "22kwFmJvk8ea95ddqq24pQ",
    "mep6W5CfJELCoojUIWceVL"
   ],
   "version":3
  }
 },
 "nbformat":4,
 "nbformat_minor":4
}