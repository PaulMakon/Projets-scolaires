{
 "cells":[
  {
   "cell_type":"markdown",
   "source":[
    "# Supervised classification"
   ],
   "attachments":{},
   "metadata":{
    "datalore":{
     "node_id":"GVo10nb36uDS9vJ9EhxcZ4",
     "type":"MD",
     "hide_input_from_viewers":false,
     "hide_output_from_viewers":false,
     "report_properties":{
      "rowId":"JoHk2C319pxhiBaGkNQMDg"
     }
    }
   }
  },
  {
   "cell_type":"markdown",
   "source":[
    "## Setup\n",
    "### Imports"
   ],
   "attachments":{},
   "metadata":{
    "datalore":{
     "node_id":"XRS0rFPXUlRgtEHlNxcpID",
     "type":"MD",
     "hide_input_from_viewers":false,
     "hide_output_from_viewers":false,
     "report_properties":{
      "rowId":"UcaZxTvte2AQBKxsfYBVTL"
     }
    }
   }
  },
  {
   "cell_type":"code",
   "source":[
    "import pandas as pd                                     # for dataset manipulation (DataFrames)\n",
    "import numpy as np                                      # allows some mathematical operations\n",
    "import matplotlib.pyplot as plt                         # library used to display graphs\n",
    "import seaborn as sns                                   # more convenient visualisation library for dataframes\n",
    "import time                                             # for execution time measurement\n",
    "from sklearn.model_selection import train_test_split, cross_val_score, ShuffleSplit, cross_val_predict\n",
    "from sklearn.datasets import load_breast_cancer\n",
    "from sklearn import metrics"
   ],
   "execution_count":1,
   "outputs":[],
   "metadata":{
    "datalore":{
     "node_id":"TbLv57fkMm1TbExf2jVxHh",
     "type":"CODE",
     "hide_input_from_viewers":false,
     "hide_output_from_viewers":false,
     "report_properties":{
      "rowId":"PvEHx5cM4msrC9cCg1cW9N"
     }
    }
   }
  },
  {
   "cell_type":"markdown",
   "source":[
    "### Loading the dataset\n",
    "\n",
    "Today's dataset is the [Breast cancer Wisconsin dataset](https:\/\/scikit-learn.org\/stable\/datasets\/toy_dataset.html#breast-cancer-wisconsin-diagnostic-dataset)."
   ],
   "attachments":{},
   "metadata":{
    "datalore":{
     "node_id":"roC8fhRxYVMNP9BazhamMZ",
     "type":"MD",
     "hide_input_from_viewers":false,
     "hide_output_from_viewers":false,
     "report_properties":{
      "rowId":"88aGZKjbW2yebOUDzoYtf1"
     }
    }
   }
  },
  {
   "cell_type":"code",
   "source":[
    "breast_cancer_dataset = load_breast_cancer()\n",
    "df = pd.DataFrame(np.c_[breast_cancer_dataset['data'], breast_cancer_dataset['target']],\n",
    "                  columns= np.append(breast_cancer_dataset['feature_names'], ['target']))\n",
    "# je charge mon tableau numpy puis conversion en df en prenant les colonnes et concaténation"
   ],
   "execution_count":2,
   "outputs":[],
   "metadata":{
    "datalore":{
     "node_id":"LT7askPVkCQDzzBDo777dR",
     "type":"CODE",
     "hide_input_from_viewers":false,
     "hide_output_from_viewers":false,
     "report_properties":{
      "rowId":"fTZ8YWjegGDKILAMu1D44H"
     }
    }
   }
  },
  {
   "cell_type":"markdown",
   "source":[
    "## Observing the dataset"
   ],
   "attachments":{},
   "metadata":{
    "datalore":{
     "node_id":"VhvP6VsmxzButdDGtKctr5",
     "type":"MD",
     "hide_input_from_viewers":false,
     "hide_output_from_viewers":false,
     "report_properties":{
      "rowId":"HWQmszIy97KJ1RhraFUAj8"
     }
    }
   }
  },
  {
   "cell_type":"markdown",
   "source":[
    "Using what you have learned in the previous lessons, examine the dataset and see what you can learn about it. In the cells underneath, write any information that seems relevant to you. Focus in particular on the understanding of what the dataset and its columns contain."
   ],
   "attachments":{},
   "metadata":{
    "datalore":{
     "node_id":"Br0fRmNF168hoevpFnJssQ",
     "type":"MD",
     "hide_input_from_viewers":false,
     "hide_output_from_viewers":false,
     "report_properties":{
      "rowId":"JuCjblwngnvBdfqezYhilA"
     }
    }
   }
  },
  {
   "cell_type":"code",
   "source":[
    "df"
   ],
   "execution_count":3,
   "outputs":[
    {
     "data":{
      "text\/html":[
       "<div>\n",
       "<style scoped>\n",
       "    .dataframe tbody tr th:only-of-type {\n",
       "        vertical-align: middle;\n",
       "    }\n",
       "\n",
       "    .dataframe tbody tr th {\n",
       "        vertical-align: top;\n",
       "    }\n",
       "\n",
       "    .dataframe thead th {\n",
       "        text-align: right;\n",
       "    }\n",
       "<\/style>\n",
       "<table border=\"1\" class=\"dataframe\">\n",
       "  <thead>\n",
       "    <tr style=\"text-align: right;\">\n",
       "      <th><\/th>\n",
       "      <th>mean radius<\/th>\n",
       "      <th>mean texture<\/th>\n",
       "      <th>mean perimeter<\/th>\n",
       "      <th>mean area<\/th>\n",
       "      <th>mean smoothness<\/th>\n",
       "      <th>mean compactness<\/th>\n",
       "      <th>mean concavity<\/th>\n",
       "      <th>mean concave points<\/th>\n",
       "      <th>mean symmetry<\/th>\n",
       "      <th>mean fractal dimension<\/th>\n",
       "      <th>...<\/th>\n",
       "      <th>worst texture<\/th>\n",
       "      <th>worst perimeter<\/th>\n",
       "      <th>worst area<\/th>\n",
       "      <th>worst smoothness<\/th>\n",
       "      <th>worst compactness<\/th>\n",
       "      <th>worst concavity<\/th>\n",
       "      <th>worst concave points<\/th>\n",
       "      <th>worst symmetry<\/th>\n",
       "      <th>worst fractal dimension<\/th>\n",
       "      <th>target<\/th>\n",
       "    <\/tr>\n",
       "  <\/thead>\n",
       "  <tbody>\n",
       "    <tr>\n",
       "      <th>0<\/th>\n",
       "      <td>17.99<\/td>\n",
       "      <td>10.38<\/td>\n",
       "      <td>122.80<\/td>\n",
       "      <td>1001.0<\/td>\n",
       "      <td>0.11840<\/td>\n",
       "      <td>0.27760<\/td>\n",
       "      <td>0.30010<\/td>\n",
       "      <td>0.14710<\/td>\n",
       "      <td>0.2419<\/td>\n",
       "      <td>0.07871<\/td>\n",
       "      <td>...<\/td>\n",
       "      <td>17.33<\/td>\n",
       "      <td>184.60<\/td>\n",
       "      <td>2019.0<\/td>\n",
       "      <td>0.16220<\/td>\n",
       "      <td>0.66560<\/td>\n",
       "      <td>0.7119<\/td>\n",
       "      <td>0.2654<\/td>\n",
       "      <td>0.4601<\/td>\n",
       "      <td>0.11890<\/td>\n",
       "      <td>0.0<\/td>\n",
       "    <\/tr>\n",
       "    <tr>\n",
       "      <th>1<\/th>\n",
       "      <td>20.57<\/td>\n",
       "      <td>17.77<\/td>\n",
       "      <td>132.90<\/td>\n",
       "      <td>1326.0<\/td>\n",
       "      <td>0.08474<\/td>\n",
       "      <td>0.07864<\/td>\n",
       "      <td>0.08690<\/td>\n",
       "      <td>0.07017<\/td>\n",
       "      <td>0.1812<\/td>\n",
       "      <td>0.05667<\/td>\n",
       "      <td>...<\/td>\n",
       "      <td>23.41<\/td>\n",
       "      <td>158.80<\/td>\n",
       "      <td>1956.0<\/td>\n",
       "      <td>0.12380<\/td>\n",
       "      <td>0.18660<\/td>\n",
       "      <td>0.2416<\/td>\n",
       "      <td>0.1860<\/td>\n",
       "      <td>0.2750<\/td>\n",
       "      <td>0.08902<\/td>\n",
       "      <td>0.0<\/td>\n",
       "    <\/tr>\n",
       "    <tr>\n",
       "      <th>2<\/th>\n",
       "      <td>19.69<\/td>\n",
       "      <td>21.25<\/td>\n",
       "      <td>130.00<\/td>\n",
       "      <td>1203.0<\/td>\n",
       "      <td>0.10960<\/td>\n",
       "      <td>0.15990<\/td>\n",
       "      <td>0.19740<\/td>\n",
       "      <td>0.12790<\/td>\n",
       "      <td>0.2069<\/td>\n",
       "      <td>0.05999<\/td>\n",
       "      <td>...<\/td>\n",
       "      <td>25.53<\/td>\n",
       "      <td>152.50<\/td>\n",
       "      <td>1709.0<\/td>\n",
       "      <td>0.14440<\/td>\n",
       "      <td>0.42450<\/td>\n",
       "      <td>0.4504<\/td>\n",
       "      <td>0.2430<\/td>\n",
       "      <td>0.3613<\/td>\n",
       "      <td>0.08758<\/td>\n",
       "      <td>0.0<\/td>\n",
       "    <\/tr>\n",
       "    <tr>\n",
       "      <th>3<\/th>\n",
       "      <td>11.42<\/td>\n",
       "      <td>20.38<\/td>\n",
       "      <td>77.58<\/td>\n",
       "      <td>386.1<\/td>\n",
       "      <td>0.14250<\/td>\n",
       "      <td>0.28390<\/td>\n",
       "      <td>0.24140<\/td>\n",
       "      <td>0.10520<\/td>\n",
       "      <td>0.2597<\/td>\n",
       "      <td>0.09744<\/td>\n",
       "      <td>...<\/td>\n",
       "      <td>26.50<\/td>\n",
       "      <td>98.87<\/td>\n",
       "      <td>567.7<\/td>\n",
       "      <td>0.20980<\/td>\n",
       "      <td>0.86630<\/td>\n",
       "      <td>0.6869<\/td>\n",
       "      <td>0.2575<\/td>\n",
       "      <td>0.6638<\/td>\n",
       "      <td>0.17300<\/td>\n",
       "      <td>0.0<\/td>\n",
       "    <\/tr>\n",
       "    <tr>\n",
       "      <th>4<\/th>\n",
       "      <td>20.29<\/td>\n",
       "      <td>14.34<\/td>\n",
       "      <td>135.10<\/td>\n",
       "      <td>1297.0<\/td>\n",
       "      <td>0.10030<\/td>\n",
       "      <td>0.13280<\/td>\n",
       "      <td>0.19800<\/td>\n",
       "      <td>0.10430<\/td>\n",
       "      <td>0.1809<\/td>\n",
       "      <td>0.05883<\/td>\n",
       "      <td>...<\/td>\n",
       "      <td>16.67<\/td>\n",
       "      <td>152.20<\/td>\n",
       "      <td>1575.0<\/td>\n",
       "      <td>0.13740<\/td>\n",
       "      <td>0.20500<\/td>\n",
       "      <td>0.4000<\/td>\n",
       "      <td>0.1625<\/td>\n",
       "      <td>0.2364<\/td>\n",
       "      <td>0.07678<\/td>\n",
       "      <td>0.0<\/td>\n",
       "    <\/tr>\n",
       "    <tr>\n",
       "      <th>...<\/th>\n",
       "      <td>...<\/td>\n",
       "      <td>...<\/td>\n",
       "      <td>...<\/td>\n",
       "      <td>...<\/td>\n",
       "      <td>...<\/td>\n",
       "      <td>...<\/td>\n",
       "      <td>...<\/td>\n",
       "      <td>...<\/td>\n",
       "      <td>...<\/td>\n",
       "      <td>...<\/td>\n",
       "      <td>...<\/td>\n",
       "      <td>...<\/td>\n",
       "      <td>...<\/td>\n",
       "      <td>...<\/td>\n",
       "      <td>...<\/td>\n",
       "      <td>...<\/td>\n",
       "      <td>...<\/td>\n",
       "      <td>...<\/td>\n",
       "      <td>...<\/td>\n",
       "      <td>...<\/td>\n",
       "      <td>...<\/td>\n",
       "    <\/tr>\n",
       "    <tr>\n",
       "      <th>564<\/th>\n",
       "      <td>21.56<\/td>\n",
       "      <td>22.39<\/td>\n",
       "      <td>142.00<\/td>\n",
       "      <td>1479.0<\/td>\n",
       "      <td>0.11100<\/td>\n",
       "      <td>0.11590<\/td>\n",
       "      <td>0.24390<\/td>\n",
       "      <td>0.13890<\/td>\n",
       "      <td>0.1726<\/td>\n",
       "      <td>0.05623<\/td>\n",
       "      <td>...<\/td>\n",
       "      <td>26.40<\/td>\n",
       "      <td>166.10<\/td>\n",
       "      <td>2027.0<\/td>\n",
       "      <td>0.14100<\/td>\n",
       "      <td>0.21130<\/td>\n",
       "      <td>0.4107<\/td>\n",
       "      <td>0.2216<\/td>\n",
       "      <td>0.2060<\/td>\n",
       "      <td>0.07115<\/td>\n",
       "      <td>0.0<\/td>\n",
       "    <\/tr>\n",
       "    <tr>\n",
       "      <th>565<\/th>\n",
       "      <td>20.13<\/td>\n",
       "      <td>28.25<\/td>\n",
       "      <td>131.20<\/td>\n",
       "      <td>1261.0<\/td>\n",
       "      <td>0.09780<\/td>\n",
       "      <td>0.10340<\/td>\n",
       "      <td>0.14400<\/td>\n",
       "      <td>0.09791<\/td>\n",
       "      <td>0.1752<\/td>\n",
       "      <td>0.05533<\/td>\n",
       "      <td>...<\/td>\n",
       "      <td>38.25<\/td>\n",
       "      <td>155.00<\/td>\n",
       "      <td>1731.0<\/td>\n",
       "      <td>0.11660<\/td>\n",
       "      <td>0.19220<\/td>\n",
       "      <td>0.3215<\/td>\n",
       "      <td>0.1628<\/td>\n",
       "      <td>0.2572<\/td>\n",
       "      <td>0.06637<\/td>\n",
       "      <td>0.0<\/td>\n",
       "    <\/tr>\n",
       "    <tr>\n",
       "      <th>566<\/th>\n",
       "      <td>16.60<\/td>\n",
       "      <td>28.08<\/td>\n",
       "      <td>108.30<\/td>\n",
       "      <td>858.1<\/td>\n",
       "      <td>0.08455<\/td>\n",
       "      <td>0.10230<\/td>\n",
       "      <td>0.09251<\/td>\n",
       "      <td>0.05302<\/td>\n",
       "      <td>0.1590<\/td>\n",
       "      <td>0.05648<\/td>\n",
       "      <td>...<\/td>\n",
       "      <td>34.12<\/td>\n",
       "      <td>126.70<\/td>\n",
       "      <td>1124.0<\/td>\n",
       "      <td>0.11390<\/td>\n",
       "      <td>0.30940<\/td>\n",
       "      <td>0.3403<\/td>\n",
       "      <td>0.1418<\/td>\n",
       "      <td>0.2218<\/td>\n",
       "      <td>0.07820<\/td>\n",
       "      <td>0.0<\/td>\n",
       "    <\/tr>\n",
       "    <tr>\n",
       "      <th>567<\/th>\n",
       "      <td>20.60<\/td>\n",
       "      <td>29.33<\/td>\n",
       "      <td>140.10<\/td>\n",
       "      <td>1265.0<\/td>\n",
       "      <td>0.11780<\/td>\n",
       "      <td>0.27700<\/td>\n",
       "      <td>0.35140<\/td>\n",
       "      <td>0.15200<\/td>\n",
       "      <td>0.2397<\/td>\n",
       "      <td>0.07016<\/td>\n",
       "      <td>...<\/td>\n",
       "      <td>39.42<\/td>\n",
       "      <td>184.60<\/td>\n",
       "      <td>1821.0<\/td>\n",
       "      <td>0.16500<\/td>\n",
       "      <td>0.86810<\/td>\n",
       "      <td>0.9387<\/td>\n",
       "      <td>0.2650<\/td>\n",
       "      <td>0.4087<\/td>\n",
       "      <td>0.12400<\/td>\n",
       "      <td>0.0<\/td>\n",
       "    <\/tr>\n",
       "    <tr>\n",
       "      <th>568<\/th>\n",
       "      <td>7.76<\/td>\n",
       "      <td>24.54<\/td>\n",
       "      <td>47.92<\/td>\n",
       "      <td>181.0<\/td>\n",
       "      <td>0.05263<\/td>\n",
       "      <td>0.04362<\/td>\n",
       "      <td>0.00000<\/td>\n",
       "      <td>0.00000<\/td>\n",
       "      <td>0.1587<\/td>\n",
       "      <td>0.05884<\/td>\n",
       "      <td>...<\/td>\n",
       "      <td>30.37<\/td>\n",
       "      <td>59.16<\/td>\n",
       "      <td>268.6<\/td>\n",
       "      <td>0.08996<\/td>\n",
       "      <td>0.06444<\/td>\n",
       "      <td>0.0000<\/td>\n",
       "      <td>0.0000<\/td>\n",
       "      <td>0.2871<\/td>\n",
       "      <td>0.07039<\/td>\n",
       "      <td>1.0<\/td>\n",
       "    <\/tr>\n",
       "  <\/tbody>\n",
       "<\/table>\n",
       "<p>569 rows × 31 columns<\/p>\n",
       "<\/div>"
      ]
     },
     "metadata":{},
     "output_type":"display_data"
    }
   ],
   "metadata":{
    "datalore":{
     "node_id":"QvgeExPUpAocDGVJLirA8E",
     "type":"CODE",
     "hide_input_from_viewers":false,
     "hide_output_from_viewers":false,
     "report_properties":{
      "rowId":"aBltzOrMTRxDSy0ZNPzYHb"
     }
    }
   }
  },
  {
   "cell_type":"code",
   "source":[
    "df.info()"
   ],
   "execution_count":null,
   "outputs":[
    {
     "name":"stdout",
     "text":[
      "<class 'pandas.core.frame.DataFrame'>\n",
      "RangeIndex: 569 entries, 0 to 568\n",
      "Data columns (total 31 columns):\n",
      " #   Column                   Non-Null Count  Dtype  \n",
      "---  ------                   --------------  -----  \n",
      " 0   mean radius              569 non-null    float64\n",
      " 1   mean texture             569 non-null    float64\n",
      " 2   mean perimeter           569 non-null    float64\n",
      " 3   mean area                569 non-null    float64\n",
      " 4   mean smoothness          569 non-null    float64\n",
      " 5   mean compactness         569 non-null    float64\n",
      " 6   mean concavity           569 non-null    float64\n",
      " 7   mean concave points      569 non-null    float64\n",
      " 8   mean symmetry            569 non-null    float64\n",
      " 9   mean fractal dimension   569 non-null    float64\n",
      " 10  radius error             569 non-null    float64\n",
      " 11  texture error            569 non-null    float64\n",
      " 12  perimeter error          569 non-null    float64\n",
      " 13  area error               569 non-null    float64\n",
      " 14  smoothness error         569 non-null    float64\n",
      " 15  compactness error        569 non-null    float64\n",
      " 16  concavity error          569 non-null    float64\n",
      " 17  concave points error     569 non-null    float64\n",
      " 18  symmetry error           569 non-null    float64\n",
      " 19  fractal dimension error  569 non-null    float64\n",
      " 20  worst radius             569 non-null    float64\n",
      " 21  worst texture            569 non-null    float64\n",
      " 22  worst perimeter          569 non-null    float64\n",
      " 23  worst area               569 non-null    float64\n",
      " 24  worst smoothness         569 non-null    float64\n",
      " 25  worst compactness        569 non-null    float64\n",
      " 26  worst concavity          569 non-null    float64\n",
      " 27  worst concave points     569 non-null    float64\n",
      " 28  worst symmetry           569 non-null    float64\n",
      " 29  worst fractal dimension  569 non-null    float64\n",
      " 30  target                   569 non-null    float64\n",
      "dtypes: float64(31)\n",
      "memory usage: 137.9 KB\n"
     ],
     "output_type":"stream"
    }
   ],
   "metadata":{
    "datalore":{
     "node_id":"rjky1vOLJ1Vj7fZN8n3AcE",
     "type":"CODE",
     "hide_input_from_viewers":true,
     "hide_output_from_viewers":true
    }
   }
  },
  {
   "cell_type":"code",
   "source":[
    "df['target'].value_counts()"
   ],
   "execution_count":null,
   "outputs":[
    {
     "data":{
      "text\/html":[
       "<pre>1.0    357\n",
       "0.0    212\n",
       "Name: target, dtype: int64<\/pre>"
      ]
     },
     "metadata":{},
     "output_type":"display_data"
    }
   ],
   "metadata":{
    "datalore":{
     "node_id":"OwD4l2GKJLDsPui3tSqX3I",
     "type":"CODE",
     "hide_input_from_viewers":true,
     "hide_output_from_viewers":true
    }
   }
  },
  {
   "cell_type":"code",
   "source":[
    "#len(df) = nbre de lignes\n",
    "len(df)"
   ],
   "execution_count":null,
   "outputs":[
    {
     "data":{
      "text\/plain":[
       "569"
      ]
     },
     "metadata":{},
     "output_type":"display_data"
    }
   ],
   "metadata":{
    "datalore":{
     "node_id":"fwrME1ii50OaCRIc4vCRUW",
     "type":"CODE",
     "hide_input_from_viewers":true,
     "hide_output_from_viewers":true
    }
   }
  },
  {
   "cell_type":"code",
   "source":[
    "sns.heatmap(df.corr())"
   ],
   "execution_count":null,
   "outputs":[
    {
     "name":"stdout",
     "text":[
      "\n"
     ],
     "output_type":"stream"
    },
    {
     "name":"stderr",
     "text":[
      "\n"
     ],
     "output_type":"stream"
    },
    {
     "data":{
      "text\/plain":[
       "<Axes: >"
      ]
     },
     "metadata":{},
     "output_type":"display_data"
    },
    {
     "data":{
      "image\/png":"[encoded data removed]"
     },
     "metadata":{
      "image\/png":{}
     },
     "output_type":"display_data"
    }
   ],
   "metadata":{
    "datalore":{
     "node_id":"QBW9KcZOsiX3GN1yhTdyqc",
     "type":"CODE",
     "hide_input_from_viewers":true,
     "hide_output_from_viewers":true
    }
   }
  },
  {
   "cell_type":"code",
   "source":[
    "sns.countplot(x= df.target, data =df)"
   ],
   "execution_count":null,
   "outputs":[
    {
     "name":"stdout",
     "text":[
      "\n"
     ],
     "output_type":"stream"
    },
    {
     "name":"stderr",
     "text":[
      "\n"
     ],
     "output_type":"stream"
    },
    {
     "data":{
      "text\/plain":[
       "<Axes: xlabel='target', ylabel='count'>"
      ]
     },
     "metadata":{},
     "output_type":"display_data"
    },
    {
     "data":{
      "image\/png":"[encoded data removed]"
     },
     "metadata":{
      "image\/png":{}
     },
     "output_type":"display_data"
    }
   ],
   "metadata":{
    "datalore":{
     "node_id":"MmxmRdSVMVgWDnbTTu1bj1",
     "type":"CODE",
     "hide_input_from_viewers":true,
     "hide_output_from_viewers":true
    }
   }
  },
  {
   "cell_type":"markdown",
   "source":[
    "*[Your comments here]*\n",
    "- présence de quelques outliers et des zéro dans certaines colonnes\n",
    "- pas de données dupliquées, ni de données manquantes\n",
    "- 569 lignes et 32 colonnes (31)\n",
    "- données en float\n",
    "- dernière colonne target avec valeur 0 ou 1\n",
    "- objectif = prédire si oui ou nn les gens ont un cancer du sein\n",
    "- on a 357 patients avec valeur 0 et 212 avec valeur 1 (1: non malade et 0: malade) -> données déséquilibrés mais pour l'instant on change pas et on va voir si les premiers résultats sont satisfaisants ou non, si non, alors on améliorera\n",
    "- avec heatmap, on voit forte corrélation"
   ],
   "attachments":{},
   "metadata":{
    "datalore":{
     "node_id":"rJjfWDEZ6bw2eZUNa4tiWF",
     "type":"MD",
     "hide_input_from_viewers":false,
     "hide_output_from_viewers":false,
     "report_properties":{
      "rowId":"WQafdfYaFmr4q44RPvLyJb"
     }
    }
   }
  },
  {
   "cell_type":"markdown",
   "source":[
    "## Preparing the data\n",
    "\n",
    "1. Define the input (X) and output (y) of the regression.\n",
    "2. Using `scikit-learn`'s `train_test_split` function, separate X and y into training and test sets. Make it so that 80% of the data is used for training, and 20% for testing. "
   ],
   "attachments":{},
   "metadata":{
    "datalore":{
     "node_id":"3cJmYRlPYUBx9XBuNGh7Mv",
     "type":"MD",
     "hide_input_from_viewers":true,
     "hide_output_from_viewers":true
    }
   }
  },
  {
   "cell_type":"code",
   "source":[
    "X=df.drop('target', axis=1) #on peut aussi écrire axis=\"columns\"\n",
    "y=df['target'] # pareil que df.target -> on accède à la colonne"
   ],
   "execution_count":null,
   "outputs":[],
   "metadata":{
    "datalore":{
     "node_id":"Xj12QOo8a4Joxk8QkxwSqJ",
     "type":"CODE",
     "hide_input_from_viewers":true,
     "hide_output_from_viewers":true
    }
   }
  },
  {
   "cell_type":"code",
   "source":[
    "X_train,X_test,y_train,y_test=train_test_split(X,y,test_size=0.2) #randomstate=42"
   ],
   "execution_count":null,
   "outputs":[],
   "metadata":{
    "datalore":{
     "node_id":"7854gRVAK0XdnbJNJ6zl0B",
     "type":"CODE",
     "hide_input_from_viewers":true,
     "hide_output_from_viewers":true
    }
   }
  },
  {
   "cell_type":"code",
   "source":[
    "X_train.shape"
   ],
   "execution_count":null,
   "outputs":[
    {
     "data":{
      "text\/plain":[
       "(455, 30)"
      ]
     },
     "metadata":{},
     "output_type":"display_data"
    }
   ],
   "metadata":{
    "datalore":{
     "node_id":"4tCC6h9xLAo0xNKZl9TQ97",
     "type":"CODE",
     "hide_input_from_viewers":true,
     "hide_output_from_viewers":true
    }
   }
  },
  {
   "cell_type":"markdown",
   "source":[
    "## Performing classification\n",
    "\n",
    "Consider the following algorithms: Logistic Regression, Linear Discriminant Analysis, Quadratic Discriminant Analysis (+ **bonus**: SVM). For each of these algorithms, answer the following questions:\n",
    "1. What kind of decision boundary is this algorithm able to learn?\n",
    "2. Find and import the sklearn implementation of the algorithm.\n",
    "3. Fit the model to your data.\n",
    "4. Create a `y_pred` variable containing the result of the prediction of the model on the test set.\n",
    "5. **[Bonus]** Using `sklearn`'s documentation and other sources you find relevant, explain the general principle of the algorithm."
   ],
   "attachments":{},
   "metadata":{
    "datalore":{
     "node_id":"GgKHlurWfw75UJmXSjSH1C",
     "type":"MD",
     "hide_input_from_viewers":true,
     "hide_output_from_viewers":true
    }
   }
  },
  {
   "cell_type":"markdown",
   "source":[
    "\n",
    "Logistic Regression :\n",
    "\n",
    "1) La régression logistique est capable de génèrer des frontières de décisions linéaire ; c'est un algo de classification\n",
    "   \n",
    "5) Le principe général de la régression logistique est de modéliser la probabilité d'un résultat binaire à l'aide de la fonction logistique, qui mappe toute entrée en une valeur comprise entre 0 et 1. \n",
    "\n",
    "\n",
    "Linear Discriminant Analysis : \n",
    "\n",
    "1) l'analyse discriminante linéaire apprend les frontières de décision linéaires et est utilisée pour la réduction et la classification de la dimensionnalité.\n",
    "5) LDA vise à trouver des combinaisons linéaires de caractéristiques qui séparent au mieux les classes de manière à minimiser la variance au sein de chaque classe et à maximiser la variance entre les classes (intra\/inter classes)\n",
    "\n",
    "\n",
    "Quadratic Discriminant Analysis :\n",
    "\n",
    "1) analyse discriminante quadratique peut apprendre des frontières de décision plus complexes et non linéaires par rapport à la LDA \n",
    "5) QDA est similaire à LDA mais assouplit l'hypothèse de matrices de covariance égales pour chaque classe.\n",
    "\n",
    "\n",
    "SVM : \n",
    "1) SVM génère différents types de frontières de décision linéaires et non linéaires.\n",
    "2) les SVM trouvent un hyperplan qui sépare au mieux les points de données dans un espace de grande dimension\n",
    "\n",
    "-> df simple donc résultats correctes "
   ],
   "attachments":{},
   "metadata":{
    "datalore":{
     "node_id":"sZfuVnR2icsvfVoaiOvgYF",
     "type":"MD",
     "hide_input_from_viewers":true,
     "hide_output_from_viewers":true
    }
   }
  },
  {
   "cell_type":"code",
   "source":[
    "from sklearn.linear_model import LogisticRegression"
   ],
   "execution_count":null,
   "outputs":[],
   "metadata":{
    "datalore":{
     "node_id":"C3cM34Y74COVWOgoRBzTKK",
     "type":"CODE",
     "hide_input_from_viewers":true,
     "hide_output_from_viewers":true
    }
   }
  },
  {
   "cell_type":"code",
   "source":[
    "# on crée une instance de régression logistic\n",
    "logistic_reg = LogisticRegression(max_iter =5000) #entre parenthèse c'est la limitation d'itérations\n",
    "\n",
    "# on fit ce modèle à notre train\n",
    "logistic_reg.fit(X_train, y_train)\n",
    "\n",
    "# on applique la prédiction à notre test\n",
    "y_pred = logistic_reg.predict(X_test)"
   ],
   "execution_count":null,
   "outputs":[],
   "metadata":{
    "datalore":{
     "node_id":"wudI58fDxqyrXTWW2abaXs",
     "type":"CODE",
     "hide_input_from_viewers":true,
     "hide_output_from_viewers":true
    }
   }
  },
  {
   "cell_type":"code",
   "source":[
    "from sklearn.discriminant_analysis import LinearDiscriminantAnalysis"
   ],
   "execution_count":null,
   "outputs":[],
   "metadata":{
    "datalore":{
     "node_id":"m8XauUa685RXelKEdwaiL6",
     "type":"CODE",
     "hide_input_from_viewers":true,
     "hide_output_from_viewers":true
    }
   }
  },
  {
   "cell_type":"code",
   "source":[
    "# Create an instance of the Linear Discriminant Analysis model\n",
    "lda_model = LinearDiscriminantAnalysis()\n",
    "\n",
    "# Fit the model to your data\n",
    "lda_model.fit(X_train, y_train)\n",
    "\n",
    "# Make predictions on the test set\n",
    "y_pred_lda = lda_model.predict(X_test)"
   ],
   "execution_count":null,
   "outputs":[],
   "metadata":{
    "datalore":{
     "node_id":"tONnpQlT7xLTo1fYxYj68f",
     "type":"CODE",
     "hide_input_from_viewers":true,
     "hide_output_from_viewers":true
    }
   }
  },
  {
   "cell_type":"code",
   "source":[
    "from sklearn.discriminant_analysis import QuadraticDiscriminantAnalysis"
   ],
   "execution_count":null,
   "outputs":[],
   "metadata":{
    "datalore":{
     "node_id":"0xbkxzxMQmFbbxc2qXjLJ6",
     "type":"CODE",
     "hide_input_from_viewers":true,
     "hide_output_from_viewers":true
    }
   }
  },
  {
   "cell_type":"code",
   "source":[
    "# Create an instance of the Quadratic Discriminant Analysis model\n",
    "qda_model = QuadraticDiscriminantAnalysis()\n",
    "\n",
    "# Fit the model to your data\n",
    "qda_model.fit(X_train, y_train)\n",
    "\n",
    "# Make predictions on the test set\n",
    "y_pred_qda = qda_model.predict(X_test)"
   ],
   "execution_count":null,
   "outputs":[],
   "metadata":{
    "datalore":{
     "node_id":"w9VqAUSkhLBbRPIJ7cnd0T",
     "type":"CODE",
     "hide_input_from_viewers":true,
     "hide_output_from_viewers":true
    }
   }
  },
  {
   "cell_type":"code",
   "source":[
    "from sklearn.svm import SVC"
   ],
   "execution_count":null,
   "outputs":[],
   "metadata":{
    "datalore":{
     "node_id":"5A4Z5fIXjxZKY4W9cwquFg",
     "type":"CODE",
     "hide_input_from_viewers":true,
     "hide_output_from_viewers":true
    }
   }
  },
  {
   "cell_type":"code",
   "source":[
    "# Create an instance of the Support Vector Machine model\n",
    "svm_model = SVC(kernel='linear')  # You can change the kernel for different boundary shapes\n",
    "\n",
    "# Fit the model to your data\n",
    "svm_model.fit(X_train, y_train)\n",
    "\n",
    "# Make predictions on the test set\n",
    "y_pred_svm = svm_model.predict(X_test)"
   ],
   "execution_count":null,
   "outputs":[],
   "metadata":{
    "datalore":{
     "node_id":"vLWe62Hr8dhfExauxIicOZ",
     "type":"CODE",
     "hide_input_from_viewers":true,
     "hide_output_from_viewers":true
    }
   }
  },
  {
   "cell_type":"markdown",
   "source":[
    "## Evaluating the model\n",
    "\n",
    "Answer the following questions for each of the models created above:\n",
    "\n",
    "1. Compute the accuracy of the model.\n",
    "2. Display the confusion matrix.\n",
    "3. Compute the precision, recall and f1-score.\n",
    "4. Comment on your results and compare with the other algorithms.\n",
    "5. **[Bonus]** In your own words, explain what cross-validation is. Compute the score of your algorithms again using cross-validation. What differences, if any, do you observe? How do you interpret them?"
   ],
   "attachments":{},
   "metadata":{
    "datalore":{
     "node_id":"DIpN4wpMfLu0UaBkeqO0WY",
     "type":"MD",
     "hide_input_from_viewers":true,
     "hide_output_from_viewers":true
    }
   }
  },
  {
   "cell_type":"code",
   "source":[
    "def compute_accuracy(confusion_matrix):\n",
    "    return confusion_matrix[1,1]\/(confusion_matrix[1,1]+confusion_matrix[0,1])"
   ],
   "execution_count":null,
   "outputs":[],
   "metadata":{
    "datalore":{
     "node_id":"ogGpEjGDTNYlylAbrzFMMG",
     "type":"CODE",
     "hide_input_from_viewers":true,
     "hide_output_from_viewers":true
    }
   }
  },
  {
   "cell_type":"code",
   "source":[
    "from sklearn.metrics import accuracy_score, recall_score,precision_score,f1_score,classification_report"
   ],
   "execution_count":null,
   "outputs":[],
   "metadata":{
    "datalore":{
     "node_id":"50OgkUoFBgz0FKlnuZb9g3",
     "type":"CODE",
     "hide_input_from_viewers":true,
     "hide_output_from_viewers":true
    }
   }
  },
  {
   "cell_type":"code",
   "source":[
    "lr_accuracy_score=accuracy_score(y_test,y_pred)\n",
    "print(lr_accuracy_score)\n",
    "\n",
    "#en fct de l'objectif qu'on nous as donné, on peut s'arrêter là, c'est une bonne précision déjà"
   ],
   "execution_count":null,
   "outputs":[
    {
     "name":"stdout",
     "text":[
      "0.956140350877193\n"
     ],
     "output_type":"stream"
    }
   ],
   "metadata":{
    "datalore":{
     "node_id":"F4Sbkja0tztO02URZr0xrB",
     "type":"CODE",
     "hide_input_from_viewers":true,
     "hide_output_from_viewers":true
    }
   }
  },
  {
   "cell_type":"code",
   "source":[
    "classification_report(y_test,y_pred) #normalement donne résultat de tte les métriques qu'on a en haut"
   ],
   "execution_count":null,
   "outputs":[
    {
     "data":{
      "text\/plain":[
       "'              precision    recall  f1-score   support\\n\\n         0.0       0.92      0.98      0.95        47\\n         1.0       0.98      0.94      0.96        67\\n\\n    accuracy                           0.96       114\\n   macro avg       0.95      0.96      0.96       114\\nweighted avg       0.96      0.96      0.96       114\\n'"
      ]
     },
     "metadata":{},
     "output_type":"display_data"
    }
   ],
   "metadata":{
    "datalore":{
     "node_id":"6uXVXsewUROedoR9xKqbQc",
     "type":"CODE",
     "hide_input_from_viewers":true,
     "hide_output_from_viewers":true
    }
   }
  },
  {
   "cell_type":"code",
   "source":[
    "f1_score(y_test,y_pred)"
   ],
   "execution_count":null,
   "outputs":[
    {
     "data":{
      "text\/plain":[
       "0.9618320610687023"
      ]
     },
     "metadata":{},
     "output_type":"display_data"
    }
   ],
   "metadata":{
    "datalore":{
     "node_id":"enOpYJ7X53iqGS4sS8Tihq",
     "type":"CODE",
     "hide_input_from_viewers":true,
     "hide_output_from_viewers":true
    }
   }
  },
  {
   "cell_type":"code",
   "source":[
    "from sklearn.metrics import accuracy_score\n",
    "\n",
    "# Compute accuracy for each model\n",
    "accuracy_logistic = accuracy_score(y_test, y_pred)\n",
    "accuracy_lda = accuracy_score(y_test, y_pred_lda)\n",
    "accuracy_qda = accuracy_score(y_test, y_pred_qda)\n",
    "accuracy_svm = accuracy_score(y_test, y_pred_svm)\n",
    "\n",
    "print(f\"Accuracy (Logistic Regression): {accuracy_logistic:.2f}\")\n",
    "print(f\"Accuracy (Linear Discriminant Analysis): {accuracy_lda:.2f}\")\n",
    "print(f\"Accuracy (Quadratic Discriminant Analysis): {accuracy_qda:.2f}\")\n",
    "print(f\"Accuracy (Support Vector Machine): {accuracy_svm:.2f}\")"
   ],
   "execution_count":null,
   "outputs":[
    {
     "name":"stdout",
     "text":[
      "Accuracy (Logistic Regression): 0.96\n",
      "Accuracy (Linear Discriminant Analysis): 0.96\n",
      "Accuracy (Quadratic Discriminant Analysis): 0.95\n",
      "Accuracy (Support Vector Machine): 0.95\n"
     ],
     "output_type":"stream"
    }
   ],
   "metadata":{
    "datalore":{
     "node_id":"MuzeSDIEVzvTCiWlo6ajqv",
     "type":"CODE",
     "hide_input_from_viewers":true,
     "hide_output_from_viewers":true
    }
   }
  },
  {
   "cell_type":"code",
   "source":[
    "from sklearn.metrics import confusion_matrix\n",
    "import seaborn as sns\n",
    "import matplotlib.pyplot as plt\n",
    "\n",
    "# Define a function to plot confusion matrices\n",
    "def plot_confusion_matrix(y_true, y_pred, title):\n",
    "    cm = confusion_matrix(y_true, y_pred)\n",
    "    plt.figure(figsize=(4, 4))\n",
    "    sns.heatmap(cm, annot=True, fmt=\"d\", cmap=\"Blues\", cbar=False)\n",
    "    plt.xlabel(\"Predicted\")\n",
    "    plt.ylabel(\"Actual\")\n",
    "    plt.title(title)\n",
    "    plt.show()\n",
    "\n",
    "# Display confusion matrices for each model\n",
    "plot_confusion_matrix(y_test, y_pred, \"Confusion Matrix (Logistic Regression)\")\n",
    "plot_confusion_matrix(y_test, y_pred_lda, \"Confusion Matrix (Linear Discriminant Analysis)\")\n",
    "plot_confusion_matrix(y_test, y_pred_qda, \"Confusion Matrix (Quadratic Discriminant Analysis)\")\n",
    "plot_confusion_matrix(y_test, y_pred_svm, \"Confusion Matrix (Support Vector Machine)\")"
   ],
   "execution_count":null,
   "outputs":[
    {
     "name":"stdout",
     "text":[
      "\n",
      "\n",
      "\n"
     ],
     "output_type":"stream"
    },
    {
     "name":"stderr",
     "text":[
      "\n",
      "\n",
      "\n"
     ],
     "output_type":"stream"
    },
    {
     "data":{
      "image\/png":"[encoded data removed]"
     },
     "metadata":{
      "image\/png":{}
     },
     "output_type":"display_data"
    },
    {
     "data":{
      "image\/png":"[encoded data removed]"
     },
     "metadata":{
      "image\/png":{}
     },
     "output_type":"display_data"
    },
    {
     "data":{
      "image\/png":"[encoded data removed]"
     },
     "metadata":{
      "image\/png":{}
     },
     "output_type":"display_data"
    },
    {
     "data":{
      "image\/png":"[encoded data removed]"
     },
     "metadata":{
      "image\/png":{}
     },
     "output_type":"display_data"
    }
   ],
   "metadata":{
    "datalore":{
     "node_id":"aAk7fK309rtyXxGn7rHtHa",
     "type":"CODE",
     "hide_input_from_viewers":true,
     "hide_output_from_viewers":true
    }
   }
  },
  {
   "cell_type":"code",
   "source":[
    "from sklearn.metrics import classification_report\n",
    "\n",
    "# Compute precision, recall, and F1-score for each model\n",
    "report_logistic = classification_report(y_test, y_pred)\n",
    "report_lda = classification_report(y_test, y_pred_lda)\n",
    "report_qda = classification_report(y_test, y_pred_qda)\n",
    "report_svm = classification_report(y_test, y_pred_svm)\n",
    "\n",
    "print(\"Precision, Recall, and F1-Score (Logistic Regression):\\n\", report_logistic)\n",
    "print(\"Precision, Recall, and F1-Score (Linear Discriminant Analysis):\\n\", report_lda)\n",
    "print(\"Precision, Recall, and F1-Score (Quadratic Discriminant Analysis):\\n\", report_qda)\n",
    "print(\"Precision, Recall, and F1-Score (Support Vector Machine):\\n\", report_svm)"
   ],
   "execution_count":null,
   "outputs":[
    {
     "name":"stdout",
     "text":[
      "Precision, Recall, and F1-Score (Logistic Regression):\n",
      "               precision    recall  f1-score   support\n",
      "\n",
      "         0.0       0.92      0.98      0.95        47\n",
      "         1.0       0.98      0.94      0.96        67\n",
      "\n",
      "    accuracy                           0.96       114\n",
      "   macro avg       0.95      0.96      0.96       114\n",
      "weighted avg       0.96      0.96      0.96       114\n",
      "\n",
      "Precision, Recall, and F1-Score (Linear Discriminant Analysis):\n",
      "               precision    recall  f1-score   support\n",
      "\n",
      "         0.0       1.00      0.89      0.94        47\n",
      "         1.0       0.93      1.00      0.96        67\n",
      "\n",
      "    accuracy                           0.96       114\n",
      "   macro avg       0.97      0.95      0.95       114\n",
      "weighted avg       0.96      0.96      0.96       114\n",
      "\n",
      "Precision, Recall, and F1-Score (Quadratic Discriminant Analysis):\n",
      "               precision    recall  f1-score   support\n",
      "\n",
      "         0.0       0.92      0.96      0.94        47\n",
      "         1.0       0.97      0.94      0.95        67\n",
      "\n",
      "    accuracy                           0.95       114\n",
      "   macro avg       0.94      0.95      0.95       114\n",
      "weighted avg       0.95      0.95      0.95       114\n",
      "\n",
      "Precision, Recall, and F1-Score (Support Vector Machine):\n",
      "               precision    recall  f1-score   support\n",
      "\n",
      "         0.0       0.90      0.98      0.94        47\n",
      "         1.0       0.98      0.93      0.95        67\n",
      "\n",
      "    accuracy                           0.95       114\n",
      "   macro avg       0.94      0.95      0.95       114\n",
      "weighted avg       0.95      0.95      0.95       114\n",
      "\n"
     ],
     "output_type":"stream"
    }
   ],
   "metadata":{
    "datalore":{
     "node_id":"yic8u4rizfcHGbBvfWrYOk",
     "type":"CODE",
     "hide_input_from_viewers":true,
     "hide_output_from_viewers":true
    }
   }
  },
  {
   "cell_type":"markdown",
   "source":[
    "## Bonus questions\n",
    "1. Do you think balancing the dataset would increase the algorithms' performance? Try using a balancing method on the dataset and check your hypothesis.\n",
    "2. Perform the same study on the dataset from the dimensionality reduction practical (handwritten 5's and 6's)"
   ],
   "attachments":{},
   "metadata":{
    "datalore":{
     "node_id":"NqkZCjuLSpgjcsWVUkn79C",
     "type":"MD",
     "hide_input_from_viewers":true,
     "hide_output_from_viewers":true
    }
   }
  },
  {
   "cell_type":"code",
   "source":[],
   "execution_count":null,
   "outputs":[],
   "metadata":{
    "datalore":{
     "node_id":"SS8S1elI91efwbD5klCMtE",
     "type":"CODE",
     "hide_input_from_viewers":true,
     "hide_output_from_viewers":true
    }
   }
  }
 ],
 "metadata":{
  "kernelspec":{
   "display_name":"Python",
   "language":"python",
   "name":"python"
  },
  "datalore":{
   "computation_mode":"JUPYTER",
   "package_manager":"pip",
   "base_environment":"default",
   "packages":[],
   "report_row_ids":[
    "JoHk2C319pxhiBaGkNQMDg",
    "UcaZxTvte2AQBKxsfYBVTL",
    "PvEHx5cM4msrC9cCg1cW9N",
    "88aGZKjbW2yebOUDzoYtf1",
    "fTZ8YWjegGDKILAMu1D44H",
    "HWQmszIy97KJ1RhraFUAj8",
    "JuCjblwngnvBdfqezYhilA",
    "aBltzOrMTRxDSy0ZNPzYHb",
    "WQafdfYaFmr4q44RPvLyJb",
    "HJbPfYQCr5TUK3CPEuiAKs",
    "b9jr8VKK89SanxajR65i20",
    "Xa86OEruzAcfgy1yLvogKb",
    "Ckq38I69B3KQnn3Jbyi3re",
    "EwsEGtNBOPdgD6K6wmAiiD",
    "0p61ATR4JOGt74Cgrd10Nj",
    "P9l3UkPXvxi6tPvYFZV6Lj",
    "T4GPV8l4bUkW9fiHtP1PqI",
    "lVKEpvgJSu6x8mEotFcbO9",
    "1e0m1jgvZl9f5gxqAVVPzV",
    "yB9vNEzq8slDwpUBl5UWhm",
    "RCLbNOz5te9A83IbKRJsTR",
    "hEQmNI6MOoBEBQYnExGp2K",
    "m5bakJ18PgHb9SMNwRKkiu",
    "dq50A9krJH464ellM28HIb"
   ],
   "version":3
  }
 },
 "nbformat":4,
 "nbformat_minor":4
}