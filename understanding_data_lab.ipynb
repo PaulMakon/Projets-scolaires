{
 "cells":[
  {
   "cell_type":"markdown",
   "source":[
    "# Understanding data"
   ],
   "attachments":{},
   "metadata":{
    "datalore":{
     "node_id":"k6WmyBbHZ8pWepSbXwojH4",
     "type":"MD",
     "hide_input_from_viewers":false,
     "hide_output_from_viewers":false,
     "report_properties":{
      "rowId":"JmKFH9fDbZiXwD7Fgys2hL"
     }
    }
   }
  },
  {
   "cell_type":"markdown",
   "source":[
    "## Setup\n",
    "### Imports\n",
    "In order to work with data, we need to import some libraries."
   ],
   "attachments":{},
   "metadata":{
    "datalore":{
     "node_id":"WuyvHfCf7Zph8X88cLnFNo",
     "type":"MD",
     "hide_input_from_viewers":false,
     "hide_output_from_viewers":false,
     "report_properties":{
      "rowId":"jKg5rJq93czTvirV8P7JTY"
     }
    }
   }
  },
  {
   "cell_type":"code",
   "source":[
    "import pandas as pd                     # for dataset manipulation (DataFrames)\n",
    "import sklearn.datasets                 # the datasets we are going to use\n",
    "import numpy as np                      # allows some mathematical operations\n",
    "import matplotlib.pyplot as plt         # library used to display graphs\n",
    "import seaborn as sns                   # more convenient visualization library for dataframes"
   ],
   "execution_count":1,
   "outputs":[],
   "metadata":{
    "datalore":{
     "node_id":"kMiD4Goz909FUa0gftzMOW",
     "type":"CODE",
     "hide_input_from_viewers":false,
     "hide_output_from_viewers":false,
     "report_properties":{
      "rowId":"DjqHDdzjgwss6WmtlJL6uw"
     }
    }
   }
  },
  {
   "cell_type":"markdown",
   "source":[
    "### Loading the dataset"
   ],
   "attachments":{},
   "metadata":{
    "datalore":{
     "node_id":"aHBIDb2JTvpBCoQP4VGTmF",
     "type":"MD",
     "hide_input_from_viewers":false,
     "hide_output_from_viewers":false,
     "report_properties":{
      "rowId":"VK02nlK3lBrGSfXCOTI5SS"
     }
    }
   }
  },
  {
   "cell_type":"code",
   "source":[
    "iris = sklearn.datasets.load_iris()\n",
    "df = pd.DataFrame(data= np.c_[iris['data'], iris['target']], columns= iris['feature_names'] + ['target'])"
   ],
   "execution_count":2,
   "outputs":[],
   "metadata":{
    "datalore":{
     "node_id":"cCDgU6CFsiIRs0HIHq7Nzs",
     "type":"CODE",
     "hide_input_from_viewers":false,
     "hide_output_from_viewers":false,
     "report_properties":{
      "rowId":"2sGbZZRJ1VUrE36z2vZSXa"
     }
    }
   }
  },
  {
   "cell_type":"markdown",
   "source":[
    "The dataset is now loaded into the `df` variable, which stands for \"DataFrame\".\n",
    "DataFrames are objects proposed by the `pandas` library. They are basically convenient tables, with a lot of built-in functions to manipulate them.\n",
    "\n",
    "You can see what the dataframe looks like by executing the cell below :"
   ],
   "attachments":{},
   "metadata":{
    "datalore":{
     "node_id":"pqn1XzJyAX1olm3a8BSMVB",
     "type":"MD",
     "hide_input_from_viewers":false,
     "hide_output_from_viewers":false,
     "report_properties":{
      "rowId":"gu5klEffqUdVUdPWdkqhBR"
     }
    }
   }
  },
  {
   "cell_type":"code",
   "source":[
    "df"
   ],
   "execution_count":3,
   "outputs":[
    {
     "data":{
      "text\/html":[
       "<div>\n",
       "<style scoped>\n",
       "    .dataframe tbody tr th:only-of-type {\n",
       "        vertical-align: middle;\n",
       "    }\n",
       "\n",
       "    .dataframe tbody tr th {\n",
       "        vertical-align: top;\n",
       "    }\n",
       "\n",
       "    .dataframe thead th {\n",
       "        text-align: right;\n",
       "    }\n",
       "<\/style>\n",
       "<table border=\"1\" class=\"dataframe\">\n",
       "  <thead>\n",
       "    <tr style=\"text-align: right;\">\n",
       "      <th><\/th>\n",
       "      <th>sepal length (cm)<\/th>\n",
       "      <th>sepal width (cm)<\/th>\n",
       "      <th>petal length (cm)<\/th>\n",
       "      <th>petal width (cm)<\/th>\n",
       "      <th>target<\/th>\n",
       "    <\/tr>\n",
       "  <\/thead>\n",
       "  <tbody>\n",
       "    <tr>\n",
       "      <th>0<\/th>\n",
       "      <td>5.1<\/td>\n",
       "      <td>3.5<\/td>\n",
       "      <td>1.4<\/td>\n",
       "      <td>0.2<\/td>\n",
       "      <td>0.0<\/td>\n",
       "    <\/tr>\n",
       "    <tr>\n",
       "      <th>1<\/th>\n",
       "      <td>4.9<\/td>\n",
       "      <td>3.0<\/td>\n",
       "      <td>1.4<\/td>\n",
       "      <td>0.2<\/td>\n",
       "      <td>0.0<\/td>\n",
       "    <\/tr>\n",
       "    <tr>\n",
       "      <th>2<\/th>\n",
       "      <td>4.7<\/td>\n",
       "      <td>3.2<\/td>\n",
       "      <td>1.3<\/td>\n",
       "      <td>0.2<\/td>\n",
       "      <td>0.0<\/td>\n",
       "    <\/tr>\n",
       "    <tr>\n",
       "      <th>3<\/th>\n",
       "      <td>4.6<\/td>\n",
       "      <td>3.1<\/td>\n",
       "      <td>1.5<\/td>\n",
       "      <td>0.2<\/td>\n",
       "      <td>0.0<\/td>\n",
       "    <\/tr>\n",
       "    <tr>\n",
       "      <th>4<\/th>\n",
       "      <td>5.0<\/td>\n",
       "      <td>3.6<\/td>\n",
       "      <td>1.4<\/td>\n",
       "      <td>0.2<\/td>\n",
       "      <td>0.0<\/td>\n",
       "    <\/tr>\n",
       "    <tr>\n",
       "      <th>...<\/th>\n",
       "      <td>...<\/td>\n",
       "      <td>...<\/td>\n",
       "      <td>...<\/td>\n",
       "      <td>...<\/td>\n",
       "      <td>...<\/td>\n",
       "    <\/tr>\n",
       "    <tr>\n",
       "      <th>145<\/th>\n",
       "      <td>6.7<\/td>\n",
       "      <td>3.0<\/td>\n",
       "      <td>5.2<\/td>\n",
       "      <td>2.3<\/td>\n",
       "      <td>2.0<\/td>\n",
       "    <\/tr>\n",
       "    <tr>\n",
       "      <th>146<\/th>\n",
       "      <td>6.3<\/td>\n",
       "      <td>2.5<\/td>\n",
       "      <td>5.0<\/td>\n",
       "      <td>1.9<\/td>\n",
       "      <td>2.0<\/td>\n",
       "    <\/tr>\n",
       "    <tr>\n",
       "      <th>147<\/th>\n",
       "      <td>6.5<\/td>\n",
       "      <td>3.0<\/td>\n",
       "      <td>5.2<\/td>\n",
       "      <td>2.0<\/td>\n",
       "      <td>2.0<\/td>\n",
       "    <\/tr>\n",
       "    <tr>\n",
       "      <th>148<\/th>\n",
       "      <td>6.2<\/td>\n",
       "      <td>3.4<\/td>\n",
       "      <td>5.4<\/td>\n",
       "      <td>2.3<\/td>\n",
       "      <td>2.0<\/td>\n",
       "    <\/tr>\n",
       "    <tr>\n",
       "      <th>149<\/th>\n",
       "      <td>5.9<\/td>\n",
       "      <td>3.0<\/td>\n",
       "      <td>5.1<\/td>\n",
       "      <td>1.8<\/td>\n",
       "      <td>2.0<\/td>\n",
       "    <\/tr>\n",
       "  <\/tbody>\n",
       "<\/table>\n",
       "<p>150 rows × 5 columns<\/p>\n",
       "<\/div>"
      ]
     },
     "metadata":{},
     "output_type":"display_data"
    }
   ],
   "metadata":{
    "datalore":{
     "node_id":"XRog1N9uFEEvMeMUgd30Sa",
     "type":"CODE",
     "hide_input_from_viewers":false,
     "hide_output_from_viewers":false,
     "report_properties":{
      "rowId":"HRQEagjMBU9ysOQH7ZrqrU"
     }
    }
   }
  },
  {
   "cell_type":"markdown",
   "source":[
    "## Data understanding\n",
    "### Data source and documentation\n",
    "Before even writing any code, it is important to check where the data is coming from and gather as much information as possible on the data it contains.\n",
    "The iris dataset - that we loaded above - is a popular dataset to teach machine learning, meaning information is easily accessible on the internet.\n",
    "\n",
    "\n",
    "#### Questions\n",
    "**Before beginning the data analysis, find the answers to the following questions:**\n",
    "- Who created the dataset? When and why?\n",
    "- Describe briefly what the iris dataset contains.\n",
    "- What information does the columns contain?\n",
    "- In particular, what is the `target` column, and what does its values correspond to?\n",
    "\n",
    "*Hint: We use the `scikit-learn` library to load the dataset.*\n",
    "\n",
    "\n",
    "#### Answers\n",
    "1) R.A. Fisher, July, 1988. The famous Iris database, first used by Sir R.A. Fisher. The dataset is taken from Fisher’s paper. Note that it’s the same as in R, but not as in the UCI Machine Learning Repository, which has two wrong data points.\n",
    "\n",
    "This is perhaps the best known database to be found in the pattern recognition literature. Fisher’s paper is a classic in the field and is referenced frequently to this day. (See Duda & Hart, for example.) The data set contains 3 classes of 50 instances each, where each class refers to a type of iris plant. One class is linearly separable from the other 2; the latter are NOT linearly separable from each other.\n",
    "\n",
    "2) The data set contains 3 classes of 50 instances each, where each class refers to a type of iris plant. One class is linearly separable from the other 2; the latter are NOT linearly separable from each other.\n",
    "\n",
    "3)  sepal length in cm (Column 0)\n",
    "\n",
    "    sepal width in cm (Column 1)\n",
    "\n",
    "    petal length in cm (Column 2)\n",
    "\n",
    "    petal width in cm (Column 3)\n",
    "\n",
    "      class:\n",
    "            Iris-Setosa\n",
    "\n",
    "            Iris-Versicolour\n",
    "\n",
    "            Iris-Virginica\n",
    "\n",
    "The target column (Column 4) allows identification of the type of Iris (including Iris-Setosa, Iris-Vericolour and Iris-Virginica, respectively), calibrated with the values 0, 1 and 2.\n",
    "\n",
    "4) The target column allows identification of the type of Iris (including Iris-Setosa, Iris-Vericolour and Iris-Virginica, respectively), calibrated with the values 0, 1 and 2."
   ],
   "attachments":{},
   "metadata":{
    "datalore":{
     "node_id":"YohFnnm7Kh2AVR6M9MPurY",
     "type":"MD",
     "hide_input_from_viewers":false,
     "hide_output_from_viewers":false,
     "report_properties":{
      "rowId":"Tx84czeCiMcrj5Tn8mQzyS"
     }
    }
   }
  },
  {
   "cell_type":"markdown",
   "source":[
    "### Getting general information about the dataset\n",
    "\n",
    "#### Questions\n",
    "\n",
    "1. How much data does the dataset contain?\n",
    "2. How many features (columns) are there?\n",
    "3. Name the different columns and their data types.\n",
    "4. For each column, check the values of the following statistics: mean, standard deviation, minimum, maximum, and median.\n",
    "5. How do these values vary within each type of iris? *(Use the code sample below as reference)*\n",
    "\n",
    "*Hint: You will need to use the pandas functions: `DataFrame.shape`, `DataFrame.head()`, `DataFrame.describe()`, and `DataFrame.info()`. Make sure to [check their documentation](https:\/\/pandas.pydata.org\/pandas-docs\/stable\/reference\/frame.html)!*"
   ],
   "attachments":{},
   "metadata":{
    "datalore":{
     "node_id":"nhDnpkGv24UZBU4kTYXL6W",
     "type":"MD",
     "hide_input_from_viewers":false,
     "hide_output_from_viewers":false,
     "report_properties":{
      "rowId":"f5CtcMWAh90bvlkZi3v7Wc"
     }
    }
   }
  },
  {
   "cell_type":"code",
   "source":[
    "# Below is a code sample to show you how to filter a DataFrame\n",
    "filtered_data = df[df[\"sepal length (cm)\"] > 5]\n",
    "filtered_data"
   ],
   "execution_count":4,
   "outputs":[
    {
     "data":{
      "text\/html":[
       "<div>\n",
       "<style scoped>\n",
       "    .dataframe tbody tr th:only-of-type {\n",
       "        vertical-align: middle;\n",
       "    }\n",
       "\n",
       "    .dataframe tbody tr th {\n",
       "        vertical-align: top;\n",
       "    }\n",
       "\n",
       "    .dataframe thead th {\n",
       "        text-align: right;\n",
       "    }\n",
       "<\/style>\n",
       "<table border=\"1\" class=\"dataframe\">\n",
       "  <thead>\n",
       "    <tr style=\"text-align: right;\">\n",
       "      <th><\/th>\n",
       "      <th>sepal length (cm)<\/th>\n",
       "      <th>sepal width (cm)<\/th>\n",
       "      <th>petal length (cm)<\/th>\n",
       "      <th>petal width (cm)<\/th>\n",
       "      <th>target<\/th>\n",
       "    <\/tr>\n",
       "  <\/thead>\n",
       "  <tbody>\n",
       "    <tr>\n",
       "      <th>0<\/th>\n",
       "      <td>5.1<\/td>\n",
       "      <td>3.5<\/td>\n",
       "      <td>1.4<\/td>\n",
       "      <td>0.2<\/td>\n",
       "      <td>0.0<\/td>\n",
       "    <\/tr>\n",
       "    <tr>\n",
       "      <th>5<\/th>\n",
       "      <td>5.4<\/td>\n",
       "      <td>3.9<\/td>\n",
       "      <td>1.7<\/td>\n",
       "      <td>0.4<\/td>\n",
       "      <td>0.0<\/td>\n",
       "    <\/tr>\n",
       "    <tr>\n",
       "      <th>10<\/th>\n",
       "      <td>5.4<\/td>\n",
       "      <td>3.7<\/td>\n",
       "      <td>1.5<\/td>\n",
       "      <td>0.2<\/td>\n",
       "      <td>0.0<\/td>\n",
       "    <\/tr>\n",
       "    <tr>\n",
       "      <th>14<\/th>\n",
       "      <td>5.8<\/td>\n",
       "      <td>4.0<\/td>\n",
       "      <td>1.2<\/td>\n",
       "      <td>0.2<\/td>\n",
       "      <td>0.0<\/td>\n",
       "    <\/tr>\n",
       "    <tr>\n",
       "      <th>15<\/th>\n",
       "      <td>5.7<\/td>\n",
       "      <td>4.4<\/td>\n",
       "      <td>1.5<\/td>\n",
       "      <td>0.4<\/td>\n",
       "      <td>0.0<\/td>\n",
       "    <\/tr>\n",
       "    <tr>\n",
       "      <th>...<\/th>\n",
       "      <td>...<\/td>\n",
       "      <td>...<\/td>\n",
       "      <td>...<\/td>\n",
       "      <td>...<\/td>\n",
       "      <td>...<\/td>\n",
       "    <\/tr>\n",
       "    <tr>\n",
       "      <th>145<\/th>\n",
       "      <td>6.7<\/td>\n",
       "      <td>3.0<\/td>\n",
       "      <td>5.2<\/td>\n",
       "      <td>2.3<\/td>\n",
       "      <td>2.0<\/td>\n",
       "    <\/tr>\n",
       "    <tr>\n",
       "      <th>146<\/th>\n",
       "      <td>6.3<\/td>\n",
       "      <td>2.5<\/td>\n",
       "      <td>5.0<\/td>\n",
       "      <td>1.9<\/td>\n",
       "      <td>2.0<\/td>\n",
       "    <\/tr>\n",
       "    <tr>\n",
       "      <th>147<\/th>\n",
       "      <td>6.5<\/td>\n",
       "      <td>3.0<\/td>\n",
       "      <td>5.2<\/td>\n",
       "      <td>2.0<\/td>\n",
       "      <td>2.0<\/td>\n",
       "    <\/tr>\n",
       "    <tr>\n",
       "      <th>148<\/th>\n",
       "      <td>6.2<\/td>\n",
       "      <td>3.4<\/td>\n",
       "      <td>5.4<\/td>\n",
       "      <td>2.3<\/td>\n",
       "      <td>2.0<\/td>\n",
       "    <\/tr>\n",
       "    <tr>\n",
       "      <th>149<\/th>\n",
       "      <td>5.9<\/td>\n",
       "      <td>3.0<\/td>\n",
       "      <td>5.1<\/td>\n",
       "      <td>1.8<\/td>\n",
       "      <td>2.0<\/td>\n",
       "    <\/tr>\n",
       "  <\/tbody>\n",
       "<\/table>\n",
       "<p>118 rows × 5 columns<\/p>\n",
       "<\/div>"
      ]
     },
     "metadata":{},
     "output_type":"display_data"
    }
   ],
   "metadata":{
    "datalore":{
     "node_id":"TkikN1fatZa6Vdy2dgbKab",
     "type":"CODE",
     "hide_input_from_viewers":false,
     "hide_output_from_viewers":false,
     "report_properties":{
      "rowId":"EyTfB1BCxcnszw9ZmL5F8d"
     }
    }
   }
  },
  {
   "cell_type":"code",
   "source":[
    "df.shape"
   ],
   "execution_count":null,
   "outputs":[
    {
     "data":{
      "text\/plain":[
       "(150, 5)"
      ]
     },
     "metadata":{},
     "output_type":"display_data"
    }
   ],
   "metadata":{
    "datalore":{
     "node_id":"heaNl0mybNpPcN8GZo5dQ1",
     "type":"CODE",
     "hide_input_from_viewers":true,
     "hide_output_from_viewers":true
    }
   }
  },
  {
   "cell_type":"code",
   "source":[
    "5"
   ],
   "execution_count":6,
   "outputs":[
    {
     "data":{
      "text\/plain":[
       "5"
      ]
     },
     "metadata":{},
     "output_type":"display_data"
    }
   ],
   "metadata":{
    "datalore":{
     "node_id":"WQ93BEhhNhpC3ZIbPmWLgD",
     "type":"CODE",
     "hide_input_from_viewers":true,
     "hide_output_from_viewers":true
    }
   }
  },
  {
   "cell_type":"code",
   "source":[
    "df.dtypes"
   ],
   "execution_count":8,
   "outputs":[
    {
     "data":{
      "text\/html":[
       "<pre>sepal length (cm)    float64\n",
       "sepal width (cm)     float64\n",
       "petal length (cm)    float64\n",
       "petal width (cm)     float64\n",
       "target               float64\n",
       "dtype: object<\/pre>"
      ]
     },
     "metadata":{},
     "output_type":"display_data"
    }
   ],
   "metadata":{
    "datalore":{
     "node_id":"RQLK6GJkGJ5h0rWLeycKP0",
     "type":"CODE",
     "hide_input_from_viewers":true,
     "hide_output_from_viewers":true
    }
   }
  },
  {
   "cell_type":"code",
   "source":[
    "df.info()"
   ],
   "execution_count":9,
   "outputs":[
    {
     "name":"stdout",
     "text":[
      "<class 'pandas.core.frame.DataFrame'>\n",
      "RangeIndex: 150 entries, 0 to 149\n",
      "Data columns (total 5 columns):\n",
      " #   Column             Non-Null Count  Dtype  \n",
      "---  ------             --------------  -----  \n",
      " 0   sepal length (cm)  150 non-null    float64\n",
      " 1   sepal width (cm)   150 non-null    float64\n",
      " 2   petal length (cm)  150 non-null    float64\n",
      " 3   petal width (cm)   150 non-null    float64\n",
      " 4   target             150 non-null    float64\n",
      "dtypes: float64(5)\n",
      "memory usage: 6.0 KB\n"
     ],
     "output_type":"stream"
    }
   ],
   "metadata":{
    "datalore":{
     "node_id":"z6e7bUgAldgSCweHJQmSWA",
     "type":"CODE",
     "hide_input_from_viewers":true,
     "hide_output_from_viewers":true
    }
   }
  },
  {
   "cell_type":"code",
   "source":[
    "df.describe()"
   ],
   "execution_count":10,
   "outputs":[
    {
     "data":{
      "text\/html":[
       "<div>\n",
       "<style scoped>\n",
       "    .dataframe tbody tr th:only-of-type {\n",
       "        vertical-align: middle;\n",
       "    }\n",
       "\n",
       "    .dataframe tbody tr th {\n",
       "        vertical-align: top;\n",
       "    }\n",
       "\n",
       "    .dataframe thead th {\n",
       "        text-align: right;\n",
       "    }\n",
       "<\/style>\n",
       "<table border=\"1\" class=\"dataframe\">\n",
       "  <thead>\n",
       "    <tr style=\"text-align: right;\">\n",
       "      <th><\/th>\n",
       "      <th>sepal length (cm)<\/th>\n",
       "      <th>sepal width (cm)<\/th>\n",
       "      <th>petal length (cm)<\/th>\n",
       "      <th>petal width (cm)<\/th>\n",
       "      <th>target<\/th>\n",
       "    <\/tr>\n",
       "  <\/thead>\n",
       "  <tbody>\n",
       "    <tr>\n",
       "      <th>count<\/th>\n",
       "      <td>150.000000<\/td>\n",
       "      <td>150.000000<\/td>\n",
       "      <td>150.000000<\/td>\n",
       "      <td>150.000000<\/td>\n",
       "      <td>150.000000<\/td>\n",
       "    <\/tr>\n",
       "    <tr>\n",
       "      <th>mean<\/th>\n",
       "      <td>5.843333<\/td>\n",
       "      <td>3.057333<\/td>\n",
       "      <td>3.758000<\/td>\n",
       "      <td>1.199333<\/td>\n",
       "      <td>1.000000<\/td>\n",
       "    <\/tr>\n",
       "    <tr>\n",
       "      <th>std<\/th>\n",
       "      <td>0.828066<\/td>\n",
       "      <td>0.435866<\/td>\n",
       "      <td>1.765298<\/td>\n",
       "      <td>0.762238<\/td>\n",
       "      <td>0.819232<\/td>\n",
       "    <\/tr>\n",
       "    <tr>\n",
       "      <th>min<\/th>\n",
       "      <td>4.300000<\/td>\n",
       "      <td>2.000000<\/td>\n",
       "      <td>1.000000<\/td>\n",
       "      <td>0.100000<\/td>\n",
       "      <td>0.000000<\/td>\n",
       "    <\/tr>\n",
       "    <tr>\n",
       "      <th>25%<\/th>\n",
       "      <td>5.100000<\/td>\n",
       "      <td>2.800000<\/td>\n",
       "      <td>1.600000<\/td>\n",
       "      <td>0.300000<\/td>\n",
       "      <td>0.000000<\/td>\n",
       "    <\/tr>\n",
       "    <tr>\n",
       "      <th>50%<\/th>\n",
       "      <td>5.800000<\/td>\n",
       "      <td>3.000000<\/td>\n",
       "      <td>4.350000<\/td>\n",
       "      <td>1.300000<\/td>\n",
       "      <td>1.000000<\/td>\n",
       "    <\/tr>\n",
       "    <tr>\n",
       "      <th>75%<\/th>\n",
       "      <td>6.400000<\/td>\n",
       "      <td>3.300000<\/td>\n",
       "      <td>5.100000<\/td>\n",
       "      <td>1.800000<\/td>\n",
       "      <td>2.000000<\/td>\n",
       "    <\/tr>\n",
       "    <tr>\n",
       "      <th>max<\/th>\n",
       "      <td>7.900000<\/td>\n",
       "      <td>4.400000<\/td>\n",
       "      <td>6.900000<\/td>\n",
       "      <td>2.500000<\/td>\n",
       "      <td>2.000000<\/td>\n",
       "    <\/tr>\n",
       "  <\/tbody>\n",
       "<\/table>\n",
       "<\/div>"
      ]
     },
     "metadata":{},
     "output_type":"display_data"
    }
   ],
   "metadata":{
    "datalore":{
     "node_id":"PPnRNgcapxhEYoWmC4ATCp",
     "type":"CODE",
     "hide_input_from_viewers":true,
     "hide_output_from_viewers":true
    }
   }
  },
  {
   "cell_type":"code",
   "source":[
    "df[df[\"target\"]==0].describe()"
   ],
   "execution_count":11,
   "outputs":[
    {
     "data":{
      "text\/html":[
       "<div>\n",
       "<style scoped>\n",
       "    .dataframe tbody tr th:only-of-type {\n",
       "        vertical-align: middle;\n",
       "    }\n",
       "\n",
       "    .dataframe tbody tr th {\n",
       "        vertical-align: top;\n",
       "    }\n",
       "\n",
       "    .dataframe thead th {\n",
       "        text-align: right;\n",
       "    }\n",
       "<\/style>\n",
       "<table border=\"1\" class=\"dataframe\">\n",
       "  <thead>\n",
       "    <tr style=\"text-align: right;\">\n",
       "      <th><\/th>\n",
       "      <th>sepal length (cm)<\/th>\n",
       "      <th>sepal width (cm)<\/th>\n",
       "      <th>petal length (cm)<\/th>\n",
       "      <th>petal width (cm)<\/th>\n",
       "      <th>target<\/th>\n",
       "    <\/tr>\n",
       "  <\/thead>\n",
       "  <tbody>\n",
       "    <tr>\n",
       "      <th>count<\/th>\n",
       "      <td>50.00000<\/td>\n",
       "      <td>50.000000<\/td>\n",
       "      <td>50.000000<\/td>\n",
       "      <td>50.000000<\/td>\n",
       "      <td>50.0<\/td>\n",
       "    <\/tr>\n",
       "    <tr>\n",
       "      <th>mean<\/th>\n",
       "      <td>5.00600<\/td>\n",
       "      <td>3.428000<\/td>\n",
       "      <td>1.462000<\/td>\n",
       "      <td>0.246000<\/td>\n",
       "      <td>0.0<\/td>\n",
       "    <\/tr>\n",
       "    <tr>\n",
       "      <th>std<\/th>\n",
       "      <td>0.35249<\/td>\n",
       "      <td>0.379064<\/td>\n",
       "      <td>0.173664<\/td>\n",
       "      <td>0.105386<\/td>\n",
       "      <td>0.0<\/td>\n",
       "    <\/tr>\n",
       "    <tr>\n",
       "      <th>min<\/th>\n",
       "      <td>4.30000<\/td>\n",
       "      <td>2.300000<\/td>\n",
       "      <td>1.000000<\/td>\n",
       "      <td>0.100000<\/td>\n",
       "      <td>0.0<\/td>\n",
       "    <\/tr>\n",
       "    <tr>\n",
       "      <th>25%<\/th>\n",
       "      <td>4.80000<\/td>\n",
       "      <td>3.200000<\/td>\n",
       "      <td>1.400000<\/td>\n",
       "      <td>0.200000<\/td>\n",
       "      <td>0.0<\/td>\n",
       "    <\/tr>\n",
       "    <tr>\n",
       "      <th>50%<\/th>\n",
       "      <td>5.00000<\/td>\n",
       "      <td>3.400000<\/td>\n",
       "      <td>1.500000<\/td>\n",
       "      <td>0.200000<\/td>\n",
       "      <td>0.0<\/td>\n",
       "    <\/tr>\n",
       "    <tr>\n",
       "      <th>75%<\/th>\n",
       "      <td>5.20000<\/td>\n",
       "      <td>3.675000<\/td>\n",
       "      <td>1.575000<\/td>\n",
       "      <td>0.300000<\/td>\n",
       "      <td>0.0<\/td>\n",
       "    <\/tr>\n",
       "    <tr>\n",
       "      <th>max<\/th>\n",
       "      <td>5.80000<\/td>\n",
       "      <td>4.400000<\/td>\n",
       "      <td>1.900000<\/td>\n",
       "      <td>0.600000<\/td>\n",
       "      <td>0.0<\/td>\n",
       "    <\/tr>\n",
       "  <\/tbody>\n",
       "<\/table>\n",
       "<\/div>"
      ]
     },
     "metadata":{},
     "output_type":"display_data"
    }
   ],
   "metadata":{
    "datalore":{
     "node_id":"emvMUbWyY9HHk47mTmqBRu",
     "type":"CODE",
     "hide_input_from_viewers":true,
     "hide_output_from_viewers":true
    }
   }
  },
  {
   "cell_type":"markdown",
   "source":[
    "1) (150, 5)\n",
    "   \n",
    "2) 5\n",
    "   \n",
    "3) <class 'pandas.core.frame.DataFrame'>\n",
    "RangeIndex: 150 entries, 0 to 149\n",
    "Data columns (total 5 columns):\n",
    " #   Column             Non-Null Count  Dtype  \n",
    "---  ------             --------------  -----  \n",
    " 0   sepal length (cm)  150 non-null    float64\n",
    " 1   sepal width (cm)   150 non-null    float64\n",
    " 2   petal length (cm)  150 non-null    float64\n",
    " 3   petal width (cm)   150 non-null    float64\n",
    " 4   target             150 non-null    float64\n",
    "dtypes: float64(5)\n",
    "memory usage: 6.0 KB\n",
    "\n",
    "4) df.describe()\n",
    "   \n",
    "mean     5.843333333333334     3.0573333333333337   3.7580000000000005    1.1993333333333336       1.0\n",
    "std      0.828066127977863     0.4358662849366982   1.7652982332594662    0.7622376689603465       0.8192319205190405\n",
    "min      4.3                   2.0                  1.0                   0.1                      0.0\n",
    "max      7.9                   4.4                  6.9                   2.5                      2.0\n",
    "median   5.8                   3.0                  4.35                  1.3                      1.0\n",
    "\n",
    "5) To answer this question, it is necessary to take all the elements of the dataframe, belonging to Class 0, and then submit them to the df[df[\"target\"]==0].describe() command to view how the mean and other parameters evolve as a function of class, in this case we consider all the values in the dataframe, including the values in a given column greater than a predefined value (5).\n",
    "\n",
    "The goal is to classify the three types of data, in case there are no data that have not been considered, to know to which class they belong. To determine this, we can, for example, consider the petal length measurement as a quantitative variable, so it is important to know which features are important (relevant) of each class (we need to search the dataframe for all columns that meet the conditions.\n",
    "\n",
    "For example, there's a slight variation in the values of the average petal length, which is 5 instead of 5.8.\n",
    "In this context, we learn that for Class 0, the average petal length is less than the overall average end in itself."
   ],
   "attachments":{},
   "metadata":{
    "datalore":{
     "node_id":"u540ArKezqTbBre645Cwg2",
     "type":"MD",
     "hide_input_from_viewers":false,
     "hide_output_from_viewers":false,
     "report_properties":{
      "rowId":"wVXDkX0O9uTBfVbj56gSy1"
     }
    }
   }
  },
  {
   "cell_type":"markdown",
   "source":[
    "### Basic validity checks\n",
    "\n",
    "In order to use a dataset for machine learning, we generally want to have \"clean\" data. Generally, we want to avoid missing and absurd values, duplicates, and imbalanced datasets.\n",
    "\n",
    "#### Questions\n",
    "1. How many rows contain missing data?\n",
    "2. What does it mean for a dataset to be \"balanced\"? Do you think this dataset is balanced?\n",
    "3. Is there any duplicated data in the dataset? In your opinion, is it good or bad for machine learning? Why?\n",
    "\n",
    "*Hint: You will need to use the `value_counts()` and `duplicated()` functions.*"
   ],
   "attachments":{},
   "metadata":{
    "datalore":{
     "node_id":"oDru73dm4npYy4CkkD6R5E",
     "type":"MD",
     "hide_input_from_viewers":false,
     "hide_output_from_viewers":false,
     "report_properties":{
      "rowId":"3CTGkwTGdcPssSrUxNYCe5"
     }
    }
   }
  },
  {
   "cell_type":"code",
   "source":[
    "df[\"target\"].value_counts()"
   ],
   "execution_count":12,
   "outputs":[
    {
     "data":{
      "text\/html":[
       "<pre>0.0    50\n",
       "1.0    50\n",
       "2.0    50\n",
       "Name: target, dtype: int64<\/pre>"
      ]
     },
     "metadata":{},
     "output_type":"display_data"
    }
   ],
   "metadata":{
    "datalore":{
     "node_id":"gQrg9jRrgvYaoqGBM3zDFm",
     "type":"CODE",
     "hide_input_from_viewers":false,
     "hide_output_from_viewers":false,
     "report_properties":{
      "rowId":"pwS0DEPFLJGgYfW20nT5X9"
     }
    }
   }
  },
  {
   "cell_type":"code",
   "source":[
    "df.duplicated()"
   ],
   "execution_count":13,
   "outputs":[
    {
     "data":{
      "text\/html":[
       "<pre>0      False\n",
       "1      False\n",
       "2      False\n",
       "3      False\n",
       "4      False\n",
       "       ...  \n",
       "145    False\n",
       "146    False\n",
       "147    False\n",
       "148    False\n",
       "149    False\n",
       "Length: 150, dtype: bool<\/pre>"
      ]
     },
     "metadata":{},
     "output_type":"display_data"
    }
   ],
   "metadata":{
    "datalore":{
     "node_id":"oQZXchZa4zWcPnOqsYVtx0",
     "type":"CODE",
     "hide_input_from_viewers":true,
     "hide_output_from_viewers":true
    }
   }
  },
  {
   "cell_type":"code",
   "source":[
    "df.duplicated().value_counts()"
   ],
   "execution_count":14,
   "outputs":[
    {
     "data":{
      "text\/html":[
       "<pre>False    149\n",
       "True       1\n",
       "dtype: int64<\/pre>"
      ]
     },
     "metadata":{},
     "output_type":"display_data"
    }
   ],
   "metadata":{
    "datalore":{
     "node_id":"jjWiGNCA5fCgCmS56l4XDg",
     "type":"CODE",
     "hide_input_from_viewers":true,
     "hide_output_from_viewers":true
    }
   }
  },
  {
   "cell_type":"markdown",
   "source":[
    "*1) 0[Your answers here]*\n",
    "\n",
    "2) Oui, parce que nous avons le même nombre d'échantillons pour chaque classe, les informations ont été obtenues à partir de la documentation et du script df[\"target\"].value_counts(), qui nous montre que :\n",
    "\n",
    "\n",
    "      target\n",
    "\n",
    "0.0   50\n",
    "1.0   50\n",
    "2.0   50\n",
    "\n",
    "Class Distribution:\n",
    "33.3% for each of 3 classes.\n",
    "\n",
    "3) À travers le script df.duplicated().value_counts(), on determine que :\n",
    "\n",
    "False  149\n",
    "True   1\n",
    "\n",
    "To answer the question of whether it is good or bad to have duplicate data, which depends on the case because sometimes it might be true to a real situation and other times just a mistake, one has to analyse each dataset critically."
   ],
   "attachments":{},
   "metadata":{
    "datalore":{
     "node_id":"19xCeSDqag41iT1OzHhmGB",
     "type":"MD",
     "hide_input_from_viewers":false,
     "hide_output_from_viewers":false,
     "report_properties":{
      "rowId":"h9E0LencBHKVjAADWROmiY"
     }
    }
   }
  },
  {
   "cell_type":"markdown",
   "source":[
    "### Making the data more convenient to use\n",
    "\n",
    "You have probably noticed that the column names are quite long and also contain spaces, which is generally inconvenient in code. You can use the following code to change them:"
   ],
   "attachments":{},
   "metadata":{
    "datalore":{
     "node_id":"gRNmsDuI2Z5iz4mwEaXGII",
     "type":"MD",
     "hide_input_from_viewers":false,
     "hide_output_from_viewers":false,
     "report_properties":{
      "rowId":"XOqoxegbvaLyPTVswd3kVD"
     }
    }
   }
  },
  {
   "cell_type":"code",
   "source":[
    "df.columns = ['sepal_length', 'sepal_width', 'petal_length', 'petal_width', \"species\"]\n",
    "df"
   ],
   "execution_count":15,
   "outputs":[
    {
     "data":{
      "text\/html":[
       "<div>\n",
       "<style scoped>\n",
       "    .dataframe tbody tr th:only-of-type {\n",
       "        vertical-align: middle;\n",
       "    }\n",
       "\n",
       "    .dataframe tbody tr th {\n",
       "        vertical-align: top;\n",
       "    }\n",
       "\n",
       "    .dataframe thead th {\n",
       "        text-align: right;\n",
       "    }\n",
       "<\/style>\n",
       "<table border=\"1\" class=\"dataframe\">\n",
       "  <thead>\n",
       "    <tr style=\"text-align: right;\">\n",
       "      <th><\/th>\n",
       "      <th>sepal_length<\/th>\n",
       "      <th>sepal_width<\/th>\n",
       "      <th>petal_length<\/th>\n",
       "      <th>petal_width<\/th>\n",
       "      <th>species<\/th>\n",
       "    <\/tr>\n",
       "  <\/thead>\n",
       "  <tbody>\n",
       "    <tr>\n",
       "      <th>0<\/th>\n",
       "      <td>5.1<\/td>\n",
       "      <td>3.5<\/td>\n",
       "      <td>1.4<\/td>\n",
       "      <td>0.2<\/td>\n",
       "      <td>0.0<\/td>\n",
       "    <\/tr>\n",
       "    <tr>\n",
       "      <th>1<\/th>\n",
       "      <td>4.9<\/td>\n",
       "      <td>3.0<\/td>\n",
       "      <td>1.4<\/td>\n",
       "      <td>0.2<\/td>\n",
       "      <td>0.0<\/td>\n",
       "    <\/tr>\n",
       "    <tr>\n",
       "      <th>2<\/th>\n",
       "      <td>4.7<\/td>\n",
       "      <td>3.2<\/td>\n",
       "      <td>1.3<\/td>\n",
       "      <td>0.2<\/td>\n",
       "      <td>0.0<\/td>\n",
       "    <\/tr>\n",
       "    <tr>\n",
       "      <th>3<\/th>\n",
       "      <td>4.6<\/td>\n",
       "      <td>3.1<\/td>\n",
       "      <td>1.5<\/td>\n",
       "      <td>0.2<\/td>\n",
       "      <td>0.0<\/td>\n",
       "    <\/tr>\n",
       "    <tr>\n",
       "      <th>4<\/th>\n",
       "      <td>5.0<\/td>\n",
       "      <td>3.6<\/td>\n",
       "      <td>1.4<\/td>\n",
       "      <td>0.2<\/td>\n",
       "      <td>0.0<\/td>\n",
       "    <\/tr>\n",
       "    <tr>\n",
       "      <th>...<\/th>\n",
       "      <td>...<\/td>\n",
       "      <td>...<\/td>\n",
       "      <td>...<\/td>\n",
       "      <td>...<\/td>\n",
       "      <td>...<\/td>\n",
       "    <\/tr>\n",
       "    <tr>\n",
       "      <th>145<\/th>\n",
       "      <td>6.7<\/td>\n",
       "      <td>3.0<\/td>\n",
       "      <td>5.2<\/td>\n",
       "      <td>2.3<\/td>\n",
       "      <td>2.0<\/td>\n",
       "    <\/tr>\n",
       "    <tr>\n",
       "      <th>146<\/th>\n",
       "      <td>6.3<\/td>\n",
       "      <td>2.5<\/td>\n",
       "      <td>5.0<\/td>\n",
       "      <td>1.9<\/td>\n",
       "      <td>2.0<\/td>\n",
       "    <\/tr>\n",
       "    <tr>\n",
       "      <th>147<\/th>\n",
       "      <td>6.5<\/td>\n",
       "      <td>3.0<\/td>\n",
       "      <td>5.2<\/td>\n",
       "      <td>2.0<\/td>\n",
       "      <td>2.0<\/td>\n",
       "    <\/tr>\n",
       "    <tr>\n",
       "      <th>148<\/th>\n",
       "      <td>6.2<\/td>\n",
       "      <td>3.4<\/td>\n",
       "      <td>5.4<\/td>\n",
       "      <td>2.3<\/td>\n",
       "      <td>2.0<\/td>\n",
       "    <\/tr>\n",
       "    <tr>\n",
       "      <th>149<\/th>\n",
       "      <td>5.9<\/td>\n",
       "      <td>3.0<\/td>\n",
       "      <td>5.1<\/td>\n",
       "      <td>1.8<\/td>\n",
       "      <td>2.0<\/td>\n",
       "    <\/tr>\n",
       "  <\/tbody>\n",
       "<\/table>\n",
       "<p>150 rows × 5 columns<\/p>\n",
       "<\/div>"
      ]
     },
     "metadata":{},
     "output_type":"display_data"
    }
   ],
   "metadata":{
    "datalore":{
     "node_id":"4lECju4xGzoUgjBr0JZZQ5",
     "type":"CODE",
     "hide_input_from_viewers":false,
     "hide_output_from_viewers":false,
     "report_properties":{
      "rowId":"OCn09sTWSMWAUhEA8BlsvB"
     }
    }
   }
  },
  {
   "cell_type":"markdown",
   "source":[
    "**Bonus question**: How else can you rename columns in a dataframe?"
   ],
   "attachments":{},
   "metadata":{
    "datalore":{
     "node_id":"UUfZZYmJFJhoz6CjImoTf1",
     "type":"MD",
     "hide_input_from_viewers":false,
     "hide_output_from_viewers":false,
     "report_properties":{
      "rowId":"js9Gwh9fVzuJZgJJsYqNob"
     }
    }
   }
  },
  {
   "cell_type":"code",
   "source":[
    "# Your code here"
   ],
   "execution_count":null,
   "outputs":[],
   "metadata":{
    "datalore":{
     "node_id":"0RFmrJJaW5nXdN8ZwYtPtk",
     "type":"CODE",
     "hide_input_from_viewers":false,
     "hide_output_from_viewers":false,
     "report_properties":{
      "rowId":"Fjp4I7qw6yOhMkzhYk1Hnq"
     }
    }
   }
  },
  {
   "cell_type":"markdown",
   "source":[
    "The `class_float` column is also a bit hard to read, because the classes are represented by numbers. This can be preferable for some algorithms, but for our use case today we will replace these values by explicit names. For this, we will use the `DataFrame.apply()` function."
   ],
   "attachments":{},
   "metadata":{
    "datalore":{
     "node_id":"5nEg8FHMt6NWnWn5BsNrOI",
     "type":"MD",
     "hide_input_from_viewers":false,
     "hide_output_from_viewers":false,
     "report_properties":{
      "rowId":"HuLntw4RJoQ6FAJIunddY6"
     }
    }
   }
  },
  {
   "cell_type":"code",
   "source":[
    "# This is the function we will apply to the \"class_float\" column\n",
    "def name_mapping(number:float):\n",
    "    \"\"\"This function maps 0.0, 1.0 and 2.0 to their corresponding values in the iris dataset.\"\"\"\n",
    "\n",
    "    name_map = {\n",
    "        0.0: \"setosa\", # replace by the correct name\n",
    "        1.0: \"vericolour\", # replace by the correct name\n",
    "        2.0: \"virginica\", # replace by the correct name\n",
    "    }\n",
    "\n",
    "    if number not in name_map.keys(): # making sure the number is one of the expected values\n",
    "        raise ValueError(\"Not a valid number!\")\n",
    "\n",
    "    return name_map[number] # This is an alternative to using a lot of if\/else blocks"
   ],
   "execution_count":16,
   "outputs":[],
   "metadata":{
    "datalore":{
     "node_id":"ev3KbvbcBZPNRqYeztHJoJ",
     "type":"CODE",
     "hide_input_from_viewers":false,
     "hide_output_from_viewers":false,
     "report_properties":{
      "rowId":"HZOTODDgxWF00SO0CuswKS"
     }
    }
   }
  },
  {
   "cell_type":"code",
   "source":[
    "# We can now apply the function\n",
    "df[\"species\"] = df[\"species\"].apply(name_mapping) # We pass the function as parameter, not its result! This is why we must not use parentheses."
   ],
   "execution_count":17,
   "outputs":[],
   "metadata":{
    "datalore":{
     "node_id":"TC0JMDJpvuF78ecCWqIcdq",
     "type":"CODE",
     "hide_input_from_viewers":false,
     "hide_output_from_viewers":false,
     "report_properties":{
      "rowId":"6aPgBkfncfudWfGLGWoTFs"
     }
    }
   }
  },
  {
   "cell_type":"code",
   "source":[
    "# And check the result\n",
    "df"
   ],
   "execution_count":18,
   "outputs":[
    {
     "data":{
      "text\/html":[
       "<div>\n",
       "<style scoped>\n",
       "    .dataframe tbody tr th:only-of-type {\n",
       "        vertical-align: middle;\n",
       "    }\n",
       "\n",
       "    .dataframe tbody tr th {\n",
       "        vertical-align: top;\n",
       "    }\n",
       "\n",
       "    .dataframe thead th {\n",
       "        text-align: right;\n",
       "    }\n",
       "<\/style>\n",
       "<table border=\"1\" class=\"dataframe\">\n",
       "  <thead>\n",
       "    <tr style=\"text-align: right;\">\n",
       "      <th><\/th>\n",
       "      <th>sepal_length<\/th>\n",
       "      <th>sepal_width<\/th>\n",
       "      <th>petal_length<\/th>\n",
       "      <th>petal_width<\/th>\n",
       "      <th>species<\/th>\n",
       "    <\/tr>\n",
       "  <\/thead>\n",
       "  <tbody>\n",
       "    <tr>\n",
       "      <th>0<\/th>\n",
       "      <td>5.1<\/td>\n",
       "      <td>3.5<\/td>\n",
       "      <td>1.4<\/td>\n",
       "      <td>0.2<\/td>\n",
       "      <td>setosa<\/td>\n",
       "    <\/tr>\n",
       "    <tr>\n",
       "      <th>1<\/th>\n",
       "      <td>4.9<\/td>\n",
       "      <td>3.0<\/td>\n",
       "      <td>1.4<\/td>\n",
       "      <td>0.2<\/td>\n",
       "      <td>setosa<\/td>\n",
       "    <\/tr>\n",
       "    <tr>\n",
       "      <th>2<\/th>\n",
       "      <td>4.7<\/td>\n",
       "      <td>3.2<\/td>\n",
       "      <td>1.3<\/td>\n",
       "      <td>0.2<\/td>\n",
       "      <td>setosa<\/td>\n",
       "    <\/tr>\n",
       "    <tr>\n",
       "      <th>3<\/th>\n",
       "      <td>4.6<\/td>\n",
       "      <td>3.1<\/td>\n",
       "      <td>1.5<\/td>\n",
       "      <td>0.2<\/td>\n",
       "      <td>setosa<\/td>\n",
       "    <\/tr>\n",
       "    <tr>\n",
       "      <th>4<\/th>\n",
       "      <td>5.0<\/td>\n",
       "      <td>3.6<\/td>\n",
       "      <td>1.4<\/td>\n",
       "      <td>0.2<\/td>\n",
       "      <td>setosa<\/td>\n",
       "    <\/tr>\n",
       "    <tr>\n",
       "      <th>...<\/th>\n",
       "      <td>...<\/td>\n",
       "      <td>...<\/td>\n",
       "      <td>...<\/td>\n",
       "      <td>...<\/td>\n",
       "      <td>...<\/td>\n",
       "    <\/tr>\n",
       "    <tr>\n",
       "      <th>145<\/th>\n",
       "      <td>6.7<\/td>\n",
       "      <td>3.0<\/td>\n",
       "      <td>5.2<\/td>\n",
       "      <td>2.3<\/td>\n",
       "      <td>virginica<\/td>\n",
       "    <\/tr>\n",
       "    <tr>\n",
       "      <th>146<\/th>\n",
       "      <td>6.3<\/td>\n",
       "      <td>2.5<\/td>\n",
       "      <td>5.0<\/td>\n",
       "      <td>1.9<\/td>\n",
       "      <td>virginica<\/td>\n",
       "    <\/tr>\n",
       "    <tr>\n",
       "      <th>147<\/th>\n",
       "      <td>6.5<\/td>\n",
       "      <td>3.0<\/td>\n",
       "      <td>5.2<\/td>\n",
       "      <td>2.0<\/td>\n",
       "      <td>virginica<\/td>\n",
       "    <\/tr>\n",
       "    <tr>\n",
       "      <th>148<\/th>\n",
       "      <td>6.2<\/td>\n",
       "      <td>3.4<\/td>\n",
       "      <td>5.4<\/td>\n",
       "      <td>2.3<\/td>\n",
       "      <td>virginica<\/td>\n",
       "    <\/tr>\n",
       "    <tr>\n",
       "      <th>149<\/th>\n",
       "      <td>5.9<\/td>\n",
       "      <td>3.0<\/td>\n",
       "      <td>5.1<\/td>\n",
       "      <td>1.8<\/td>\n",
       "      <td>virginica<\/td>\n",
       "    <\/tr>\n",
       "  <\/tbody>\n",
       "<\/table>\n",
       "<p>150 rows × 5 columns<\/p>\n",
       "<\/div>"
      ]
     },
     "metadata":{},
     "output_type":"display_data"
    }
   ],
   "metadata":{
    "datalore":{
     "node_id":"8AM7ijQ4dI4UI4qBJC8cwi",
     "type":"CODE",
     "hide_input_from_viewers":false,
     "hide_output_from_viewers":false,
     "report_properties":{
      "rowId":"fI8srObYQ7wtUAet5tMWSv"
     }
    }
   }
  },
  {
   "cell_type":"markdown",
   "source":[
    "## Data visualization\n",
    "\n",
    "Data visualization will help us:\n",
    "- Confirming and observing things we already know\n",
    "- Learning new facts about the data\n",
    "\n",
    "In this section **keep in mind that the goal of machine learning algorithms would be to classify the different species of iris**."
   ],
   "attachments":{},
   "metadata":{
    "datalore":{
     "node_id":"Q75e7Uz24gFWmINSSyswdI",
     "type":"MD",
     "hide_input_from_viewers":false,
     "hide_output_from_viewers":false,
     "report_properties":{
      "rowId":"TtgnT8PVQUdfbu8z7aEg9w"
     }
    }
   }
  },
  {
   "cell_type":"markdown",
   "source":[
    "### Countplot\n",
    "What does a `countplot` show? With what other function did you get similar results earlier?\n",
    "Try experimenting with the parameters of the function."
   ],
   "attachments":{},
   "metadata":{
    "datalore":{
     "node_id":"Ii8jyUgfOWTj9Yu9UJAJkq",
     "type":"MD",
     "hide_input_from_viewers":false,
     "hide_output_from_viewers":false,
     "report_properties":{
      "rowId":"ym2jz3MqtbIO6uNLiWWvAg"
     }
    }
   }
  },
  {
   "cell_type":"code",
   "source":[
    "sns.countplot(x='species', data=df, )\n",
    "plt.show()"
   ],
   "execution_count":19,
   "outputs":[
    {
     "data":{
      "image\/png":"[encoded data removed]"
     },
     "metadata":{
      "image\/png":{}
     },
     "output_type":"display_data"
    }
   ],
   "metadata":{
    "datalore":{
     "node_id":"hahsQOHLI9cjMmJvWveFB3",
     "type":"CODE",
     "hide_input_from_viewers":false,
     "hide_output_from_viewers":false,
     "report_properties":{
      "rowId":"zZiOVMmtZk2BzyY4lYEdlf"
     }
    }
   }
  },
  {
   "cell_type":"code",
   "source":[
    "sns.countplot(x='species', data=df, )\n",
    "plt.show()"
   ],
   "execution_count":21,
   "outputs":[
    {
     "data":{
      "image\/png":"[encoded data removed]"
     },
     "metadata":{
      "image\/png":{}
     },
     "output_type":"display_data"
    }
   ],
   "metadata":{
    "datalore":{
     "node_id":"HH0YurY41TTA33O8xyOx3g",
     "type":"CODE",
     "hide_input_from_viewers":true,
     "hide_output_from_viewers":true
    }
   }
  },
  {
   "cell_type":"markdown",
   "source":[
    "### Boxplot\n",
    "What does a `boxplot` show? With what other function did you get similar results earlier?\n",
    "In your opinion, why would you need this type of graph?"
   ],
   "attachments":{},
   "metadata":{
    "datalore":{
     "node_id":"RNShwxE1YxUD9piWorTh3g",
     "type":"MD",
     "hide_input_from_viewers":false,
     "hide_output_from_viewers":false,
     "report_properties":{
      "rowId":"jAUjzrcYJ3mp4SrjWEGi67"
     }
    }
   }
  },
  {
   "cell_type":"code",
   "source":[
    "# Utility function to simplify syntax later on\n",
    "def boxplot(y):\n",
    "    sns.boxplot(x=\"species\", y=y, data=df)\n",
    "\n",
    "# We define a figure where we will be adding our graphs\n",
    "plt.figure(figsize=(12,10))\n",
    "\n",
    "# And then add the plots to the grid on specific positions\n",
    "plt.subplot(221)\n",
    "boxplot('sepal_length')\n",
    "\n",
    "plt.subplot(222)\n",
    "boxplot('sepal_width')\n",
    "\n",
    "plt.subplot(223)\n",
    "boxplot('petal_length')\n",
    "\n",
    "plt.subplot(224)\n",
    "boxplot('petal_width')\n",
    "\n",
    "plt.show()"
   ],
   "execution_count":29,
   "outputs":[
    {
     "data":{
      "image\/png":"[encoded data removed]"
     },
     "metadata":{
      "image\/png":{}
     },
     "output_type":"display_data"
    }
   ],
   "metadata":{
    "datalore":{
     "node_id":"Ki06mW4BwKGdDDdnDUAnBc",
     "type":"CODE",
     "hide_input_from_viewers":false,
     "hide_output_from_viewers":false,
     "report_properties":{
      "rowId":"dUxHV3dWf4Ns9Sb82CFlOv"
     }
    }
   }
  },
  {
   "cell_type":"code",
   "source":[
    "def boxplot(y):\n",
    "    sns.boxplot(x=\"species\", y=y, data=df)\n",
    "\n",
    "# We define a figure where we will be adding our graphs\n",
    "plt.figure(figsize=(10,10))\n",
    "\n",
    "# And then add the plots to the grid on specific positions\n",
    "plt.subplot(221)\n",
    "boxplot('sepal_length')\n",
    "\n",
    "plt.subplot(222)\n",
    "boxplot('sepal_width')\n",
    "\n",
    "plt.subplot(223)\n",
    "boxplot('petal_length')\n",
    "\n",
    "plt.subplot(224)\n",
    "boxplot('petal_width')\n",
    "\n",
    "plt.show()"
   ],
   "execution_count":30,
   "outputs":[
    {
     "data":{
      "image\/png":"[encoded data removed]"
     },
     "metadata":{
      "image\/png":{}
     },
     "output_type":"display_data"
    }
   ],
   "metadata":{
    "datalore":{
     "node_id":"RcBDVPdfY6SE9XA4d40yOG",
     "type":"CODE",
     "hide_input_from_viewers":true,
     "hide_output_from_viewers":true
    }
   }
  },
  {
   "cell_type":"markdown",
   "source":[
    "### Scatterplot\n",
    "What does a `scatterplot` show?\n",
    "What conclusions can you draw from this graph?\n",
    "Try changing the inputs of the function. Does this change your observations? What new conclusions can you draw from this?"
   ],
   "attachments":{},
   "metadata":{
    "datalore":{
     "node_id":"t9TZp5goTsYUAvVWrqIjNz",
     "type":"MD",
     "hide_input_from_viewers":false,
     "hide_output_from_viewers":false,
     "report_properties":{
      "rowId":"Q4iOoapDx8U0rEjgZHXGrD"
     }
    }
   }
  },
  {
   "cell_type":"code",
   "source":[
    "sns.scatterplot(x='sepal_length', y='sepal_width', hue='species', data=df, )\n",
    "plt.legend(bbox_to_anchor=(1, 1), loc=2) # Displays the legend outside the graph\n",
    "plt.show()"
   ],
   "execution_count":31,
   "outputs":[
    {
     "data":{
      "image\/png":"[encoded data removed]"
     },
     "metadata":{
      "image\/png":{}
     },
     "output_type":"display_data"
    }
   ],
   "metadata":{
    "datalore":{
     "node_id":"6fJ4Ud8w68pZkmxjIr3HM5",
     "type":"CODE",
     "hide_input_from_viewers":false,
     "hide_output_from_viewers":false,
     "report_properties":{
      "rowId":"nBXhNWKtTkIwlnTIulk65W"
     }
    }
   }
  },
  {
   "cell_type":"code",
   "source":[
    "sns.scatterplot(x='sepal_width', y='sepal_length', hue='species', data=df, )\n",
    "plt.legend(bbox_to_anchor=(1, 1), loc=2) # Displays the legend outside the graph\n",
    "plt.show()"
   ],
   "execution_count":32,
   "outputs":[
    {
     "data":{
      "image\/png":"[encoded data removed]"
     },
     "metadata":{
      "image\/png":{}
     },
     "output_type":"display_data"
    }
   ],
   "metadata":{
    "datalore":{
     "node_id":"T69lXbO5W4mSKDAVu7uQMg",
     "type":"CODE",
     "hide_input_from_viewers":true,
     "hide_output_from_viewers":true
    }
   }
  },
  {
   "cell_type":"markdown",
   "source":[
    "### Displot\n",
    "What does a `displot` show?\n",
    "In the documentation, find what the \"kind\" parameter does, and try all the kinds of plot.\n",
    "Can you imagine a use for the kde plots?"
   ],
   "attachments":{},
   "metadata":{
    "datalore":{
     "node_id":"TSdem5FT0l2pak0E7bjqkn",
     "type":"MD",
     "hide_input_from_viewers":false,
     "hide_output_from_viewers":false,
     "report_properties":{
      "rowId":"sVxTy7cLqBKtpEUJK89Tok"
     }
    }
   }
  },
  {
   "cell_type":"code",
   "source":[
    "sns.displot(df, x=\"sepal_length\", kind=\"kde\", hue=\"species\")"
   ],
   "execution_count":33,
   "outputs":[
    {
     "data":{
      "text\/plain":[
       "<seaborn.axisgrid.FacetGrid at 0x7fe9b0e71f10>"
      ]
     },
     "metadata":{},
     "output_type":"display_data"
    },
    {
     "data":{
      "image\/png":"[encoded data removed]"
     },
     "metadata":{
      "image\/png":{}
     },
     "output_type":"display_data"
    }
   ],
   "metadata":{
    "datalore":{
     "node_id":"Jkv6U3kOkzCoWJ1Z7sFnOp",
     "type":"CODE",
     "hide_input_from_viewers":false,
     "hide_output_from_viewers":false,
     "report_properties":{
      "rowId":"z8QhZfXT1sqQvgf5Xash45"
     }
    }
   }
  },
  {
   "cell_type":"code",
   "source":[
    "sns.displot(df, x=\"petal_length\", kind=\"kde\", hue=\"species\")"
   ],
   "execution_count":34,
   "outputs":[
    {
     "data":{
      "text\/plain":[
       "<seaborn.axisgrid.FacetGrid at 0x7fe9b0f37370>"
      ]
     },
     "metadata":{},
     "output_type":"display_data"
    },
    {
     "data":{
      "image\/png":"[encoded data removed]"
     },
     "metadata":{
      "image\/png":{}
     },
     "output_type":"display_data"
    }
   ],
   "metadata":{
    "datalore":{
     "node_id":"h2eGaXNzu9HozYRFDaLsrn",
     "type":"CODE",
     "hide_input_from_viewers":true,
     "hide_output_from_viewers":true
    }
   }
  },
  {
   "cell_type":"code",
   "source":[
    "sns.displot(df, x=\"petal_length\", kind=\"hist\", hue=\"species\")"
   ],
   "execution_count":35,
   "outputs":[
    {
     "data":{
      "text\/plain":[
       "<seaborn.axisgrid.FacetGrid at 0x7fe9b0edcf70>"
      ]
     },
     "metadata":{},
     "output_type":"display_data"
    },
    {
     "data":{
      "image\/png":"[encoded data removed]"
     },
     "metadata":{
      "image\/png":{}
     },
     "output_type":"display_data"
    }
   ],
   "metadata":{
    "datalore":{
     "node_id":"NyxftE1EPyqWh7PRe0KWbr",
     "type":"CODE",
     "hide_input_from_viewers":true,
     "hide_output_from_viewers":true
    }
   }
  },
  {
   "cell_type":"markdown",
   "source":[
    "### Pairplot\n",
    "What does a `pairplot` show?\n",
    "Can you draw any new conclusions from it?\n",
    "In your opinion, what could be the uses of such a graph?"
   ],
   "attachments":{},
   "metadata":{
    "datalore":{
     "node_id":"GkN4N1oyeOjmq84mMxvLdv",
     "type":"MD",
     "hide_input_from_viewers":false,
     "hide_output_from_viewers":false,
     "report_properties":{
      "rowId":"UF3qTzJWEuBGwxMdFlFbjR"
     }
    }
   }
  },
  {
   "cell_type":"code",
   "source":[
    "sns.pairplot(df, hue='species', height=2)"
   ],
   "execution_count":36,
   "outputs":[
    {
     "data":{
      "text\/plain":[
       "<seaborn.axisgrid.PairGrid at 0x7fe9b1a997c0>"
      ]
     },
     "metadata":{},
     "output_type":"display_data"
    },
    {
     "data":{
      "image\/png":"[encoded data removed]"
     },
     "metadata":{
      "image\/png":{}
     },
     "output_type":"display_data"
    }
   ],
   "metadata":{
    "datalore":{
     "node_id":"37MSNppS8XubygNj6yek26",
     "type":"CODE",
     "hide_input_from_viewers":false,
     "hide_output_from_viewers":false,
     "report_properties":{
      "rowId":"O0dYpLFG7XtAKydn3e54aT"
     }
    }
   }
  },
  {
   "cell_type":"markdown",
   "source":[
    "### Histogram\n",
    "Histograms will not teach us anything new here, but they can be another way of visualizing data."
   ],
   "attachments":{},
   "metadata":{
    "datalore":{
     "node_id":"ysrRWdAtxm2hVCuTCtQsLJ",
     "type":"MD",
     "hide_input_from_viewers":false,
     "hide_output_from_viewers":false,
     "report_properties":{
      "rowId":"otaiYbi144U9065uHHvLCY"
     }
    }
   }
  },
  {
   "cell_type":"code",
   "source":[
    "fig, axes = plt.subplots(2, 2, figsize=(10,10))\n",
    "\n",
    "axes[0,0].set_title(\"Sepal Length\")\n",
    "axes[0,0].hist(df['sepal_length'], bins=7)\n",
    "\n",
    "axes[0,1].set_title(\"Sepal Width\")\n",
    "axes[0,1].hist(df['sepal_width'], bins=5)\n",
    "\n",
    "axes[1,0].set_title(\"Petal Length\")\n",
    "axes[1,0].hist(df['petal_length'], bins=6)\n",
    "\n",
    "axes[1,1].set_title(\"Petal Width\")\n",
    "axes[1,1].hist(df['petal_width'], bins=6);"
   ],
   "execution_count":37,
   "outputs":[
    {
     "data":{
      "image\/png":"[encoded data removed]"
     },
     "metadata":{
      "image\/png":{}
     },
     "output_type":"display_data"
    }
   ],
   "metadata":{
    "datalore":{
     "node_id":"KU5zFJQGb3Hf3bK4QXN2gI",
     "type":"CODE",
     "hide_input_from_viewers":false,
     "hide_output_from_viewers":false,
     "report_properties":{
      "rowId":"W6dOfGaPAaPO26tdUz5tHw"
     }
    }
   }
  },
  {
   "cell_type":"markdown",
   "source":[
    "### Correlation\n",
    "Correlation shows the relative importance of variables between each other. It can be computed directly with `pandas`."
   ],
   "attachments":{},
   "metadata":{
    "datalore":{
     "node_id":"HrOz3jsP1pTqwWeioIY199",
     "type":"MD",
     "hide_input_from_viewers":false,
     "hide_output_from_viewers":false,
     "report_properties":{
      "rowId":"Pq68WBPaPv6Qz8miyVwO1o"
     }
    }
   }
  },
  {
   "cell_type":"code",
   "source":[
    "df.corr(method='pearson')"
   ],
   "execution_count":38,
   "outputs":[
    {
     "name":"stderr",
     "text":[
      "<ipython-input-38-432dd9d4238b>:1: FutureWarning: The default value of numeric_only in DataFrame.corr is deprecated. In a future version, it will default to False. Select only valid columns or specify the value of numeric_only to silence this warning.\n",
      "  df.corr(method='pearson')\n"
     ],
     "output_type":"stream"
    },
    {
     "data":{
      "text\/html":[
       "<div>\n",
       "<style scoped>\n",
       "    .dataframe tbody tr th:only-of-type {\n",
       "        vertical-align: middle;\n",
       "    }\n",
       "\n",
       "    .dataframe tbody tr th {\n",
       "        vertical-align: top;\n",
       "    }\n",
       "\n",
       "    .dataframe thead th {\n",
       "        text-align: right;\n",
       "    }\n",
       "<\/style>\n",
       "<table border=\"1\" class=\"dataframe\">\n",
       "  <thead>\n",
       "    <tr style=\"text-align: right;\">\n",
       "      <th><\/th>\n",
       "      <th>sepal_length<\/th>\n",
       "      <th>sepal_width<\/th>\n",
       "      <th>petal_length<\/th>\n",
       "      <th>petal_width<\/th>\n",
       "    <\/tr>\n",
       "  <\/thead>\n",
       "  <tbody>\n",
       "    <tr>\n",
       "      <th>sepal_length<\/th>\n",
       "      <td>1.000000<\/td>\n",
       "      <td>-0.117570<\/td>\n",
       "      <td>0.871754<\/td>\n",
       "      <td>0.817941<\/td>\n",
       "    <\/tr>\n",
       "    <tr>\n",
       "      <th>sepal_width<\/th>\n",
       "      <td>-0.117570<\/td>\n",
       "      <td>1.000000<\/td>\n",
       "      <td>-0.428440<\/td>\n",
       "      <td>-0.366126<\/td>\n",
       "    <\/tr>\n",
       "    <tr>\n",
       "      <th>petal_length<\/th>\n",
       "      <td>0.871754<\/td>\n",
       "      <td>-0.428440<\/td>\n",
       "      <td>1.000000<\/td>\n",
       "      <td>0.962865<\/td>\n",
       "    <\/tr>\n",
       "    <tr>\n",
       "      <th>petal_width<\/th>\n",
       "      <td>0.817941<\/td>\n",
       "      <td>-0.366126<\/td>\n",
       "      <td>0.962865<\/td>\n",
       "      <td>1.000000<\/td>\n",
       "    <\/tr>\n",
       "  <\/tbody>\n",
       "<\/table>\n",
       "<\/div>"
      ]
     },
     "metadata":{},
     "output_type":"display_data"
    }
   ],
   "metadata":{
    "datalore":{
     "node_id":"og7dyayVpAwuMkI1GWKues",
     "type":"CODE",
     "hide_input_from_viewers":false,
     "hide_output_from_viewers":false,
     "report_properties":{
      "rowId":"8ywX67E6AHb4wri7YJ1zRN"
     }
    }
   }
  },
  {
   "cell_type":"markdown",
   "source":[
    "`heatmaps` make it easier to see which correlations are the most important."
   ],
   "attachments":{},
   "metadata":{
    "datalore":{
     "node_id":"Yz6R8ZbDHyKQxluVWQsuOf",
     "type":"MD",
     "hide_input_from_viewers":false,
     "hide_output_from_viewers":false,
     "report_properties":{
      "rowId":"gYLIG1LlDf4hZ3g6BqQSGX"
     }
    }
   }
  },
  {
   "cell_type":"code",
   "source":[
    "sns.heatmap(df.corr(method='pearson'),annot = True)\n",
    "plt.show()"
   ],
   "execution_count":39,
   "outputs":[
    {
     "name":"stderr",
     "text":[
      "<ipython-input-39-4eb2f8f6d9ba>:1: FutureWarning: The default value of numeric_only in DataFrame.corr is deprecated. In a future version, it will default to False. Select only valid columns or specify the value of numeric_only to silence this warning.\n",
      "  sns.heatmap(df.corr(method='pearson'),annot = True)\n"
     ],
     "output_type":"stream"
    },
    {
     "data":{
      "image\/png":"[encoded data removed]"
     },
     "metadata":{
      "image\/png":{}
     },
     "output_type":"display_data"
    }
   ],
   "metadata":{
    "datalore":{
     "node_id":"2toGtPF1ZX1KFq4ujjg1CO",
     "type":"CODE",
     "hide_input_from_viewers":false,
     "hide_output_from_viewers":false,
     "report_properties":{
      "rowId":"z7bSJhXiGPHokXKH5Oernh"
     }
    }
   }
  },
  {
   "cell_type":"markdown",
   "source":[
    "### Covariance\n",
    "In the same way, try displaying the covariance matrix with a `heatmap`!\n",
    "\n",
    "*Hint: You can access the covariance matrix with the `cov()` function.*"
   ],
   "attachments":{},
   "metadata":{
    "datalore":{
     "node_id":"b0GKZ1hENcstN76IezlrYT",
     "type":"MD",
     "hide_input_from_viewers":false,
     "hide_output_from_viewers":false,
     "report_properties":{
      "rowId":"fD3MyP2qNVo0VKv2l58sRC"
     }
    }
   }
  },
  {
   "cell_type":"code",
   "source":[
    "sns.heatmap(df.cov(),annot = True)\n",
    "plt.show()"
   ],
   "execution_count":null,
   "outputs":[
    {
     "name":"stdout",
     "text":[
      "\n"
     ],
     "output_type":"stream"
    },
    {
     "name":"stderr",
     "text":[
      "<ipython-input-71-efe015f87520>:1: FutureWarning: The default value of numeric_only in DataFrame.cov is deprecated. In a future version, it will default to False. Select only valid columns or specify the value of numeric_only to silence this warning.\n",
      "  sns.heatmap(df.cov(),annot = True)\n",
      "\n"
     ],
     "output_type":"stream"
    },
    {
     "data":{
      "image\/png":"[encoded data removed]"
     },
     "metadata":{
      "image\/png":{}
     },
     "output_type":"display_data"
    }
   ],
   "metadata":{
    "datalore":{
     "node_id":"IJZTMgln6i7WCQHnGOjfg5",
     "type":"CODE",
     "hide_input_from_viewers":false,
     "hide_output_from_viewers":false,
     "report_properties":{
      "rowId":"meXACcpahOq3FEFmtVRTop"
     }
    }
   }
  },
  {
   "cell_type":"markdown",
   "source":[
    "## Try it yourself!\n",
    "As an exercise, try analysing another dataset that you do no know. There are many datasets freely available on the internet. For example, try loading [another one of sklearn's toy datasets](https:\/\/scikit-learn.org\/stable\/datasets\/toy_dataset.html)!"
   ],
   "attachments":{},
   "metadata":{
    "datalore":{
     "node_id":"oTgRazL8DIFqnzLd8tTqgM",
     "type":"MD",
     "hide_input_from_viewers":false,
     "hide_output_from_viewers":false,
     "report_properties":{
      "rowId":"TJAXqs5SEk5lfWiwvmkEsP"
     }
    }
   }
  },
  {
   "cell_type":"code",
   "source":[
    "diabetes = sklearn.datasets.load_diabetes()\n",
    "df = pd.DataFrame(data= np.c_[diabetes['data'], diabetes['target']], columns= diabetes['feature_names'] + ['target'])"
   ],
   "execution_count":43,
   "outputs":[],
   "metadata":{
    "datalore":{
     "node_id":"xNDd2LteGcPPzoO8ha116Q",
     "type":"CODE",
     "hide_input_from_viewers":false,
     "hide_output_from_viewers":false,
     "report_properties":{
      "rowId":"1wRKTnhiIbIfugKsfXKeuj"
     }
    }
   }
  },
  {
   "cell_type":"code",
   "source":[
    "df"
   ],
   "execution_count":55,
   "outputs":[
    {
     "data":{
      "text\/html":[
       "<div>\n",
       "<style scoped>\n",
       "    .dataframe tbody tr th:only-of-type {\n",
       "        vertical-align: middle;\n",
       "    }\n",
       "\n",
       "    .dataframe tbody tr th {\n",
       "        vertical-align: top;\n",
       "    }\n",
       "\n",
       "    .dataframe thead th {\n",
       "        text-align: right;\n",
       "    }\n",
       "<\/style>\n",
       "<table border=\"1\" class=\"dataframe\">\n",
       "  <thead>\n",
       "    <tr style=\"text-align: right;\">\n",
       "      <th><\/th>\n",
       "      <th>age<\/th>\n",
       "      <th>sex<\/th>\n",
       "      <th>bmi<\/th>\n",
       "      <th>bp<\/th>\n",
       "      <th>s1<\/th>\n",
       "      <th>s2<\/th>\n",
       "      <th>s3<\/th>\n",
       "      <th>s4<\/th>\n",
       "      <th>s5<\/th>\n",
       "      <th>s6<\/th>\n",
       "      <th>target<\/th>\n",
       "    <\/tr>\n",
       "  <\/thead>\n",
       "  <tbody>\n",
       "    <tr>\n",
       "      <th>0<\/th>\n",
       "      <td>0.038076<\/td>\n",
       "      <td>0.050680<\/td>\n",
       "      <td>0.061696<\/td>\n",
       "      <td>0.021872<\/td>\n",
       "      <td>-0.044223<\/td>\n",
       "      <td>-0.034821<\/td>\n",
       "      <td>-0.043401<\/td>\n",
       "      <td>-0.002592<\/td>\n",
       "      <td>0.019907<\/td>\n",
       "      <td>-0.017646<\/td>\n",
       "      <td>151.0<\/td>\n",
       "    <\/tr>\n",
       "    <tr>\n",
       "      <th>1<\/th>\n",
       "      <td>-0.001882<\/td>\n",
       "      <td>-0.044642<\/td>\n",
       "      <td>-0.051474<\/td>\n",
       "      <td>-0.026328<\/td>\n",
       "      <td>-0.008449<\/td>\n",
       "      <td>-0.019163<\/td>\n",
       "      <td>0.074412<\/td>\n",
       "      <td>-0.039493<\/td>\n",
       "      <td>-0.068332<\/td>\n",
       "      <td>-0.092204<\/td>\n",
       "      <td>75.0<\/td>\n",
       "    <\/tr>\n",
       "    <tr>\n",
       "      <th>2<\/th>\n",
       "      <td>0.085299<\/td>\n",
       "      <td>0.050680<\/td>\n",
       "      <td>0.044451<\/td>\n",
       "      <td>-0.005670<\/td>\n",
       "      <td>-0.045599<\/td>\n",
       "      <td>-0.034194<\/td>\n",
       "      <td>-0.032356<\/td>\n",
       "      <td>-0.002592<\/td>\n",
       "      <td>0.002861<\/td>\n",
       "      <td>-0.025930<\/td>\n",
       "      <td>141.0<\/td>\n",
       "    <\/tr>\n",
       "    <tr>\n",
       "      <th>3<\/th>\n",
       "      <td>-0.089063<\/td>\n",
       "      <td>-0.044642<\/td>\n",
       "      <td>-0.011595<\/td>\n",
       "      <td>-0.036656<\/td>\n",
       "      <td>0.012191<\/td>\n",
       "      <td>0.024991<\/td>\n",
       "      <td>-0.036038<\/td>\n",
       "      <td>0.034309<\/td>\n",
       "      <td>0.022688<\/td>\n",
       "      <td>-0.009362<\/td>\n",
       "      <td>206.0<\/td>\n",
       "    <\/tr>\n",
       "    <tr>\n",
       "      <th>4<\/th>\n",
       "      <td>0.005383<\/td>\n",
       "      <td>-0.044642<\/td>\n",
       "      <td>-0.036385<\/td>\n",
       "      <td>0.021872<\/td>\n",
       "      <td>0.003935<\/td>\n",
       "      <td>0.015596<\/td>\n",
       "      <td>0.008142<\/td>\n",
       "      <td>-0.002592<\/td>\n",
       "      <td>-0.031988<\/td>\n",
       "      <td>-0.046641<\/td>\n",
       "      <td>135.0<\/td>\n",
       "    <\/tr>\n",
       "    <tr>\n",
       "      <th>...<\/th>\n",
       "      <td>...<\/td>\n",
       "      <td>...<\/td>\n",
       "      <td>...<\/td>\n",
       "      <td>...<\/td>\n",
       "      <td>...<\/td>\n",
       "      <td>...<\/td>\n",
       "      <td>...<\/td>\n",
       "      <td>...<\/td>\n",
       "      <td>...<\/td>\n",
       "      <td>...<\/td>\n",
       "      <td>...<\/td>\n",
       "    <\/tr>\n",
       "    <tr>\n",
       "      <th>437<\/th>\n",
       "      <td>0.041708<\/td>\n",
       "      <td>0.050680<\/td>\n",
       "      <td>0.019662<\/td>\n",
       "      <td>0.059744<\/td>\n",
       "      <td>-0.005697<\/td>\n",
       "      <td>-0.002566<\/td>\n",
       "      <td>-0.028674<\/td>\n",
       "      <td>-0.002592<\/td>\n",
       "      <td>0.031193<\/td>\n",
       "      <td>0.007207<\/td>\n",
       "      <td>178.0<\/td>\n",
       "    <\/tr>\n",
       "    <tr>\n",
       "      <th>438<\/th>\n",
       "      <td>-0.005515<\/td>\n",
       "      <td>0.050680<\/td>\n",
       "      <td>-0.015906<\/td>\n",
       "      <td>-0.067642<\/td>\n",
       "      <td>0.049341<\/td>\n",
       "      <td>0.079165<\/td>\n",
       "      <td>-0.028674<\/td>\n",
       "      <td>0.034309<\/td>\n",
       "      <td>-0.018114<\/td>\n",
       "      <td>0.044485<\/td>\n",
       "      <td>104.0<\/td>\n",
       "    <\/tr>\n",
       "    <tr>\n",
       "      <th>439<\/th>\n",
       "      <td>0.041708<\/td>\n",
       "      <td>0.050680<\/td>\n",
       "      <td>-0.015906<\/td>\n",
       "      <td>0.017293<\/td>\n",
       "      <td>-0.037344<\/td>\n",
       "      <td>-0.013840<\/td>\n",
       "      <td>-0.024993<\/td>\n",
       "      <td>-0.011080<\/td>\n",
       "      <td>-0.046883<\/td>\n",
       "      <td>0.015491<\/td>\n",
       "      <td>132.0<\/td>\n",
       "    <\/tr>\n",
       "    <tr>\n",
       "      <th>440<\/th>\n",
       "      <td>-0.045472<\/td>\n",
       "      <td>-0.044642<\/td>\n",
       "      <td>0.039062<\/td>\n",
       "      <td>0.001215<\/td>\n",
       "      <td>0.016318<\/td>\n",
       "      <td>0.015283<\/td>\n",
       "      <td>-0.028674<\/td>\n",
       "      <td>0.026560<\/td>\n",
       "      <td>0.044529<\/td>\n",
       "      <td>-0.025930<\/td>\n",
       "      <td>220.0<\/td>\n",
       "    <\/tr>\n",
       "    <tr>\n",
       "      <th>441<\/th>\n",
       "      <td>-0.045472<\/td>\n",
       "      <td>-0.044642<\/td>\n",
       "      <td>-0.073030<\/td>\n",
       "      <td>-0.081413<\/td>\n",
       "      <td>0.083740<\/td>\n",
       "      <td>0.027809<\/td>\n",
       "      <td>0.173816<\/td>\n",
       "      <td>-0.039493<\/td>\n",
       "      <td>-0.004222<\/td>\n",
       "      <td>0.003064<\/td>\n",
       "      <td>57.0<\/td>\n",
       "    <\/tr>\n",
       "  <\/tbody>\n",
       "<\/table>\n",
       "<p>442 rows × 11 columns<\/p>\n",
       "<\/div>"
      ]
     },
     "metadata":{},
     "output_type":"display_data"
    }
   ],
   "metadata":{
    "datalore":{
     "node_id":"XG1ofzleateiTOlPJiNOf6",
     "type":"CODE",
     "hide_input_from_viewers":true,
     "hide_output_from_viewers":true
    }
   }
  },
  {
   "cell_type":"code",
   "source":[
    "df.shape"
   ],
   "execution_count":48,
   "outputs":[
    {
     "data":{
      "text\/plain":[
       "(442, 11)"
      ]
     },
     "metadata":{},
     "output_type":"display_data"
    }
   ],
   "metadata":{
    "datalore":{
     "node_id":"hmYJeEaomiJMojaaFw7GFy",
     "type":"CODE",
     "hide_input_from_viewers":true,
     "hide_output_from_viewers":true
    }
   }
  },
  {
   "cell_type":"code",
   "source":[
    "df.info ()"
   ],
   "execution_count":49,
   "outputs":[
    {
     "name":"stdout",
     "text":[
      "<class 'pandas.core.frame.DataFrame'>\n",
      "RangeIndex: 442 entries, 0 to 441\n",
      "Data columns (total 11 columns):\n",
      " #   Column  Non-Null Count  Dtype  \n",
      "---  ------  --------------  -----  \n",
      " 0   age     442 non-null    float64\n",
      " 1   sex     442 non-null    float64\n",
      " 2   bmi     442 non-null    float64\n",
      " 3   bp      442 non-null    float64\n",
      " 4   s1      442 non-null    float64\n",
      " 5   s2      442 non-null    float64\n",
      " 6   s3      442 non-null    float64\n",
      " 7   s4      442 non-null    float64\n",
      " 8   s5      442 non-null    float64\n",
      " 9   s6      442 non-null    float64\n",
      " 10  target  442 non-null    float64\n",
      "dtypes: float64(11)\n",
      "memory usage: 38.1 KB\n"
     ],
     "output_type":"stream"
    }
   ],
   "metadata":{
    "datalore":{
     "node_id":"hz6tvGUHFrshR5GnM2yW8B",
     "type":"CODE",
     "hide_input_from_viewers":true,
     "hide_output_from_viewers":true
    }
   }
  },
  {
   "cell_type":"code",
   "source":[
    "df.describe()"
   ],
   "execution_count":50,
   "outputs":[
    {
     "data":{
      "text\/html":[
       "<div>\n",
       "<style scoped>\n",
       "    .dataframe tbody tr th:only-of-type {\n",
       "        vertical-align: middle;\n",
       "    }\n",
       "\n",
       "    .dataframe tbody tr th {\n",
       "        vertical-align: top;\n",
       "    }\n",
       "\n",
       "    .dataframe thead th {\n",
       "        text-align: right;\n",
       "    }\n",
       "<\/style>\n",
       "<table border=\"1\" class=\"dataframe\">\n",
       "  <thead>\n",
       "    <tr style=\"text-align: right;\">\n",
       "      <th><\/th>\n",
       "      <th>age<\/th>\n",
       "      <th>sex<\/th>\n",
       "      <th>bmi<\/th>\n",
       "      <th>bp<\/th>\n",
       "      <th>s1<\/th>\n",
       "      <th>s2<\/th>\n",
       "      <th>s3<\/th>\n",
       "      <th>s4<\/th>\n",
       "      <th>s5<\/th>\n",
       "      <th>s6<\/th>\n",
       "      <th>target<\/th>\n",
       "    <\/tr>\n",
       "  <\/thead>\n",
       "  <tbody>\n",
       "    <tr>\n",
       "      <th>count<\/th>\n",
       "      <td>4.420000e+02<\/td>\n",
       "      <td>4.420000e+02<\/td>\n",
       "      <td>4.420000e+02<\/td>\n",
       "      <td>4.420000e+02<\/td>\n",
       "      <td>4.420000e+02<\/td>\n",
       "      <td>4.420000e+02<\/td>\n",
       "      <td>4.420000e+02<\/td>\n",
       "      <td>4.420000e+02<\/td>\n",
       "      <td>4.420000e+02<\/td>\n",
       "      <td>4.420000e+02<\/td>\n",
       "      <td>442.000000<\/td>\n",
       "    <\/tr>\n",
       "    <tr>\n",
       "      <th>mean<\/th>\n",
       "      <td>-2.511817e-19<\/td>\n",
       "      <td>1.230790e-17<\/td>\n",
       "      <td>-2.245564e-16<\/td>\n",
       "      <td>-4.797570e-17<\/td>\n",
       "      <td>-1.381499e-17<\/td>\n",
       "      <td>3.918434e-17<\/td>\n",
       "      <td>-5.777179e-18<\/td>\n",
       "      <td>-9.042540e-18<\/td>\n",
       "      <td>9.293722e-17<\/td>\n",
       "      <td>1.130318e-17<\/td>\n",
       "      <td>152.133484<\/td>\n",
       "    <\/tr>\n",
       "    <tr>\n",
       "      <th>std<\/th>\n",
       "      <td>4.761905e-02<\/td>\n",
       "      <td>4.761905e-02<\/td>\n",
       "      <td>4.761905e-02<\/td>\n",
       "      <td>4.761905e-02<\/td>\n",
       "      <td>4.761905e-02<\/td>\n",
       "      <td>4.761905e-02<\/td>\n",
       "      <td>4.761905e-02<\/td>\n",
       "      <td>4.761905e-02<\/td>\n",
       "      <td>4.761905e-02<\/td>\n",
       "      <td>4.761905e-02<\/td>\n",
       "      <td>77.093005<\/td>\n",
       "    <\/tr>\n",
       "    <tr>\n",
       "      <th>min<\/th>\n",
       "      <td>-1.072256e-01<\/td>\n",
       "      <td>-4.464164e-02<\/td>\n",
       "      <td>-9.027530e-02<\/td>\n",
       "      <td>-1.123988e-01<\/td>\n",
       "      <td>-1.267807e-01<\/td>\n",
       "      <td>-1.156131e-01<\/td>\n",
       "      <td>-1.023071e-01<\/td>\n",
       "      <td>-7.639450e-02<\/td>\n",
       "      <td>-1.260971e-01<\/td>\n",
       "      <td>-1.377672e-01<\/td>\n",
       "      <td>25.000000<\/td>\n",
       "    <\/tr>\n",
       "    <tr>\n",
       "      <th>25%<\/th>\n",
       "      <td>-3.729927e-02<\/td>\n",
       "      <td>-4.464164e-02<\/td>\n",
       "      <td>-3.422907e-02<\/td>\n",
       "      <td>-3.665608e-02<\/td>\n",
       "      <td>-3.424784e-02<\/td>\n",
       "      <td>-3.035840e-02<\/td>\n",
       "      <td>-3.511716e-02<\/td>\n",
       "      <td>-3.949338e-02<\/td>\n",
       "      <td>-3.324559e-02<\/td>\n",
       "      <td>-3.317903e-02<\/td>\n",
       "      <td>87.000000<\/td>\n",
       "    <\/tr>\n",
       "    <tr>\n",
       "      <th>50%<\/th>\n",
       "      <td>5.383060e-03<\/td>\n",
       "      <td>-4.464164e-02<\/td>\n",
       "      <td>-7.283766e-03<\/td>\n",
       "      <td>-5.670422e-03<\/td>\n",
       "      <td>-4.320866e-03<\/td>\n",
       "      <td>-3.819065e-03<\/td>\n",
       "      <td>-6.584468e-03<\/td>\n",
       "      <td>-2.592262e-03<\/td>\n",
       "      <td>-1.947171e-03<\/td>\n",
       "      <td>-1.077698e-03<\/td>\n",
       "      <td>140.500000<\/td>\n",
       "    <\/tr>\n",
       "    <tr>\n",
       "      <th>75%<\/th>\n",
       "      <td>3.807591e-02<\/td>\n",
       "      <td>5.068012e-02<\/td>\n",
       "      <td>3.124802e-02<\/td>\n",
       "      <td>3.564379e-02<\/td>\n",
       "      <td>2.835801e-02<\/td>\n",
       "      <td>2.984439e-02<\/td>\n",
       "      <td>2.931150e-02<\/td>\n",
       "      <td>3.430886e-02<\/td>\n",
       "      <td>3.243232e-02<\/td>\n",
       "      <td>2.791705e-02<\/td>\n",
       "      <td>211.500000<\/td>\n",
       "    <\/tr>\n",
       "    <tr>\n",
       "      <th>max<\/th>\n",
       "      <td>1.107267e-01<\/td>\n",
       "      <td>5.068012e-02<\/td>\n",
       "      <td>1.705552e-01<\/td>\n",
       "      <td>1.320436e-01<\/td>\n",
       "      <td>1.539137e-01<\/td>\n",
       "      <td>1.987880e-01<\/td>\n",
       "      <td>1.811791e-01<\/td>\n",
       "      <td>1.852344e-01<\/td>\n",
       "      <td>1.335973e-01<\/td>\n",
       "      <td>1.356118e-01<\/td>\n",
       "      <td>346.000000<\/td>\n",
       "    <\/tr>\n",
       "  <\/tbody>\n",
       "<\/table>\n",
       "<\/div>"
      ]
     },
     "metadata":{},
     "output_type":"display_data"
    }
   ],
   "metadata":{
    "datalore":{
     "node_id":"4zWkZWYXLn0KA8lsKJ3cCm",
     "type":"CODE",
     "hide_input_from_viewers":true,
     "hide_output_from_viewers":true
    }
   }
  },
  {
   "cell_type":"code",
   "source":[
    "df ['age'].value_counts()"
   ],
   "execution_count":53,
   "outputs":[
    {
     "data":{
      "text\/html":[
       "<pre> 0.016281    19\n",
       " 0.041708    17\n",
       " 0.009016    16\n",
       "-0.027310    15\n",
       "-0.001882    14\n",
       "-0.052738    14\n",
       " 0.045341    14\n",
       " 0.012648    14\n",
       " 0.067136    13\n",
       " 0.005383    13\n",
       "-0.005515    12\n",
       " 0.030811    12\n",
       " 0.001751    12\n",
       " 0.023546    12\n",
       " 0.048974    11\n",
       " 0.019913    11\n",
       "-0.041840    11\n",
       "-0.009147    11\n",
       "-0.023677    10\n",
       " 0.038076    10\n",
       " 0.034443     9\n",
       "-0.045472     9\n",
       " 0.027178     9\n",
       "-0.074533     8\n",
       " 0.070769     7\n",
       "-0.016412     7\n",
       "-0.020045     7\n",
       " 0.059871     7\n",
       "-0.060003     7\n",
       "-0.049105     7\n",
       "-0.038207     6\n",
       "-0.070900     6\n",
       " 0.063504     6\n",
       "-0.056370     6\n",
       " 0.074401     6\n",
       "-0.034575     6\n",
       "-0.030942     5\n",
       " 0.056239     5\n",
       " 0.081666     5\n",
       "-0.085430     5\n",
       "-0.063635     4\n",
       "-0.096328     4\n",
       " 0.052606     4\n",
       "-0.012780     4\n",
       "-0.092695     4\n",
       "-0.078165     4\n",
       "-0.089063     3\n",
       "-0.103593     3\n",
       "-0.107226     3\n",
       "-0.067268     3\n",
       "-0.099961     2\n",
       "-0.081798     2\n",
       " 0.110727     2\n",
       " 0.096197     2\n",
       " 0.085299     1\n",
       " 0.092564     1\n",
       " 0.078034     1\n",
       " 0.088931     1\n",
       "Name: age, dtype: int64<\/pre>"
      ]
     },
     "metadata":{},
     "output_type":"display_data"
    }
   ],
   "metadata":{
    "datalore":{
     "node_id":"mX2XcPWArLYwBl1YNvhkkj",
     "type":"CODE",
     "hide_input_from_viewers":true,
     "hide_output_from_viewers":true
    }
   }
  },
  {
   "cell_type":"code",
   "source":[],
   "execution_count":null,
   "outputs":[],
   "metadata":{
    "datalore":{
     "node_id":"VRJg6Ji4tB58FKsHnzwg1O",
     "type":"CODE",
     "hide_input_from_viewers":true,
     "hide_output_from_viewers":true
    }
   }
  }
 ],
 "metadata":{
  "kernelspec":{
   "display_name":"Python",
   "language":"python",
   "name":"python"
  },
  "datalore":{
   "computation_mode":"JUPYTER",
   "package_manager":"pip",
   "base_environment":"default",
   "packages":[],
   "report_row_ids":[
    "JmKFH9fDbZiXwD7Fgys2hL",
    "jKg5rJq93czTvirV8P7JTY",
    "DjqHDdzjgwss6WmtlJL6uw",
    "VK02nlK3lBrGSfXCOTI5SS",
    "2sGbZZRJ1VUrE36z2vZSXa",
    "gu5klEffqUdVUdPWdkqhBR",
    "HRQEagjMBU9ysOQH7ZrqrU",
    "Tx84czeCiMcrj5Tn8mQzyS",
    "f5CtcMWAh90bvlkZi3v7Wc",
    "EyTfB1BCxcnszw9ZmL5F8d",
    "JLxhjYJliLaWfOmPbylSL6",
    "wVXDkX0O9uTBfVbj56gSy1",
    "3CTGkwTGdcPssSrUxNYCe5",
    "pwS0DEPFLJGgYfW20nT5X9",
    "h9E0LencBHKVjAADWROmiY",
    "XOqoxegbvaLyPTVswd3kVD",
    "OCn09sTWSMWAUhEA8BlsvB",
    "js9Gwh9fVzuJZgJJsYqNob",
    "Fjp4I7qw6yOhMkzhYk1Hnq",
    "HuLntw4RJoQ6FAJIunddY6",
    "HZOTODDgxWF00SO0CuswKS",
    "6aPgBkfncfudWfGLGWoTFs",
    "fI8srObYQ7wtUAet5tMWSv",
    "TtgnT8PVQUdfbu8z7aEg9w",
    "ym2jz3MqtbIO6uNLiWWvAg",
    "zZiOVMmtZk2BzyY4lYEdlf",
    "jAUjzrcYJ3mp4SrjWEGi67",
    "dUxHV3dWf4Ns9Sb82CFlOv",
    "Q4iOoapDx8U0rEjgZHXGrD",
    "nBXhNWKtTkIwlnTIulk65W",
    "sVxTy7cLqBKtpEUJK89Tok",
    "z8QhZfXT1sqQvgf5Xash45",
    "UF3qTzJWEuBGwxMdFlFbjR",
    "O0dYpLFG7XtAKydn3e54aT",
    "otaiYbi144U9065uHHvLCY",
    "W6dOfGaPAaPO26tdUz5tHw",
    "Pq68WBPaPv6Qz8miyVwO1o",
    "8ywX67E6AHb4wri7YJ1zRN",
    "gYLIG1LlDf4hZ3g6BqQSGX",
    "z7bSJhXiGPHokXKH5Oernh",
    "fD3MyP2qNVo0VKv2l58sRC",
    "meXACcpahOq3FEFmtVRTop",
    "TJAXqs5SEk5lfWiwvmkEsP",
    "1wRKTnhiIbIfugKsfXKeuj"
   ],
   "version":3
  }
 },
 "nbformat":4,
 "nbformat_minor":4
}