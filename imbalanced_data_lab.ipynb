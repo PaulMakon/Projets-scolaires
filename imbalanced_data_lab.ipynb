{
 "cells":[
  {
   "cell_type":"markdown",
   "source":[
    "# Imbalanced data\n",
    "\n",
    "CREDIT: This practical was inspired from [this notebook on imbalanced datasets](https:\/\/colab.research.google.com\/github\/littlecolumns\/ds4j-notebooks\/blob\/master\/classification\/notebooks\/Correcting%20for%20imbalanced%20datasets.ipynb#scrollTo=gvj-ZuWOoO_2)."
   ],
   "attachments":{},
   "metadata":{
    "datalore":{
     "node_id":"J6uaY5RZsbgmu4FCRkPGtU",
     "type":"MD",
     "hide_input_from_viewers":false,
     "hide_output_from_viewers":false,
     "report_properties":{
      "rowId":"h4da3vB14jukpD9Ds1K9cJ"
     }
    }
   }
  },
  {
   "cell_type":"markdown",
   "source":[
    "## Setup\n",
    "### Imports"
   ],
   "attachments":{},
   "metadata":{
    "datalore":{
     "node_id":"cMnOQC5vvPWx2eRFa4uSLd",
     "type":"MD",
     "hide_input_from_viewers":false,
     "hide_output_from_viewers":false,
     "report_properties":{
      "rowId":"mBKJy2IjkE7osAT1jUKfD6"
     }
    }
   }
  },
  {
   "cell_type":"code",
   "source":[
    "import pandas as pd                                     # for dataset manipulation (DataFrames)\n",
    "import numpy as np                                      # allows some mathematical operations\n",
    "import matplotlib.pyplot as plt                         # library used to display graphs\n",
    "import seaborn as sns                                   # more convenient visualisation library for dataframes\n",
    "from sklearn.model_selection import train_test_split    # for classification\n",
    "from sklearn.svm import LinearSVC                       # for classification\n",
    "from sklearn.metrics import confusion_matrix            # for classification\n",
    "from sklearn.metrics import accuracy_score              # for classification\n",
    "import imblearn                                         # for imbalance management\n",
    "import time                                             # for execution time measurement"
   ],
   "execution_count":2,
   "outputs":[],
   "metadata":{
    "datalore":{
     "node_id":"iI4ut0i5JKuMa95iCvx7JH",
     "type":"CODE",
     "hide_input_from_viewers":false,
     "hide_output_from_viewers":false,
     "report_properties":{
      "rowId":"tU90SHEzho3wd51q46qZIh"
     }
    }
   }
  },
  {
   "cell_type":"markdown",
   "source":[
    "### Loading the dataset"
   ],
   "attachments":{},
   "metadata":{
    "datalore":{
     "node_id":"FIkIvxAHwmk61LoQKWayN5",
     "type":"MD",
     "hide_input_from_viewers":false,
     "hide_output_from_viewers":false,
     "report_properties":{
      "rowId":"smzutXH6uMw0t8Eoep27IC"
     }
    }
   }
  },
  {
   "cell_type":"code",
   "source":[
    "df_recipes_balanced = pd.read_csv(\"recipes_balanced.csv\")\n",
    "df_recipes = pd.read_csv(\"recipes.csv\")"
   ],
   "execution_count":3,
   "outputs":[],
   "metadata":{
    "datalore":{
     "node_id":"O163vh1PZPzOErWL80fwwk",
     "type":"CODE",
     "hide_input_from_viewers":false,
     "hide_output_from_viewers":false,
     "report_properties":{
      "rowId":"YFPeAaDZmIH9n90lKKlZAB"
     }
    }
   }
  },
  {
   "cell_type":"markdown",
   "source":[
    "### Observing the dataset"
   ],
   "attachments":{},
   "metadata":{
    "datalore":{
     "node_id":"qiad7u7RTr1pRbfGB333nF",
     "type":"MD",
     "hide_input_from_viewers":false,
     "hide_output_from_viewers":false,
     "report_properties":{
      "rowId":"zOj5765xuEsOFvZ8R50WXa"
     }
    }
   }
  },
  {
   "cell_type":"code",
   "source":[
    "df_recipes.head()"
   ],
   "execution_count":4,
   "outputs":[
    {
     "data":{
      "text\/html":[
       "<div>\n",
       "<style scoped>\n",
       "    .dataframe tbody tr th:only-of-type {\n",
       "        vertical-align: middle;\n",
       "    }\n",
       "\n",
       "    .dataframe tbody tr th {\n",
       "        vertical-align: top;\n",
       "    }\n",
       "\n",
       "    .dataframe thead th {\n",
       "        text-align: right;\n",
       "    }\n",
       "<\/style>\n",
       "<table border=\"1\" class=\"dataframe\">\n",
       "  <thead>\n",
       "    <tr style=\"text-align: right;\">\n",
       "      <th><\/th>\n",
       "      <th>cuisine<\/th>\n",
       "      <th>id<\/th>\n",
       "      <th>ingredient_list<\/th>\n",
       "    <\/tr>\n",
       "  <\/thead>\n",
       "  <tbody>\n",
       "    <tr>\n",
       "      <th>0<\/th>\n",
       "      <td>greek<\/td>\n",
       "      <td>10259<\/td>\n",
       "      <td>romaine lettuce, black olives, grape tomatoes,...<\/td>\n",
       "    <\/tr>\n",
       "    <tr>\n",
       "      <th>1<\/th>\n",
       "      <td>southern_us<\/td>\n",
       "      <td>25693<\/td>\n",
       "      <td>plain flour, ground pepper, salt, tomatoes, gr...<\/td>\n",
       "    <\/tr>\n",
       "    <tr>\n",
       "      <th>2<\/th>\n",
       "      <td>filipino<\/td>\n",
       "      <td>20130<\/td>\n",
       "      <td>eggs, pepper, salt, mayonaise, cooking oil, gr...<\/td>\n",
       "    <\/tr>\n",
       "    <tr>\n",
       "      <th>3<\/th>\n",
       "      <td>indian<\/td>\n",
       "      <td>22213<\/td>\n",
       "      <td>water, vegetable oil, wheat, salt<\/td>\n",
       "    <\/tr>\n",
       "    <tr>\n",
       "      <th>4<\/th>\n",
       "      <td>indian<\/td>\n",
       "      <td>13162<\/td>\n",
       "      <td>black pepper, shallots, cornflour, cayenne pep...<\/td>\n",
       "    <\/tr>\n",
       "  <\/tbody>\n",
       "<\/table>\n",
       "<\/div>"
      ]
     },
     "metadata":{},
     "output_type":"display_data"
    }
   ],
   "metadata":{
    "datalore":{
     "node_id":"b4Cj5o7mMFnXtjM0CoJjOR",
     "type":"CODE",
     "hide_input_from_viewers":true,
     "hide_output_from_viewers":true
    }
   }
  },
  {
   "cell_type":"code",
   "source":[
    "df_recipes_balanced.head()"
   ],
   "execution_count":5,
   "outputs":[
    {
     "data":{
      "text\/html":[
       "<div>\n",
       "<style scoped>\n",
       "    .dataframe tbody tr th:only-of-type {\n",
       "        vertical-align: middle;\n",
       "    }\n",
       "\n",
       "    .dataframe tbody tr th {\n",
       "        vertical-align: top;\n",
       "    }\n",
       "\n",
       "    .dataframe thead th {\n",
       "        text-align: right;\n",
       "    }\n",
       "<\/style>\n",
       "<table border=\"1\" class=\"dataframe\">\n",
       "  <thead>\n",
       "    <tr style=\"text-align: right;\">\n",
       "      <th><\/th>\n",
       "      <th>Unnamed: 0<\/th>\n",
       "      <th>cuisine<\/th>\n",
       "      <th>id<\/th>\n",
       "      <th>ingredient_list<\/th>\n",
       "    <\/tr>\n",
       "  <\/thead>\n",
       "  <tbody>\n",
       "    <tr>\n",
       "      <th>0<\/th>\n",
       "      <td>0<\/td>\n",
       "      <td>indian<\/td>\n",
       "      <td>23348<\/td>\n",
       "      <td>minced ginger, garlic, oil, coriander powder, ...<\/td>\n",
       "    <\/tr>\n",
       "    <tr>\n",
       "      <th>1<\/th>\n",
       "      <td>1<\/td>\n",
       "      <td>indian<\/td>\n",
       "      <td>18869<\/td>\n",
       "      <td>chicken, chicken breasts<\/td>\n",
       "    <\/tr>\n",
       "    <tr>\n",
       "      <th>2<\/th>\n",
       "      <td>2<\/td>\n",
       "      <td>indian<\/td>\n",
       "      <td>36405<\/td>\n",
       "      <td>flour, rose essence, frying oil, powdered milk...<\/td>\n",
       "    <\/tr>\n",
       "    <tr>\n",
       "      <th>3<\/th>\n",
       "      <td>3<\/td>\n",
       "      <td>indian<\/td>\n",
       "      <td>11494<\/td>\n",
       "      <td>soda, ghee, sugar, khoa, maida flour, milk, oil<\/td>\n",
       "    <\/tr>\n",
       "    <tr>\n",
       "      <th>4<\/th>\n",
       "      <td>4<\/td>\n",
       "      <td>indian<\/td>\n",
       "      <td>32675<\/td>\n",
       "      <td>tumeric, garam masala, salt, chicken, curry le...<\/td>\n",
       "    <\/tr>\n",
       "  <\/tbody>\n",
       "<\/table>\n",
       "<\/div>"
      ]
     },
     "metadata":{},
     "output_type":"display_data"
    }
   ],
   "metadata":{
    "datalore":{
     "node_id":"ryxilMpPQVa8TkEBP0LyoP",
     "type":"CODE",
     "hide_input_from_viewers":true,
     "hide_output_from_viewers":true
    }
   }
  },
  {
   "cell_type":"code",
   "source":[
    "condition_indian = df_recipes [\"cuisine\"] == \"indian\"\n",
    "df_recipes [\"is_indian\"] = condition_indian.astype (int)\n",
    "df_recipes"
   ],
   "execution_count":6,
   "outputs":[
    {
     "data":{
      "text\/html":[
       "<div>\n",
       "<style scoped>\n",
       "    .dataframe tbody tr th:only-of-type {\n",
       "        vertical-align: middle;\n",
       "    }\n",
       "\n",
       "    .dataframe tbody tr th {\n",
       "        vertical-align: top;\n",
       "    }\n",
       "\n",
       "    .dataframe thead th {\n",
       "        text-align: right;\n",
       "    }\n",
       "<\/style>\n",
       "<table border=\"1\" class=\"dataframe\">\n",
       "  <thead>\n",
       "    <tr style=\"text-align: right;\">\n",
       "      <th><\/th>\n",
       "      <th>cuisine<\/th>\n",
       "      <th>id<\/th>\n",
       "      <th>ingredient_list<\/th>\n",
       "      <th>is_indian<\/th>\n",
       "    <\/tr>\n",
       "  <\/thead>\n",
       "  <tbody>\n",
       "    <tr>\n",
       "      <th>0<\/th>\n",
       "      <td>greek<\/td>\n",
       "      <td>10259<\/td>\n",
       "      <td>romaine lettuce, black olives, grape tomatoes,...<\/td>\n",
       "      <td>0<\/td>\n",
       "    <\/tr>\n",
       "    <tr>\n",
       "      <th>1<\/th>\n",
       "      <td>southern_us<\/td>\n",
       "      <td>25693<\/td>\n",
       "      <td>plain flour, ground pepper, salt, tomatoes, gr...<\/td>\n",
       "      <td>0<\/td>\n",
       "    <\/tr>\n",
       "    <tr>\n",
       "      <th>2<\/th>\n",
       "      <td>filipino<\/td>\n",
       "      <td>20130<\/td>\n",
       "      <td>eggs, pepper, salt, mayonaise, cooking oil, gr...<\/td>\n",
       "      <td>0<\/td>\n",
       "    <\/tr>\n",
       "    <tr>\n",
       "      <th>3<\/th>\n",
       "      <td>indian<\/td>\n",
       "      <td>22213<\/td>\n",
       "      <td>water, vegetable oil, wheat, salt<\/td>\n",
       "      <td>1<\/td>\n",
       "    <\/tr>\n",
       "    <tr>\n",
       "      <th>4<\/th>\n",
       "      <td>indian<\/td>\n",
       "      <td>13162<\/td>\n",
       "      <td>black pepper, shallots, cornflour, cayenne pep...<\/td>\n",
       "      <td>1<\/td>\n",
       "    <\/tr>\n",
       "    <tr>\n",
       "      <th>...<\/th>\n",
       "      <td>...<\/td>\n",
       "      <td>...<\/td>\n",
       "      <td>...<\/td>\n",
       "      <td>...<\/td>\n",
       "    <\/tr>\n",
       "    <tr>\n",
       "      <th>39769<\/th>\n",
       "      <td>irish<\/td>\n",
       "      <td>29109<\/td>\n",
       "      <td>light brown sugar, granulated sugar, butter, w...<\/td>\n",
       "      <td>0<\/td>\n",
       "    <\/tr>\n",
       "    <tr>\n",
       "      <th>39770<\/th>\n",
       "      <td>italian<\/td>\n",
       "      <td>11462<\/td>\n",
       "      <td>KRAFT Zesty Italian Dressing, purple onion, br...<\/td>\n",
       "      <td>0<\/td>\n",
       "    <\/tr>\n",
       "    <tr>\n",
       "      <th>39771<\/th>\n",
       "      <td>irish<\/td>\n",
       "      <td>2238<\/td>\n",
       "      <td>eggs, citrus fruit, raisins, sourdough starter...<\/td>\n",
       "      <td>0<\/td>\n",
       "    <\/tr>\n",
       "    <tr>\n",
       "      <th>39772<\/th>\n",
       "      <td>chinese<\/td>\n",
       "      <td>41882<\/td>\n",
       "      <td>boneless chicken skinless thigh, minced garlic...<\/td>\n",
       "      <td>0<\/td>\n",
       "    <\/tr>\n",
       "    <tr>\n",
       "      <th>39773<\/th>\n",
       "      <td>mexican<\/td>\n",
       "      <td>2362<\/td>\n",
       "      <td>green chile, jalapeno chilies, onions, ground ...<\/td>\n",
       "      <td>0<\/td>\n",
       "    <\/tr>\n",
       "  <\/tbody>\n",
       "<\/table>\n",
       "<p>39774 rows × 4 columns<\/p>\n",
       "<\/div>"
      ]
     },
     "metadata":{},
     "output_type":"display_data"
    }
   ],
   "metadata":{
    "datalore":{
     "node_id":"1uffXPOs4cW4en8xi0iOtC",
     "type":"CODE",
     "hide_input_from_viewers":true,
     "hide_output_from_viewers":true
    }
   }
  },
  {
   "cell_type":"code",
   "source":[],
   "execution_count":null,
   "outputs":[],
   "metadata":{
    "datalore":{
     "node_id":"S6aUVMWUQEiRXfI9iBiFYH",
     "type":"CODE",
     "hide_input_from_viewers":true,
     "hide_output_from_viewers":true
    }
   }
  },
  {
   "cell_type":"markdown",
   "source":[
    "*[Your comments here]*"
   ],
   "attachments":{},
   "metadata":{
    "datalore":{
     "node_id":"AgjKFGcMsm40wY1RsZa0Nk",
     "type":"MD",
     "hide_input_from_viewers":false,
     "hide_output_from_viewers":false,
     "report_properties":{
      "rowId":"2qNcAZq29u0JdWXkHcPzzf"
     }
    }
   }
  },
  {
   "cell_type":"markdown",
   "source":[
    "## Classification task\n",
    "\n",
    "The goal with these datasets will be to detect which recipes are Indian."
   ],
   "attachments":{},
   "metadata":{
    "datalore":{
     "node_id":"S43xriAGdzb5Tw8FOB7XpB",
     "type":"MD",
     "hide_input_from_viewers":false,
     "hide_output_from_viewers":false,
     "report_properties":{
      "rowId":"BYWZabyQ2F0NW8pLKIeLY3"
     }
    }
   }
  },
  {
   "cell_type":"markdown",
   "source":[
    "\n",
    "### Data Labeling\n",
    "For each dataset, add a column named `is_indian`, indicating whether the recipe is indian (1) or not (0).\n",
    "The labeling should be done in place, meaning that we should keep the same dataframes instead of creating new ones."
   ],
   "attachments":{},
   "metadata":{
    "datalore":{
     "node_id":"DQnJjz3e8xIDIn0o0aIoXU",
     "type":"MD",
     "hide_input_from_viewers":false,
     "hide_output_from_viewers":false,
     "report_properties":{
      "rowId":"vC3pFffZ5qm8UfXs5vg9e8"
     }
    }
   }
  },
  {
   "cell_type":"code",
   "source":[
    "# Your code here\n",
    "def label (cuisine) :\n",
    "    if cuisine == \"indian\" :\n",
    "        return 1\n",
    "    else :\n",
    "        return 0\n",
    "df_recipes_balanced [\"is_indian\"] = df_recipes_balanced [\"cuisine\"].apply (label)\n",
    "df_recipes_balanced"
   ],
   "execution_count":7,
   "outputs":[
    {
     "data":{
      "text\/html":[
       "<div>\n",
       "<style scoped>\n",
       "    .dataframe tbody tr th:only-of-type {\n",
       "        vertical-align: middle;\n",
       "    }\n",
       "\n",
       "    .dataframe tbody tr th {\n",
       "        vertical-align: top;\n",
       "    }\n",
       "\n",
       "    .dataframe thead th {\n",
       "        text-align: right;\n",
       "    }\n",
       "<\/style>\n",
       "<table border=\"1\" class=\"dataframe\">\n",
       "  <thead>\n",
       "    <tr style=\"text-align: right;\">\n",
       "      <th><\/th>\n",
       "      <th>Unnamed: 0<\/th>\n",
       "      <th>cuisine<\/th>\n",
       "      <th>id<\/th>\n",
       "      <th>ingredient_list<\/th>\n",
       "      <th>is_indian<\/th>\n",
       "    <\/tr>\n",
       "  <\/thead>\n",
       "  <tbody>\n",
       "    <tr>\n",
       "      <th>0<\/th>\n",
       "      <td>0<\/td>\n",
       "      <td>indian<\/td>\n",
       "      <td>23348<\/td>\n",
       "      <td>minced ginger, garlic, oil, coriander powder, ...<\/td>\n",
       "      <td>1<\/td>\n",
       "    <\/tr>\n",
       "    <tr>\n",
       "      <th>1<\/th>\n",
       "      <td>1<\/td>\n",
       "      <td>indian<\/td>\n",
       "      <td>18869<\/td>\n",
       "      <td>chicken, chicken breasts<\/td>\n",
       "      <td>1<\/td>\n",
       "    <\/tr>\n",
       "    <tr>\n",
       "      <th>2<\/th>\n",
       "      <td>2<\/td>\n",
       "      <td>indian<\/td>\n",
       "      <td>36405<\/td>\n",
       "      <td>flour, rose essence, frying oil, powdered milk...<\/td>\n",
       "      <td>1<\/td>\n",
       "    <\/tr>\n",
       "    <tr>\n",
       "      <th>3<\/th>\n",
       "      <td>3<\/td>\n",
       "      <td>indian<\/td>\n",
       "      <td>11494<\/td>\n",
       "      <td>soda, ghee, sugar, khoa, maida flour, milk, oil<\/td>\n",
       "      <td>1<\/td>\n",
       "    <\/tr>\n",
       "    <tr>\n",
       "      <th>4<\/th>\n",
       "      <td>4<\/td>\n",
       "      <td>indian<\/td>\n",
       "      <td>32675<\/td>\n",
       "      <td>tumeric, garam masala, salt, chicken, curry le...<\/td>\n",
       "      <td>1<\/td>\n",
       "    <\/tr>\n",
       "    <tr>\n",
       "      <th>...<\/th>\n",
       "      <td>...<\/td>\n",
       "      <td>...<\/td>\n",
       "      <td>...<\/td>\n",
       "      <td>...<\/td>\n",
       "      <td>...<\/td>\n",
       "    <\/tr>\n",
       "    <tr>\n",
       "      <th>5995<\/th>\n",
       "      <td>5995<\/td>\n",
       "      <td>moroccan<\/td>\n",
       "      <td>9788<\/td>\n",
       "      <td>ground black pepper, couscous, water, cayenne ...<\/td>\n",
       "      <td>0<\/td>\n",
       "    <\/tr>\n",
       "    <tr>\n",
       "      <th>5996<\/th>\n",
       "      <td>5996<\/td>\n",
       "      <td>french<\/td>\n",
       "      <td>26911<\/td>\n",
       "      <td>cream of tartar, vegetable oil spray, sugar, w...<\/td>\n",
       "      <td>0<\/td>\n",
       "    <\/tr>\n",
       "    <tr>\n",
       "      <th>5997<\/th>\n",
       "      <td>5997<\/td>\n",
       "      <td>southern_us<\/td>\n",
       "      <td>2098<\/td>\n",
       "      <td>sugar, crushed ice, bourbon whiskey, mint spri...<\/td>\n",
       "      <td>0<\/td>\n",
       "    <\/tr>\n",
       "    <tr>\n",
       "      <th>5998<\/th>\n",
       "      <td>5998<\/td>\n",
       "      <td>italian<\/td>\n",
       "      <td>29985<\/td>\n",
       "      <td>fresh basil, large garlic cloves, fettucine, s...<\/td>\n",
       "      <td>0<\/td>\n",
       "    <\/tr>\n",
       "    <tr>\n",
       "      <th>5999<\/th>\n",
       "      <td>5999<\/td>\n",
       "      <td>korean<\/td>\n",
       "      <td>36122<\/td>\n",
       "      <td>honey, sesame oil, soy sauce, pork chops, garl...<\/td>\n",
       "      <td>0<\/td>\n",
       "    <\/tr>\n",
       "  <\/tbody>\n",
       "<\/table>\n",
       "<p>6000 rows × 5 columns<\/p>\n",
       "<\/div>"
      ]
     },
     "metadata":{},
     "output_type":"display_data"
    }
   ],
   "metadata":{
    "datalore":{
     "node_id":"xDnDEd6GiXistnoTJ0xzpA",
     "type":"CODE",
     "hide_input_from_viewers":false,
     "hide_output_from_viewers":false,
     "report_properties":{
      "rowId":"56ZRWms1LEpJyIn5Skesih"
     }
    }
   }
  },
  {
   "cell_type":"markdown",
   "source":[
    "### Observing the classes\n",
    "\n",
    "1. For both datasets, compare the number of examples for each class. What do you notice?\n",
    "2. Use an appropriate graph to display your observations.\n",
    "3. What problem(s) can this cause for our classification task?"
   ],
   "attachments":{},
   "metadata":{
    "datalore":{
     "node_id":"wDdjY54QPUXLmPcitOq9p4",
     "type":"MD",
     "hide_input_from_viewers":false,
     "hide_output_from_viewers":false,
     "report_properties":{
      "rowId":"DFbce9D2i7HsfzdXff0RQo"
     }
    }
   }
  },
  {
   "cell_type":"code",
   "source":[
    "df_recipes [\"is_indian\"].value_counts()"
   ],
   "execution_count":8,
   "outputs":[
    {
     "data":{
      "text\/html":[
       "<pre>0    36771\n",
       "1     3003\n",
       "Name: is_indian, dtype: int64<\/pre>"
      ]
     },
     "metadata":{},
     "output_type":"display_data"
    }
   ],
   "metadata":{
    "datalore":{
     "node_id":"oAMQxjHBdhdWvYkqEwFRno",
     "type":"CODE",
     "hide_input_from_viewers":false,
     "hide_output_from_viewers":false,
     "report_properties":{
      "rowId":"V4U6051nKXcAOHKk0CqY0u"
     }
    }
   }
  },
  {
   "cell_type":"code",
   "source":[
    "df_recipes_balanced [\"is_indian\"].value_counts()"
   ],
   "execution_count":9,
   "outputs":[
    {
     "data":{
      "text\/html":[
       "<pre>1    3000\n",
       "0    3000\n",
       "Name: is_indian, dtype: int64<\/pre>"
      ]
     },
     "metadata":{},
     "output_type":"display_data"
    }
   ],
   "metadata":{
    "datalore":{
     "node_id":"gMK1JjBlGAo00V1aopiwLr",
     "type":"CODE",
     "hide_input_from_viewers":true,
     "hide_output_from_viewers":true
    }
   }
  },
  {
   "cell_type":"code",
   "source":[
    "sns.countplot(x='is_indian', data=df_recipes)\n",
    "plt.show()"
   ],
   "execution_count":10,
   "outputs":[
    {
     "data":{
      "image\/png":"[encoded data removed]"
     },
     "metadata":{
      "image\/png":{}
     },
     "output_type":"display_data"
    }
   ],
   "metadata":{
    "datalore":{
     "node_id":"VYq79taitkAs0ffLtp2IwG",
     "type":"CODE",
     "hide_input_from_viewers":true,
     "hide_output_from_viewers":true
    }
   }
  },
  {
   "cell_type":"code",
   "source":[
    "sns.countplot(x='is_indian', data=df_recipes_balanced)\n",
    "plt.show()"
   ],
   "execution_count":11,
   "outputs":[
    {
     "data":{
      "image\/png":"[encoded data removed]"
     },
     "metadata":{
      "image\/png":{}
     },
     "output_type":"display_data"
    }
   ],
   "metadata":{
    "datalore":{
     "node_id":"qwzLG6ZYxUQkhnU9widqh7",
     "type":"CODE",
     "hide_input_from_viewers":true,
     "hide_output_from_viewers":true
    }
   }
  },
  {
   "cell_type":"markdown",
   "source":[
    "*[Your comments here]*"
   ],
   "attachments":{},
   "metadata":{
    "datalore":{
     "node_id":"FLF7ixVVlw1B48hybC3AFC",
     "type":"MD",
     "hide_input_from_viewers":false,
     "hide_output_from_viewers":false,
     "report_properties":{
      "rowId":"o4jdcWxbpICmyCS8iR7lpo"
     }
    }
   }
  },
  {
   "cell_type":"markdown",
   "source":[
    "### Baseline test\n",
    "#### Data preparation\n",
    "In order to perform the classification, we first need to convert the ingredient lists into vectors. For this, we will use a TF-IDF vectorizer. Details about this vectorizer, and more insights on how to work with text will be given in the dedicated practical. For now, just use it as is!\n",
    "\n",
    "*NB: We should use the vectorizer after the train-test split, but we will overlook this issue in this practical.*"
   ],
   "attachments":{},
   "metadata":{
    "datalore":{
     "node_id":"J3vitXuZl07aDYC69vLPaJ",
     "type":"MD",
     "hide_input_from_viewers":false,
     "hide_output_from_viewers":false,
     "report_properties":{
      "rowId":"ZTQksGWT8eohhaOp7L2BpZ"
     }
    }
   }
  },
  {
   "cell_type":"code",
   "source":[
    "from sklearn.feature_extraction.text import TfidfVectorizer\n",
    "\n",
    "# Create a vectorizer for each dataset and train it\n",
    "vectorizer_balanced = TfidfVectorizer()\n",
    "ingredients_balanced = vectorizer_balanced.fit_transform(df_recipes_balanced.ingredient_list).toarray()\n",
    "\n",
    "vectorizer = TfidfVectorizer()\n",
    "ingredients = vectorizer.fit_transform(df_recipes.ingredient_list).toarray()\n",
    "\n",
    "# In the classification task, the features X are the ingredients, and the label y is whether the recipe is Indian\n",
    "X_balanced = ingredients_balanced\n",
    "y_balanced = df_recipes_balanced.is_indian\n",
    "\n",
    "X = ingredients\n",
    "y = df_recipes.is_indian"
   ],
   "execution_count":12,
   "outputs":[],
   "metadata":{
    "datalore":{
     "node_id":"fy6MQbICEfPtbyuE3offUp",
     "type":"CODE",
     "hide_input_from_viewers":false,
     "hide_output_from_viewers":false,
     "report_properties":{
      "rowId":"pAPbaU0hTRmPzuzFQvfx20"
     }
    }
   }
  },
  {
   "cell_type":"code",
   "source":[
    "# Split the data into train and test sets\n",
    "X_train_balanced,  X_test_balanced, y_train_balanced, y_test_balanced = train_test_split(X_balanced, y_balanced, stratify=y_balanced)\n",
    "X_train,  X_test, y_train, y_test = train_test_split(X, y, stratify=y)"
   ],
   "execution_count":13,
   "outputs":[],
   "metadata":{
    "datalore":{
     "node_id":"GxL2mY7r8iU4asRmjrrLn5",
     "type":"CODE",
     "hide_input_from_viewers":false,
     "hide_output_from_viewers":false,
     "report_properties":{
      "rowId":"kgfyUdmqMhUXqUpSvkDmXe"
     }
    }
   }
  },
  {
   "cell_type":"markdown",
   "source":[
    "**Question**: In the above cell, what does the \"stratify\" parameter do in the train-test split?\n",
    "\n",
    "*[Your answer here]*"
   ],
   "attachments":{},
   "metadata":{
    "datalore":{
     "node_id":"XIBKEIPDC2tY3ynJBgJaRP",
     "type":"MD",
     "hide_input_from_viewers":false,
     "hide_output_from_viewers":false,
     "report_properties":{
      "rowId":"jBGsR0Z5fL1TeUr2Xd4DA9"
     }
    }
   }
  },
  {
   "cell_type":"markdown",
   "source":[
    "#### Baseline classification\n",
    "\n",
    "For this first test, we will use a linear classifier called LinearSVC."
   ],
   "attachments":{},
   "metadata":{
    "datalore":{
     "node_id":"cmCfRxhHKslMYMYxscl7zA",
     "type":"MD",
     "hide_input_from_viewers":false,
     "hide_output_from_viewers":false,
     "report_properties":{
      "rowId":"S0TdMnPrRBEWy82YofncDV"
     }
    }
   }
  },
  {
   "cell_type":"code",
   "source":[
    "def classify(input_train, input_test, label_train, label_test):\n",
    "    classifier = LinearSVC()\n",
    "    classifier.fit(input_train, label_train)\n",
    "\n",
    "    label_predicted = classifier.predict(input_test)\n",
    "    label_true = label_test\n",
    "\n",
    "    classification_confusion_matrix = confusion_matrix(label_true, label_predicted)\n",
    "    label_names = pd.Series(['not indian', 'indian'])\n",
    "\n",
    "    print(f\"Accuracy:{accuracy_score(label_true, label_predicted)}\")\n",
    "    return pd.DataFrame(classification_confusion_matrix,\n",
    "                 columns='Predicted ' + label_names,\n",
    "                 index='Is ' + label_names)\\\n",
    "        .div(classification_confusion_matrix.sum(axis=1), axis=0) # converts the numbers into percentages"
   ],
   "execution_count":14,
   "outputs":[],
   "metadata":{
    "datalore":{
     "node_id":"5U5UfKPt6sbu5Ifkn7t2E5",
     "type":"CODE",
     "hide_input_from_viewers":false,
     "hide_output_from_viewers":false,
     "report_properties":{
      "rowId":"KKjVgWcd8iBsTs2VHDnrcY"
     }
    }
   }
  },
  {
   "cell_type":"code",
   "source":[
    "# Test on the balanced dataset\n",
    "classify(X_train_balanced, X_test_balanced, y_train_balanced, y_test_balanced)"
   ],
   "execution_count":15,
   "outputs":[
    {
     "name":"stdout",
     "text":[
      "Accuracy:0.9426666666666667\n"
     ],
     "output_type":"stream"
    },
    {
     "data":{
      "text\/html":[
       "<div>\n",
       "<style scoped>\n",
       "    .dataframe tbody tr th:only-of-type {\n",
       "        vertical-align: middle;\n",
       "    }\n",
       "\n",
       "    .dataframe tbody tr th {\n",
       "        vertical-align: top;\n",
       "    }\n",
       "\n",
       "    .dataframe thead th {\n",
       "        text-align: right;\n",
       "    }\n",
       "<\/style>\n",
       "<table border=\"1\" class=\"dataframe\">\n",
       "  <thead>\n",
       "    <tr style=\"text-align: right;\">\n",
       "      <th><\/th>\n",
       "      <th>Predicted not indian<\/th>\n",
       "      <th>Predicted indian<\/th>\n",
       "    <\/tr>\n",
       "  <\/thead>\n",
       "  <tbody>\n",
       "    <tr>\n",
       "      <th>Is not indian<\/th>\n",
       "      <td>0.953333<\/td>\n",
       "      <td>0.046667<\/td>\n",
       "    <\/tr>\n",
       "    <tr>\n",
       "      <th>Is indian<\/th>\n",
       "      <td>0.068000<\/td>\n",
       "      <td>0.932000<\/td>\n",
       "    <\/tr>\n",
       "  <\/tbody>\n",
       "<\/table>\n",
       "<\/div>"
      ]
     },
     "metadata":{},
     "output_type":"display_data"
    }
   ],
   "metadata":{
    "datalore":{
     "node_id":"u7MhKFCiD5Koq9gA6VsCeB",
     "type":"CODE",
     "hide_input_from_viewers":false,
     "hide_output_from_viewers":false,
     "report_properties":{
      "rowId":"U4wvGhwN1tLjZYJ0gLROVs"
     }
    }
   }
  },
  {
   "cell_type":"code",
   "source":[
    "# Test on the imbalanced dataset\n",
    "classify(X_train, X_test, y_train, y_test)"
   ],
   "execution_count":16,
   "outputs":[
    {
     "name":"stdout",
     "text":[
      "Accuracy:0.9782783588093322\n"
     ],
     "output_type":"stream"
    },
    {
     "data":{
      "text\/html":[
       "<div>\n",
       "<style scoped>\n",
       "    .dataframe tbody tr th:only-of-type {\n",
       "        vertical-align: middle;\n",
       "    }\n",
       "\n",
       "    .dataframe tbody tr th {\n",
       "        vertical-align: top;\n",
       "    }\n",
       "\n",
       "    .dataframe thead th {\n",
       "        text-align: right;\n",
       "    }\n",
       "<\/style>\n",
       "<table border=\"1\" class=\"dataframe\">\n",
       "  <thead>\n",
       "    <tr style=\"text-align: right;\">\n",
       "      <th><\/th>\n",
       "      <th>Predicted not indian<\/th>\n",
       "      <th>Predicted indian<\/th>\n",
       "    <\/tr>\n",
       "  <\/thead>\n",
       "  <tbody>\n",
       "    <tr>\n",
       "      <th>Is not indian<\/th>\n",
       "      <td>0.992277<\/td>\n",
       "      <td>0.007723<\/td>\n",
       "    <\/tr>\n",
       "    <tr>\n",
       "      <th>Is indian<\/th>\n",
       "      <td>0.193076<\/td>\n",
       "      <td>0.806924<\/td>\n",
       "    <\/tr>\n",
       "  <\/tbody>\n",
       "<\/table>\n",
       "<\/div>"
      ]
     },
     "metadata":{},
     "output_type":"display_data"
    }
   ],
   "metadata":{
    "datalore":{
     "node_id":"OGFBeHWW1EL0PFTocAGMsj",
     "type":"CODE",
     "hide_input_from_viewers":false,
     "hide_output_from_viewers":false,
     "report_properties":{
      "rowId":"FCWtpGaHaolkl01bPe2aBi"
     }
    }
   }
  },
  {
   "cell_type":"markdown",
   "source":[
    "#### Questions\n",
    "1. The matrices shown above are called \"confusion matrices\". Describe what they contain.\n",
    "2. What do you think is the advantage of using a confusion matrix over using accuracy alone?\n",
    "3. Compare the results obtained with the balanced dataset and with the imbalanced dataset. What are the main differences?\n",
    "4. How do you interpret these differences?"
   ],
   "attachments":{},
   "metadata":{
    "datalore":{
     "node_id":"WQgToz22MseXeNexFF98PU",
     "type":"MD",
     "hide_input_from_viewers":false,
     "hide_output_from_viewers":false,
     "report_properties":{
      "rowId":"OctT5XzwnuJs2tlATdSa5f"
     }
    }
   }
  },
  {
   "cell_type":"markdown",
   "source":[
    "*[Your comments here]*"
   ],
   "attachments":{},
   "metadata":{
    "datalore":{
     "node_id":"FJzhIPJx8B7dpivCjVYNJ8",
     "type":"MD",
     "hide_input_from_viewers":false,
     "hide_output_from_viewers":false,
     "report_properties":{
      "rowId":"Ish7mxhpeiwOzfhmSiZPPi"
     }
    }
   }
  },
  {
   "cell_type":"markdown",
   "source":[
    "## Managing the imbalance"
   ],
   "attachments":{},
   "metadata":{
    "datalore":{
     "node_id":"3aEMpxAu2acu9R19hIqWzZ",
     "type":"MD",
     "hide_input_from_viewers":false,
     "hide_output_from_viewers":false,
     "report_properties":{
      "rowId":"JEfDG4DJL7eImODV6HCQyQ"
     }
    }
   }
  },
  {
   "cell_type":"markdown",
   "source":[
    "### Undersampling and oversampling\n",
    "\n",
    "In this section, we will use 3 different resampling techniques: random undersampling, random oversampling, and SMOTE. We will only need the `df_recipes` dataframe (the balanced dataframe will not be used anymore).\n",
    "For each of those three techniques, answer the following questions:\n",
    "1. Using your knowledge and [`imblearn`'s documentation](https:\/\/imbalanced-learn.org\/stable\/references\/index.html), explain the principle of the algorithm.\n",
    "2. Import and instantiate the resampler.\n",
    "3. Use it to resample the data. On what part of the data should you use the resampler?\n",
    "4. Observe and comment on the resampling of the classes.\n",
    "5. Use the `classify` function from earlier to observe the influence of the resampling on classification.\n",
    "6. Comment on your results."
   ],
   "attachments":{},
   "metadata":{
    "datalore":{
     "node_id":"v7FWIiKC49uz8WLONMgzDk",
     "type":"MD",
     "hide_input_from_viewers":false,
     "hide_output_from_viewers":false,
     "report_properties":{
      "rowId":"7jYDKYbZDtcb4AfesCPz8o"
     }
    }
   }
  },
  {
   "cell_type":"code",
   "source":[],
   "execution_count":null,
   "outputs":[],
   "metadata":{
    "datalore":{
     "node_id":"kjvAFhlkgpFxwXSRWgPgbB",
     "type":"CODE",
     "hide_input_from_viewers":false,
     "hide_output_from_viewers":false,
     "report_properties":{
      "rowId":"deoOtg9i90koACPXnYePCn"
     }
    }
   }
  },
  {
   "cell_type":"code",
   "source":[],
   "execution_count":null,
   "outputs":[],
   "metadata":{
    "datalore":{
     "node_id":"JtrAt9qYt6nVMzM0EweSM6",
     "type":"CODE",
     "hide_input_from_viewers":true,
     "hide_output_from_viewers":true
    }
   }
  },
  {
   "cell_type":"markdown",
   "source":[
    "#### Random undersampling\n",
    "\n",
    "*[Your answers here]*"
   ],
   "attachments":{},
   "metadata":{
    "datalore":{
     "node_id":"fhh020L7bBdakPHmBXU3JC",
     "type":"MD",
     "hide_input_from_viewers":false,
     "hide_output_from_viewers":false,
     "report_properties":{
      "rowId":"EOCqErvBinXZ3keW3GIMjH"
     }
    }
   }
  },
  {
   "cell_type":"markdown",
   "source":[
    "#### Random oversampling\n",
    "\n",
    "*[Your answers here]*"
   ],
   "attachments":{},
   "metadata":{
    "datalore":{
     "node_id":"pLiSaxBRV3wtfr6AxFBvuy",
     "type":"MD",
     "hide_input_from_viewers":false,
     "hide_output_from_viewers":false,
     "report_properties":{
      "rowId":"KhTZyQFnrj3EN15GALpywU"
     }
    }
   }
  },
  {
   "cell_type":"code",
   "source":[
    "# Your code here"
   ],
   "execution_count":null,
   "outputs":[],
   "metadata":{
    "datalore":{
     "node_id":"gsShkbwWXl3zhhNYybLvGS",
     "type":"CODE",
     "hide_input_from_viewers":false,
     "hide_output_from_viewers":false,
     "report_properties":{
      "rowId":"zf6zw7EVmvfLu6VNFeEEaA"
     }
    }
   }
  },
  {
   "cell_type":"markdown",
   "source":[
    "#### SMOTE\n",
    "\n",
    "*[Your answers here]*"
   ],
   "attachments":{},
   "metadata":{
    "datalore":{
     "node_id":"TG9KyUXmkBgxVxwIfqU2Zg",
     "type":"MD",
     "hide_input_from_viewers":false,
     "hide_output_from_viewers":false,
     "report_properties":{
      "rowId":"lS7hL47uNjyjlQcnz9bxAo"
     }
    }
   }
  },
  {
   "cell_type":"code",
   "source":[
    "\n",
    "from imblearn.over_sampling import SMOTE\n",
    "smote = SMOTE ()\n",
    "X_smres, y_smres = smote.fit_resample(X_train, y_train)"
   ],
   "execution_count":1,
   "outputs":[
    {
     "ename":"NameError",
     "evalue":"NameError: name 'X_train' is not defined",
     "traceback":[
      "\u001b[0;31m---------------------------------------------------------------------------",
      "Traceback (most recent call last)",
      "NameError: name 'X_train' is not defined"
     ],
     "output_type":"error"
    }
   ],
   "metadata":{
    "datalore":{
     "node_id":"ZwnhrWEgtxepswSFQCjcKV",
     "type":"CODE",
     "hide_input_from_viewers":false,
     "hide_output_from_viewers":false,
     "report_properties":{
      "rowId":"2wVLhLCDfpRZTuJqCjbmxy"
     }
    }
   }
  },
  {
   "cell_type":"markdown",
   "source":[
    "### Bonus: using other methods\n",
    "\n",
    "There are many methods to deal with imbalanced learning. Check out [`imblearn`'s documentation](https:\/\/imbalanced-learn.org\/stable\/references\/index.html) and try using other algorithms. Try to increase the performance of the classification!"
   ],
   "attachments":{},
   "metadata":{
    "datalore":{
     "node_id":"zw7LpdxVJsT0TISNhd1XAa",
     "type":"MD",
     "hide_input_from_viewers":false,
     "hide_output_from_viewers":false,
     "report_properties":{
      "rowId":"xmCJbH57pcd9qwVZA1OhGd"
     }
    }
   }
  },
  {
   "cell_type":"code",
   "source":[
    "# Your code here"
   ],
   "execution_count":null,
   "outputs":[],
   "metadata":{
    "datalore":{
     "node_id":"ptL1uOB6zUQsApspFbr8hT",
     "type":"CODE",
     "hide_input_from_viewers":false,
     "hide_output_from_viewers":false,
     "report_properties":{
      "rowId":"WH3M69t8AhU3Os1CgVz2sA"
     }
    }
   }
  },
  {
   "cell_type":"markdown",
   "source":[
    "*[Your comments here]*"
   ],
   "attachments":{},
   "metadata":{
    "datalore":{
     "node_id":"xPbK3XDcN25uiQikFL1qzj",
     "type":"MD",
     "hide_input_from_viewers":false,
     "hide_output_from_viewers":false,
     "report_properties":{
      "rowId":"mY5DoO697EoXosIu85sueq"
     }
    }
   }
  }
 ],
 "metadata":{
  "kernelspec":{
   "display_name":"Python",
   "language":"python",
   "name":"python"
  },
  "datalore":{
   "computation_mode":"JUPYTER",
   "package_manager":"pip",
   "base_environment":"default",
   "packages":[
    {
     "name":"imblearn",
     "version":"0.0",
     "source":"PIP"
    }
   ],
   "report_row_ids":[
    "h4da3vB14jukpD9Ds1K9cJ",
    "mBKJy2IjkE7osAT1jUKfD6",
    "tU90SHEzho3wd51q46qZIh",
    "smzutXH6uMw0t8Eoep27IC",
    "YFPeAaDZmIH9n90lKKlZAB",
    "zOj5765xuEsOFvZ8R50WXa",
    "Oo5XBlqx3tIGyRjeLQamQo",
    "IOSCJ1Fl8CmRoAPyGxh1x0",
    "2qNcAZq29u0JdWXkHcPzzf",
    "BYWZabyQ2F0NW8pLKIeLY3",
    "vC3pFffZ5qm8UfXs5vg9e8",
    "56ZRWms1LEpJyIn5Skesih",
    "DFbce9D2i7HsfzdXff0RQo",
    "V4U6051nKXcAOHKk0CqY0u",
    "o4jdcWxbpICmyCS8iR7lpo",
    "ZTQksGWT8eohhaOp7L2BpZ",
    "pAPbaU0hTRmPzuzFQvfx20",
    "kgfyUdmqMhUXqUpSvkDmXe",
    "jBGsR0Z5fL1TeUr2Xd4DA9",
    "S0TdMnPrRBEWy82YofncDV",
    "KKjVgWcd8iBsTs2VHDnrcY",
    "U4wvGhwN1tLjZYJ0gLROVs",
    "FCWtpGaHaolkl01bPe2aBi",
    "OctT5XzwnuJs2tlATdSa5f",
    "Ish7mxhpeiwOzfhmSiZPPi",
    "JEfDG4DJL7eImODV6HCQyQ",
    "7jYDKYbZDtcb4AfesCPz8o",
    "EOCqErvBinXZ3keW3GIMjH",
    "deoOtg9i90koACPXnYePCn",
    "KhTZyQFnrj3EN15GALpywU",
    "zf6zw7EVmvfLu6VNFeEEaA",
    "lS7hL47uNjyjlQcnz9bxAo",
    "2wVLhLCDfpRZTuJqCjbmxy",
    "xmCJbH57pcd9qwVZA1OhGd",
    "WH3M69t8AhU3Os1CgVz2sA",
    "mY5DoO697EoXosIu85sueq"
   ],
   "version":3
  }
 },
 "nbformat":4,
 "nbformat_minor":4
}