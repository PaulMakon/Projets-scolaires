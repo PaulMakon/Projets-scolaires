{
  "cells": [
    {
      "cell_type": "markdown",
      "id": "59df1f47",
      "metadata": {
        "id": "59df1f47"
      },
      "source": [
        "\n",
        "\n",
        "```\n",
        "# Ce texte est au format code\n",
        "```\n",
        "\n",
        "# Perceptron, Artificial Neural Networks and Deep Learning"
      ]
    },
    {
      "cell_type": "code",
      "execution_count": null,
      "id": "e0fd2a62",
      "metadata": {
        "id": "e0fd2a62"
      },
      "outputs": [],
      "source": [
        "# Importing Libraries\n",
        "import numpy as np\n",
        "import pandas as pd\n",
        "import matplotlib.pyplot as plt\n",
        "import seaborn as sns"
      ]
    },
    {
      "cell_type": "markdown",
      "id": "603ea634",
      "metadata": {
        "id": "603ea634"
      },
      "source": [
        "### Exercise 1: Coding the perceptron"
      ]
    },
    {
      "cell_type": "code",
      "execution_count": null,
      "id": "e755a5f7",
      "metadata": {
        "id": "e755a5f7"
      },
      "outputs": [],
      "source": [
        "# Define the activation function (Step function)\n",
        "def step_activation_function(x):\n",
        "    return 1 if x >= 0 else 0"
      ]
    },
    {
      "cell_type": "code",
      "execution_count": null,
      "id": "3da5a58f",
      "metadata": {
        "id": "3da5a58f"
      },
      "outputs": [],
      "source": [
        "# Defining the Sigmoid activation function\n",
        "def Sigmoid(x):\n",
        "    return 1 / (1+np.exp(-x))"
      ]
    },
    {
      "cell_type": "code",
      "execution_count": null,
      "id": "fb38695e",
      "metadata": {
        "colab": {
          "base_uri": "https://localhost:8080/"
        },
        "id": "fb38695e",
        "outputId": "792e3d96-c1b3-420e-8371-c758f8b13f98"
      },
      "outputs": [
        {
          "output_type": "execute_result",
          "data": {
            "text/plain": [
              "0.5"
            ]
          },
          "metadata": {},
          "execution_count": 40
        }
      ],
      "source": [
        "Sigmoid(0)"
      ]
    },
    {
      "cell_type": "markdown",
      "id": "889f6cc2",
      "metadata": {
        "id": "889f6cc2"
      },
      "source": [
        "**Texte en gras**![exercise-1-perceptron.PNG](attachment:exercise-1-perceptron.PNG)"
      ]
    },
    {
      "cell_type": "code",
      "execution_count": null,
      "id": "fdb41a49",
      "metadata": {
        "id": "fdb41a49"
      },
      "outputs": [],
      "source": [
        "# Compute the output of the perceptron above:\n",
        "Z = 1"
      ]
    },
    {
      "cell_type": "code",
      "execution_count": null,
      "id": "f85fe133",
      "metadata": {
        "colab": {
          "base_uri": "https://localhost:8080/"
        },
        "id": "f85fe133",
        "outputId": "8de8da15-45ab-4dc3-aca8-c0490170942c"
      },
      "outputs": [
        {
          "output_type": "stream",
          "name": "stdout",
          "text": [
            "Sigmoid Output: 0.7310585786300049\n"
          ]
        }
      ],
      "source": [
        "# Apply sigmoid function on the weighted sum Z\n",
        "sigmoid_output = Sigmoid(Z)\n",
        "print(f\"Sigmoid Output: {sigmoid_output}\")"
      ]
    },
    {
      "cell_type": "code",
      "execution_count": null,
      "id": "ba38351e",
      "metadata": {
        "colab": {
          "base_uri": "https://localhost:8080/"
        },
        "id": "ba38351e",
        "outputId": "535120d4-1652-4166-bd6a-49feaa84f595"
      },
      "outputs": [
        {
          "output_type": "stream",
          "name": "stdout",
          "text": [
            "ReLU Output: 1\n"
          ]
        }
      ],
      "source": [
        "# Now, let's change the activation function to ReLU\n",
        "'''\n",
        "    1. Define the ReLU activation function\n",
        "    2. Recompute the output of the perceptron\n",
        "'''\n",
        "\n",
        "# 1 Define the ReLU activation fonction\n",
        "def relu_activation_function(x):\n",
        "    return max(0, x)\n",
        "\n",
        "# 2 Recompute the output of the perceptron\n",
        "relu_output = relu_activation_function(Z)\n",
        "print(f\"ReLU Output: {relu_output}\")"
      ]
    },
    {
      "cell_type": "markdown",
      "id": "3febc0d3",
      "metadata": {
        "id": "3febc0d3"
      },
      "source": [
        "## Exercise 2: Coding the logic gates using the perceptron"
      ]
    },
    {
      "cell_type": "markdown",
      "id": "e60febde",
      "metadata": {
        "id": "e60febde"
      },
      "source": [
        "![logic-gates-and-or-xor.PNG](attachment:logic-gates-and-or-xor.PNG)"
      ]
    },
    {
      "cell_type": "code",
      "execution_count": null,
      "id": "9898ff33",
      "metadata": {
        "id": "9898ff33"
      },
      "outputs": [],
      "source": [
        "# Coding the \"OR\" logic gate\n",
        "\n",
        "# Define the activation function (Step function)\n",
        "def activation_function(x):\n",
        "    return 1 if x >= 0 else 0"
      ]
    },
    {
      "cell_type": "code",
      "execution_count": null,
      "id": "42e5e7bd",
      "metadata": {
        "id": "42e5e7bd"
      },
      "outputs": [],
      "source": [
        "# Define the perceptron function\n",
        "def perceptron(input_data, weights, bias):\n",
        "    weighted_sum = np.dot(input_data, weights) + bias\n",
        "    return activation_function(weighted_sum)"
      ]
    },
    {
      "cell_type": "code",
      "execution_count": null,
      "id": "3e66d402",
      "metadata": {
        "id": "3e66d402"
      },
      "outputs": [],
      "source": [
        "# Define the OR gate truth table\n",
        "input_data = np.array([[0, 0], [0, 1], [1, 0], [1, 1]])\n",
        "target_output = np.array([0, 1, 1, 1])"
      ]
    },
    {
      "cell_type": "markdown",
      "id": "4adf78bc",
      "metadata": {
        "id": "4adf78bc"
      },
      "source": [
        "<b>Note:</b> To simplify, we use random weights and bias vallues, but, generally, the weights and biases for the perceptron are computed using <b>\"Perceptron Learning Rule\"</b>"
      ]
    },
    {
      "cell_type": "code",
      "execution_count": null,
      "id": "bf40cd33",
      "metadata": {
        "id": "bf40cd33"
      },
      "outputs": [],
      "source": [
        "weight = np.array([1,1])\n",
        "bias = -0.5"
      ]
    },
    {
      "cell_type": "code",
      "execution_count": null,
      "id": "7cda61c2",
      "metadata": {
        "colab": {
          "base_uri": "https://localhost:8080/"
        },
        "id": "7cda61c2",
        "outputId": "2d0711e5-fb9f-4efc-c021-747819963fb8"
      },
      "outputs": [
        {
          "output_type": "stream",
          "name": "stdout",
          "text": [
            "X1 =  0  OR X2 =  0 ==> 0\n",
            "X1 =  0  OR X2 =  1 ==> 1\n",
            "X1 =  1  OR X2 =  0 ==> 1\n",
            "X1 =  1  OR X2 =  1 ==> 1\n"
          ]
        }
      ],
      "source": [
        "for i in range(len(input_data)):\n",
        "    print(\"X1 = \", input_data[i,0], \" OR X2 = \", input_data[i,1], \"==>\", perceptron(input_data[i], weight, bias))"
      ]
    },
    {
      "cell_type": "code",
      "execution_count": null,
      "id": "e92aab9a",
      "metadata": {
        "scrolled": false,
        "colab": {
          "base_uri": "https://localhost:8080/",
          "height": 447
        },
        "id": "e92aab9a",
        "outputId": "8cf50bd0-1752-47cd-8c7b-6164d6b81a35"
      },
      "outputs": [
        {
          "output_type": "execute_result",
          "data": {
            "text/plain": [
              "[<matplotlib.lines.Line2D at 0x7b4bb2f09b40>]"
            ]
          },
          "metadata": {},
          "execution_count": 49
        },
        {
          "output_type": "display_data",
          "data": {
            "text/plain": [
              "<Figure size 640x480 with 1 Axes>"
            ],
            "image/png": "[encoded data removed]"
          },
          "metadata": {}
        }
      ],
      "source": [
        "# Plotting the decision boundary for OR Logic Gate\n",
        "X1 = (-bias - weight[1] * input_data[:,1]) / weight[0]\n",
        "sns.scatterplot(x = input_data[:,0], y = input_data[:,1], hue = target_output)\n",
        "plt.plot(X1, input_data[:,1], color = 'green')"
      ]
    },
    {
      "cell_type": "code",
      "execution_count": null,
      "id": "8f1e1414",
      "metadata": {
        "id": "8f1e1414"
      },
      "outputs": [],
      "source": [
        "# Coding the AND logic gate\n",
        "# Define the AND gate truth table\n",
        "input_data = np.array([[0, 0], [0, 1], [1, 0], [1, 1]])\n",
        "target_output = np.array([0, 0, 0, 1])"
      ]
    },
    {
      "cell_type": "code",
      "execution_count": null,
      "id": "56965f2f",
      "metadata": {
        "id": "56965f2f"
      },
      "outputs": [],
      "source": [
        "weight = np.array([1,1])\n",
        "bias = -1.5"
      ]
    },
    {
      "cell_type": "code",
      "execution_count": null,
      "id": "8bec9c2f",
      "metadata": {
        "colab": {
          "base_uri": "https://localhost:8080/"
        },
        "id": "8bec9c2f",
        "outputId": "12b938e3-8d73-48b5-d0dd-48a86074bb83"
      },
      "outputs": [
        {
          "output_type": "stream",
          "name": "stdout",
          "text": [
            "X1 =  0  and X2 =  0 ==> 0\n",
            "X1 =  0  and X2 =  1 ==> 0\n",
            "X1 =  1  and X2 =  0 ==> 0\n",
            "X1 =  1  and X2 =  1 ==> 1\n"
          ]
        }
      ],
      "source": [
        "for i in range(len(input_data)):\n",
        "    print(\"X1 = \", input_data[i,0], \" and X2 = \", input_data[i,1], \"==>\", perceptron(input_data[i], weight, bias))"
      ]
    },
    {
      "cell_type": "code",
      "execution_count": null,
      "id": "95cc7e96",
      "metadata": {
        "colab": {
          "base_uri": "https://localhost:8080/",
          "height": 447
        },
        "id": "95cc7e96",
        "outputId": "f7ab0a1a-cd32-4845-ac99-422c36deab94"
      },
      "outputs": [
        {
          "output_type": "execute_result",
          "data": {
            "text/plain": [
              "[<matplotlib.lines.Line2D at 0x7b4bb2d9ab30>]"
            ]
          },
          "metadata": {},
          "execution_count": 53
        },
        {
          "output_type": "display_data",
          "data": {
            "text/plain": [
              "<Figure size 640x480 with 1 Axes>"
            ],
            "image/png": "[encoded data removed]"
          },
          "metadata": {}
        }
      ],
      "source": [
        "# Plotting the decision boundary for OR Logic Gate\n",
        "X1 = (-bias - weight[1] * input_data[:,1]) / weight[0]\n",
        "sns.scatterplot(x = input_data[:,0], y = input_data[:,1], hue = target_output)\n",
        "plt.plot(X1, input_data[:,1], color = 'green')"
      ]
    },
    {
      "cell_type": "code",
      "execution_count": null,
      "id": "1ce0ef8f",
      "metadata": {
        "id": "1ce0ef8f"
      },
      "outputs": [],
      "source": [
        "# XOR and Perceptron Problem\n",
        "# Define the XOR gate truth table\n",
        "input_data = np.array([[0, 0], [0, 1], [1, 0], [1, 1]])\n",
        "target_output = np.array([0, 1, 1, 0])"
      ]
    },
    {
      "cell_type": "code",
      "execution_count": null,
      "id": "21ca5a47",
      "metadata": {
        "id": "21ca5a47",
        "outputId": "c30717ea-91cc-4c02-ed8e-6d16b617ab2f",
        "colab": {
          "base_uri": "https://localhost:8080/",
          "height": 447
        }
      },
      "outputs": [
        {
          "output_type": "execute_result",
          "data": {
            "text/plain": [
              "<Axes: >"
            ]
          },
          "metadata": {},
          "execution_count": 55
        },
        {
          "output_type": "display_data",
          "data": {
            "text/plain": [
              "<Figure size 640x480 with 1 Axes>"
            ],
            "image/png": "[encoded data removed]"
          },
          "metadata": {}
        }
      ],
      "source": [
        "sns.scatterplot(x = input_data[:,0], y = input_data[:,1], hue = target_output)"
      ]
    },
    {
      "cell_type": "markdown",
      "id": "ef7b6db0",
      "metadata": {
        "id": "ef7b6db0"
      },
      "source": [
        "<b>Note 1: </b>The XOR problem is a classic problem in artificial intelligence and machine learning that illustrates the limitations of single-layer perceptrons and the power of multi-layer perceptrons. By using a neural network with at least one hidden layer, it is possible to model complex, non-linear functions like XOR.\n",
        "<br>\n",
        "<b>Note 2: </b> A perceptron can only converge on linearly separable data. Therefore, it isn't capable of imitating the XOR function."
      ]
    },
    {
      "cell_type": "markdown",
      "id": "24067dad",
      "metadata": {
        "id": "24067dad"
      },
      "source": [
        "## Artificial Neural Networks"
      ]
    },
    {
      "cell_type": "markdown",
      "id": "4f3297f3",
      "metadata": {
        "id": "4f3297f3"
      },
      "source": [
        "### Building a Simple Neural Network From Scratch"
      ]
    },
    {
      "cell_type": "markdown",
      "id": "d397704a",
      "metadata": {
        "id": "d397704a"
      },
      "source": [
        "![three_layer_neural_network.png](attachment:three_layer_neural_network.png)"
      ]
    },
    {
      "cell_type": "markdown",
      "id": "2515bcd5",
      "metadata": {
        "id": "2515bcd5"
      },
      "source": [
        "<b>How do neural networks work?</b>\n",
        "<ol>\n",
        "    <li>\n",
        "        <b>Weight initialization:</b> It is the first component in the neural network architecture. The initial weights we set to define the start point for the optimization process of the neural network model.\n",
        "        <ul>\n",
        "            <li>Zero initialization</li>\n",
        "            <li>Random initialization</li>\n",
        "        </ul>\n",
        "    </li>\n",
        "    <li>\n",
        "        <b>Forward propagation: </b>Neural networks work by taking a weighted average plus a bias term and applying an activation function to add a non-linear transformation. In the weighted average formulation, each weight determines the importance of each feature (i.e., how much it contributes to predicting the output).\n",
        "        <br>\n",
        "        Z = (w1.x1 + w2.x2 + w3.x3 + ... + wn.xn) + b\n",
        "        <br>\n",
        "        If the formula looks familiar, that’s because it is linear regression. Without introducing non-linearity into the neurons, we would have linear regression, which is a simple model. The non-linear transformation allows our neural network to learn complex patterns.\n",
        "    </li>\n",
        "    <li>\n",
        "        <b>Activation function: </b> Sigmoid, Tanh, ReLU, Softmax ...etc\n",
        "    </li>\n",
        "    <li>\n",
        "        <b>Backpropagation: </b>At the end of the first forward pass, the network makes predictions using the initialized weights, which are not tuned. Thus, it’s highly likely that the predictions the model makes will not be accurate. Using the loss calculated from forward propagation, we pass information back through the network to fine-tune the weights in a process known as backpropagation.\n",
        "    </li>\n",
        "</ol>"
      ]
    },
    {
      "cell_type": "code",
      "execution_count": null,
      "id": "4617b21e",
      "metadata": {
        "scrolled": true,
        "id": "4617b21e"
      },
      "outputs": [],
      "source": [
        "import numpy as np"
      ]
    },
    {
      "cell_type": "code",
      "execution_count": null,
      "id": "62be8c31",
      "metadata": {
        "id": "62be8c31"
      },
      "outputs": [],
      "source": [
        "# Define the sigmoid activation function and its derivative\n",
        "def sigmoid(x):\n",
        "    return 1 / (1 + np.exp(-x))\n",
        "\n",
        "def sigmoid_derivative(x):\n",
        "    return np.exp(-x) / ( (1 + np.exp(-x)) ** 2 )"
      ]
    },
    {
      "cell_type": "code",
      "execution_count": null,
      "id": "1e3be6d6",
      "metadata": {
        "id": "1e3be6d6"
      },
      "outputs": [],
      "source": [
        "# Initialize random seed for reproducibility\n",
        "np.random.seed(0)\n",
        "\n",
        "# Define the dataset (XOR problem)\n",
        "X = np.array([[0, 0], [0, 1], [1, 0], [1, 1]])\n",
        "y = np.array([[0], [1], [1], [0]])\n",
        "\n",
        "# Initialize weights and biases\n",
        "input_nodes = 2\n",
        "hidden_nodes = 4\n",
        "output_nodes = 1"
      ]
    },
    {
      "cell_type": "code",
      "execution_count": null,
      "id": "c7841ddd",
      "metadata": {
        "colab": {
          "base_uri": "https://localhost:8080/"
        },
        "id": "c7841ddd",
        "outputId": "6501761a-a80a-4c62-be9e-34beb42097ce"
      },
      "outputs": [
        {
          "output_type": "stream",
          "name": "stdout",
          "text": [
            "Predictions:\n",
            "[[0.37978043]\n",
            " [0.57240284]\n",
            " [0.57338343]\n",
            " [0.431432  ]]\n"
          ]
        }
      ],
      "source": [
        "W1 = np.random.uniform(size=(input_nodes, hidden_nodes))\n",
        "b1 = np.random.uniform(size=(1, hidden_nodes))\n",
        "\n",
        "W2 = np.random.uniform(size=(hidden_nodes, output_nodes))\n",
        "b2 = np.random.uniform(size=(1, output_nodes))\n",
        "\n",
        "# Hyperparameters\n",
        "learning_rate = 0.5\n",
        "epochs = 10000\n",
        "\n",
        "# Training loop\n",
        "for _ in range(epochs):\n",
        "    # Forward propagation\n",
        "    z1 = np.dot(X, W1) + b1\n",
        "    a1 = sigmoid(z1)\n",
        "\n",
        "    z2 = np.dot(a1, W2) + b2\n",
        "    a2 = sigmoid(z2)\n",
        "\n",
        "    # Calculate error\n",
        "    error = y - a2\n",
        "\n",
        "    # Backpropagation\n",
        "    d2 = error * sigmoid_derivative(a2)\n",
        "    d1 = np.dot(d2, W2.T) * sigmoid_derivative(a1)\n",
        "\n",
        "    # Update weights and biases\n",
        "    W2 += learning_rate * np.dot(a1.T, d2)\n",
        "    b2 += learning_rate * np.sum(d2, axis=0, keepdims=True)\n",
        "    W1 += learning_rate * np.dot(X.T, d1)\n",
        "    b1 += learning_rate * np.sum(d1, axis=0, keepdims=True)\n",
        "\n",
        "# Testing the trained model\n",
        "predictions = sigmoid(np.dot(sigmoid(np.dot(X, W1) + b1), W2) + b2)\n",
        "\n",
        "print(\"Predictions:\")\n",
        "print(predictions)"
      ]
    },
    {
      "cell_type": "markdown",
      "id": "c7245e80",
      "metadata": {
        "id": "c7245e80"
      },
      "source": [
        "## Multi-Layer Perceptron (MLP) using sklearn"
      ]
    },
    {
      "cell_type": "markdown",
      "id": "9969f564",
      "metadata": {
        "id": "9969f564"
      },
      "source": [
        "Multi-layer Perceptron (MLP) is a supervised learning algorithm that learns a function $ f(.):\\mathbb{R}^{m} → \\mathbb{R}^{o}$\n",
        " by training on a dataset, where ***m***\n",
        " is the number of dimensions for input and ***o***\n",
        " is the number of dimensions for output. Given a set of features $X=x_1,x_2, …, x_M$\n",
        " and a target $y$\n",
        ", it can learn a non-linear function approximator for either classification or regression. It is different from logistic regression, in that between the input and the output layer, there can be one or more non-linear layers, called hidden layers. Figure below shows a one hidden layer MLP with scalar output."
      ]
    },
    {
      "cell_type": "markdown",
      "id": "7dbff740",
      "metadata": {
        "id": "7dbff740"
      },
      "source": [
        "![mlp-one-hidden-layer.png](attachment:mlp-one-hidden-layer.png)"
      ]
    },
    {
      "cell_type": "code",
      "execution_count": null,
      "id": "5861cc8a",
      "metadata": {
        "id": "5861cc8a"
      },
      "outputs": [],
      "source": [
        "# Example using skLearn library\n",
        "# Inporting libraries\n",
        "import pandas as pd\n",
        "import numpy as np\n",
        "import matplotlib.pyplot as plt\n",
        "from sklearn.neural_network import MLPClassifier\n",
        "from sklearn.model_selection import train_test_split\n",
        "from sklearn.metrics import classification_report,confusion_matrix"
      ]
    },
    {
      "cell_type": "code",
      "execution_count": null,
      "id": "55cd8741",
      "metadata": {
        "colab": {
          "base_uri": "https://localhost:8080/",
          "height": 369
        },
        "id": "55cd8741",
        "outputId": "9945e715-5812-4b5d-88e8-cd4d7fa3c5fe"
      },
      "outputs": [
        {
          "output_type": "stream",
          "name": "stdout",
          "text": [
            "(768, 9)\n"
          ]
        },
        {
          "output_type": "execute_result",
          "data": {
            "text/plain": [
              "                          count        mean         std     min       25%  \\\n",
              "Pregnancies               768.0    3.845052    3.369578   0.000   1.00000   \n",
              "Glucose                   768.0  120.894531   31.972618   0.000  99.00000   \n",
              "BloodPressure             768.0   69.105469   19.355807   0.000  62.00000   \n",
              "SkinThickness             768.0   20.536458   15.952218   0.000   0.00000   \n",
              "Insulin                   768.0   79.799479  115.244002   0.000   0.00000   \n",
              "BMI                       768.0   31.992578    7.884160   0.000  27.30000   \n",
              "DiabetesPedigreeFunction  768.0    0.471876    0.331329   0.078   0.24375   \n",
              "Age                       768.0   33.240885   11.760232  21.000  24.00000   \n",
              "Outcome                   768.0    0.348958    0.476951   0.000   0.00000   \n",
              "\n",
              "                               50%        75%     max  \n",
              "Pregnancies                 3.0000    6.00000   17.00  \n",
              "Glucose                   117.0000  140.25000  199.00  \n",
              "BloodPressure              72.0000   80.00000  122.00  \n",
              "SkinThickness              23.0000   32.00000   99.00  \n",
              "Insulin                    30.5000  127.25000  846.00  \n",
              "BMI                        32.0000   36.60000   67.10  \n",
              "DiabetesPedigreeFunction    0.3725    0.62625    2.42  \n",
              "Age                        29.0000   41.00000   81.00  \n",
              "Outcome                     0.0000    1.00000    1.00  "
            ],
            "text/html": [
              "\n",
              "  <div id=\"df-a0edc282-06ab-43ef-82c9-9596b5886f9a\" class=\"colab-df-container\">\n",
              "    <div>\n",
              "<style scoped>\n",
              "    .dataframe tbody tr th:only-of-type {\n",
              "        vertical-align: middle;\n",
              "    }\n",
              "\n",
              "    .dataframe tbody tr th {\n",
              "        vertical-align: top;\n",
              "    }\n",
              "\n",
              "    .dataframe thead th {\n",
              "        text-align: right;\n",
              "    }\n",
              "</style>\n",
              "<table border=\"1\" class=\"dataframe\">\n",
              "  <thead>\n",
              "    <tr style=\"text-align: right;\">\n",
              "      <th></th>\n",
              "      <th>count</th>\n",
              "      <th>mean</th>\n",
              "      <th>std</th>\n",
              "      <th>min</th>\n",
              "      <th>25%</th>\n",
              "      <th>50%</th>\n",
              "      <th>75%</th>\n",
              "      <th>max</th>\n",
              "    </tr>\n",
              "  </thead>\n",
              "  <tbody>\n",
              "    <tr>\n",
              "      <th>Pregnancies</th>\n",
              "      <td>768.0</td>\n",
              "      <td>3.845052</td>\n",
              "      <td>3.369578</td>\n",
              "      <td>0.000</td>\n",
              "      <td>1.00000</td>\n",
              "      <td>3.0000</td>\n",
              "      <td>6.00000</td>\n",
              "      <td>17.00</td>\n",
              "    </tr>\n",
              "    <tr>\n",
              "      <th>Glucose</th>\n",
              "      <td>768.0</td>\n",
              "      <td>120.894531</td>\n",
              "      <td>31.972618</td>\n",
              "      <td>0.000</td>\n",
              "      <td>99.00000</td>\n",
              "      <td>117.0000</td>\n",
              "      <td>140.25000</td>\n",
              "      <td>199.00</td>\n",
              "    </tr>\n",
              "    <tr>\n",
              "      <th>BloodPressure</th>\n",
              "      <td>768.0</td>\n",
              "      <td>69.105469</td>\n",
              "      <td>19.355807</td>\n",
              "      <td>0.000</td>\n",
              "      <td>62.00000</td>\n",
              "      <td>72.0000</td>\n",
              "      <td>80.00000</td>\n",
              "      <td>122.00</td>\n",
              "    </tr>\n",
              "    <tr>\n",
              "      <th>SkinThickness</th>\n",
              "      <td>768.0</td>\n",
              "      <td>20.536458</td>\n",
              "      <td>15.952218</td>\n",
              "      <td>0.000</td>\n",
              "      <td>0.00000</td>\n",
              "      <td>23.0000</td>\n",
              "      <td>32.00000</td>\n",
              "      <td>99.00</td>\n",
              "    </tr>\n",
              "    <tr>\n",
              "      <th>Insulin</th>\n",
              "      <td>768.0</td>\n",
              "      <td>79.799479</td>\n",
              "      <td>115.244002</td>\n",
              "      <td>0.000</td>\n",
              "      <td>0.00000</td>\n",
              "      <td>30.5000</td>\n",
              "      <td>127.25000</td>\n",
              "      <td>846.00</td>\n",
              "    </tr>\n",
              "    <tr>\n",
              "      <th>BMI</th>\n",
              "      <td>768.0</td>\n",
              "      <td>31.992578</td>\n",
              "      <td>7.884160</td>\n",
              "      <td>0.000</td>\n",
              "      <td>27.30000</td>\n",
              "      <td>32.0000</td>\n",
              "      <td>36.60000</td>\n",
              "      <td>67.10</td>\n",
              "    </tr>\n",
              "    <tr>\n",
              "      <th>DiabetesPedigreeFunction</th>\n",
              "      <td>768.0</td>\n",
              "      <td>0.471876</td>\n",
              "      <td>0.331329</td>\n",
              "      <td>0.078</td>\n",
              "      <td>0.24375</td>\n",
              "      <td>0.3725</td>\n",
              "      <td>0.62625</td>\n",
              "      <td>2.42</td>\n",
              "    </tr>\n",
              "    <tr>\n",
              "      <th>Age</th>\n",
              "      <td>768.0</td>\n",
              "      <td>33.240885</td>\n",
              "      <td>11.760232</td>\n",
              "      <td>21.000</td>\n",
              "      <td>24.00000</td>\n",
              "      <td>29.0000</td>\n",
              "      <td>41.00000</td>\n",
              "      <td>81.00</td>\n",
              "    </tr>\n",
              "    <tr>\n",
              "      <th>Outcome</th>\n",
              "      <td>768.0</td>\n",
              "      <td>0.348958</td>\n",
              "      <td>0.476951</td>\n",
              "      <td>0.000</td>\n",
              "      <td>0.00000</td>\n",
              "      <td>0.0000</td>\n",
              "      <td>1.00000</td>\n",
              "      <td>1.00</td>\n",
              "    </tr>\n",
              "  </tbody>\n",
              "</table>\n",
              "</div>\n",
              "    <div class=\"colab-df-buttons\">\n",
              "\n",
              "  <div class=\"colab-df-container\">\n",
              "    <button class=\"colab-df-convert\" onclick=\"convertToInteractive('df-a0edc282-06ab-43ef-82c9-9596b5886f9a')\"\n",
              "            title=\"Convert this dataframe to an interactive table.\"\n",
              "            style=\"display:none;\">\n",
              "\n",
              "  <svg xmlns=\"http://www.w3.org/2000/svg\" height=\"24px\" viewBox=\"0 -960 960 960\">\n",
              "    <path d=\"M120-120v-720h720v720H120Zm60-500h600v-160H180v160Zm220 220h160v-160H400v160Zm0 220h160v-160H400v160ZM180-400h160v-160H180v160Zm440 0h160v-160H620v160ZM180-180h160v-160H180v160Zm440 0h160v-160H620v160Z\"/>\n",
              "  </svg>\n",
              "    </button>\n",
              "\n",
              "  <style>\n",
              "    .colab-df-container {\n",
              "      display:flex;\n",
              "      gap: 12px;\n",
              "    }\n",
              "\n",
              "    .colab-df-convert {\n",
              "      background-color: #E8F0FE;\n",
              "      border: none;\n",
              "      border-radius: 50%;\n",
              "      cursor: pointer;\n",
              "      display: none;\n",
              "      fill: #1967D2;\n",
              "      height: 32px;\n",
              "      padding: 0 0 0 0;\n",
              "      width: 32px;\n",
              "    }\n",
              "\n",
              "    .colab-df-convert:hover {\n",
              "      background-color: #E2EBFA;\n",
              "      box-shadow: 0px 1px 2px rgba(60, 64, 67, 0.3), 0px 1px 3px 1px rgba(60, 64, 67, 0.15);\n",
              "      fill: #174EA6;\n",
              "    }\n",
              "\n",
              "    .colab-df-buttons div {\n",
              "      margin-bottom: 4px;\n",
              "    }\n",
              "\n",
              "    [theme=dark] .colab-df-convert {\n",
              "      background-color: #3B4455;\n",
              "      fill: #D2E3FC;\n",
              "    }\n",
              "\n",
              "    [theme=dark] .colab-df-convert:hover {\n",
              "      background-color: #434B5C;\n",
              "      box-shadow: 0px 1px 3px 1px rgba(0, 0, 0, 0.15);\n",
              "      filter: drop-shadow(0px 1px 2px rgba(0, 0, 0, 0.3));\n",
              "      fill: #FFFFFF;\n",
              "    }\n",
              "  </style>\n",
              "\n",
              "    <script>\n",
              "      const buttonEl =\n",
              "        document.querySelector('#df-a0edc282-06ab-43ef-82c9-9596b5886f9a button.colab-df-convert');\n",
              "      buttonEl.style.display =\n",
              "        google.colab.kernel.accessAllowed ? 'block' : 'none';\n",
              "\n",
              "      async function convertToInteractive(key) {\n",
              "        const element = document.querySelector('#df-a0edc282-06ab-43ef-82c9-9596b5886f9a');\n",
              "        const dataTable =\n",
              "          await google.colab.kernel.invokeFunction('convertToInteractive',\n",
              "                                                    [key], {});\n",
              "        if (!dataTable) return;\n",
              "\n",
              "        const docLinkHtml = 'Like what you see? Visit the ' +\n",
              "          '<a target=\"_blank\" href=https://colab.research.google.com/notebooks/data_table.ipynb>data table notebook</a>'\n",
              "          + ' to learn more about interactive tables.';\n",
              "        element.innerHTML = '';\n",
              "        dataTable['output_type'] = 'display_data';\n",
              "        await google.colab.output.renderOutput(dataTable, element);\n",
              "        const docLink = document.createElement('div');\n",
              "        docLink.innerHTML = docLinkHtml;\n",
              "        element.appendChild(docLink);\n",
              "      }\n",
              "    </script>\n",
              "  </div>\n",
              "\n",
              "\n",
              "<div id=\"df-95984df9-0a3a-450c-ba7f-c189f8e53df4\">\n",
              "  <button class=\"colab-df-quickchart\" onclick=\"quickchart('df-95984df9-0a3a-450c-ba7f-c189f8e53df4')\"\n",
              "            title=\"Suggest charts\"\n",
              "            style=\"display:none;\">\n",
              "\n",
              "<svg xmlns=\"http://www.w3.org/2000/svg\" height=\"24px\"viewBox=\"0 0 24 24\"\n",
              "     width=\"24px\">\n",
              "    <g>\n",
              "        <path d=\"M19 3H5c-1.1 0-2 .9-2 2v14c0 1.1.9 2 2 2h14c1.1 0 2-.9 2-2V5c0-1.1-.9-2-2-2zM9 17H7v-7h2v7zm4 0h-2V7h2v10zm4 0h-2v-4h2v4z\"/>\n",
              "    </g>\n",
              "</svg>\n",
              "  </button>\n",
              "\n",
              "<style>\n",
              "  .colab-df-quickchart {\n",
              "      --bg-color: #E8F0FE;\n",
              "      --fill-color: #1967D2;\n",
              "      --hover-bg-color: #E2EBFA;\n",
              "      --hover-fill-color: #174EA6;\n",
              "      --disabled-fill-color: #AAA;\n",
              "      --disabled-bg-color: #DDD;\n",
              "  }\n",
              "\n",
              "  [theme=dark] .colab-df-quickchart {\n",
              "      --bg-color: #3B4455;\n",
              "      --fill-color: #D2E3FC;\n",
              "      --hover-bg-color: #434B5C;\n",
              "      --hover-fill-color: #FFFFFF;\n",
              "      --disabled-bg-color: #3B4455;\n",
              "      --disabled-fill-color: #666;\n",
              "  }\n",
              "\n",
              "  .colab-df-quickchart {\n",
              "    background-color: var(--bg-color);\n",
              "    border: none;\n",
              "    border-radius: 50%;\n",
              "    cursor: pointer;\n",
              "    display: none;\n",
              "    fill: var(--fill-color);\n",
              "    height: 32px;\n",
              "    padding: 0;\n",
              "    width: 32px;\n",
              "  }\n",
              "\n",
              "  .colab-df-quickchart:hover {\n",
              "    background-color: var(--hover-bg-color);\n",
              "    box-shadow: 0 1px 2px rgba(60, 64, 67, 0.3), 0 1px 3px 1px rgba(60, 64, 67, 0.15);\n",
              "    fill: var(--button-hover-fill-color);\n",
              "  }\n",
              "\n",
              "  .colab-df-quickchart-complete:disabled,\n",
              "  .colab-df-quickchart-complete:disabled:hover {\n",
              "    background-color: var(--disabled-bg-color);\n",
              "    fill: var(--disabled-fill-color);\n",
              "    box-shadow: none;\n",
              "  }\n",
              "\n",
              "  .colab-df-spinner {\n",
              "    border: 2px solid var(--fill-color);\n",
              "    border-color: transparent;\n",
              "    border-bottom-color: var(--fill-color);\n",
              "    animation:\n",
              "      spin 1s steps(1) infinite;\n",
              "  }\n",
              "\n",
              "  @keyframes spin {\n",
              "    0% {\n",
              "      border-color: transparent;\n",
              "      border-bottom-color: var(--fill-color);\n",
              "      border-left-color: var(--fill-color);\n",
              "    }\n",
              "    20% {\n",
              "      border-color: transparent;\n",
              "      border-left-color: var(--fill-color);\n",
              "      border-top-color: var(--fill-color);\n",
              "    }\n",
              "    30% {\n",
              "      border-color: transparent;\n",
              "      border-left-color: var(--fill-color);\n",
              "      border-top-color: var(--fill-color);\n",
              "      border-right-color: var(--fill-color);\n",
              "    }\n",
              "    40% {\n",
              "      border-color: transparent;\n",
              "      border-right-color: var(--fill-color);\n",
              "      border-top-color: var(--fill-color);\n",
              "    }\n",
              "    60% {\n",
              "      border-color: transparent;\n",
              "      border-right-color: var(--fill-color);\n",
              "    }\n",
              "    80% {\n",
              "      border-color: transparent;\n",
              "      border-right-color: var(--fill-color);\n",
              "      border-bottom-color: var(--fill-color);\n",
              "    }\n",
              "    90% {\n",
              "      border-color: transparent;\n",
              "      border-bottom-color: var(--fill-color);\n",
              "    }\n",
              "  }\n",
              "</style>\n",
              "\n",
              "  <script>\n",
              "    async function quickchart(key) {\n",
              "      const quickchartButtonEl =\n",
              "        document.querySelector('#' + key + ' button');\n",
              "      quickchartButtonEl.disabled = true;  // To prevent multiple clicks.\n",
              "      quickchartButtonEl.classList.add('colab-df-spinner');\n",
              "      try {\n",
              "        const charts = await google.colab.kernel.invokeFunction(\n",
              "            'suggestCharts', [key], {});\n",
              "      } catch (error) {\n",
              "        console.error('Error during call to suggestCharts:', error);\n",
              "      }\n",
              "      quickchartButtonEl.classList.remove('colab-df-spinner');\n",
              "      quickchartButtonEl.classList.add('colab-df-quickchart-complete');\n",
              "    }\n",
              "    (() => {\n",
              "      let quickchartButtonEl =\n",
              "        document.querySelector('#df-95984df9-0a3a-450c-ba7f-c189f8e53df4 button');\n",
              "      quickchartButtonEl.style.display =\n",
              "        google.colab.kernel.accessAllowed ? 'block' : 'none';\n",
              "    })();\n",
              "  </script>\n",
              "</div>\n",
              "    </div>\n",
              "  </div>\n"
            ]
          },
          "metadata": {},
          "execution_count": 61
        }
      ],
      "source": [
        "#Reading the Data and Performing Basic Data Checks of the diabetese dataset\n",
        "df = pd.read_csv('./diabetes.csv')\n",
        "print(df.shape)\n",
        "df.describe().transpose()"
      ]
    },
    {
      "cell_type": "code",
      "execution_count": null,
      "id": "23e79838",
      "metadata": {
        "colab": {
          "base_uri": "https://localhost:8080/",
          "height": 444
        },
        "id": "23e79838",
        "outputId": "e47403ec-4903-49ee-ff14-0b40a8ad883f"
      },
      "outputs": [
        {
          "output_type": "execute_result",
          "data": {
            "text/plain": [
              "     Pregnancies  Glucose  BloodPressure  SkinThickness  Insulin   BMI  \\\n",
              "0              6      148             72             35        0  33.6   \n",
              "1              1       85             66             29        0  26.6   \n",
              "2              8      183             64              0        0  23.3   \n",
              "3              1       89             66             23       94  28.1   \n",
              "4              0      137             40             35      168  43.1   \n",
              "..           ...      ...            ...            ...      ...   ...   \n",
              "763           10      101             76             48      180  32.9   \n",
              "764            2      122             70             27        0  36.8   \n",
              "765            5      121             72             23      112  26.2   \n",
              "766            1      126             60              0        0  30.1   \n",
              "767            1       93             70             31        0  30.4   \n",
              "\n",
              "     DiabetesPedigreeFunction  Age  Outcome  \n",
              "0                       0.627   50        1  \n",
              "1                       0.351   31        0  \n",
              "2                       0.672   32        1  \n",
              "3                       0.167   21        0  \n",
              "4                       2.288   33        1  \n",
              "..                        ...  ...      ...  \n",
              "763                     0.171   63        0  \n",
              "764                     0.340   27        0  \n",
              "765                     0.245   30        0  \n",
              "766                     0.349   47        1  \n",
              "767                     0.315   23        0  \n",
              "\n",
              "[768 rows x 9 columns]"
            ],
            "text/html": [
              "\n",
              "  <div id=\"df-dc5c0d5a-c874-415c-a1a4-dbb83791779e\" class=\"colab-df-container\">\n",
              "    <div>\n",
              "<style scoped>\n",
              "    .dataframe tbody tr th:only-of-type {\n",
              "        vertical-align: middle;\n",
              "    }\n",
              "\n",
              "    .dataframe tbody tr th {\n",
              "        vertical-align: top;\n",
              "    }\n",
              "\n",
              "    .dataframe thead th {\n",
              "        text-align: right;\n",
              "    }\n",
              "</style>\n",
              "<table border=\"1\" class=\"dataframe\">\n",
              "  <thead>\n",
              "    <tr style=\"text-align: right;\">\n",
              "      <th></th>\n",
              "      <th>Pregnancies</th>\n",
              "      <th>Glucose</th>\n",
              "      <th>BloodPressure</th>\n",
              "      <th>SkinThickness</th>\n",
              "      <th>Insulin</th>\n",
              "      <th>BMI</th>\n",
              "      <th>DiabetesPedigreeFunction</th>\n",
              "      <th>Age</th>\n",
              "      <th>Outcome</th>\n",
              "    </tr>\n",
              "  </thead>\n",
              "  <tbody>\n",
              "    <tr>\n",
              "      <th>0</th>\n",
              "      <td>6</td>\n",
              "      <td>148</td>\n",
              "      <td>72</td>\n",
              "      <td>35</td>\n",
              "      <td>0</td>\n",
              "      <td>33.6</td>\n",
              "      <td>0.627</td>\n",
              "      <td>50</td>\n",
              "      <td>1</td>\n",
              "    </tr>\n",
              "    <tr>\n",
              "      <th>1</th>\n",
              "      <td>1</td>\n",
              "      <td>85</td>\n",
              "      <td>66</td>\n",
              "      <td>29</td>\n",
              "      <td>0</td>\n",
              "      <td>26.6</td>\n",
              "      <td>0.351</td>\n",
              "      <td>31</td>\n",
              "      <td>0</td>\n",
              "    </tr>\n",
              "    <tr>\n",
              "      <th>2</th>\n",
              "      <td>8</td>\n",
              "      <td>183</td>\n",
              "      <td>64</td>\n",
              "      <td>0</td>\n",
              "      <td>0</td>\n",
              "      <td>23.3</td>\n",
              "      <td>0.672</td>\n",
              "      <td>32</td>\n",
              "      <td>1</td>\n",
              "    </tr>\n",
              "    <tr>\n",
              "      <th>3</th>\n",
              "      <td>1</td>\n",
              "      <td>89</td>\n",
              "      <td>66</td>\n",
              "      <td>23</td>\n",
              "      <td>94</td>\n",
              "      <td>28.1</td>\n",
              "      <td>0.167</td>\n",
              "      <td>21</td>\n",
              "      <td>0</td>\n",
              "    </tr>\n",
              "    <tr>\n",
              "      <th>4</th>\n",
              "      <td>0</td>\n",
              "      <td>137</td>\n",
              "      <td>40</td>\n",
              "      <td>35</td>\n",
              "      <td>168</td>\n",
              "      <td>43.1</td>\n",
              "      <td>2.288</td>\n",
              "      <td>33</td>\n",
              "      <td>1</td>\n",
              "    </tr>\n",
              "    <tr>\n",
              "      <th>...</th>\n",
              "      <td>...</td>\n",
              "      <td>...</td>\n",
              "      <td>...</td>\n",
              "      <td>...</td>\n",
              "      <td>...</td>\n",
              "      <td>...</td>\n",
              "      <td>...</td>\n",
              "      <td>...</td>\n",
              "      <td>...</td>\n",
              "    </tr>\n",
              "    <tr>\n",
              "      <th>763</th>\n",
              "      <td>10</td>\n",
              "      <td>101</td>\n",
              "      <td>76</td>\n",
              "      <td>48</td>\n",
              "      <td>180</td>\n",
              "      <td>32.9</td>\n",
              "      <td>0.171</td>\n",
              "      <td>63</td>\n",
              "      <td>0</td>\n",
              "    </tr>\n",
              "    <tr>\n",
              "      <th>764</th>\n",
              "      <td>2</td>\n",
              "      <td>122</td>\n",
              "      <td>70</td>\n",
              "      <td>27</td>\n",
              "      <td>0</td>\n",
              "      <td>36.8</td>\n",
              "      <td>0.340</td>\n",
              "      <td>27</td>\n",
              "      <td>0</td>\n",
              "    </tr>\n",
              "    <tr>\n",
              "      <th>765</th>\n",
              "      <td>5</td>\n",
              "      <td>121</td>\n",
              "      <td>72</td>\n",
              "      <td>23</td>\n",
              "      <td>112</td>\n",
              "      <td>26.2</td>\n",
              "      <td>0.245</td>\n",
              "      <td>30</td>\n",
              "      <td>0</td>\n",
              "    </tr>\n",
              "    <tr>\n",
              "      <th>766</th>\n",
              "      <td>1</td>\n",
              "      <td>126</td>\n",
              "      <td>60</td>\n",
              "      <td>0</td>\n",
              "      <td>0</td>\n",
              "      <td>30.1</td>\n",
              "      <td>0.349</td>\n",
              "      <td>47</td>\n",
              "      <td>1</td>\n",
              "    </tr>\n",
              "    <tr>\n",
              "      <th>767</th>\n",
              "      <td>1</td>\n",
              "      <td>93</td>\n",
              "      <td>70</td>\n",
              "      <td>31</td>\n",
              "      <td>0</td>\n",
              "      <td>30.4</td>\n",
              "      <td>0.315</td>\n",
              "      <td>23</td>\n",
              "      <td>0</td>\n",
              "    </tr>\n",
              "  </tbody>\n",
              "</table>\n",
              "<p>768 rows × 9 columns</p>\n",
              "</div>\n",
              "    <div class=\"colab-df-buttons\">\n",
              "\n",
              "  <div class=\"colab-df-container\">\n",
              "    <button class=\"colab-df-convert\" onclick=\"convertToInteractive('df-dc5c0d5a-c874-415c-a1a4-dbb83791779e')\"\n",
              "            title=\"Convert this dataframe to an interactive table.\"\n",
              "            style=\"display:none;\">\n",
              "\n",
              "  <svg xmlns=\"http://www.w3.org/2000/svg\" height=\"24px\" viewBox=\"0 -960 960 960\">\n",
              "    <path d=\"M120-120v-720h720v720H120Zm60-500h600v-160H180v160Zm220 220h160v-160H400v160Zm0 220h160v-160H400v160ZM180-400h160v-160H180v160Zm440 0h160v-160H620v160ZM180-180h160v-160H180v160Zm440 0h160v-160H620v160Z\"/>\n",
              "  </svg>\n",
              "    </button>\n",
              "\n",
              "  <style>\n",
              "    .colab-df-container {\n",
              "      display:flex;\n",
              "      gap: 12px;\n",
              "    }\n",
              "\n",
              "    .colab-df-convert {\n",
              "      background-color: #E8F0FE;\n",
              "      border: none;\n",
              "      border-radius: 50%;\n",
              "      cursor: pointer;\n",
              "      display: none;\n",
              "      fill: #1967D2;\n",
              "      height: 32px;\n",
              "      padding: 0 0 0 0;\n",
              "      width: 32px;\n",
              "    }\n",
              "\n",
              "    .colab-df-convert:hover {\n",
              "      background-color: #E2EBFA;\n",
              "      box-shadow: 0px 1px 2px rgba(60, 64, 67, 0.3), 0px 1px 3px 1px rgba(60, 64, 67, 0.15);\n",
              "      fill: #174EA6;\n",
              "    }\n",
              "\n",
              "    .colab-df-buttons div {\n",
              "      margin-bottom: 4px;\n",
              "    }\n",
              "\n",
              "    [theme=dark] .colab-df-convert {\n",
              "      background-color: #3B4455;\n",
              "      fill: #D2E3FC;\n",
              "    }\n",
              "\n",
              "    [theme=dark] .colab-df-convert:hover {\n",
              "      background-color: #434B5C;\n",
              "      box-shadow: 0px 1px 3px 1px rgba(0, 0, 0, 0.15);\n",
              "      filter: drop-shadow(0px 1px 2px rgba(0, 0, 0, 0.3));\n",
              "      fill: #FFFFFF;\n",
              "    }\n",
              "  </style>\n",
              "\n",
              "    <script>\n",
              "      const buttonEl =\n",
              "        document.querySelector('#df-dc5c0d5a-c874-415c-a1a4-dbb83791779e button.colab-df-convert');\n",
              "      buttonEl.style.display =\n",
              "        google.colab.kernel.accessAllowed ? 'block' : 'none';\n",
              "\n",
              "      async function convertToInteractive(key) {\n",
              "        const element = document.querySelector('#df-dc5c0d5a-c874-415c-a1a4-dbb83791779e');\n",
              "        const dataTable =\n",
              "          await google.colab.kernel.invokeFunction('convertToInteractive',\n",
              "                                                    [key], {});\n",
              "        if (!dataTable) return;\n",
              "\n",
              "        const docLinkHtml = 'Like what you see? Visit the ' +\n",
              "          '<a target=\"_blank\" href=https://colab.research.google.com/notebooks/data_table.ipynb>data table notebook</a>'\n",
              "          + ' to learn more about interactive tables.';\n",
              "        element.innerHTML = '';\n",
              "        dataTable['output_type'] = 'display_data';\n",
              "        await google.colab.output.renderOutput(dataTable, element);\n",
              "        const docLink = document.createElement('div');\n",
              "        docLink.innerHTML = docLinkHtml;\n",
              "        element.appendChild(docLink);\n",
              "      }\n",
              "    </script>\n",
              "  </div>\n",
              "\n",
              "\n",
              "<div id=\"df-7f14cfdd-6c3f-4415-a5e5-f4a39b98a757\">\n",
              "  <button class=\"colab-df-quickchart\" onclick=\"quickchart('df-7f14cfdd-6c3f-4415-a5e5-f4a39b98a757')\"\n",
              "            title=\"Suggest charts\"\n",
              "            style=\"display:none;\">\n",
              "\n",
              "<svg xmlns=\"http://www.w3.org/2000/svg\" height=\"24px\"viewBox=\"0 0 24 24\"\n",
              "     width=\"24px\">\n",
              "    <g>\n",
              "        <path d=\"M19 3H5c-1.1 0-2 .9-2 2v14c0 1.1.9 2 2 2h14c1.1 0 2-.9 2-2V5c0-1.1-.9-2-2-2zM9 17H7v-7h2v7zm4 0h-2V7h2v10zm4 0h-2v-4h2v4z\"/>\n",
              "    </g>\n",
              "</svg>\n",
              "  </button>\n",
              "\n",
              "<style>\n",
              "  .colab-df-quickchart {\n",
              "      --bg-color: #E8F0FE;\n",
              "      --fill-color: #1967D2;\n",
              "      --hover-bg-color: #E2EBFA;\n",
              "      --hover-fill-color: #174EA6;\n",
              "      --disabled-fill-color: #AAA;\n",
              "      --disabled-bg-color: #DDD;\n",
              "  }\n",
              "\n",
              "  [theme=dark] .colab-df-quickchart {\n",
              "      --bg-color: #3B4455;\n",
              "      --fill-color: #D2E3FC;\n",
              "      --hover-bg-color: #434B5C;\n",
              "      --hover-fill-color: #FFFFFF;\n",
              "      --disabled-bg-color: #3B4455;\n",
              "      --disabled-fill-color: #666;\n",
              "  }\n",
              "\n",
              "  .colab-df-quickchart {\n",
              "    background-color: var(--bg-color);\n",
              "    border: none;\n",
              "    border-radius: 50%;\n",
              "    cursor: pointer;\n",
              "    display: none;\n",
              "    fill: var(--fill-color);\n",
              "    height: 32px;\n",
              "    padding: 0;\n",
              "    width: 32px;\n",
              "  }\n",
              "\n",
              "  .colab-df-quickchart:hover {\n",
              "    background-color: var(--hover-bg-color);\n",
              "    box-shadow: 0 1px 2px rgba(60, 64, 67, 0.3), 0 1px 3px 1px rgba(60, 64, 67, 0.15);\n",
              "    fill: var(--button-hover-fill-color);\n",
              "  }\n",
              "\n",
              "  .colab-df-quickchart-complete:disabled,\n",
              "  .colab-df-quickchart-complete:disabled:hover {\n",
              "    background-color: var(--disabled-bg-color);\n",
              "    fill: var(--disabled-fill-color);\n",
              "    box-shadow: none;\n",
              "  }\n",
              "\n",
              "  .colab-df-spinner {\n",
              "    border: 2px solid var(--fill-color);\n",
              "    border-color: transparent;\n",
              "    border-bottom-color: var(--fill-color);\n",
              "    animation:\n",
              "      spin 1s steps(1) infinite;\n",
              "  }\n",
              "\n",
              "  @keyframes spin {\n",
              "    0% {\n",
              "      border-color: transparent;\n",
              "      border-bottom-color: var(--fill-color);\n",
              "      border-left-color: var(--fill-color);\n",
              "    }\n",
              "    20% {\n",
              "      border-color: transparent;\n",
              "      border-left-color: var(--fill-color);\n",
              "      border-top-color: var(--fill-color);\n",
              "    }\n",
              "    30% {\n",
              "      border-color: transparent;\n",
              "      border-left-color: var(--fill-color);\n",
              "      border-top-color: var(--fill-color);\n",
              "      border-right-color: var(--fill-color);\n",
              "    }\n",
              "    40% {\n",
              "      border-color: transparent;\n",
              "      border-right-color: var(--fill-color);\n",
              "      border-top-color: var(--fill-color);\n",
              "    }\n",
              "    60% {\n",
              "      border-color: transparent;\n",
              "      border-right-color: var(--fill-color);\n",
              "    }\n",
              "    80% {\n",
              "      border-color: transparent;\n",
              "      border-right-color: var(--fill-color);\n",
              "      border-bottom-color: var(--fill-color);\n",
              "    }\n",
              "    90% {\n",
              "      border-color: transparent;\n",
              "      border-bottom-color: var(--fill-color);\n",
              "    }\n",
              "  }\n",
              "</style>\n",
              "\n",
              "  <script>\n",
              "    async function quickchart(key) {\n",
              "      const quickchartButtonEl =\n",
              "        document.querySelector('#' + key + ' button');\n",
              "      quickchartButtonEl.disabled = true;  // To prevent multiple clicks.\n",
              "      quickchartButtonEl.classList.add('colab-df-spinner');\n",
              "      try {\n",
              "        const charts = await google.colab.kernel.invokeFunction(\n",
              "            'suggestCharts', [key], {});\n",
              "      } catch (error) {\n",
              "        console.error('Error during call to suggestCharts:', error);\n",
              "      }\n",
              "      quickchartButtonEl.classList.remove('colab-df-spinner');\n",
              "      quickchartButtonEl.classList.add('colab-df-quickchart-complete');\n",
              "    }\n",
              "    (() => {\n",
              "      let quickchartButtonEl =\n",
              "        document.querySelector('#df-7f14cfdd-6c3f-4415-a5e5-f4a39b98a757 button');\n",
              "      quickchartButtonEl.style.display =\n",
              "        google.colab.kernel.accessAllowed ? 'block' : 'none';\n",
              "    })();\n",
              "  </script>\n",
              "</div>\n",
              "    </div>\n",
              "  </div>\n"
            ]
          },
          "metadata": {},
          "execution_count": 62
        }
      ],
      "source": [
        "df"
      ]
    },
    {
      "cell_type": "code",
      "execution_count": null,
      "id": "e33fc028",
      "metadata": {
        "id": "e33fc028"
      },
      "outputs": [],
      "source": [
        "# Defining the features (X) and the target (y)\n",
        "target_column = df[\"Outcome\"]\n",
        "features = df.drop(\"Outcome\", axis = 1)"
      ]
    },
    {
      "cell_type": "code",
      "execution_count": null,
      "id": "ac335af6",
      "metadata": {
        "id": "ac335af6",
        "outputId": "0ebe1b34-5949-45db-8321-c5c137c068f0",
        "colab": {
          "base_uri": "https://localhost:8080/"
        }
      },
      "outputs": [
        {
          "output_type": "stream",
          "name": "stdout",
          "text": [
            "(537, 8)\n",
            "(231, 8)\n"
          ]
        }
      ],
      "source": [
        "# Creating the Training and Test sets\n",
        "\n",
        "X = df.drop(\"Outcome\", axis = 1)\n",
        "y = df[\"Outcome\"]\n",
        "\n",
        "X_train, X_test, y_train, y_test = train_test_split(X, y, test_size = 0.30, random_state = 40)\n",
        "print(X_train.shape); print(X_test.shape)"
      ]
    },
    {
      "cell_type": "code",
      "execution_count": null,
      "id": "5d8ac0cb",
      "metadata": {
        "id": "5d8ac0cb"
      },
      "outputs": [],
      "source": [
        "# Building, Predicting, and Evaluating the Neural Network Model\n",
        "\n",
        "from sklearn.neural_network import MLPClassifier\n",
        "\n",
        "mlp = MLPClassifier(hidden_layer_sizes=(8, 8, 8), activation='relu', solver='adam', max_iter=500, random_state=42)\n",
        "mlp.fit(X_train,y_train)\n",
        "\n",
        "predictions = mlp.predict(X_test)"
      ]
    },
    {
      "cell_type": "code",
      "execution_count": null,
      "id": "4788ead2",
      "metadata": {
        "id": "4788ead2",
        "outputId": "bda64ed7-8de5-4f7e-e6da-cf0a44fd830b",
        "colab": {
          "base_uri": "https://localhost:8080/",
          "height": 564
        }
      },
      "outputs": [
        {
          "output_type": "display_data",
          "data": {
            "text/plain": [
              "<Figure size 800x600 with 2 Axes>"
            ],
            "image/png": "[encoded data removed]"
          },
          "metadata": {}
        }
      ],
      "source": [
        "from sklearn.metrics import confusion_matrix\n",
        "import matplotlib.pyplot as plt\n",
        "import seaborn as sns\n",
        "\n",
        "cm = confusion_matrix(y_test, predictions)\n",
        "\n",
        "# Plotting the confusion matrix\n",
        "plt.figure(figsize=(8, 6))\n",
        "sns.heatmap(cm, annot=True, fmt=\"d\", cmap=\"Blues\", xticklabels=[\"No Diabetes\", \"Diabetes\"], yticklabels=[\"No Diabetes\", \"Diabetes\"])\n",
        "plt.ylabel('Actual')\n",
        "plt.xlabel('Predicted')\n",
        "plt.title('Confusion Matrix')\n",
        "plt.show()"
      ]
    },
    {
      "cell_type": "code",
      "execution_count": null,
      "id": "dd88fe79",
      "metadata": {
        "id": "dd88fe79",
        "outputId": "ac4ca2c8-211e-4053-d949-fbed154c05c4",
        "colab": {
          "base_uri": "https://localhost:8080/"
        }
      },
      "outputs": [
        {
          "output_type": "stream",
          "name": "stdout",
          "text": [
            "              precision    recall  f1-score   support\n",
            "\n",
            " No Diabetes       0.63      0.96      0.77       142\n",
            "    Diabetes       0.67      0.11      0.19        89\n",
            "\n",
            "    accuracy                           0.64       231\n",
            "   macro avg       0.65      0.54      0.48       231\n",
            "weighted avg       0.65      0.64      0.54       231\n",
            "\n"
          ]
        }
      ],
      "source": [
        "from sklearn.metrics import classification_report\n",
        "\n",
        "report = classification_report(y_test, predictions, target_names=[\"No Diabetes\", \"Diabetes\"])\n",
        "\n",
        "print(report)\n"
      ]
    },
    {
      "cell_type": "code",
      "source": [
        "# Assuming `mlp` is your trained MLP model\n",
        "weights = mlp.coefs_\n",
        "\n",
        "# Printing the weights\n",
        "for i, layer_weights in enumerate(weights):\n",
        "    print(f\"Layer {i+1} weights:\")\n",
        "    print(layer_weights)"
      ],
      "metadata": {
        "colab": {
          "base_uri": "https://localhost:8080/"
        },
        "id": "M88fdV6w3QoI",
        "outputId": "c0fbd6f5-24fb-4c1d-d31a-ad303ea5df79"
      },
      "id": "M88fdV6w3QoI",
      "execution_count": null,
      "outputs": [
        {
          "output_type": "stream",
          "name": "stdout",
          "text": [
            "Layer 1 weights:\n",
            "[[-4.03604046e-10  4.71204559e-01  2.83983702e-01  8.39781779e-02\n",
            "  -4.78471683e-01 -3.30194179e-01 -3.55575196e-01  1.97383688e-03]\n",
            " [ 2.10118770e-12  9.64106015e-02 -6.12804968e-01  7.40741822e-01\n",
            "   2.89234038e-01  2.44425425e-02 -3.73805134e-01 -5.44443755e-04]\n",
            " [-1.52680817e-06 -1.11546719e-01  6.95390705e-03 -1.84439176e-01\n",
            "   4.85473889e-02 -1.64992795e-01 -4.03151921e-01 -1.57943331e-09]\n",
            " [-1.44674142e-23  1.75129102e-01 -3.38932434e-01 -1.36159061e-02\n",
            "   6.93784136e-02 -2.07077440e-02  1.60433651e-01 -7.90445133e-04]\n",
            " [-7.14387711e-03  5.36776128e-01  5.43274247e-01  4.31057083e-01\n",
            "  -2.84736066e-01 -4.10928126e-03  2.51171300e-01 -4.23596754e-21]\n",
            " [-2.54729753e-03 -1.62556119e-01 -5.50725660e-01  5.14997041e-01\n",
            "  -3.48097274e-01 -2.45561624e-01 -1.68482008e-01 -1.80692993e-28]\n",
            " [-1.19482908e-23 -4.55927831e-01  7.42175156e-01  1.68433500e-01\n",
            "   5.32542229e-01  6.52544747e-02  3.49875237e-02  5.78545531e-03]\n",
            " [-4.84591475e-03 -4.93731306e-01 -5.85595492e-01 -1.08689161e-01\n",
            "  -2.38863235e-01  2.68630417e-01  3.88440877e-01 -6.53440968e-09]]\n",
            "Layer 2 weights:\n",
            "[[-1.61070689e-02  5.26078855e-04  3.45942208e-06  1.40882648e-05\n",
            "   1.10185962e-04 -6.18815957e-03 -5.13937313e-09 -2.89236862e-03]\n",
            " [ 4.45068667e-01  1.20728765e-01 -1.41968566e-07 -4.88508991e-01\n",
            "  -2.36300518e-01 -2.33333844e-01  2.42151322e-01  1.55628242e-01]\n",
            " [ 4.62335268e-01  2.92594583e-02 -2.68015341e-03  5.33805028e-06\n",
            "   7.03355425e-05 -2.64190610e-20  2.49022912e-01 -8.31679920e-03]\n",
            " [-8.93547120e-02 -1.27889225e-01 -1.25705917e-02 -2.67602979e-01\n",
            "  -2.80974361e-01  9.91399427e-02 -2.72243937e-01 -2.25965618e-02]\n",
            " [ 3.22916458e-01 -2.68160909e-01 -6.64296711e-14  5.54525663e-05\n",
            "  -1.09875569e-04 -7.34854759e-01 -2.73313456e-01 -3.51997147e-01]\n",
            " [ 5.18772212e-01  4.18684362e-04  1.52210497e-09  2.21757362e-03\n",
            "   3.62601610e-04  3.29817499e-01  3.41759231e-03 -1.15591098e-24]\n",
            " [ 2.82210591e-01  5.93323701e-01 -4.85965792e-07 -3.24802266e-03\n",
            "  -1.13838280e-04 -2.68563610e-17  2.91347306e-01  5.49747118e-01]\n",
            " [-1.58337497e-02 -2.33075222e-29 -4.67732736e-15 -1.43777489e-04\n",
            "  -2.66516904e-03 -6.96069645e-08  8.07119238e-03 -3.01905823e-07]]\n",
            "Layer 3 weights:\n",
            "[[-1.31779865e-02 -1.25738224e+00  2.06826879e-01  6.75164790e-02\n",
            "  -5.97478868e-01 -8.94233812e-06  4.38758425e-01 -3.80276665e-01]\n",
            " [-4.63934198e-02  2.72690695e-29  6.37854422e-01 -2.78564137e-01\n",
            "   2.22979201e-01  7.29895268e-05 -3.57687471e-01  2.83484682e-01]\n",
            " [-1.25992020e-09  1.27803759e-09  1.55266950e-09 -2.19054389e-25\n",
            "  -4.69481977e-03  9.26709601e-04 -3.78096878e-07 -4.95188310e-04]\n",
            " [-1.02221571e-02  1.02058172e-13  5.87695971e-02 -5.67532223e-01\n",
            "   1.85204225e-02 -1.20708196e-04  4.21613639e-01  5.62330300e-01]\n",
            " [ 1.04073182e-06 -3.77857212e-11  3.41809496e-01 -4.76202588e-01\n",
            "  -1.86076041e-01 -3.03518604e-03  7.95166882e-01  1.00114199e+00]\n",
            " [-2.86700555e-05  3.91139104e-01  1.82693151e-01 -1.04544265e-01\n",
            "  -1.04727039e-01 -6.24689579e-05 -3.96655344e-02  8.47198646e-01]\n",
            " [ 6.11919362e-02  1.45097678e-09 -1.29457337e-01 -1.21608585e-01\n",
            "   2.54861293e-01  3.72840743e-03  4.12763754e-01  3.46143498e-01]\n",
            " [-8.27542219e-03 -8.95710435e-01 -4.01801636e-01  4.97650199e-01\n",
            "   8.03655750e-12 -1.54107363e-02 -4.97345538e-01  6.41731686e-02]]\n",
            "Layer 4 weights:\n",
            "[[-5.71552734e-03]\n",
            " [ 1.02497489e+00]\n",
            " [ 3.46173219e-01]\n",
            " [ 5.79039703e-01]\n",
            " [ 1.24008421e-01]\n",
            " [ 1.08500420e-13]\n",
            " [-5.93731297e-01]\n",
            " [-6.14149333e-01]]\n"
          ]
        }
      ]
    },
    {
      "cell_type": "code",
      "execution_count": null,
      "id": "2f23d78e",
      "metadata": {
        "id": "2f23d78e",
        "outputId": "543942f2-d852-4d57-d893-b9df24afb9b9"
      },
      "outputs": [
        {
          "data": {
            "text/plain": [
              "[array([[-0.12773582,  0.47459952, -0.56167998, -0.3482195 ,  0.53405634,\n",
              "          0.30214511,  0.05203179, -0.05660587],\n",
              "        [ 0.13930164, -0.47846217, -0.37515193,  0.21959532, -0.21039893,\n",
              "          0.21388141, -0.34999496, -0.10758486],\n",
              "        [-0.3857348 ,  0.39491285,  0.52801376,  0.1437279 ,  0.28155618,\n",
              "         -0.15413591, -0.4675903 , -0.07719125],\n",
              "        [ 0.07320154, -0.31126468,  0.59615879,  0.26983111, -0.26417165,\n",
              "          0.17616047, -0.35761318,  0.31003732],\n",
              "        [-0.43838371, -0.30721364, -0.57237199,  0.07622215, -0.10814524,\n",
              "         -0.50140873,  0.18978204, -0.13436857],\n",
              "        [-0.20196522, -0.27190881,  0.03196587,  0.11191427, -0.22081158,\n",
              "         -0.4886882 ,  0.46799647,  0.54702737],\n",
              "        [ 0.37345792,  0.37346538,  0.03368093, -0.23690123,  0.33664637,\n",
              "         -0.43369078,  0.37311262,  0.1279461 ],\n",
              "        [-0.14379165,  0.001668  , -0.27488677,  0.16015714,  0.03818854,\n",
              "          0.38495537, -0.14152504, -0.01041892]]),\n",
              " array([[-0.34865314, -0.48880609, -0.33642583, -0.21070484, -0.16445726,\n",
              "          0.17471743, -0.44281712,  0.35674724],\n",
              "        [ 0.20487955,  0.11520078,  0.46325167,  0.06248678, -0.13980533,\n",
              "          0.16331797, -0.43602313, -0.11520383],\n",
              "        [-0.10690651, -0.59634819, -0.44620335, -0.31087959, -0.32877752,\n",
              "         -0.35936876,  0.18536519,  0.22994807],\n",
              "        [ 0.13698155, -0.5766593 ,  0.11550221,  0.15943307, -0.13607018,\n",
              "          0.55517684,  0.13134677, -0.0765813 ],\n",
              "        [ 0.30895475,  0.37351249, -0.25854885,  0.20408324,  0.21088564,\n",
              "          0.07642798, -0.59677243, -0.27600003],\n",
              "        [-0.07615072,  0.4867269 , -0.24392307, -0.24488558,  0.33142153,\n",
              "         -0.36632814,  0.39144074,  0.51955708],\n",
              "        [ 0.27514904, -0.57373343,  0.3476057 ,  0.38664813,  0.52519445,\n",
              "          0.40623658,  0.28246021,  0.32147641],\n",
              "        [-0.16237828, -0.60617019, -0.37029457, -0.38465656,  0.42226162,\n",
              "          0.49564723, -0.33884141,  0.33384571]]),\n",
              " array([[-0.46109912,  0.59430229, -0.00920279,  0.1698048 ,  0.51396987,\n",
              "         -0.40583377,  0.15163364, -0.42178176],\n",
              "        [-0.42551682,  0.38802134,  0.49035011, -0.58484412,  0.35703887,\n",
              "          0.38433353, -0.23697903,  0.28832191],\n",
              "        [-0.07235187, -0.08918645, -0.41312601, -0.02584384,  0.46757028,\n",
              "         -0.13922609,  0.39618633, -0.09873224],\n",
              "        [ 0.50476776,  0.54238845,  0.41529066,  0.0765045 , -0.16868109,\n",
              "         -0.44721015,  0.46461697,  0.52836854],\n",
              "        [ 0.29418401,  0.16850841, -0.26169704, -0.02969217,  0.32536565,\n",
              "          0.1909066 ,  0.03770751,  0.37521799],\n",
              "        [ 0.12826348,  0.05389977,  0.3031981 , -0.40006352,  0.28438783,\n",
              "         -0.11061572, -0.46583554,  0.37841263],\n",
              "        [ 0.19037426,  0.2982141 , -0.05607039,  0.40124818,  0.11806558,\n",
              "          0.20192393,  0.12527652,  0.57412535],\n",
              "        [-0.067314  , -0.1253349 ,  0.47317319, -0.30353243,  0.09990736,\n",
              "         -0.01462321,  0.24893182,  0.24429047]]),\n",
              " array([[ 0.49177711],\n",
              "        [ 0.00848807],\n",
              "        [-0.43571636],\n",
              "        [-0.82783902],\n",
              "        [ 0.3027273 ],\n",
              "        [ 0.63584365],\n",
              "        [-0.48198302],\n",
              "        [-0.12421798]])]"
            ]
          },
          "execution_count": 21,
          "metadata": {},
          "output_type": "execute_result"
        }
      ],
      "source": [
        "# Print MLP coefficients\n"
      ]
    },
    {
      "cell_type": "markdown",
      "id": "79e42b3a",
      "metadata": {
        "id": "79e42b3a"
      },
      "source": [
        "## Multi-Layer Perceptron using TensorFlow"
      ]
    },
    {
      "cell_type": "code",
      "execution_count": null,
      "id": "5ca64eed",
      "metadata": {
        "id": "5ca64eed"
      },
      "outputs": [],
      "source": [
        "from tensorflow.keras import Sequential\n",
        "from tensorflow.keras.layers import Dense"
      ]
    },
    {
      "cell_type": "code",
      "execution_count": null,
      "id": "8782293d",
      "metadata": {
        "id": "8782293d"
      },
      "outputs": [],
      "source": [
        "TF_model = Sequential()\n",
        "TF_model.add( Dense(4, activation = \"relu\", input_shape = (3,)) )\n",
        "TF_model.add( Dense(4, activation = \"relu\") )\n",
        "TF_model.add( Dense(1, activation = \"sigmoid\") )"
      ]
    },
    {
      "cell_type": "code",
      "execution_count": null,
      "id": "c5c43fda",
      "metadata": {
        "id": "c5c43fda",
        "outputId": "7a28f389-d3a7-4276-bd35-bcce13259925",
        "colab": {
          "base_uri": "https://localhost:8080/"
        }
      },
      "outputs": [
        {
          "output_type": "stream",
          "name": "stdout",
          "text": [
            "Model: \"sequential\"\n",
            "_________________________________________________________________\n",
            " Layer (type)                Output Shape              Param #   \n",
            "=================================================================\n",
            " dense (Dense)               (None, 4)                 16        \n",
            "                                                                 \n",
            " dense_1 (Dense)             (None, 4)                 20        \n",
            "                                                                 \n",
            " dense_2 (Dense)             (None, 1)                 5         \n",
            "                                                                 \n",
            "=================================================================\n",
            "Total params: 41 (164.00 Byte)\n",
            "Trainable params: 41 (164.00 Byte)\n",
            "Non-trainable params: 0 (0.00 Byte)\n",
            "_________________________________________________________________\n"
          ]
        }
      ],
      "source": [
        "TF_model.summary()"
      ]
    },
    {
      "cell_type": "markdown",
      "id": "67c875b5",
      "metadata": {
        "id": "67c875b5"
      },
      "source": [
        "## Building a Neural Network for MNIST datset (Handwritten digits recognition)"
      ]
    },
    {
      "cell_type": "code",
      "execution_count": null,
      "id": "c70ca849",
      "metadata": {
        "id": "c70ca849"
      },
      "outputs": [],
      "source": [
        "import tensorflow as tf\n",
        "import numpy as np\n",
        "import matplotlib.pyplot as plt\n",
        "import pandas as pd\n",
        "from sklearn.metrics import accuracy_score, confusion_matrix\n",
        "import seaborn as sns"
      ]
    },
    {
      "cell_type": "code",
      "execution_count": null,
      "id": "5c6b73fd",
      "metadata": {
        "id": "5c6b73fd",
        "colab": {
          "base_uri": "https://localhost:8080/"
        },
        "outputId": "79897ca3-0eba-4c60-c791-f5683b06c2e2"
      },
      "outputs": [
        {
          "output_type": "stream",
          "name": "stdout",
          "text": [
            "Downloading data from https://storage.googleapis.com/tensorflow/tf-keras-datasets/mnist.npz\n",
            "11490434/11490434 [==============================] - 0s 0us/step\n"
          ]
        }
      ],
      "source": [
        "## Importing Dataset\n",
        "mnist = tf.keras.datasets.mnist.load_data()"
      ]
    },
    {
      "cell_type": "code",
      "execution_count": null,
      "id": "7a7e2080",
      "metadata": {
        "id": "7a7e2080",
        "outputId": "1639d3c6-c300-4ee6-ea8f-cc2d9bfb2c29",
        "colab": {
          "base_uri": "https://localhost:8080/"
        }
      },
      "outputs": [
        {
          "output_type": "execute_result",
          "data": {
            "text/plain": [
              "(2, 2, 2, 60000, 60000, 10000, 10000)"
            ]
          },
          "metadata": {},
          "execution_count": 89
        }
      ],
      "source": [
        "# Checking the size/shape of the MNIST dataset\n",
        "len(mnist), len(mnist[0]), len(mnist[1]), len(mnist[0][0]), len(mnist[0][1]), len(mnist[1][0]), len(mnist[1][1])"
      ]
    },
    {
      "cell_type": "markdown",
      "id": "2129e9f9",
      "metadata": {
        "id": "2129e9f9"
      },
      "source": [
        "As we can see the mnist dataset contains two sets of hand-written digits (0 to 9), the first one is the train test which contains 60000 training example with their labels (y_train). On the other hand, the 10000 samples refer to the testing set"
      ]
    },
    {
      "cell_type": "code",
      "execution_count": null,
      "id": "636ac4d1",
      "metadata": {
        "id": "636ac4d1",
        "outputId": "0bdfd1bb-1c04-485f-c84a-f6cada3f5baa",
        "colab": {
          "base_uri": "https://localhost:8080/"
        }
      },
      "outputs": [
        {
          "output_type": "stream",
          "name": "stdout",
          "text": [
            "Total training examples:  60000\n",
            "Total testing examples:  10000\n"
          ]
        }
      ],
      "source": [
        "(X_train, y_train), (X_test, y_test) = mnist\n",
        "print(\"Total training examples: \",len(X_train))\n",
        "print(\"Total testing examples: \",len(X_test))"
      ]
    },
    {
      "cell_type": "code",
      "execution_count": null,
      "id": "483ad933",
      "metadata": {
        "id": "483ad933",
        "outputId": "45d4db67-9acb-4683-82c5-5fdc83fa77c6",
        "colab": {
          "base_uri": "https://localhost:8080/"
        }
      },
      "outputs": [
        {
          "output_type": "execute_result",
          "data": {
            "text/plain": [
              "(28, 28)"
            ]
          },
          "metadata": {},
          "execution_count": 91
        }
      ],
      "source": [
        "X_train[0].shape"
      ]
    },
    {
      "cell_type": "markdown",
      "id": "8d4d5ddd",
      "metadata": {
        "id": "8d4d5ddd"
      },
      "source": [
        "Each training example in the training set is representing a 28 by 28 matrix, each cell contains a value between 0 and 255 representing the grayscale level for each cell/pixel, 0 for black and 255 for white"
      ]
    },
    {
      "cell_type": "code",
      "execution_count": null,
      "id": "832da79f",
      "metadata": {
        "scrolled": false,
        "id": "832da79f",
        "outputId": "bf1d784a-873e-43d4-f3eb-bed836681998",
        "colab": {
          "base_uri": "https://localhost:8080/"
        }
      },
      "outputs": [
        {
          "output_type": "execute_result",
          "data": {
            "text/plain": [
              "array([[  0,   0,   0,   0,   0,   0,   0,   0,   0,   0,   0,   0,   0,\n",
              "          0,   0,   0,   0,   0,   0,   0,   0,   0,   0,   0,   0,   0,\n",
              "          0,   0],\n",
              "       [  0,   0,   0,   0,   0,   0,   0,   0,   0,   0,   0,   0,   0,\n",
              "          0,   0,   0,   0,   0,   0,   0,   0,   0,   0,   0,   0,   0,\n",
              "          0,   0],\n",
              "       [  0,   0,   0,   0,   0,   0,   0,   0,   0,   0,   0,   0,   0,\n",
              "          0,   0,   0,   0,   0,   0,   0,   0,   0,   0,   0,   0,   0,\n",
              "          0,   0],\n",
              "       [  0,   0,   0,   0,   0,   0,   0,   0,   0,   0,   0,   0,   0,\n",
              "          0,   0,   0,   0,   0,   0,   0,   0,   0,   0,   0,   0,   0,\n",
              "          0,   0],\n",
              "       [  0,   0,   0,   0,   0,   0,   0,   0,   0,   0,   0,   0,   0,\n",
              "          0,   0,   0,   0,   0,   0,   0,   0,   0,   0,   0,   0,   0,\n",
              "          0,   0],\n",
              "       [  0,   0,   0,   0,   0,   0,   0,   0,   0,   0,   0,   0,   3,\n",
              "         18,  18,  18, 126, 136, 175,  26, 166, 255, 247, 127,   0,   0,\n",
              "          0,   0],\n",
              "       [  0,   0,   0,   0,   0,   0,   0,   0,  30,  36,  94, 154, 170,\n",
              "        253, 253, 253, 253, 253, 225, 172, 253, 242, 195,  64,   0,   0,\n",
              "          0,   0],\n",
              "       [  0,   0,   0,   0,   0,   0,   0,  49, 238, 253, 253, 253, 253,\n",
              "        253, 253, 253, 253, 251,  93,  82,  82,  56,  39,   0,   0,   0,\n",
              "          0,   0],\n",
              "       [  0,   0,   0,   0,   0,   0,   0,  18, 219, 253, 253, 253, 253,\n",
              "        253, 198, 182, 247, 241,   0,   0,   0,   0,   0,   0,   0,   0,\n",
              "          0,   0],\n",
              "       [  0,   0,   0,   0,   0,   0,   0,   0,  80, 156, 107, 253, 253,\n",
              "        205,  11,   0,  43, 154,   0,   0,   0,   0,   0,   0,   0,   0,\n",
              "          0,   0],\n",
              "       [  0,   0,   0,   0,   0,   0,   0,   0,   0,  14,   1, 154, 253,\n",
              "         90,   0,   0,   0,   0,   0,   0,   0,   0,   0,   0,   0,   0,\n",
              "          0,   0],\n",
              "       [  0,   0,   0,   0,   0,   0,   0,   0,   0,   0,   0, 139, 253,\n",
              "        190,   2,   0,   0,   0,   0,   0,   0,   0,   0,   0,   0,   0,\n",
              "          0,   0],\n",
              "       [  0,   0,   0,   0,   0,   0,   0,   0,   0,   0,   0,  11, 190,\n",
              "        253,  70,   0,   0,   0,   0,   0,   0,   0,   0,   0,   0,   0,\n",
              "          0,   0],\n",
              "       [  0,   0,   0,   0,   0,   0,   0,   0,   0,   0,   0,   0,  35,\n",
              "        241, 225, 160, 108,   1,   0,   0,   0,   0,   0,   0,   0,   0,\n",
              "          0,   0],\n",
              "       [  0,   0,   0,   0,   0,   0,   0,   0,   0,   0,   0,   0,   0,\n",
              "         81, 240, 253, 253, 119,  25,   0,   0,   0,   0,   0,   0,   0,\n",
              "          0,   0],\n",
              "       [  0,   0,   0,   0,   0,   0,   0,   0,   0,   0,   0,   0,   0,\n",
              "          0,  45, 186, 253, 253, 150,  27,   0,   0,   0,   0,   0,   0,\n",
              "          0,   0],\n",
              "       [  0,   0,   0,   0,   0,   0,   0,   0,   0,   0,   0,   0,   0,\n",
              "          0,   0,  16,  93, 252, 253, 187,   0,   0,   0,   0,   0,   0,\n",
              "          0,   0],\n",
              "       [  0,   0,   0,   0,   0,   0,   0,   0,   0,   0,   0,   0,   0,\n",
              "          0,   0,   0,   0, 249, 253, 249,  64,   0,   0,   0,   0,   0,\n",
              "          0,   0],\n",
              "       [  0,   0,   0,   0,   0,   0,   0,   0,   0,   0,   0,   0,   0,\n",
              "          0,  46, 130, 183, 253, 253, 207,   2,   0,   0,   0,   0,   0,\n",
              "          0,   0],\n",
              "       [  0,   0,   0,   0,   0,   0,   0,   0,   0,   0,   0,   0,  39,\n",
              "        148, 229, 253, 253, 253, 250, 182,   0,   0,   0,   0,   0,   0,\n",
              "          0,   0],\n",
              "       [  0,   0,   0,   0,   0,   0,   0,   0,   0,   0,  24, 114, 221,\n",
              "        253, 253, 253, 253, 201,  78,   0,   0,   0,   0,   0,   0,   0,\n",
              "          0,   0],\n",
              "       [  0,   0,   0,   0,   0,   0,   0,   0,  23,  66, 213, 253, 253,\n",
              "        253, 253, 198,  81,   2,   0,   0,   0,   0,   0,   0,   0,   0,\n",
              "          0,   0],\n",
              "       [  0,   0,   0,   0,   0,   0,  18, 171, 219, 253, 253, 253, 253,\n",
              "        195,  80,   9,   0,   0,   0,   0,   0,   0,   0,   0,   0,   0,\n",
              "          0,   0],\n",
              "       [  0,   0,   0,   0,  55, 172, 226, 253, 253, 253, 253, 244, 133,\n",
              "         11,   0,   0,   0,   0,   0,   0,   0,   0,   0,   0,   0,   0,\n",
              "          0,   0],\n",
              "       [  0,   0,   0,   0, 136, 253, 253, 253, 212, 135, 132,  16,   0,\n",
              "          0,   0,   0,   0,   0,   0,   0,   0,   0,   0,   0,   0,   0,\n",
              "          0,   0],\n",
              "       [  0,   0,   0,   0,   0,   0,   0,   0,   0,   0,   0,   0,   0,\n",
              "          0,   0,   0,   0,   0,   0,   0,   0,   0,   0,   0,   0,   0,\n",
              "          0,   0],\n",
              "       [  0,   0,   0,   0,   0,   0,   0,   0,   0,   0,   0,   0,   0,\n",
              "          0,   0,   0,   0,   0,   0,   0,   0,   0,   0,   0,   0,   0,\n",
              "          0,   0],\n",
              "       [  0,   0,   0,   0,   0,   0,   0,   0,   0,   0,   0,   0,   0,\n",
              "          0,   0,   0,   0,   0,   0,   0,   0,   0,   0,   0,   0,   0,\n",
              "          0,   0]], dtype=uint8)"
            ]
          },
          "metadata": {},
          "execution_count": 92
        }
      ],
      "source": [
        "X_train[0]"
      ]
    },
    {
      "cell_type": "code",
      "execution_count": null,
      "id": "1e5b12b7",
      "metadata": {
        "id": "1e5b12b7",
        "outputId": "a09da043-d8cf-4cf4-def3-f926289ec1da",
        "colab": {
          "base_uri": "https://localhost:8080/",
          "height": 447
        }
      },
      "outputs": [
        {
          "output_type": "stream",
          "name": "stdout",
          "text": [
            "This is number  5\n"
          ]
        },
        {
          "output_type": "display_data",
          "data": {
            "text/plain": [
              "<Figure size 640x480 with 1 Axes>"
            ],
            "image/png": "[encoded data removed]"
          },
          "metadata": {}
        }
      ],
      "source": [
        "# Let's visualize this as an image\n",
        "plt.imshow(X_train[0])\n",
        "print(\"This is number \", y_train[0])"
      ]
    },
    {
      "cell_type": "code",
      "execution_count": null,
      "id": "5fa255cc",
      "metadata": {
        "id": "5fa255cc",
        "outputId": "26e5b186-2f8a-4013-e48d-a26334cd5f7c",
        "colab": {
          "base_uri": "https://localhost:8080/",
          "height": 447
        }
      },
      "outputs": [
        {
          "output_type": "stream",
          "name": "stdout",
          "text": [
            "This is number  9\n"
          ]
        },
        {
          "output_type": "display_data",
          "data": {
            "text/plain": [
              "<Figure size 640x480 with 1 Axes>"
            ],
            "image/png": "[encoded data removed]"
          },
          "metadata": {}
        }
      ],
      "source": [
        "# Another example\n",
        "plt.imshow(X_train[322], cmap = plt.cm.gray)\n",
        "print(\"This is number \", y_train[322])"
      ]
    },
    {
      "cell_type": "code",
      "execution_count": null,
      "id": "5946036c",
      "metadata": {
        "id": "5946036c"
      },
      "outputs": [],
      "source": [
        "## Building the ANN model\n",
        "# At this stage we tend to build a model that can be able to classify digits images\n",
        "# Let's create and initialize the model\n",
        "'''\n",
        "    A way of creating deep learning models where an instance of the Sequential class is created and\n",
        "    model layers are created and added to it\n",
        "'''\n",
        "model = tf.keras.models.Sequential()"
      ]
    },
    {
      "cell_type": "code",
      "execution_count": null,
      "id": "3bd0aebd",
      "metadata": {
        "id": "3bd0aebd"
      },
      "outputs": [],
      "source": [
        "# We then add the input layer, the hidden layer(s), and the output layer to the initialized model\n",
        "'''\n",
        "    As we have seen, each training example is a 28 by 28 matrix, and because we are going to use ANN and not CNN,\n",
        "    I am going to reshape the input data as a single array that contains 28*28 = 784 elements\n",
        "'''\n",
        "# Adding the input layer\n",
        "model.add(tf.keras.layers.Flatten())\n",
        "# Adding the first hidden layer that contains 256 neurons\n",
        "model.add(tf.keras.layers.Dense(256, activation=tf.nn.relu))\n",
        "# Adding the second hidden layer that contains 128 neurons\n",
        "model.add(tf.keras.layers.Dense(128, activation=tf.nn.relu))\n",
        "# Adding the output layer that contains 10 output neurons, each of them representing the probability of getting a digit [0-9]\n",
        "model.add(tf.keras.layers.Dense(10, activation=tf.nn.softmax))"
      ]
    },
    {
      "cell_type": "code",
      "execution_count": null,
      "id": "25aff8c6",
      "metadata": {
        "id": "25aff8c6"
      },
      "outputs": [],
      "source": [
        "# Compiling the model, selecting the optimization algorithm to be used to train the model and the metrics to be tracked\n",
        "model.compile(\n",
        "    optimizer = 'adam',\n",
        "    loss = 'sparse_categorical_crossentropy',\n",
        "    metrics = 'accuracy'\n",
        ")"
      ]
    },
    {
      "cell_type": "code",
      "execution_count": null,
      "id": "ddd2b6c6",
      "metadata": {
        "id": "ddd2b6c6",
        "outputId": "f6e6d470-d810-4a21-c3be-265815ae6ee5",
        "colab": {
          "base_uri": "https://localhost:8080/"
        }
      },
      "outputs": [
        {
          "output_type": "execute_result",
          "data": {
            "text/plain": [
              "24000.0"
            ]
          },
          "metadata": {},
          "execution_count": 98
        }
      ],
      "source": [
        "len(X_train) * 0.4"
      ]
    },
    {
      "cell_type": "code",
      "execution_count": null,
      "id": "fa7ac1aa",
      "metadata": {
        "id": "fa7ac1aa",
        "outputId": "e2715d1b-d89e-4a77-b5aa-7290a7d6edf2",
        "colab": {
          "base_uri": "https://localhost:8080/",
          "height": 1000
        }
      },
      "outputs": [
        {
          "output_type": "stream",
          "name": "stdout",
          "text": [
            "Epoch 1/20\n",
            "1125/1125 [==============================] - 5s 4ms/step - loss: 2.1247 - accuracy: 0.8703 - val_loss: 0.4608 - val_accuracy: 0.9069\n",
            "Epoch 2/20\n",
            "1125/1125 [==============================] - 4s 3ms/step - loss: 0.3106 - accuracy: 0.9316 - val_loss: 0.3620 - val_accuracy: 0.9172\n",
            "Epoch 3/20\n",
            "1125/1125 [==============================] - 4s 3ms/step - loss: 0.2075 - accuracy: 0.9471 - val_loss: 0.2600 - val_accuracy: 0.9393\n",
            "Epoch 4/20\n",
            "1125/1125 [==============================] - 4s 4ms/step - loss: 0.1714 - accuracy: 0.9561 - val_loss: 0.2747 - val_accuracy: 0.9461\n",
            "Epoch 5/20\n",
            "1125/1125 [==============================] - 4s 3ms/step - loss: 0.1554 - accuracy: 0.9589 - val_loss: 0.2372 - val_accuracy: 0.9422\n",
            "Epoch 6/20\n",
            "1125/1125 [==============================] - 4s 4ms/step - loss: 0.1424 - accuracy: 0.9616 - val_loss: 0.1976 - val_accuracy: 0.9534\n",
            "Epoch 7/20\n",
            "1125/1125 [==============================] - 4s 3ms/step - loss: 0.1184 - accuracy: 0.9669 - val_loss: 0.2773 - val_accuracy: 0.9363\n",
            "Epoch 8/20\n",
            "1125/1125 [==============================] - 4s 4ms/step - loss: 0.1168 - accuracy: 0.9679 - val_loss: 0.2670 - val_accuracy: 0.9492\n",
            "Epoch 9/20\n",
            "1125/1125 [==============================] - 5s 4ms/step - loss: 0.1099 - accuracy: 0.9709 - val_loss: 0.2585 - val_accuracy: 0.9520\n",
            "Epoch 10/20\n",
            "1125/1125 [==============================] - 3s 3ms/step - loss: 0.1040 - accuracy: 0.9728 - val_loss: 0.2055 - val_accuracy: 0.9595\n",
            "Epoch 11/20\n",
            "1125/1125 [==============================] - 4s 4ms/step - loss: 0.0896 - accuracy: 0.9756 - val_loss: 0.1885 - val_accuracy: 0.9582\n",
            "Epoch 12/20\n",
            "1125/1125 [==============================] - 5s 4ms/step - loss: 0.0884 - accuracy: 0.9779 - val_loss: 0.1987 - val_accuracy: 0.9604\n",
            "Epoch 13/20\n",
            "1125/1125 [==============================] - 4s 4ms/step - loss: 0.0799 - accuracy: 0.9792 - val_loss: 0.1949 - val_accuracy: 0.9607\n",
            "Epoch 14/20\n",
            "1125/1125 [==============================] - 4s 4ms/step - loss: 0.0797 - accuracy: 0.9798 - val_loss: 0.2786 - val_accuracy: 0.9578\n",
            "Epoch 15/20\n",
            "1125/1125 [==============================] - 4s 3ms/step - loss: 0.0740 - accuracy: 0.9812 - val_loss: 0.3259 - val_accuracy: 0.9528\n",
            "Epoch 16/20\n",
            "1125/1125 [==============================] - 3s 3ms/step - loss: 0.0689 - accuracy: 0.9824 - val_loss: 0.2040 - val_accuracy: 0.9652\n",
            "Epoch 17/20\n",
            "1125/1125 [==============================] - 4s 4ms/step - loss: 0.0677 - accuracy: 0.9834 - val_loss: 0.3482 - val_accuracy: 0.9484\n",
            "Epoch 18/20\n",
            "1125/1125 [==============================] - 4s 4ms/step - loss: 0.0637 - accuracy: 0.9853 - val_loss: 0.2519 - val_accuracy: 0.9622\n",
            "Epoch 19/20\n",
            "1125/1125 [==============================] - 4s 3ms/step - loss: 0.0671 - accuracy: 0.9842 - val_loss: 0.2968 - val_accuracy: 0.9591\n",
            "Epoch 20/20\n",
            "1125/1125 [==============================] - 4s 4ms/step - loss: 0.0637 - accuracy: 0.9849 - val_loss: 0.2758 - val_accuracy: 0.9612\n"
          ]
        },
        {
          "output_type": "display_data",
          "data": {
            "text/plain": [
              "<Figure size 640x480 with 1 Axes>"
            ],
            "image/png": "[encoded data removed]"
          },
          "metadata": {}
        }
      ],
      "source": [
        "# Fitting the data to the ANN model\n",
        "history_ = model.fit(X_train, y_train, epochs = 20, validation_split = 0.4)\n",
        "plt.plot(history_.history['loss'], label = \"Training set\", color = 'green')\n",
        "plt.plot(history_.history['val_loss'], label = \"Validation set\")\n",
        "plt.show()"
      ]
    },
    {
      "cell_type": "code",
      "execution_count": null,
      "id": "4bde3c98",
      "metadata": {
        "id": "4bde3c98",
        "outputId": "5a186da3-4141-47d1-84bf-f5719a621230",
        "colab": {
          "base_uri": "https://localhost:8080/"
        }
      },
      "outputs": [
        {
          "output_type": "stream",
          "name": "stdout",
          "text": [
            "313/313 [==============================] - 0s 1ms/step\n"
          ]
        }
      ],
      "source": [
        "predictions = model.predict(X_test)"
      ]
    },
    {
      "cell_type": "code",
      "execution_count": null,
      "id": "49631ef0",
      "metadata": {
        "id": "49631ef0",
        "outputId": "d184a687-ef72-4980-ed15-3aaa93692ad0",
        "colab": {
          "base_uri": "https://localhost:8080/",
          "height": 447
        }
      },
      "outputs": [
        {
          "output_type": "execute_result",
          "data": {
            "text/plain": [
              "<Axes: >"
            ]
          },
          "metadata": {},
          "execution_count": 101
        },
        {
          "output_type": "display_data",
          "data": {
            "text/plain": [
              "<Figure size 640x480 with 2 Axes>"
            ],
            "image/png": "[encoded data removed]"
          },
          "metadata": {}
        }
      ],
      "source": [
        "# Let's plot the confusion matrix\n",
        "predictions = [np.argmax(x) for x in predictions]\n",
        "sns.heatmap(confusion_matrix(y_test, predictions), annot=True, fmt='g')"
      ]
    },
    {
      "cell_type": "code",
      "execution_count": null,
      "id": "e4b8c910",
      "metadata": {
        "id": "e4b8c910",
        "outputId": "eac2383e-80b6-4a5e-b679-92af54eb5acf",
        "colab": {
          "base_uri": "https://localhost:8080/"
        }
      },
      "outputs": [
        {
          "output_type": "stream",
          "name": "stdout",
          "text": [
            "Model: \"sequential_1\"\n",
            "_________________________________________________________________\n",
            " Layer (type)                Output Shape              Param #   \n",
            "=================================================================\n",
            " flatten (Flatten)           (None, 784)               0         \n",
            "                                                                 \n",
            " dense_3 (Dense)             (None, 256)               200960    \n",
            "                                                                 \n",
            " dense_4 (Dense)             (None, 128)               32896     \n",
            "                                                                 \n",
            " dense_5 (Dense)             (None, 10)                1290      \n",
            "                                                                 \n",
            "=================================================================\n",
            "Total params: 235146 (918.54 KB)\n",
            "Trainable params: 235146 (918.54 KB)\n",
            "Non-trainable params: 0 (0.00 Byte)\n",
            "_________________________________________________________________\n"
          ]
        }
      ],
      "source": [
        "model.summary()"
      ]
    },
    {
      "cell_type": "code",
      "execution_count": null,
      "id": "893adfeb",
      "metadata": {
        "id": "893adfeb"
      },
      "outputs": [],
      "source": []
    }
  ],
  "metadata": {
    "kernelspec": {
      "display_name": "Python 3 (ipykernel)",
      "language": "python",
      "name": "python3"
    },
    "language_info": {
      "codemirror_mode": {
        "name": "ipython",
        "version": 3
      },
      "file_extension": ".py",
      "mimetype": "text/x-python",
      "name": "python",
      "nbconvert_exporter": "python",
      "pygments_lexer": "ipython3",
      "version": "3.9.13"
    },
    "colab": {
      "provenance": []
    }
  },
  "nbformat": 4,
  "nbformat_minor": 5
}