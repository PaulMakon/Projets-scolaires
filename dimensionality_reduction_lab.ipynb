{
 "cells":[
  {
   "cell_type":"markdown",
   "source":[
    "# Dimensionality reduction"
   ],
   "attachments":{},
   "metadata":{
    "datalore":{
     "node_id":"drMq8dSyzsqZAtTP4OX8Ea",
     "type":"MD",
     "hide_input_from_viewers":false,
     "hide_output_from_viewers":false,
     "report_properties":{
      "rowId":"iZcoJvSTohw4eHhs1ohclq"
     }
    }
   }
  },
  {
   "cell_type":"markdown",
   "source":[
    "## Setup\n",
    "### Imports"
   ],
   "attachments":{},
   "metadata":{
    "datalore":{
     "node_id":"uO1w3YGNL5KM4dPbdaX5U4",
     "type":"MD",
     "hide_input_from_viewers":false,
     "hide_output_from_viewers":false,
     "report_properties":{
      "rowId":"dRaetWjkvxlmuwsn7RsSnU"
     }
    }
   }
  },
  {
   "cell_type":"code",
   "source":[
    "import pandas as pd                                     # for dataset manipulation (DataFrames)\n",
    "import numpy as np                                      # allows some mathematical operations\n",
    "import matplotlib.pyplot as plt                         # library used to display graphs\n",
    "import seaborn as sns                                   # more convenient visualisation library for dataframes\n",
    "from sklearn.model_selection import train_test_split    # for classification\n",
    "from sklearn.neighbors import KNeighborsClassifier      # for classification\n",
    "from sklearn.decomposition import PCA                   # for Principal Component Analysis\n",
    "import time                                             # for execution time measurement"
   ],
   "execution_count":5,
   "outputs":[],
   "metadata":{
    "datalore":{
     "node_id":"gFryNgRYwNLpn9xYEUWQdE",
     "type":"CODE",
     "hide_input_from_viewers":false,
     "hide_output_from_viewers":false,
     "report_properties":{
      "rowId":"D56VESoRJXKaMuksMYuFqO"
     }
    }
   }
  },
  {
   "cell_type":"markdown",
   "source":[
    "### Loading the dataset"
   ],
   "attachments":{},
   "metadata":{
    "datalore":{
     "node_id":"usjK7lxhr9ikqlxVBdQk9E",
     "type":"MD",
     "hide_input_from_viewers":false,
     "hide_output_from_viewers":false,
     "report_properties":{
      "rowId":"PkxTIe7VEnOvqWeQCkgeg2"
     }
    }
   }
  },
  {
   "cell_type":"code",
   "source":[
    "fives = np.loadtxt(\"fives.txt\", delimiter=\",\")\n",
    "sixes = np.loadtxt(\"sixes.txt\", delimiter=\",\")\n",
    "\n",
    "# for practical reasons, we convert these arrays to a pandas dataframe\n",
    "df_fives = pd.DataFrame(fives)\n",
    "df_sixes = pd.DataFrame(sixes)\n",
    "\n",
    "# we also create a dataframe containing all numbers for later classification\n",
    "df_fives[\"number\"] = 5 # data labeling\n",
    "df_sixes[\"number\"] = 6 # data labeling\n",
    "df = pd.concat([df_fives, df_sixes], ignore_index=True)\n",
    "df_fives.drop(\"number\", inplace=True,axis=1)\n",
    "df_sixes.drop(\"number\", inplace=True,axis=1)"
   ],
   "execution_count":6,
   "outputs":[],
   "metadata":{
    "datalore":{
     "node_id":"GT3tUSA1xIINK8vy3gwBQ5",
     "type":"CODE",
     "hide_input_from_viewers":false,
     "hide_output_from_viewers":false,
     "report_properties":{
      "rowId":"DVGzgGbS1U26gVfiRCiahv"
     }
    }
   }
  },
  {
   "cell_type":"code",
   "source":[
    "df"
   ],
   "execution_count":8,
   "outputs":[
    {
     "data":{
      "text\/html":[
       "<div>\n",
       "<style scoped>\n",
       "    .dataframe tbody tr th:only-of-type {\n",
       "        vertical-align: middle;\n",
       "    }\n",
       "\n",
       "    .dataframe tbody tr th {\n",
       "        vertical-align: top;\n",
       "    }\n",
       "\n",
       "    .dataframe thead th {\n",
       "        text-align: right;\n",
       "    }\n",
       "<\/style>\n",
       "<table border=\"1\" class=\"dataframe\">\n",
       "  <thead>\n",
       "    <tr style=\"text-align: right;\">\n",
       "      <th><\/th>\n",
       "      <th>0<\/th>\n",
       "      <th>1<\/th>\n",
       "      <th>2<\/th>\n",
       "      <th>3<\/th>\n",
       "      <th>4<\/th>\n",
       "      <th>5<\/th>\n",
       "      <th>6<\/th>\n",
       "      <th>7<\/th>\n",
       "      <th>8<\/th>\n",
       "      <th>9<\/th>\n",
       "      <th>...<\/th>\n",
       "      <th>247<\/th>\n",
       "      <th>248<\/th>\n",
       "      <th>249<\/th>\n",
       "      <th>250<\/th>\n",
       "      <th>251<\/th>\n",
       "      <th>252<\/th>\n",
       "      <th>253<\/th>\n",
       "      <th>254<\/th>\n",
       "      <th>255<\/th>\n",
       "      <th>number<\/th>\n",
       "    <\/tr>\n",
       "  <\/thead>\n",
       "  <tbody>\n",
       "    <tr>\n",
       "      <th>0<\/th>\n",
       "      <td>-1.0<\/td>\n",
       "      <td>-1.0<\/td>\n",
       "      <td>-1.000<\/td>\n",
       "      <td>-0.813<\/td>\n",
       "      <td>-0.671<\/td>\n",
       "      <td>-0.809<\/td>\n",
       "      <td>-0.887<\/td>\n",
       "      <td>-0.671<\/td>\n",
       "      <td>-0.853<\/td>\n",
       "      <td>-1.000<\/td>\n",
       "      <td>...<\/td>\n",
       "      <td>-0.671<\/td>\n",
       "      <td>-0.033<\/td>\n",
       "      <td>0.761<\/td>\n",
       "      <td>0.762<\/td>\n",
       "      <td>0.126<\/td>\n",
       "      <td>-0.095<\/td>\n",
       "      <td>-0.671<\/td>\n",
       "      <td>-0.828<\/td>\n",
       "      <td>-1.0<\/td>\n",
       "      <td>5<\/td>\n",
       "    <\/tr>\n",
       "    <tr>\n",
       "      <th>1<\/th>\n",
       "      <td>-1.0<\/td>\n",
       "      <td>-1.0<\/td>\n",
       "      <td>-1.000<\/td>\n",
       "      <td>-1.000<\/td>\n",
       "      <td>-1.000<\/td>\n",
       "      <td>-1.000<\/td>\n",
       "      <td>-1.000<\/td>\n",
       "      <td>-1.000<\/td>\n",
       "      <td>-1.000<\/td>\n",
       "      <td>-0.912<\/td>\n",
       "      <td>...<\/td>\n",
       "      <td>-0.257<\/td>\n",
       "      <td>0.480<\/td>\n",
       "      <td>0.966<\/td>\n",
       "      <td>0.408<\/td>\n",
       "      <td>-0.895<\/td>\n",
       "      <td>-1.000<\/td>\n",
       "      <td>-1.000<\/td>\n",
       "      <td>-1.000<\/td>\n",
       "      <td>-1.0<\/td>\n",
       "      <td>5<\/td>\n",
       "    <\/tr>\n",
       "    <tr>\n",
       "      <th>2<\/th>\n",
       "      <td>-1.0<\/td>\n",
       "      <td>-1.0<\/td>\n",
       "      <td>-1.000<\/td>\n",
       "      <td>-0.449<\/td>\n",
       "      <td>1.000<\/td>\n",
       "      <td>1.000<\/td>\n",
       "      <td>1.000<\/td>\n",
       "      <td>1.000<\/td>\n",
       "      <td>1.000<\/td>\n",
       "      <td>0.840<\/td>\n",
       "      <td>...<\/td>\n",
       "      <td>0.626<\/td>\n",
       "      <td>1.000<\/td>\n",
       "      <td>0.830<\/td>\n",
       "      <td>0.494<\/td>\n",
       "      <td>-0.343<\/td>\n",
       "      <td>-1.000<\/td>\n",
       "      <td>-1.000<\/td>\n",
       "      <td>-1.000<\/td>\n",
       "      <td>-1.0<\/td>\n",
       "      <td>5<\/td>\n",
       "    <\/tr>\n",
       "    <tr>\n",
       "      <th>3<\/th>\n",
       "      <td>-1.0<\/td>\n",
       "      <td>-1.0<\/td>\n",
       "      <td>-1.000<\/td>\n",
       "      <td>-1.000<\/td>\n",
       "      <td>-0.989<\/td>\n",
       "      <td>-0.185<\/td>\n",
       "      <td>0.626<\/td>\n",
       "      <td>1.000<\/td>\n",
       "      <td>0.672<\/td>\n",
       "      <td>0.372<\/td>\n",
       "      <td>...<\/td>\n",
       "      <td>0.765<\/td>\n",
       "      <td>0.372<\/td>\n",
       "      <td>-0.163<\/td>\n",
       "      <td>-0.968<\/td>\n",
       "      <td>-1.000<\/td>\n",
       "      <td>-1.000<\/td>\n",
       "      <td>-1.000<\/td>\n",
       "      <td>-1.000<\/td>\n",
       "      <td>-1.0<\/td>\n",
       "      <td>5<\/td>\n",
       "    <\/tr>\n",
       "    <tr>\n",
       "      <th>4<\/th>\n",
       "      <td>-1.0<\/td>\n",
       "      <td>-1.0<\/td>\n",
       "      <td>-0.999<\/td>\n",
       "      <td>-0.699<\/td>\n",
       "      <td>-0.684<\/td>\n",
       "      <td>-0.909<\/td>\n",
       "      <td>-1.000<\/td>\n",
       "      <td>-0.764<\/td>\n",
       "      <td>-0.684<\/td>\n",
       "      <td>-0.303<\/td>\n",
       "      <td>...<\/td>\n",
       "      <td>0.438<\/td>\n",
       "      <td>0.903<\/td>\n",
       "      <td>0.762<\/td>\n",
       "      <td>0.140<\/td>\n",
       "      <td>-0.716<\/td>\n",
       "      <td>-1.000<\/td>\n",
       "      <td>-1.000<\/td>\n",
       "      <td>-1.000<\/td>\n",
       "      <td>-1.0<\/td>\n",
       "      <td>5<\/td>\n",
       "    <\/tr>\n",
       "    <tr>\n",
       "      <th>...<\/th>\n",
       "      <td>...<\/td>\n",
       "      <td>...<\/td>\n",
       "      <td>...<\/td>\n",
       "      <td>...<\/td>\n",
       "      <td>...<\/td>\n",
       "      <td>...<\/td>\n",
       "      <td>...<\/td>\n",
       "      <td>...<\/td>\n",
       "      <td>...<\/td>\n",
       "      <td>...<\/td>\n",
       "      <td>...<\/td>\n",
       "      <td>...<\/td>\n",
       "      <td>...<\/td>\n",
       "      <td>...<\/td>\n",
       "      <td>...<\/td>\n",
       "      <td>...<\/td>\n",
       "      <td>...<\/td>\n",
       "      <td>...<\/td>\n",
       "      <td>...<\/td>\n",
       "      <td>...<\/td>\n",
       "      <td>...<\/td>\n",
       "    <\/tr>\n",
       "    <tr>\n",
       "      <th>1215<\/th>\n",
       "      <td>-1.0<\/td>\n",
       "      <td>-1.0<\/td>\n",
       "      <td>-1.000<\/td>\n",
       "      <td>-1.000<\/td>\n",
       "      <td>-1.000<\/td>\n",
       "      <td>-1.000<\/td>\n",
       "      <td>-1.000<\/td>\n",
       "      <td>-1.000<\/td>\n",
       "      <td>-0.290<\/td>\n",
       "      <td>0.972<\/td>\n",
       "      <td>...<\/td>\n",
       "      <td>0.573<\/td>\n",
       "      <td>0.529<\/td>\n",
       "      <td>0.133<\/td>\n",
       "      <td>-0.652<\/td>\n",
       "      <td>-1.000<\/td>\n",
       "      <td>-1.000<\/td>\n",
       "      <td>-1.000<\/td>\n",
       "      <td>-1.000<\/td>\n",
       "      <td>-1.0<\/td>\n",
       "      <td>6<\/td>\n",
       "    <\/tr>\n",
       "    <tr>\n",
       "      <th>1216<\/th>\n",
       "      <td>-1.0<\/td>\n",
       "      <td>-1.0<\/td>\n",
       "      <td>-1.000<\/td>\n",
       "      <td>-1.000<\/td>\n",
       "      <td>-1.000<\/td>\n",
       "      <td>-1.000<\/td>\n",
       "      <td>-1.000<\/td>\n",
       "      <td>-0.599<\/td>\n",
       "      <td>0.309<\/td>\n",
       "      <td>1.000<\/td>\n",
       "      <td>...<\/td>\n",
       "      <td>0.897<\/td>\n",
       "      <td>1.000<\/td>\n",
       "      <td>1.000<\/td>\n",
       "      <td>0.940<\/td>\n",
       "      <td>0.233<\/td>\n",
       "      <td>-0.474<\/td>\n",
       "      <td>-0.941<\/td>\n",
       "      <td>-1.000<\/td>\n",
       "      <td>-1.0<\/td>\n",
       "      <td>6<\/td>\n",
       "    <\/tr>\n",
       "    <tr>\n",
       "      <th>1217<\/th>\n",
       "      <td>-1.0<\/td>\n",
       "      <td>-1.0<\/td>\n",
       "      <td>-1.000<\/td>\n",
       "      <td>-1.000<\/td>\n",
       "      <td>-1.000<\/td>\n",
       "      <td>-1.000<\/td>\n",
       "      <td>-0.981<\/td>\n",
       "      <td>-0.572<\/td>\n",
       "      <td>0.687<\/td>\n",
       "      <td>0.592<\/td>\n",
       "      <td>...<\/td>\n",
       "      <td>0.269<\/td>\n",
       "      <td>-0.505<\/td>\n",
       "      <td>-0.962<\/td>\n",
       "      <td>-1.000<\/td>\n",
       "      <td>-1.000<\/td>\n",
       "      <td>-1.000<\/td>\n",
       "      <td>-1.000<\/td>\n",
       "      <td>-1.000<\/td>\n",
       "      <td>-1.0<\/td>\n",
       "      <td>6<\/td>\n",
       "    <\/tr>\n",
       "    <tr>\n",
       "      <th>1218<\/th>\n",
       "      <td>-1.0<\/td>\n",
       "      <td>-1.0<\/td>\n",
       "      <td>-1.000<\/td>\n",
       "      <td>-1.000<\/td>\n",
       "      <td>-1.000<\/td>\n",
       "      <td>-1.000<\/td>\n",
       "      <td>-0.921<\/td>\n",
       "      <td>-0.249<\/td>\n",
       "      <td>0.460<\/td>\n",
       "      <td>0.826<\/td>\n",
       "      <td>...<\/td>\n",
       "      <td>0.138<\/td>\n",
       "      <td>0.996<\/td>\n",
       "      <td>0.676<\/td>\n",
       "      <td>-0.381<\/td>\n",
       "      <td>-1.000<\/td>\n",
       "      <td>-1.000<\/td>\n",
       "      <td>-1.000<\/td>\n",
       "      <td>-1.000<\/td>\n",
       "      <td>-1.0<\/td>\n",
       "      <td>6<\/td>\n",
       "    <\/tr>\n",
       "    <tr>\n",
       "      <th>1219<\/th>\n",
       "      <td>-1.0<\/td>\n",
       "      <td>-1.0<\/td>\n",
       "      <td>-1.000<\/td>\n",
       "      <td>-1.000<\/td>\n",
       "      <td>-1.000<\/td>\n",
       "      <td>-1.000<\/td>\n",
       "      <td>-1.000<\/td>\n",
       "      <td>-1.000<\/td>\n",
       "      <td>-0.885<\/td>\n",
       "      <td>0.420<\/td>\n",
       "      <td>...<\/td>\n",
       "      <td>-0.084<\/td>\n",
       "      <td>0.692<\/td>\n",
       "      <td>1.000<\/td>\n",
       "      <td>0.991<\/td>\n",
       "      <td>0.144<\/td>\n",
       "      <td>-0.870<\/td>\n",
       "      <td>-1.000<\/td>\n",
       "      <td>-1.000<\/td>\n",
       "      <td>-1.0<\/td>\n",
       "      <td>6<\/td>\n",
       "    <\/tr>\n",
       "  <\/tbody>\n",
       "<\/table>\n",
       "<p>1220 rows × 257 columns<\/p>\n",
       "<\/div>"
      ]
     },
     "metadata":{},
     "output_type":"display_data"
    }
   ],
   "metadata":{
    "datalore":{
     "node_id":"pzaMajFxFG9oY6AvW1nCHp",
     "type":"CODE",
     "hide_input_from_viewers":true,
     "hide_output_from_viewers":true
    }
   }
  },
  {
   "cell_type":"markdown",
   "source":[
    "### Utility functions"
   ],
   "attachments":{},
   "metadata":{
    "datalore":{
     "node_id":"L66qdpg4YPcGDyMQuMjWGD",
     "type":"MD",
     "hide_input_from_viewers":false,
     "hide_output_from_viewers":false,
     "report_properties":{
      "rowId":"ca4pR5lMqcP6A5tiR839OV"
     }
    }
   }
  },
  {
   "cell_type":"code",
   "source":[
    "def show_image(row, title=\"\"):\n",
    "    \"\"\"This function takes a row of 256 pixels and displays it as a greyscale image\"\"\"\n",
    "    image = np.reshape(row, (16, 16))\n",
    "    plt.imshow(image, cmap=\"gray\")\n",
    "    plt.title(title)\n",
    "    plt.show()\n",
    "\n",
    "\n",
    "def split_data(data):\n",
    "    X = data.drop(\"number\", axis=1)\n",
    "    y = data.number\n",
    "    return train_test_split(X, y,\n",
    "                            test_size=0.33,  # 33% of the data will be used for testing\n",
    "                            random_state=42,  # ensures reproducibility of the test\n",
    "                            stratify=y  # the proportion of each class remains the same in the train and test set\n",
    "                            )\n",
    "\n",
    "\n",
    "def print_knn_score(scores, data_type=\"\"):\n",
    "    max_score = max(scores)\n",
    "    k_values_max_score = [i + 1 for i, v in enumerate(scores) if v == max_score]\n",
    "    print(f'Max {data_type} score {max_score * 100} % for k = {[i for i in k_values_max_score]}')\n",
    "\n",
    "\n",
    "def prediction_knn(data):\n",
    "    \"\"\" KNN-based classification. \"\"\"\n",
    "    X_train, X_test, y_train, y_test = split_data(data)\n",
    "    test_scores = []\n",
    "    train_scores = []\n",
    "\n",
    "    for k in range(1, 15):\n",
    "        knn = KNeighborsClassifier(k)\n",
    "        knn.fit(X_train, y_train)\n",
    "        train_scores.append(knn.score(X_train, y_train))  # \"score\" for KNN is the accuracy of the classification\n",
    "        test_scores.append(knn.score(X_test, y_test))\n",
    "\n",
    "    print_knn_score(train_scores, \"train\")\n",
    "    print_knn_score(test_scores, \"test\")\n",
    "\n",
    "\n",
    "def run_measure_time(function, **kwargs):\n",
    "    start_time = time.time()\n",
    "    function(**kwargs)\n",
    "    print(\"--- %s seconds ---\" % (time.time() - start_time))"
   ],
   "execution_count":9,
   "outputs":[],
   "metadata":{
    "datalore":{
     "node_id":"ehZ5DODmcdmLsMvdragrWz",
     "type":"CODE",
     "hide_input_from_viewers":false,
     "hide_output_from_viewers":false,
     "report_properties":{
      "rowId":"PijDIAfSBE12MtCg07axnz"
     }
    }
   }
  },
  {
   "cell_type":"markdown",
   "source":[
    "### Baseline test"
   ],
   "attachments":{},
   "metadata":{
    "datalore":{
     "node_id":"XQLnabXLcQGLMzIQYc3XNF",
     "type":"MD",
     "hide_input_from_viewers":false,
     "hide_output_from_viewers":false,
     "report_properties":{
      "rowId":"Ghbb0FlRMhv1BknOEQsJxg"
     }
    }
   }
  },
  {
   "cell_type":"code",
   "source":[
    "# equivalent to prediction_knn(data=df), but also measures time using our utility function\n",
    "run_measure_time(prediction_knn, data=df)"
   ],
   "execution_count":10,
   "outputs":[
    {
     "name":"stdout",
     "text":[
      "Max train score 100.0 % for k = [1]\n",
      "Max test score 98.51116625310173 % for k = [1]\n",
      "--- 1.1366722583770752 seconds ---\n"
     ],
     "output_type":"stream"
    }
   ],
   "metadata":{
    "datalore":{
     "node_id":"Yy5cxGHF7FKUhzgXT9eBEt",
     "type":"CODE",
     "hide_input_from_viewers":false,
     "hide_output_from_viewers":false,
     "report_properties":{
      "rowId":"dR8HsO0yFOFizOIB9v7uV4"
     }
    }
   }
  },
  {
   "cell_type":"markdown",
   "source":[
    "### Observing the dataset"
   ],
   "attachments":{},
   "metadata":{
    "datalore":{
     "node_id":"fT6IZwWeyn13vLrLzaiUQs",
     "type":"MD",
     "hide_input_from_viewers":false,
     "hide_output_from_viewers":false,
     "report_properties":{
      "rowId":"A380J7mg3QFBa9OHiuiBAi"
     }
    }
   }
  },
  {
   "cell_type":"code",
   "source":[
    "index = 0 # index of the image to show\n",
    "show_image(fives[index, :])\n",
    "show_image(sixes[index, :])\n",
    "# to do the same from a pandas dataframe\n",
    "# show_image(df_fives.iloc[0].to_numpy())"
   ],
   "execution_count":11,
   "outputs":[
    {
     "data":{
      "image\/png":"[encoded data removed]"
     },
     "metadata":{
      "image\/png":{}
     },
     "output_type":"display_data"
    },
    {
     "data":{
      "image\/png":"[encoded data removed]"
     },
     "metadata":{
      "image\/png":{}
     },
     "output_type":"display_data"
    }
   ],
   "metadata":{
    "datalore":{
     "node_id":"KC3AaQNXTfojPDM4gGlPVK",
     "type":"CODE",
     "hide_input_from_viewers":false,
     "hide_output_from_viewers":false,
     "report_properties":{
      "rowId":"r6l3qB1QrZIvhYfEEiG71p"
     }
    }
   }
  },
  {
   "cell_type":"markdown",
   "source":[
    "Using what you have learned in the previous lessons, examine the dataset and see what you can learn about it."
   ],
   "attachments":{},
   "metadata":{
    "datalore":{
     "node_id":"DoHdaycCXbX0KFHXWGFLA1",
     "type":"MD",
     "hide_input_from_viewers":false,
     "hide_output_from_viewers":false,
     "report_properties":{
      "rowId":"iSEvMGuaCNd4JpUaVuWTnm"
     }
    }
   }
  },
  {
   "cell_type":"code",
   "source":[
    "# Your code here"
   ],
   "execution_count":null,
   "outputs":[],
   "metadata":{
    "datalore":{
     "node_id":"WBG8pql0sZXnn6jd8LpWuV",
     "type":"CODE",
     "hide_input_from_viewers":false,
     "hide_output_from_viewers":false,
     "report_properties":{
      "rowId":"YqOeCa1Sr6LhXADaZxcDZg"
     }
    }
   }
  },
  {
   "cell_type":"markdown",
   "source":[
    "*[Your comments here]*"
   ],
   "attachments":{},
   "metadata":{
    "datalore":{
     "node_id":"bT9by76MJTHUlDBHt6nGmx",
     "type":"MD",
     "hide_input_from_viewers":false,
     "hide_output_from_viewers":false,
     "report_properties":{
      "rowId":"tC71cb7pwYRUnka1yyCD2U"
     }
    }
   }
  },
  {
   "cell_type":"markdown",
   "source":[
    "## Principal Component Analysis (PCA)\n",
    "### Pre-processing\n",
    "\n",
    "When using PCA, it is necessary to standardize the data. Pixel values are already between -1 and 1, so we only need to center the data.\n",
    "Using what you have learned last time, center the data in `df_fives` and `df_sixes` respectively.\n",
    "\n",
    "*Hint: You can refer to the data preparation practical and use `sklearn`'s `StandardScaler`*.\n",
    "\n",
    "⚠️Centering means removing the mean value. You do not need to divide by the standard deviation. `sklearn`'s `StandardScaler` lets you do that, check its documentation to see how.\n",
    "⚠️Store the standardized data in new variables, because we will need the original data later.\n",
    "\n",
    "In fact, this step is not strictly necessary here, because we will use `sklearn`'s implementation of PCA, which already includes standardization. However, it is important to keep in mind the importance of this step (and to know how to do it yourself)."
   ],
   "attachments":{},
   "metadata":{
    "datalore":{
     "node_id":"X3rtuMiRk0uD1iz6nEKFVT",
     "type":"MD",
     "hide_input_from_viewers":false,
     "hide_output_from_viewers":false,
     "report_properties":{
      "rowId":"EQdyoClgBc0bCmVoebVxug"
     }
    }
   }
  },
  {
   "cell_type":"code",
   "source":[
    "# Your code here\n",
    "from sklearn.preprocessing import StandardScaler\n",
    "\n",
    "scaler = StandardScaler(with_std=False)\n",
    "number = df[\"number\"].to_numpy() # create an instance of the scaler  \n",
    "df_std = df.drop([\"number\"], inplace=False,axis=1)\n",
    "df_std = scaler.fit_transform(df_std)\n",
    "df_std = pd.DataFrame(df_std, columns=df.columns[:-1])\n",
    "df_std[\"number\"]=number"
   ],
   "execution_count":20,
   "outputs":[],
   "metadata":{
    "datalore":{
     "node_id":"iJlSRUe6d4RbIkTtgLIknf",
     "type":"CODE",
     "hide_input_from_viewers":false,
     "hide_output_from_viewers":false,
     "report_properties":{
      "rowId":"EYN0aBW3MQociqy5Y4R43Y"
     }
    }
   }
  },
  {
   "cell_type":"code",
   "source":[
    "# Your code here\n",
    "from sklearn.preprocessing import StandardScaler\n",
    "\n",
    "df5_std = df_std[df_std[\"number\"]==5]\n",
    "df6_std = df_std[df_std[\"number\"]==6]\n",
    "df5_std"
   ],
   "execution_count":23,
   "outputs":[
    {
     "data":{
      "text\/html":[
       "<div>\n",
       "<style scoped>\n",
       "    .dataframe tbody tr th:only-of-type {\n",
       "        vertical-align: middle;\n",
       "    }\n",
       "\n",
       "    .dataframe tbody tr th {\n",
       "        vertical-align: top;\n",
       "    }\n",
       "\n",
       "    .dataframe thead th {\n",
       "        text-align: right;\n",
       "    }\n",
       "<\/style>\n",
       "<table border=\"1\" class=\"dataframe\">\n",
       "  <thead>\n",
       "    <tr style=\"text-align: right;\">\n",
       "      <th><\/th>\n",
       "      <th>0<\/th>\n",
       "      <th>1<\/th>\n",
       "      <th>2<\/th>\n",
       "      <th>3<\/th>\n",
       "      <th>4<\/th>\n",
       "      <th>5<\/th>\n",
       "      <th>6<\/th>\n",
       "      <th>7<\/th>\n",
       "      <th>8<\/th>\n",
       "      <th>9<\/th>\n",
       "      <th>...<\/th>\n",
       "      <th>247<\/th>\n",
       "      <th>248<\/th>\n",
       "      <th>249<\/th>\n",
       "      <th>250<\/th>\n",
       "      <th>251<\/th>\n",
       "      <th>252<\/th>\n",
       "      <th>253<\/th>\n",
       "      <th>254<\/th>\n",
       "      <th>255<\/th>\n",
       "      <th>number<\/th>\n",
       "    <\/tr>\n",
       "  <\/thead>\n",
       "  <tbody>\n",
       "    <tr>\n",
       "      <th>0<\/th>\n",
       "      <td>-0.000247<\/td>\n",
       "      <td>-0.002234<\/td>\n",
       "      <td>-0.012911<\/td>\n",
       "      <td>0.156338<\/td>\n",
       "      <td>0.271335<\/td>\n",
       "      <td>0.082549<\/td>\n",
       "      <td>-0.09269<\/td>\n",
       "      <td>-0.117386<\/td>\n",
       "      <td>-0.61877<\/td>\n",
       "      <td>-0.870983<\/td>\n",
       "      <td>...<\/td>\n",
       "      <td>-1.042041<\/td>\n",
       "      <td>-0.292575<\/td>\n",
       "      <td>0.805836<\/td>\n",
       "      <td>1.181328<\/td>\n",
       "      <td>0.826129<\/td>\n",
       "      <td>0.787098<\/td>\n",
       "      <td>0.291642<\/td>\n",
       "      <td>0.163645<\/td>\n",
       "      <td>-0.000783<\/td>\n",
       "      <td>5<\/td>\n",
       "    <\/tr>\n",
       "    <tr>\n",
       "      <th>1<\/th>\n",
       "      <td>-0.000247<\/td>\n",
       "      <td>-0.002234<\/td>\n",
       "      <td>-0.012911<\/td>\n",
       "      <td>-0.030662<\/td>\n",
       "      <td>-0.057665<\/td>\n",
       "      <td>-0.108451<\/td>\n",
       "      <td>-0.20569<\/td>\n",
       "      <td>-0.446386<\/td>\n",
       "      <td>-0.76577<\/td>\n",
       "      <td>-0.782983<\/td>\n",
       "      <td>...<\/td>\n",
       "      <td>-0.628041<\/td>\n",
       "      <td>0.220425<\/td>\n",
       "      <td>1.010836<\/td>\n",
       "      <td>0.827328<\/td>\n",
       "      <td>-0.194871<\/td>\n",
       "      <td>-0.117902<\/td>\n",
       "      <td>-0.037358<\/td>\n",
       "      <td>-0.008355<\/td>\n",
       "      <td>-0.000783<\/td>\n",
       "      <td>5<\/td>\n",
       "    <\/tr>\n",
       "    <tr>\n",
       "      <th>2<\/th>\n",
       "      <td>-0.000247<\/td>\n",
       "      <td>-0.002234<\/td>\n",
       "      <td>-0.012911<\/td>\n",
       "      <td>0.520338<\/td>\n",
       "      <td>1.942335<\/td>\n",
       "      <td>1.891549<\/td>\n",
       "      <td>1.79431<\/td>\n",
       "      <td>1.553614<\/td>\n",
       "      <td>1.23423<\/td>\n",
       "      <td>0.969017<\/td>\n",
       "      <td>...<\/td>\n",
       "      <td>0.254959<\/td>\n",
       "      <td>0.740425<\/td>\n",
       "      <td>0.874836<\/td>\n",
       "      <td>0.913328<\/td>\n",
       "      <td>0.357129<\/td>\n",
       "      <td>-0.117902<\/td>\n",
       "      <td>-0.037358<\/td>\n",
       "      <td>-0.008355<\/td>\n",
       "      <td>-0.000783<\/td>\n",
       "      <td>5<\/td>\n",
       "    <\/tr>\n",
       "    <tr>\n",
       "      <th>3<\/th>\n",
       "      <td>-0.000247<\/td>\n",
       "      <td>-0.002234<\/td>\n",
       "      <td>-0.012911<\/td>\n",
       "      <td>-0.030662<\/td>\n",
       "      <td>-0.046665<\/td>\n",
       "      <td>0.706549<\/td>\n",
       "      <td>1.42031<\/td>\n",
       "      <td>1.553614<\/td>\n",
       "      <td>0.90623<\/td>\n",
       "      <td>0.501017<\/td>\n",
       "      <td>...<\/td>\n",
       "      <td>0.393959<\/td>\n",
       "      <td>0.112425<\/td>\n",
       "      <td>-0.118164<\/td>\n",
       "      <td>-0.548672<\/td>\n",
       "      <td>-0.299871<\/td>\n",
       "      <td>-0.117902<\/td>\n",
       "      <td>-0.037358<\/td>\n",
       "      <td>-0.008355<\/td>\n",
       "      <td>-0.000783<\/td>\n",
       "      <td>5<\/td>\n",
       "    <\/tr>\n",
       "    <tr>\n",
       "      <th>4<\/th>\n",
       "      <td>-0.000247<\/td>\n",
       "      <td>-0.002234<\/td>\n",
       "      <td>-0.011911<\/td>\n",
       "      <td>0.270338<\/td>\n",
       "      <td>0.258335<\/td>\n",
       "      <td>-0.017451<\/td>\n",
       "      <td>-0.20569<\/td>\n",
       "      <td>-0.210386<\/td>\n",
       "      <td>-0.44977<\/td>\n",
       "      <td>-0.173983<\/td>\n",
       "      <td>...<\/td>\n",
       "      <td>0.066959<\/td>\n",
       "      <td>0.643425<\/td>\n",
       "      <td>0.806836<\/td>\n",
       "      <td>0.559328<\/td>\n",
       "      <td>-0.015871<\/td>\n",
       "      <td>-0.117902<\/td>\n",
       "      <td>-0.037358<\/td>\n",
       "      <td>-0.008355<\/td>\n",
       "      <td>-0.000783<\/td>\n",
       "      <td>5<\/td>\n",
       "    <\/tr>\n",
       "    <tr>\n",
       "      <th>...<\/th>\n",
       "      <td>...<\/td>\n",
       "      <td>...<\/td>\n",
       "      <td>...<\/td>\n",
       "      <td>...<\/td>\n",
       "      <td>...<\/td>\n",
       "      <td>...<\/td>\n",
       "      <td>...<\/td>\n",
       "      <td>...<\/td>\n",
       "      <td>...<\/td>\n",
       "      <td>...<\/td>\n",
       "      <td>...<\/td>\n",
       "      <td>...<\/td>\n",
       "      <td>...<\/td>\n",
       "      <td>...<\/td>\n",
       "      <td>...<\/td>\n",
       "      <td>...<\/td>\n",
       "      <td>...<\/td>\n",
       "      <td>...<\/td>\n",
       "      <td>...<\/td>\n",
       "      <td>...<\/td>\n",
       "      <td>...<\/td>\n",
       "    <\/tr>\n",
       "    <tr>\n",
       "      <th>551<\/th>\n",
       "      <td>-0.000247<\/td>\n",
       "      <td>-0.002234<\/td>\n",
       "      <td>-0.012911<\/td>\n",
       "      <td>-0.030662<\/td>\n",
       "      <td>-0.057665<\/td>\n",
       "      <td>-0.108451<\/td>\n",
       "      <td>-0.20569<\/td>\n",
       "      <td>-0.446386<\/td>\n",
       "      <td>-0.76577<\/td>\n",
       "      <td>-0.870983<\/td>\n",
       "      <td>...<\/td>\n",
       "      <td>0.013959<\/td>\n",
       "      <td>0.492425<\/td>\n",
       "      <td>0.593836<\/td>\n",
       "      <td>0.968328<\/td>\n",
       "      <td>1.089129<\/td>\n",
       "      <td>0.736098<\/td>\n",
       "      <td>0.110642<\/td>\n",
       "      <td>-0.008355<\/td>\n",
       "      <td>-0.000783<\/td>\n",
       "      <td>5<\/td>\n",
       "    <\/tr>\n",
       "    <tr>\n",
       "      <th>552<\/th>\n",
       "      <td>-0.000247<\/td>\n",
       "      <td>-0.002234<\/td>\n",
       "      <td>-0.012911<\/td>\n",
       "      <td>-0.030662<\/td>\n",
       "      <td>-0.057665<\/td>\n",
       "      <td>-0.108451<\/td>\n",
       "      <td>-0.20569<\/td>\n",
       "      <td>-0.146386<\/td>\n",
       "      <td>-0.08077<\/td>\n",
       "      <td>-0.013983<\/td>\n",
       "      <td>...<\/td>\n",
       "      <td>0.189959<\/td>\n",
       "      <td>-0.044575<\/td>\n",
       "      <td>-0.466164<\/td>\n",
       "      <td>-0.580672<\/td>\n",
       "      <td>-0.299871<\/td>\n",
       "      <td>-0.117902<\/td>\n",
       "      <td>-0.037358<\/td>\n",
       "      <td>-0.008355<\/td>\n",
       "      <td>-0.000783<\/td>\n",
       "      <td>5<\/td>\n",
       "    <\/tr>\n",
       "    <tr>\n",
       "      <th>553<\/th>\n",
       "      <td>-0.000247<\/td>\n",
       "      <td>-0.002234<\/td>\n",
       "      <td>-0.012911<\/td>\n",
       "      <td>-0.030662<\/td>\n",
       "      <td>-0.057665<\/td>\n",
       "      <td>-0.108451<\/td>\n",
       "      <td>-0.20569<\/td>\n",
       "      <td>-0.446386<\/td>\n",
       "      <td>-0.76577<\/td>\n",
       "      <td>-0.870983<\/td>\n",
       "      <td>...<\/td>\n",
       "      <td>-1.371041<\/td>\n",
       "      <td>-1.259575<\/td>\n",
       "      <td>-0.955164<\/td>\n",
       "      <td>-0.580672<\/td>\n",
       "      <td>-0.299871<\/td>\n",
       "      <td>-0.117902<\/td>\n",
       "      <td>-0.037358<\/td>\n",
       "      <td>-0.008355<\/td>\n",
       "      <td>-0.000783<\/td>\n",
       "      <td>5<\/td>\n",
       "    <\/tr>\n",
       "    <tr>\n",
       "      <th>554<\/th>\n",
       "      <td>-0.000247<\/td>\n",
       "      <td>-0.002234<\/td>\n",
       "      <td>-0.012911<\/td>\n",
       "      <td>-0.030662<\/td>\n",
       "      <td>-0.057665<\/td>\n",
       "      <td>-0.108451<\/td>\n",
       "      <td>-0.20569<\/td>\n",
       "      <td>-0.446386<\/td>\n",
       "      <td>-0.76577<\/td>\n",
       "      <td>-0.870983<\/td>\n",
       "      <td>...<\/td>\n",
       "      <td>-1.371041<\/td>\n",
       "      <td>-1.259575<\/td>\n",
       "      <td>-0.955164<\/td>\n",
       "      <td>-0.580672<\/td>\n",
       "      <td>-0.299871<\/td>\n",
       "      <td>-0.117902<\/td>\n",
       "      <td>-0.037358<\/td>\n",
       "      <td>-0.008355<\/td>\n",
       "      <td>-0.000783<\/td>\n",
       "      <td>5<\/td>\n",
       "    <\/tr>\n",
       "    <tr>\n",
       "      <th>555<\/th>\n",
       "      <td>-0.000247<\/td>\n",
       "      <td>-0.002234<\/td>\n",
       "      <td>-0.012911<\/td>\n",
       "      <td>-0.030662<\/td>\n",
       "      <td>-0.057665<\/td>\n",
       "      <td>-0.108451<\/td>\n",
       "      <td>-0.20569<\/td>\n",
       "      <td>-0.383386<\/td>\n",
       "      <td>-0.09877<\/td>\n",
       "      <td>0.683017<\/td>\n",
       "      <td>...<\/td>\n",
       "      <td>0.177959<\/td>\n",
       "      <td>-0.105575<\/td>\n",
       "      <td>-0.718164<\/td>\n",
       "      <td>-0.580672<\/td>\n",
       "      <td>-0.299871<\/td>\n",
       "      <td>-0.117902<\/td>\n",
       "      <td>-0.037358<\/td>\n",
       "      <td>-0.008355<\/td>\n",
       "      <td>-0.000783<\/td>\n",
       "      <td>5<\/td>\n",
       "    <\/tr>\n",
       "  <\/tbody>\n",
       "<\/table>\n",
       "<p>556 rows × 257 columns<\/p>\n",
       "<\/div>"
      ]
     },
     "metadata":{},
     "output_type":"display_data"
    }
   ],
   "metadata":{
    "datalore":{
     "node_id":"KJLLgJJ5wEtODLStrf4NXf",
     "type":"CODE",
     "hide_input_from_viewers":true,
     "hide_output_from_viewers":true
    }
   }
  },
  {
   "cell_type":"code",
   "source":[
    "df6_std"
   ],
   "execution_count":24,
   "outputs":[
    {
     "data":{
      "text\/html":[
       "<div>\n",
       "<style scoped>\n",
       "    .dataframe tbody tr th:only-of-type {\n",
       "        vertical-align: middle;\n",
       "    }\n",
       "\n",
       "    .dataframe tbody tr th {\n",
       "        vertical-align: top;\n",
       "    }\n",
       "\n",
       "    .dataframe thead th {\n",
       "        text-align: right;\n",
       "    }\n",
       "<\/style>\n",
       "<table border=\"1\" class=\"dataframe\">\n",
       "  <thead>\n",
       "    <tr style=\"text-align: right;\">\n",
       "      <th><\/th>\n",
       "      <th>0<\/th>\n",
       "      <th>1<\/th>\n",
       "      <th>2<\/th>\n",
       "      <th>3<\/th>\n",
       "      <th>4<\/th>\n",
       "      <th>5<\/th>\n",
       "      <th>6<\/th>\n",
       "      <th>7<\/th>\n",
       "      <th>8<\/th>\n",
       "      <th>9<\/th>\n",
       "      <th>...<\/th>\n",
       "      <th>247<\/th>\n",
       "      <th>248<\/th>\n",
       "      <th>249<\/th>\n",
       "      <th>250<\/th>\n",
       "      <th>251<\/th>\n",
       "      <th>252<\/th>\n",
       "      <th>253<\/th>\n",
       "      <th>254<\/th>\n",
       "      <th>255<\/th>\n",
       "      <th>number<\/th>\n",
       "    <\/tr>\n",
       "  <\/thead>\n",
       "  <tbody>\n",
       "    <tr>\n",
       "      <th>556<\/th>\n",
       "      <td>-0.000247<\/td>\n",
       "      <td>-0.002234<\/td>\n",
       "      <td>-0.012911<\/td>\n",
       "      <td>-0.030662<\/td>\n",
       "      <td>-0.057665<\/td>\n",
       "      <td>-0.108451<\/td>\n",
       "      <td>-0.20569<\/td>\n",
       "      <td>-0.077386<\/td>\n",
       "      <td>1.09623<\/td>\n",
       "      <td>-0.037983<\/td>\n",
       "      <td>...<\/td>\n",
       "      <td>0.451959<\/td>\n",
       "      <td>0.740425<\/td>\n",
       "      <td>0.526836<\/td>\n",
       "      <td>-0.054672<\/td>\n",
       "      <td>-0.290871<\/td>\n",
       "      <td>-0.117902<\/td>\n",
       "      <td>-0.037358<\/td>\n",
       "      <td>-0.008355<\/td>\n",
       "      <td>-0.000783<\/td>\n",
       "      <td>6<\/td>\n",
       "    <\/tr>\n",
       "    <tr>\n",
       "      <th>557<\/th>\n",
       "      <td>-0.000247<\/td>\n",
       "      <td>-0.002234<\/td>\n",
       "      <td>-0.012911<\/td>\n",
       "      <td>-0.030662<\/td>\n",
       "      <td>-0.057665<\/td>\n",
       "      <td>0.494549<\/td>\n",
       "      <td>1.77731<\/td>\n",
       "      <td>0.018614<\/td>\n",
       "      <td>-0.76577<\/td>\n",
       "      <td>-0.870983<\/td>\n",
       "      <td>...<\/td>\n",
       "      <td>-0.356041<\/td>\n",
       "      <td>-1.121575<\/td>\n",
       "      <td>-0.826164<\/td>\n",
       "      <td>-0.017672<\/td>\n",
       "      <td>-0.299871<\/td>\n",
       "      <td>-0.117902<\/td>\n",
       "      <td>-0.037358<\/td>\n",
       "      <td>-0.008355<\/td>\n",
       "      <td>-0.000783<\/td>\n",
       "      <td>6<\/td>\n",
       "    <\/tr>\n",
       "    <tr>\n",
       "      <th>558<\/th>\n",
       "      <td>-0.000247<\/td>\n",
       "      <td>-0.002234<\/td>\n",
       "      <td>-0.012911<\/td>\n",
       "      <td>-0.030662<\/td>\n",
       "      <td>-0.057665<\/td>\n",
       "      <td>-0.108451<\/td>\n",
       "      <td>-0.20569<\/td>\n",
       "      <td>-0.446386<\/td>\n",
       "      <td>-0.03577<\/td>\n",
       "      <td>1.102017<\/td>\n",
       "      <td>...<\/td>\n",
       "      <td>0.256959<\/td>\n",
       "      <td>0.313425<\/td>\n",
       "      <td>-0.139164<\/td>\n",
       "      <td>-0.471672<\/td>\n",
       "      <td>-0.299871<\/td>\n",
       "      <td>-0.117902<\/td>\n",
       "      <td>-0.037358<\/td>\n",
       "      <td>-0.008355<\/td>\n",
       "      <td>-0.000783<\/td>\n",
       "      <td>6<\/td>\n",
       "    <\/tr>\n",
       "    <tr>\n",
       "      <th>559<\/th>\n",
       "      <td>-0.000247<\/td>\n",
       "      <td>-0.002234<\/td>\n",
       "      <td>-0.012911<\/td>\n",
       "      <td>-0.030662<\/td>\n",
       "      <td>-0.057665<\/td>\n",
       "      <td>-0.108451<\/td>\n",
       "      <td>-0.20569<\/td>\n",
       "      <td>-0.147386<\/td>\n",
       "      <td>0.94223<\/td>\n",
       "      <td>-0.592983<\/td>\n",
       "      <td>...<\/td>\n",
       "      <td>0.511959<\/td>\n",
       "      <td>-0.508575<\/td>\n",
       "      <td>-0.955164<\/td>\n",
       "      <td>-0.580672<\/td>\n",
       "      <td>-0.299871<\/td>\n",
       "      <td>-0.117902<\/td>\n",
       "      <td>-0.037358<\/td>\n",
       "      <td>-0.008355<\/td>\n",
       "      <td>-0.000783<\/td>\n",
       "      <td>6<\/td>\n",
       "    <\/tr>\n",
       "    <tr>\n",
       "      <th>560<\/th>\n",
       "      <td>-0.000247<\/td>\n",
       "      <td>-0.002234<\/td>\n",
       "      <td>-0.012911<\/td>\n",
       "      <td>-0.030662<\/td>\n",
       "      <td>-0.057665<\/td>\n",
       "      <td>-0.108451<\/td>\n",
       "      <td>-0.20569<\/td>\n",
       "      <td>-0.446386<\/td>\n",
       "      <td>0.25723<\/td>\n",
       "      <td>0.911017<\/td>\n",
       "      <td>...<\/td>\n",
       "      <td>0.238959<\/td>\n",
       "      <td>0.740425<\/td>\n",
       "      <td>0.516836<\/td>\n",
       "      <td>-0.444672<\/td>\n",
       "      <td>-0.299871<\/td>\n",
       "      <td>-0.117902<\/td>\n",
       "      <td>-0.037358<\/td>\n",
       "      <td>-0.008355<\/td>\n",
       "      <td>-0.000783<\/td>\n",
       "      <td>6<\/td>\n",
       "    <\/tr>\n",
       "    <tr>\n",
       "      <th>...<\/th>\n",
       "      <td>...<\/td>\n",
       "      <td>...<\/td>\n",
       "      <td>...<\/td>\n",
       "      <td>...<\/td>\n",
       "      <td>...<\/td>\n",
       "      <td>...<\/td>\n",
       "      <td>...<\/td>\n",
       "      <td>...<\/td>\n",
       "      <td>...<\/td>\n",
       "      <td>...<\/td>\n",
       "      <td>...<\/td>\n",
       "      <td>...<\/td>\n",
       "      <td>...<\/td>\n",
       "      <td>...<\/td>\n",
       "      <td>...<\/td>\n",
       "      <td>...<\/td>\n",
       "      <td>...<\/td>\n",
       "      <td>...<\/td>\n",
       "      <td>...<\/td>\n",
       "      <td>...<\/td>\n",
       "      <td>...<\/td>\n",
       "    <\/tr>\n",
       "    <tr>\n",
       "      <th>1215<\/th>\n",
       "      <td>-0.000247<\/td>\n",
       "      <td>-0.002234<\/td>\n",
       "      <td>-0.012911<\/td>\n",
       "      <td>-0.030662<\/td>\n",
       "      <td>-0.057665<\/td>\n",
       "      <td>-0.108451<\/td>\n",
       "      <td>-0.20569<\/td>\n",
       "      <td>-0.446386<\/td>\n",
       "      <td>-0.05577<\/td>\n",
       "      <td>1.101017<\/td>\n",
       "      <td>...<\/td>\n",
       "      <td>0.201959<\/td>\n",
       "      <td>0.269425<\/td>\n",
       "      <td>0.177836<\/td>\n",
       "      <td>-0.232672<\/td>\n",
       "      <td>-0.299871<\/td>\n",
       "      <td>-0.117902<\/td>\n",
       "      <td>-0.037358<\/td>\n",
       "      <td>-0.008355<\/td>\n",
       "      <td>-0.000783<\/td>\n",
       "      <td>6<\/td>\n",
       "    <\/tr>\n",
       "    <tr>\n",
       "      <th>1216<\/th>\n",
       "      <td>-0.000247<\/td>\n",
       "      <td>-0.002234<\/td>\n",
       "      <td>-0.012911<\/td>\n",
       "      <td>-0.030662<\/td>\n",
       "      <td>-0.057665<\/td>\n",
       "      <td>-0.108451<\/td>\n",
       "      <td>-0.20569<\/td>\n",
       "      <td>-0.045386<\/td>\n",
       "      <td>0.54323<\/td>\n",
       "      <td>1.129017<\/td>\n",
       "      <td>...<\/td>\n",
       "      <td>0.525959<\/td>\n",
       "      <td>0.740425<\/td>\n",
       "      <td>1.044836<\/td>\n",
       "      <td>1.359328<\/td>\n",
       "      <td>0.933129<\/td>\n",
       "      <td>0.408098<\/td>\n",
       "      <td>0.021642<\/td>\n",
       "      <td>-0.008355<\/td>\n",
       "      <td>-0.000783<\/td>\n",
       "      <td>6<\/td>\n",
       "    <\/tr>\n",
       "    <tr>\n",
       "      <th>1217<\/th>\n",
       "      <td>-0.000247<\/td>\n",
       "      <td>-0.002234<\/td>\n",
       "      <td>-0.012911<\/td>\n",
       "      <td>-0.030662<\/td>\n",
       "      <td>-0.057665<\/td>\n",
       "      <td>-0.108451<\/td>\n",
       "      <td>-0.18669<\/td>\n",
       "      <td>-0.018386<\/td>\n",
       "      <td>0.92123<\/td>\n",
       "      <td>0.721017<\/td>\n",
       "      <td>...<\/td>\n",
       "      <td>-0.102041<\/td>\n",
       "      <td>-0.764575<\/td>\n",
       "      <td>-0.917164<\/td>\n",
       "      <td>-0.580672<\/td>\n",
       "      <td>-0.299871<\/td>\n",
       "      <td>-0.117902<\/td>\n",
       "      <td>-0.037358<\/td>\n",
       "      <td>-0.008355<\/td>\n",
       "      <td>-0.000783<\/td>\n",
       "      <td>6<\/td>\n",
       "    <\/tr>\n",
       "    <tr>\n",
       "      <th>1218<\/th>\n",
       "      <td>-0.000247<\/td>\n",
       "      <td>-0.002234<\/td>\n",
       "      <td>-0.012911<\/td>\n",
       "      <td>-0.030662<\/td>\n",
       "      <td>-0.057665<\/td>\n",
       "      <td>-0.108451<\/td>\n",
       "      <td>-0.12669<\/td>\n",
       "      <td>0.304614<\/td>\n",
       "      <td>0.69423<\/td>\n",
       "      <td>0.955017<\/td>\n",
       "      <td>...<\/td>\n",
       "      <td>-0.233041<\/td>\n",
       "      <td>0.736425<\/td>\n",
       "      <td>0.720836<\/td>\n",
       "      <td>0.038328<\/td>\n",
       "      <td>-0.299871<\/td>\n",
       "      <td>-0.117902<\/td>\n",
       "      <td>-0.037358<\/td>\n",
       "      <td>-0.008355<\/td>\n",
       "      <td>-0.000783<\/td>\n",
       "      <td>6<\/td>\n",
       "    <\/tr>\n",
       "    <tr>\n",
       "      <th>1219<\/th>\n",
       "      <td>-0.000247<\/td>\n",
       "      <td>-0.002234<\/td>\n",
       "      <td>-0.012911<\/td>\n",
       "      <td>-0.030662<\/td>\n",
       "      <td>-0.057665<\/td>\n",
       "      <td>-0.108451<\/td>\n",
       "      <td>-0.20569<\/td>\n",
       "      <td>-0.446386<\/td>\n",
       "      <td>-0.65077<\/td>\n",
       "      <td>0.549017<\/td>\n",
       "      <td>...<\/td>\n",
       "      <td>-0.455041<\/td>\n",
       "      <td>0.432425<\/td>\n",
       "      <td>1.044836<\/td>\n",
       "      <td>1.410328<\/td>\n",
       "      <td>0.844129<\/td>\n",
       "      <td>0.012098<\/td>\n",
       "      <td>-0.037358<\/td>\n",
       "      <td>-0.008355<\/td>\n",
       "      <td>-0.000783<\/td>\n",
       "      <td>6<\/td>\n",
       "    <\/tr>\n",
       "  <\/tbody>\n",
       "<\/table>\n",
       "<p>664 rows × 257 columns<\/p>\n",
       "<\/div>"
      ]
     },
     "metadata":{},
     "output_type":"display_data"
    }
   ],
   "metadata":{
    "datalore":{
     "node_id":"jvap5OiFrWulivg5hzaJuw",
     "type":"CODE",
     "hide_input_from_viewers":true,
     "hide_output_from_viewers":true
    }
   }
  },
  {
   "cell_type":"markdown",
   "source":[
    "### Understanding what PCA does\n",
    "In this part, we will try to visualize what PCA does. For this, we will start with an \"average\" image, and progressively add PCA components. For this visualization step, we will only be using the dataframe containing the handwritten fives."
   ],
   "attachments":{},
   "metadata":{
    "datalore":{
     "node_id":"AGFoYdG09fIE8EgKPL7dC1",
     "type":"MD",
     "hide_input_from_viewers":false,
     "hide_output_from_viewers":false,
     "report_properties":{
      "rowId":"DSB7XC0OwMWihi9eJNOtVD"
     }
    }
   }
  },
  {
   "cell_type":"markdown",
   "source":[
    "#### Step 1: Compute the \"average 5\"\n",
    "Create a vector (pandas Series, for example) that contains the \"mean 5\".\n",
    "Display this vector as an image. How do you interpret this ?"
   ],
   "attachments":{},
   "metadata":{
    "datalore":{
     "node_id":"aDw2F968eylWS1zKYQ7A4S",
     "type":"MD",
     "hide_input_from_viewers":false,
     "hide_output_from_viewers":false,
     "report_properties":{
      "rowId":"GbcldyqbHCzJuREPEMtzvr"
     }
    }
   }
  },
  {
   "cell_type":"code",
   "source":[
    "mean_5 = df_fives.mean()\n",
    "show_image(mean_5.to_numpy())"
   ],
   "execution_count":47,
   "outputs":[
    {
     "data":{
      "image\/png":"[encoded data removed]"
     },
     "metadata":{
      "image\/png":{}
     },
     "output_type":"display_data"
    }
   ],
   "metadata":{
    "datalore":{
     "node_id":"JzhNEWyvPjF7G6IIJEtUmp",
     "type":"CODE",
     "hide_input_from_viewers":false,
     "hide_output_from_viewers":false,
     "report_properties":{
      "rowId":"KztsHmMNw3N4cynGborwIR"
     }
    }
   }
  },
  {
   "cell_type":"code",
   "source":[
    "import matplotlib.pyplot as plt\n",
    "\n",
    "# Créer un vecteur avec la moyenne 5 répétée 20 fois\n",
    "mean_value = df_fives.mean\n",
    "vector_length = 20"
   ],
   "execution_count":null,
   "outputs":[],
   "metadata":{
    "datalore":{
     "node_id":"HkbIZKOpdQrlkSQGsHody0",
     "type":"CODE",
     "hide_input_from_viewers":true,
     "hide_output_from_viewers":true
    }
   }
  },
  {
   "cell_type":"markdown",
   "source":[
    "#### Step 2: Obtain the components from PCA\n",
    "Read the code cell below. Using the documentation, explain what is done at each step."
   ],
   "attachments":{},
   "metadata":{
    "datalore":{
     "node_id":"BwS2aoPj8QlKAMu0NiZvkm",
     "type":"MD",
     "hide_input_from_viewers":false,
     "hide_output_from_viewers":false,
     "report_properties":{
      "rowId":"yg8dX0uoqKWSF7ejt6jBNw"
     }
    }
   }
  },
  {
   "cell_type":"code",
   "source":[
    "pca = PCA()                              # Crée une instance de la classe PCA (Analyse en Composantes Principales)\n",
    "# PCA (Principal Component Analysis) est une technique de réduction de dimensionnalité qui permet de transformer les données en un nouvel espace de dimensions réduites, en conservant les caractéristiques importantes de ces données.\n",
    "pca.fit(df_fives)                        #Ajuste le modèle PCA aux données contenues dans df_fives\n",
    "# Cette ligne entraîne le modèle PCA sur les données fournies (df_fives), en calculant les composantes principales et d'autres propriétés du modèle.\n",
    "components5 = pca.components_            # Récupère les composantes principales du modèle PCA\n",
    "# Les composantes principales sont les vecteurs propres qui définissent les directions dans lesquelles les données ont la plus grande variabilité.\n",
    "projection5 = pca.transform(df_fives)     # Projette les données dans le nouvel espace PCA\n",
    "# Cette ligne projette les données originales (df_fives) dans le nouvel espace défini par les composantes principales, ce qui réduit la dimensionnalité des données tout en conservant leur structure relative."
   ],
   "execution_count":51,
   "outputs":[],
   "metadata":{
    "datalore":{
     "node_id":"yEN68So68PiUDcDDceq2fW",
     "type":"CODE",
     "hide_input_from_viewers":false,
     "hide_output_from_viewers":false,
     "report_properties":{
      "rowId":"CRuE8uAGo6CGp66eGqzyV0"
     }
    }
   }
  },
  {
   "cell_type":"markdown",
   "source":[
    "#### Step 3: Reconstruct an image progressively\n",
    "In this part, we will reconstruct an image from its PCA components.\n",
    "\n",
    "**Questions**:\n",
    "- Understand and explain the line marked with a question mark ❓.\n",
    "- Observe the resulting images. How many components are necessary to obtain a \"nice\" image? How do you interpret this?\n",
    "- By modifying the code below, display a reconstruction with 10 components. What do you observe?\n",
    "- By modifying the code below, try displaying other instances of the number five from the dataset."
   ],
   "attachments":{},
   "metadata":{
    "datalore":{
     "node_id":"JCqpervDx0LwqHtFlaL7Pr",
     "type":"MD",
     "hide_input_from_viewers":false,
     "hide_output_from_viewers":false,
     "report_properties":{
      "rowId":"jh77NorQkcReZiWKWtvGtI"
     }
    }
   }
  },
  {
   "cell_type":"code",
   "source":[
    "image_index = 3\n",
    "original_image = df_fives.iloc[image_index].to_numpy()\n",
    "show_image(original_image, \"Original image\")      # we first display the original image\n",
    "\n",
    "reconstructed_image = df_fives.mean().to_numpy()\n",
    "show_image(reconstructed_image, \"Mean image\") # then we display the mean image\n",
    "\n",
    "for i in range(0,3): # and finally we reconstruct the image using the components\n",
    "    reconstructed_image = reconstructed_image + projection5[image_index,i] * components5[i] # ❓\n",
    "    show_image(reconstructed_image, f\"Using {i+1} component{'s' if i>0 else ''}\")"
   ],
   "execution_count":50,
   "outputs":[
    {
     "data":{
      "image\/png":"[encoded data removed]"
     },
     "metadata":{
      "image\/png":{}
     },
     "output_type":"display_data"
    },
    {
     "data":{
      "image\/png":"[encoded data removed]"
     },
     "metadata":{
      "image\/png":{}
     },
     "output_type":"display_data"
    },
    {
     "data":{
      "image\/png":"[encoded data removed]"
     },
     "metadata":{
      "image\/png":{}
     },
     "output_type":"display_data"
    },
    {
     "data":{
      "image\/png":"[encoded data removed]"
     },
     "metadata":{
      "image\/png":{}
     },
     "output_type":"display_data"
    },
    {
     "data":{
      "image\/png":"[encoded data removed]"
     },
     "metadata":{
      "image\/png":{}
     },
     "output_type":"display_data"
    }
   ],
   "metadata":{
    "datalore":{
     "node_id":"ZQ6OPwEAtrjdYp4ZbWFebW",
     "type":"CODE",
     "hide_input_from_viewers":false,
     "hide_output_from_viewers":false,
     "report_properties":{
      "rowId":"rrQmLFpLrAafJ1ux37PkPy"
     }
    }
   }
  },
  {
   "cell_type":"markdown",
   "source":[
    "#### Bonus step: Doing the same with the number 6\n",
    "Now that you understand how to use `scikit-learn`'s PCA, make the same observations with the database of number 6's."
   ],
   "attachments":{},
   "metadata":{
    "datalore":{
     "node_id":"uqZfKnMLM22GnCDcLySOTv",
     "type":"MD",
     "hide_input_from_viewers":false,
     "hide_output_from_viewers":false,
     "report_properties":{
      "rowId":"LRJZznoyTnqE6TrK51yPGA"
     }
    }
   }
  },
  {
   "cell_type":"code",
   "source":[
    "pca = PCA() \n",
    "pca.fit(df_fives)\n",
    "components6 = pca.components_\n",
    "projection6 = pca.transform(df_sixes)"
   ],
   "execution_count":66,
   "outputs":[],
   "metadata":{
    "datalore":{
     "node_id":"YOTQeYOqWa8VC1na1oGv2H",
     "type":"CODE",
     "hide_input_from_viewers":false,
     "hide_output_from_viewers":false,
     "report_properties":{
      "rowId":"OUOKz01ZhGNI5LCTCLMVkn"
     }
    }
   }
  },
  {
   "cell_type":"code",
   "source":[
    "image_index = 3\n",
    "original_image = df_sixes.iloc[image_index].to_numpy()\n",
    "show_image(original_image, \"Original image\")      # we first display the original image\n",
    "\n",
    "reconstructed_image = df_sixes.mean().to_numpy()\n",
    "show_image(reconstructed_image, \"Mean image\") # then we display the mean image\n",
    "\n",
    "for i in range(0,3): # and finally we reconstruct the image using the components\n",
    "    reconstructed_image = reconstructed_image + projection6[image_index,i] * components6[i] # ❓\n",
    "    show_image(reconstructed_image, f\"Using {i+1} component{'s' if i>0 else ''}\")"
   ],
   "execution_count":57,
   "outputs":[
    {
     "data":{
      "image\/png":"[encoded data removed]"
     },
     "metadata":{
      "image\/png":{}
     },
     "output_type":"display_data"
    },
    {
     "data":{
      "image\/png":"[encoded data removed]"
     },
     "metadata":{
      "image\/png":{}
     },
     "output_type":"display_data"
    },
    {
     "data":{
      "image\/png":"[encoded data removed]"
     },
     "metadata":{
      "image\/png":{}
     },
     "output_type":"display_data"
    },
    {
     "data":{
      "image\/png":"[encoded data removed]"
     },
     "metadata":{
      "image\/png":{}
     },
     "output_type":"display_data"
    },
    {
     "data":{
      "image\/png":"[encoded data removed]"
     },
     "metadata":{
      "image\/png":{}
     },
     "output_type":"display_data"
    }
   ],
   "metadata":{
    "datalore":{
     "node_id":"BtbcSShRwZ2GjkbwpY8pKX",
     "type":"CODE",
     "hide_input_from_viewers":true,
     "hide_output_from_viewers":true
    }
   }
  },
  {
   "cell_type":"markdown",
   "source":[
    "*[Your comments here]*"
   ],
   "attachments":{},
   "metadata":{
    "datalore":{
     "node_id":"fwySMDUyzW1H4zORZltwgt",
     "type":"MD",
     "hide_input_from_viewers":false,
     "hide_output_from_viewers":false,
     "report_properties":{
      "rowId":"ipkZfywUMZ1KUylPHuMIuT"
     }
    }
   }
  },
  {
   "cell_type":"markdown",
   "source":[
    "### Using PCA for classification\n",
    "A possible use for dimensionality reduction is to help machine learning algorithms.\n",
    "In the code cell below, we use PCA for the entire dataset (numbers 5 and 6) and store the projection coefficients in the `projection` variable.\n",
    "`df_projection` contains the same data as a `pandas` dataframe."
   ],
   "attachments":{},
   "metadata":{
    "datalore":{
     "node_id":"cq6c3JxopuPoIPLGsslhnz",
     "type":"MD",
     "hide_input_from_viewers":false,
     "hide_output_from_viewers":false,
     "report_properties":{
      "rowId":"fdWxXx6ggdvmde4sy5JGPd"
     }
    }
   }
  },
  {
   "cell_type":"code",
   "source":[
    "df_unlabeled = df.drop(\"number\", inplace=False, axis=1)\n",
    "pca = PCA()\n",
    "pca.fit(df_unlabeled)\n",
    "projection = pca.transform(df_unlabeled)\n",
    "\n",
    "df_projection = pd.DataFrame(projection)\n",
    "df_projection[\"number\"] = df[\"number\"] # label the data for visualization and classification"
   ],
   "execution_count":81,
   "outputs":[],
   "metadata":{
    "datalore":{
     "node_id":"Qu8jVEBP3VWHCmOrjjYsYl",
     "type":"CODE",
     "hide_input_from_viewers":false,
     "hide_output_from_viewers":false,
     "report_properties":{
      "rowId":"yapCuk3QMNHTR9HHmjtEcm"
     }
    }
   }
  },
  {
   "cell_type":"markdown",
   "source":[
    "#### Questions\n",
    "- Using the code in the cell below, display a two-dimensional `scatterplot` with a different color for 5's and 6's. Which dimensions should you use?\n",
    "- What can you observe? How do you think this can help machine learning algorithms?\n",
    "- Try changing the features you display. How does the `scatterplot` change? How do you interpret this?\n",
    "- Try performing a prediction on the two-dimensional dataset. Compare the results with the baseline test on the full dataset, both in terms of accuracy and computational time. How do you interpret this?"
   ],
   "attachments":{},
   "metadata":{
    "datalore":{
     "node_id":"dafGEeDpRz0cHgiLssdlke",
     "type":"MD",
     "hide_input_from_viewers":false,
     "hide_output_from_viewers":false,
     "report_properties":{
      "rowId":"xdeQZjXZas2XMMt8k2tYAR"
     }
    }
   }
  },
  {
   "cell_type":"code",
   "source":[
    "dimension1 = 0    # should be an integer indicating which PCA component to pick\n",
    "dimension2 = 1    # should be an integer indicating which PCA component to pick\n",
    "\n",
    "df_two_dimensional = df_projection[[dimension1, dimension2, \"number\"]]\n",
    "\n",
    "sns.scatterplot(df_two_dimensional, x = dimension1, y = dimension2, hue = \"number\")\n",
    "\n",
    "# Your code here"
   ],
   "execution_count":89,
   "outputs":[
    {
     "data":{
      "text\/plain":[
       "<Axes: xlabel='0', ylabel='1'>"
      ]
     },
     "metadata":{},
     "output_type":"display_data"
    },
    {
     "data":{
      "image\/png":"[encoded data removed]"
     },
     "metadata":{
      "image\/png":{}
     },
     "output_type":"display_data"
    }
   ],
   "metadata":{
    "datalore":{
     "node_id":"d9cfExsIpllE6y5xKE85zf",
     "type":"CODE",
     "hide_input_from_viewers":false,
     "hide_output_from_viewers":false,
     "report_properties":{
      "rowId":"ef0yNdOHVeTqN0v2LKeJBe"
     }
    }
   }
  },
  {
   "cell_type":"code",
   "source":[
    "run_measure_time(prediction_knn, data=df)"
   ],
   "execution_count":97,
   "outputs":[
    {
     "name":"stdout",
     "text":[
      "Max train score 100.0 % for k = [1]\n",
      "Max test score 98.51116625310173 % for k = [1]\n",
      "--- 1.037280559539795 seconds ---\n"
     ],
     "output_type":"stream"
    }
   ],
   "metadata":{
    "datalore":{
     "node_id":"5GkOeaK8lhCwjZc09X62wQ",
     "type":"CODE",
     "hide_input_from_viewers":true,
     "hide_output_from_viewers":true
    }
   }
  },
  {
   "cell_type":"code",
   "source":[
    "run_measure_time(prediction_knn, data=df_projection[[dimension1, dimension2, \"number\"]])"
   ],
   "execution_count":98,
   "outputs":[
    {
     "name":"stdout",
     "text":[
      "Max train score 100.0 % for k = [1]\n",
      "Max test score 97.27047146401985 % for k = [12]\n",
      "--- 0.8021953105926514 seconds ---\n"
     ],
     "output_type":"stream"
    }
   ],
   "metadata":{
    "datalore":{
     "node_id":"Y353A24CUMFWfcxIdBBLm3",
     "type":"CODE",
     "hide_input_from_viewers":true,
     "hide_output_from_viewers":true
    }
   }
  },
  {
   "cell_type":"code",
   "source":[
    "prediction_knn(df_projection[[dimension1, dimension2, \"number\"]])"
   ],
   "execution_count":96,
   "outputs":[
    {
     "name":"stdout",
     "text":[
      "Max train score 100.0 % for k = [1]\n",
      "Max test score 97.27047146401985 % for k = [12]\n"
     ],
     "output_type":"stream"
    }
   ],
   "metadata":{
    "datalore":{
     "node_id":"DPQMqsHpOQx4EhuPznBfYE",
     "type":"CODE",
     "hide_input_from_viewers":true,
     "hide_output_from_viewers":true
    }
   }
  }
 ],
 "metadata":{
  "kernelspec":{
   "display_name":"Python",
   "language":"python",
   "name":"python"
  },
  "datalore":{
   "computation_mode":"JUPYTER",
   "package_manager":"pip",
   "base_environment":"default",
   "packages":[],
   "report_row_ids":[
    "iZcoJvSTohw4eHhs1ohclq",
    "dRaetWjkvxlmuwsn7RsSnU",
    "D56VESoRJXKaMuksMYuFqO",
    "PkxTIe7VEnOvqWeQCkgeg2",
    "DVGzgGbS1U26gVfiRCiahv",
    "ca4pR5lMqcP6A5tiR839OV",
    "PijDIAfSBE12MtCg07axnz",
    "Ghbb0FlRMhv1BknOEQsJxg",
    "dR8HsO0yFOFizOIB9v7uV4",
    "A380J7mg3QFBa9OHiuiBAi",
    "r6l3qB1QrZIvhYfEEiG71p",
    "iSEvMGuaCNd4JpUaVuWTnm",
    "YqOeCa1Sr6LhXADaZxcDZg",
    "tC71cb7pwYRUnka1yyCD2U",
    "EQdyoClgBc0bCmVoebVxug",
    "EYN0aBW3MQociqy5Y4R43Y",
    "DSB7XC0OwMWihi9eJNOtVD",
    "GbcldyqbHCzJuREPEMtzvr",
    "KztsHmMNw3N4cynGborwIR",
    "yg8dX0uoqKWSF7ejt6jBNw",
    "CRuE8uAGo6CGp66eGqzyV0",
    "jh77NorQkcReZiWKWtvGtI",
    "rrQmLFpLrAafJ1ux37PkPy",
    "LRJZznoyTnqE6TrK51yPGA",
    "OUOKz01ZhGNI5LCTCLMVkn",
    "ipkZfywUMZ1KUylPHuMIuT",
    "fdWxXx6ggdvmde4sy5JGPd",
    "yapCuk3QMNHTR9HHmjtEcm",
    "xdeQZjXZas2XMMt8k2tYAR",
    "ef0yNdOHVeTqN0v2LKeJBe",
    "fovfy2HqPdXrnyh83eZC4y"
   ],
   "version":3
  }
 },
 "nbformat":4,
 "nbformat_minor":4
}