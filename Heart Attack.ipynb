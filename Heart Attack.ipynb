{
 "cells":[
  {
   "cell_type":"code",
   "source":[
    "import pandas as pd                     # for dataset manipulation (DataFrames)\n",
    "import sklearn.datasets                 # the datasets we are going to use\n",
    "import numpy as np                      # allows some mathematical operations\n",
    "import matplotlib.pyplot as plt         # library used to display graphs\n",
    "import seaborn as sns                   # more convenient visualization library for dataframes\n",
    "from sklearn.model_selection import train_test_split\n",
    "from sklearn.ensemble import RandomForestClassifier\n",
    "from sklearn.metrics import accuracy_score, classification_report\n",
    "from sklearn.linear_model import LogisticRegression\n",
    "from sklearn.tree import DecisionTreeClassifier\n",
    "import xgboost as xgb\n",
    "from pycaret.classification import*"
   ],
   "execution_count":38,
   "outputs":[],
   "metadata":{
    "datalore":{
     "node_id":"c1jB0TJVAev3ZbDlJOEBYX",
     "type":"CODE",
     "hide_input_from_viewers":true,
     "hide_output_from_viewers":true
    }
   }
  },
  {
   "cell_type":"code",
   "source":[
    "df = pd.read_csv(\"heart.csv\")"
   ],
   "execution_count":39,
   "outputs":[],
   "metadata":{
    "datalore":{
     "node_id":"ixG7kEiD83akATiFCaK5gj",
     "type":"CODE",
     "hide_input_from_viewers":true,
     "hide_output_from_viewers":true
    }
   }
  },
  {
   "cell_type":"code",
   "source":[
    "df.head() #Visualisation de la base de données"
   ],
   "execution_count":40,
   "outputs":[
    {
     "data":{
      "text\/html":[
       "<div>\n",
       "<style scoped>\n",
       "    .dataframe tbody tr th:only-of-type {\n",
       "        vertical-align: middle;\n",
       "    }\n",
       "\n",
       "    .dataframe tbody tr th {\n",
       "        vertical-align: top;\n",
       "    }\n",
       "\n",
       "    .dataframe thead th {\n",
       "        text-align: right;\n",
       "    }\n",
       "<\/style>\n",
       "<table border=\"1\" class=\"dataframe\">\n",
       "  <thead>\n",
       "    <tr style=\"text-align: right;\">\n",
       "      <th><\/th>\n",
       "      <th>age<\/th>\n",
       "      <th>sex<\/th>\n",
       "      <th>cp<\/th>\n",
       "      <th>trtbps<\/th>\n",
       "      <th>chol<\/th>\n",
       "      <th>fbs<\/th>\n",
       "      <th>restecg<\/th>\n",
       "      <th>thalachh<\/th>\n",
       "      <th>exng<\/th>\n",
       "      <th>oldpeak<\/th>\n",
       "      <th>slp<\/th>\n",
       "      <th>caa<\/th>\n",
       "      <th>thall<\/th>\n",
       "      <th>output<\/th>\n",
       "    <\/tr>\n",
       "  <\/thead>\n",
       "  <tbody>\n",
       "    <tr>\n",
       "      <th>0<\/th>\n",
       "      <td>63<\/td>\n",
       "      <td>1<\/td>\n",
       "      <td>3<\/td>\n",
       "      <td>145<\/td>\n",
       "      <td>233<\/td>\n",
       "      <td>1<\/td>\n",
       "      <td>0<\/td>\n",
       "      <td>150<\/td>\n",
       "      <td>0<\/td>\n",
       "      <td>2.3<\/td>\n",
       "      <td>0<\/td>\n",
       "      <td>0<\/td>\n",
       "      <td>1<\/td>\n",
       "      <td>1<\/td>\n",
       "    <\/tr>\n",
       "    <tr>\n",
       "      <th>1<\/th>\n",
       "      <td>37<\/td>\n",
       "      <td>1<\/td>\n",
       "      <td>2<\/td>\n",
       "      <td>130<\/td>\n",
       "      <td>250<\/td>\n",
       "      <td>0<\/td>\n",
       "      <td>1<\/td>\n",
       "      <td>187<\/td>\n",
       "      <td>0<\/td>\n",
       "      <td>3.5<\/td>\n",
       "      <td>0<\/td>\n",
       "      <td>0<\/td>\n",
       "      <td>2<\/td>\n",
       "      <td>1<\/td>\n",
       "    <\/tr>\n",
       "    <tr>\n",
       "      <th>2<\/th>\n",
       "      <td>41<\/td>\n",
       "      <td>0<\/td>\n",
       "      <td>1<\/td>\n",
       "      <td>130<\/td>\n",
       "      <td>204<\/td>\n",
       "      <td>0<\/td>\n",
       "      <td>0<\/td>\n",
       "      <td>172<\/td>\n",
       "      <td>0<\/td>\n",
       "      <td>1.4<\/td>\n",
       "      <td>2<\/td>\n",
       "      <td>0<\/td>\n",
       "      <td>2<\/td>\n",
       "      <td>1<\/td>\n",
       "    <\/tr>\n",
       "    <tr>\n",
       "      <th>3<\/th>\n",
       "      <td>56<\/td>\n",
       "      <td>1<\/td>\n",
       "      <td>1<\/td>\n",
       "      <td>120<\/td>\n",
       "      <td>236<\/td>\n",
       "      <td>0<\/td>\n",
       "      <td>1<\/td>\n",
       "      <td>178<\/td>\n",
       "      <td>0<\/td>\n",
       "      <td>0.8<\/td>\n",
       "      <td>2<\/td>\n",
       "      <td>0<\/td>\n",
       "      <td>2<\/td>\n",
       "      <td>1<\/td>\n",
       "    <\/tr>\n",
       "    <tr>\n",
       "      <th>4<\/th>\n",
       "      <td>57<\/td>\n",
       "      <td>0<\/td>\n",
       "      <td>0<\/td>\n",
       "      <td>120<\/td>\n",
       "      <td>354<\/td>\n",
       "      <td>0<\/td>\n",
       "      <td>1<\/td>\n",
       "      <td>163<\/td>\n",
       "      <td>1<\/td>\n",
       "      <td>0.6<\/td>\n",
       "      <td>2<\/td>\n",
       "      <td>0<\/td>\n",
       "      <td>2<\/td>\n",
       "      <td>1<\/td>\n",
       "    <\/tr>\n",
       "  <\/tbody>\n",
       "<\/table>\n",
       "<\/div>"
      ]
     },
     "metadata":{},
     "output_type":"display_data"
    }
   ],
   "metadata":{
    "datalore":{
     "node_id":"mWy7uRkaMjhUEV4asgsifK",
     "type":"CODE",
     "hide_input_from_viewers":true,
     "hide_output_from_viewers":true
    }
   }
  },
  {
   "cell_type":"code",
   "source":[
    "df.describe() #Description des données"
   ],
   "execution_count":41,
   "outputs":[
    {
     "data":{
      "text\/html":[
       "<div>\n",
       "<style scoped>\n",
       "    .dataframe tbody tr th:only-of-type {\n",
       "        vertical-align: middle;\n",
       "    }\n",
       "\n",
       "    .dataframe tbody tr th {\n",
       "        vertical-align: top;\n",
       "    }\n",
       "\n",
       "    .dataframe thead th {\n",
       "        text-align: right;\n",
       "    }\n",
       "<\/style>\n",
       "<table border=\"1\" class=\"dataframe\">\n",
       "  <thead>\n",
       "    <tr style=\"text-align: right;\">\n",
       "      <th><\/th>\n",
       "      <th>age<\/th>\n",
       "      <th>sex<\/th>\n",
       "      <th>cp<\/th>\n",
       "      <th>trtbps<\/th>\n",
       "      <th>chol<\/th>\n",
       "      <th>fbs<\/th>\n",
       "      <th>restecg<\/th>\n",
       "      <th>thalachh<\/th>\n",
       "      <th>exng<\/th>\n",
       "      <th>oldpeak<\/th>\n",
       "      <th>slp<\/th>\n",
       "      <th>caa<\/th>\n",
       "      <th>thall<\/th>\n",
       "      <th>output<\/th>\n",
       "    <\/tr>\n",
       "  <\/thead>\n",
       "  <tbody>\n",
       "    <tr>\n",
       "      <th>count<\/th>\n",
       "      <td>303.000000<\/td>\n",
       "      <td>303.000000<\/td>\n",
       "      <td>303.000000<\/td>\n",
       "      <td>303.000000<\/td>\n",
       "      <td>303.000000<\/td>\n",
       "      <td>303.000000<\/td>\n",
       "      <td>303.000000<\/td>\n",
       "      <td>303.000000<\/td>\n",
       "      <td>303.000000<\/td>\n",
       "      <td>303.000000<\/td>\n",
       "      <td>303.000000<\/td>\n",
       "      <td>303.000000<\/td>\n",
       "      <td>303.000000<\/td>\n",
       "      <td>303.000000<\/td>\n",
       "    <\/tr>\n",
       "    <tr>\n",
       "      <th>mean<\/th>\n",
       "      <td>54.366337<\/td>\n",
       "      <td>0.683168<\/td>\n",
       "      <td>0.966997<\/td>\n",
       "      <td>131.623762<\/td>\n",
       "      <td>246.264026<\/td>\n",
       "      <td>0.148515<\/td>\n",
       "      <td>0.528053<\/td>\n",
       "      <td>149.646865<\/td>\n",
       "      <td>0.326733<\/td>\n",
       "      <td>1.039604<\/td>\n",
       "      <td>1.399340<\/td>\n",
       "      <td>0.729373<\/td>\n",
       "      <td>2.313531<\/td>\n",
       "      <td>0.544554<\/td>\n",
       "    <\/tr>\n",
       "    <tr>\n",
       "      <th>std<\/th>\n",
       "      <td>9.082101<\/td>\n",
       "      <td>0.466011<\/td>\n",
       "      <td>1.032052<\/td>\n",
       "      <td>17.538143<\/td>\n",
       "      <td>51.830751<\/td>\n",
       "      <td>0.356198<\/td>\n",
       "      <td>0.525860<\/td>\n",
       "      <td>22.905161<\/td>\n",
       "      <td>0.469794<\/td>\n",
       "      <td>1.161075<\/td>\n",
       "      <td>0.616226<\/td>\n",
       "      <td>1.022606<\/td>\n",
       "      <td>0.612277<\/td>\n",
       "      <td>0.498835<\/td>\n",
       "    <\/tr>\n",
       "    <tr>\n",
       "      <th>min<\/th>\n",
       "      <td>29.000000<\/td>\n",
       "      <td>0.000000<\/td>\n",
       "      <td>0.000000<\/td>\n",
       "      <td>94.000000<\/td>\n",
       "      <td>126.000000<\/td>\n",
       "      <td>0.000000<\/td>\n",
       "      <td>0.000000<\/td>\n",
       "      <td>71.000000<\/td>\n",
       "      <td>0.000000<\/td>\n",
       "      <td>0.000000<\/td>\n",
       "      <td>0.000000<\/td>\n",
       "      <td>0.000000<\/td>\n",
       "      <td>0.000000<\/td>\n",
       "      <td>0.000000<\/td>\n",
       "    <\/tr>\n",
       "    <tr>\n",
       "      <th>25%<\/th>\n",
       "      <td>47.500000<\/td>\n",
       "      <td>0.000000<\/td>\n",
       "      <td>0.000000<\/td>\n",
       "      <td>120.000000<\/td>\n",
       "      <td>211.000000<\/td>\n",
       "      <td>0.000000<\/td>\n",
       "      <td>0.000000<\/td>\n",
       "      <td>133.500000<\/td>\n",
       "      <td>0.000000<\/td>\n",
       "      <td>0.000000<\/td>\n",
       "      <td>1.000000<\/td>\n",
       "      <td>0.000000<\/td>\n",
       "      <td>2.000000<\/td>\n",
       "      <td>0.000000<\/td>\n",
       "    <\/tr>\n",
       "    <tr>\n",
       "      <th>50%<\/th>\n",
       "      <td>55.000000<\/td>\n",
       "      <td>1.000000<\/td>\n",
       "      <td>1.000000<\/td>\n",
       "      <td>130.000000<\/td>\n",
       "      <td>240.000000<\/td>\n",
       "      <td>0.000000<\/td>\n",
       "      <td>1.000000<\/td>\n",
       "      <td>153.000000<\/td>\n",
       "      <td>0.000000<\/td>\n",
       "      <td>0.800000<\/td>\n",
       "      <td>1.000000<\/td>\n",
       "      <td>0.000000<\/td>\n",
       "      <td>2.000000<\/td>\n",
       "      <td>1.000000<\/td>\n",
       "    <\/tr>\n",
       "    <tr>\n",
       "      <th>75%<\/th>\n",
       "      <td>61.000000<\/td>\n",
       "      <td>1.000000<\/td>\n",
       "      <td>2.000000<\/td>\n",
       "      <td>140.000000<\/td>\n",
       "      <td>274.500000<\/td>\n",
       "      <td>0.000000<\/td>\n",
       "      <td>1.000000<\/td>\n",
       "      <td>166.000000<\/td>\n",
       "      <td>1.000000<\/td>\n",
       "      <td>1.600000<\/td>\n",
       "      <td>2.000000<\/td>\n",
       "      <td>1.000000<\/td>\n",
       "      <td>3.000000<\/td>\n",
       "      <td>1.000000<\/td>\n",
       "    <\/tr>\n",
       "    <tr>\n",
       "      <th>max<\/th>\n",
       "      <td>77.000000<\/td>\n",
       "      <td>1.000000<\/td>\n",
       "      <td>3.000000<\/td>\n",
       "      <td>200.000000<\/td>\n",
       "      <td>564.000000<\/td>\n",
       "      <td>1.000000<\/td>\n",
       "      <td>2.000000<\/td>\n",
       "      <td>202.000000<\/td>\n",
       "      <td>1.000000<\/td>\n",
       "      <td>6.200000<\/td>\n",
       "      <td>2.000000<\/td>\n",
       "      <td>4.000000<\/td>\n",
       "      <td>3.000000<\/td>\n",
       "      <td>1.000000<\/td>\n",
       "    <\/tr>\n",
       "  <\/tbody>\n",
       "<\/table>\n",
       "<\/div>"
      ]
     },
     "metadata":{},
     "output_type":"display_data"
    }
   ],
   "metadata":{
    "datalore":{
     "node_id":"hFFrgG8oPROsyP78T4IMmC",
     "type":"CODE",
     "hide_input_from_viewers":true,
     "hide_output_from_viewers":true
    }
   }
  },
  {
   "cell_type":"code",
   "source":[
    "df.info() #Pour connaitre le nombre de valeurs non nul et le types de valeurs"
   ],
   "execution_count":42,
   "outputs":[
    {
     "name":"stdout",
     "text":[
      "<class 'pandas.core.frame.DataFrame'>\n",
      "RangeIndex: 303 entries, 0 to 302\n",
      "Data columns (total 14 columns):\n",
      " #   Column    Non-Null Count  Dtype  \n",
      "---  ------    --------------  -----  \n",
      " 0   age       303 non-null    int64  \n",
      " 1   sex       303 non-null    int64  \n",
      " 2   cp        303 non-null    int64  \n",
      " 3   trtbps    303 non-null    int64  \n",
      " 4   chol      303 non-null    int64  \n",
      " 5   fbs       303 non-null    int64  \n",
      " 6   restecg   303 non-null    int64  \n",
      " 7   thalachh  303 non-null    int64  \n",
      " 8   exng      303 non-null    int64  \n",
      " 9   oldpeak   303 non-null    float64\n",
      " 10  slp       303 non-null    int64  \n",
      " 11  caa       303 non-null    int64  \n",
      " 12  thall     303 non-null    int64  \n",
      " 13  output    303 non-null    int64  \n",
      "dtypes: float64(1), int64(13)\n",
      "memory usage: 33.3 KB\n"
     ],
     "output_type":"stream"
    }
   ],
   "metadata":{
    "datalore":{
     "node_id":"uGdDhaIvm3axN5z1twyyhr",
     "type":"CODE",
     "hide_input_from_viewers":true,
     "hide_output_from_viewers":true
    }
   }
  },
  {
   "cell_type":"code",
   "source":[
    "df.shape #connaitre la taille des données"
   ],
   "execution_count":43,
   "outputs":[
    {
     "data":{
      "text\/plain":[
       "(303, 14)"
      ]
     },
     "metadata":{},
     "output_type":"display_data"
    }
   ],
   "metadata":{
    "datalore":{
     "node_id":"CIk0yMH1gImGcN4ejOieL0",
     "type":"CODE",
     "hide_input_from_viewers":true,
     "hide_output_from_viewers":true
    }
   }
  },
  {
   "cell_type":"code",
   "source":[
    "df.sex.value_counts()\n",
    "\n",
    "#Les données sont déséquilibrées pour le sexe"
   ],
   "execution_count":44,
   "outputs":[
    {
     "data":{
      "text\/html":[
       "<pre>1    207\n",
       "0     96\n",
       "Name: sex, dtype: int64<\/pre>"
      ]
     },
     "metadata":{},
     "output_type":"display_data"
    }
   ],
   "metadata":{
    "datalore":{
     "node_id":"3sgyRT5VLnbmEXDCrlR37c",
     "type":"CODE",
     "hide_input_from_viewers":true,
     "hide_output_from_viewers":true
    }
   }
  },
  {
   "cell_type":"code",
   "source":[
    "df.columns\n",
    "\n",
    "#Age : Age of the patient\n",
    "#Sex : Sex of the patient\n",
    "#exang: exercise induced angina (1 = yes; 0 = no)\n",
    "#ca: number of major vessels (0-3)\n",
    "#cp : Chest Pain type chest pain type\n",
    "#Value 1: typical angina\n",
    "    #Value 2: atypical angina\n",
    "    #Value 3: non-anginal pain\n",
    "    #Value 4: asymptomatic\n",
    "#trtbps : resting blood pressure (in mm Hg)\n",
    "#chol : cholestoral in mg\/dl fetched via BMI sensor\n",
    "#fbs : (fasting blood sugar > 120 mg\/dl) (1 = true; 0 = false)\n",
    "#rest_ecg : resting electrocardiographic results\n",
    "    #Value 0: normal\n",
    "    #Value 1: having ST-T wave abnormality (T wave inversions and\/or ST elevation or depression of > 0.05 mV)\n",
    "    #Value 2: showing probable or definite left ventricular hypertrophy by Estes' criteria\n",
    "#thalach : maximum heart rate achieved\n",
    "#target : 0= less chance of heart attack 1= more chance of heart attack"
   ],
   "execution_count":45,
   "outputs":[
    {
     "data":{
      "text\/plain":[
       "Index(['age', 'sex', 'cp', 'trtbps', 'chol', 'fbs', 'restecg', 'thalachh',\n",
       "       'exng', 'oldpeak', 'slp', 'caa', 'thall', 'output'],\n",
       "      dtype='object')"
      ]
     },
     "metadata":{},
     "output_type":"display_data"
    }
   ],
   "metadata":{
    "datalore":{
     "node_id":"3daf1nWiOhDublFr8sjaMO",
     "type":"CODE",
     "hide_input_from_viewers":true,
     "hide_output_from_viewers":true
    }
   }
  },
  {
   "cell_type":"code",
   "source":[
    "#Connaissance de la manière dont les données vont ensemble\n",
    "\n",
    "corr=df.corr().round(3)\n",
    "\n",
    "sns.set(font_scale=1.15)\n",
    "plt.figure(figsize=(20, 20))\n",
    "sns.set_palette(\"bright\")\n",
    "sns.set_style(\"white\")\n",
    "mask = np.zeros_like(corr)\n",
    "mask[np.triu_indices_from(mask)] = True\n",
    "sns.heatmap(corr,annot=True,cmap='Blues_r',mask=mask,cbar=True)\n",
    "plt.title('Correlation Plot')"
   ],
   "execution_count":46,
   "outputs":[
    {
     "data":{
      "text\/plain":[
       "Text(0.5, 1.0, 'Correlation Plot')"
      ]
     },
     "metadata":{},
     "output_type":"display_data"
    },
    {
     "data":{
      "image\/png":"[encoded data removed]"
     },
     "metadata":{
      "image\/png":{}
     },
     "output_type":"display_data"
    }
   ],
   "metadata":{
    "datalore":{
     "node_id":"9QAvRVt26pb5FbIAmjIHRc",
     "type":"CODE",
     "hide_input_from_viewers":true,
     "hide_output_from_viewers":true
    }
   }
  },
  {
   "cell_type":"code",
   "source":[
    "sns.countplot(x = \"output\", data = df) #Connaître le nombre d'outputs"
   ],
   "execution_count":47,
   "outputs":[
    {
     "data":{
      "text\/plain":[
       "<Axes: xlabel='output', ylabel='count'>"
      ]
     },
     "metadata":{},
     "output_type":"display_data"
    },
    {
     "data":{
      "image\/png":"[encoded data removed]"
     },
     "metadata":{
      "image\/png":{}
     },
     "output_type":"display_data"
    }
   ],
   "metadata":{
    "datalore":{
     "node_id":"uE1TdDEsYJoYjKIJZ8oSk2",
     "type":"CODE",
     "hide_input_from_viewers":true,
     "hide_output_from_viewers":true
    }
   }
  },
  {
   "cell_type":"code",
   "source":[
    "sns.countplot(x = \"sex\", data = df) #Avoir une réprésentation visuel du déséquilibre entre le genre"
   ],
   "execution_count":48,
   "outputs":[
    {
     "data":{
      "text\/plain":[
       "<Axes: xlabel='sex', ylabel='count'>"
      ]
     },
     "metadata":{},
     "output_type":"display_data"
    },
    {
     "data":{
      "image\/png":"[encoded data removed]"
     },
     "metadata":{
      "image\/png":{}
     },
     "output_type":"display_data"
    }
   ],
   "metadata":{
    "datalore":{
     "node_id":"QyT9mdLKEM2NQn6idQBv2N",
     "type":"CODE",
     "hide_input_from_viewers":true,
     "hide_output_from_viewers":true
    }
   }
  },
  {
   "cell_type":"code",
   "source":[
    "#Division des données d'entraînement et de test\n",
    "\n",
    "X = df.drop(\"output\", axis=1)\n",
    "y = df[\"output\"]\n",
    "X_train, X_test, y_train, y_test = train_test_split(X, y, test_size=0.2, random_state=42)"
   ],
   "execution_count":49,
   "outputs":[],
   "metadata":{
    "datalore":{
     "node_id":"q3EtBOSrpuwZGYbXNJEHe2",
     "type":"CODE",
     "hide_input_from_viewers":true,
     "hide_output_from_viewers":true
    }
   }
  },
  {
   "cell_type":"code",
   "source":[
    "#Utilisation du modèle RandomForest\n",
    "model = RandomForestClassifier()"
   ],
   "execution_count":50,
   "outputs":[],
   "metadata":{
    "datalore":{
     "node_id":"mCsDUN1GCZE5LyNS8CQmaX",
     "type":"CODE",
     "hide_input_from_viewers":true,
     "hide_output_from_viewers":true
    }
   }
  },
  {
   "cell_type":"code",
   "source":[
    "#Entraînement du modèle\n",
    "model.fit(X_train, y_train)"
   ],
   "execution_count":51,
   "outputs":[
    {
     "data":{
      "text\/html":[
       "<style>#sk-container-id-6 {color: black;background-color: white;}#sk-container-id-6 pre{padding: 0;}#sk-container-id-6 div.sk-toggleable {background-color: white;}#sk-container-id-6 label.sk-toggleable__label {cursor: pointer;display: block;width: 100%;margin-bottom: 0;padding: 0.3em;box-sizing: border-box;text-align: center;}#sk-container-id-6 label.sk-toggleable__label-arrow:before {content: \"▸\";float: left;margin-right: 0.25em;color: #696969;}#sk-container-id-6 label.sk-toggleable__label-arrow:hover:before {color: black;}#sk-container-id-6 div.sk-estimator:hover label.sk-toggleable__label-arrow:before {color: black;}#sk-container-id-6 div.sk-toggleable__content {max-height: 0;max-width: 0;overflow: hidden;text-align: left;background-color: #f0f8ff;}#sk-container-id-6 div.sk-toggleable__content pre {margin: 0.2em;color: black;border-radius: 0.25em;background-color: #f0f8ff;}#sk-container-id-6 input.sk-toggleable__control:checked~div.sk-toggleable__content {max-height: 200px;max-width: 100%;overflow: auto;}#sk-container-id-6 input.sk-toggleable__control:checked~label.sk-toggleable__label-arrow:before {content: \"▾\";}#sk-container-id-6 div.sk-estimator input.sk-toggleable__control:checked~label.sk-toggleable__label {background-color: #d4ebff;}#sk-container-id-6 div.sk-label input.sk-toggleable__control:checked~label.sk-toggleable__label {background-color: #d4ebff;}#sk-container-id-6 input.sk-hidden--visually {border: 0;clip: rect(1px 1px 1px 1px);clip: rect(1px, 1px, 1px, 1px);height: 1px;margin: -1px;overflow: hidden;padding: 0;position: absolute;width: 1px;}#sk-container-id-6 div.sk-estimator {font-family: monospace;background-color: #f0f8ff;border: 1px dotted black;border-radius: 0.25em;box-sizing: border-box;margin-bottom: 0.5em;}#sk-container-id-6 div.sk-estimator:hover {background-color: #d4ebff;}#sk-container-id-6 div.sk-parallel-item::after {content: \"\";width: 100%;border-bottom: 1px solid gray;flex-grow: 1;}#sk-container-id-6 div.sk-label:hover label.sk-toggleable__label {background-color: #d4ebff;}#sk-container-id-6 div.sk-serial::before {content: \"\";position: absolute;border-left: 1px solid gray;box-sizing: border-box;top: 0;bottom: 0;left: 50%;z-index: 0;}#sk-container-id-6 div.sk-serial {display: flex;flex-direction: column;align-items: center;background-color: white;padding-right: 0.2em;padding-left: 0.2em;position: relative;}#sk-container-id-6 div.sk-item {position: relative;z-index: 1;}#sk-container-id-6 div.sk-parallel {display: flex;align-items: stretch;justify-content: center;background-color: white;position: relative;}#sk-container-id-6 div.sk-item::before, #sk-container-id-6 div.sk-parallel-item::before {content: \"\";position: absolute;border-left: 1px solid gray;box-sizing: border-box;top: 0;bottom: 0;left: 50%;z-index: -1;}#sk-container-id-6 div.sk-parallel-item {display: flex;flex-direction: column;z-index: 1;position: relative;background-color: white;}#sk-container-id-6 div.sk-parallel-item:first-child::after {align-self: flex-end;width: 50%;}#sk-container-id-6 div.sk-parallel-item:last-child::after {align-self: flex-start;width: 50%;}#sk-container-id-6 div.sk-parallel-item:only-child::after {width: 0;}#sk-container-id-6 div.sk-dashed-wrapped {border: 1px dashed gray;margin: 0 0.4em 0.5em 0.4em;box-sizing: border-box;padding-bottom: 0.4em;background-color: white;}#sk-container-id-6 div.sk-label label {font-family: monospace;font-weight: bold;display: inline-block;line-height: 1.2em;}#sk-container-id-6 div.sk-label-container {text-align: center;}#sk-container-id-6 div.sk-container {\/* jupyter's `normalize.less` sets `[hidden] { display: none; }` but bootstrap.min.css set `[hidden] { display: none !important; }` so we also need the `!important` here to be able to override the default hidden behavior on the sphinx rendered scikit-learn.org. See: https:\/\/github.com\/scikit-learn\/scikit-learn\/issues\/21755 *\/display: inline-block !important;position: relative;}#sk-container-id-6 div.sk-text-repr-fallback {display: none;}<\/style><div id=\"sk-container-id-6\" class=\"sk-top-container\"><div class=\"sk-text-repr-fallback\"><pre>RandomForestClassifier(bootstrap=True, ccp_alpha=0.0, class_weight=None,\n",
       "                       criterion=&#x27;gini&#x27;, max_depth=None, max_features=&#x27;sqrt&#x27;,\n",
       "                       max_leaf_nodes=None, max_samples=None,\n",
       "                       min_impurity_decrease=0.0, min_samples_leaf=1,\n",
       "                       min_samples_split=2, min_weight_fraction_leaf=0.0,\n",
       "                       n_estimators=100, n_jobs=None, oob_score=False,\n",
       "                       random_state=None, verbose=0, warm_start=False)<\/pre><b>In a Jupyter environment, please rerun this cell to show the HTML representation or trust the notebook. <br \/>On GitHub, the HTML representation is unable to render, please try loading this page with nbviewer.org.<\/b><\/div><div class=\"sk-container\" hidden><div class=\"sk-item\"><div class=\"sk-estimator sk-toggleable\"><input class=\"sk-toggleable__control sk-hidden--visually\" id=\"sk-estimator-id-6\" type=\"checkbox\" checked><label for=\"sk-estimator-id-6\" class=\"sk-toggleable__label sk-toggleable__label-arrow\">RandomForestClassifier<\/label><div class=\"sk-toggleable__content\"><pre>RandomForestClassifier(bootstrap=True, ccp_alpha=0.0, class_weight=None,\n",
       "                       criterion=&#x27;gini&#x27;, max_depth=None, max_features=&#x27;sqrt&#x27;,\n",
       "                       max_leaf_nodes=None, max_samples=None,\n",
       "                       min_impurity_decrease=0.0, min_samples_leaf=1,\n",
       "                       min_samples_split=2, min_weight_fraction_leaf=0.0,\n",
       "                       n_estimators=100, n_jobs=None, oob_score=False,\n",
       "                       random_state=None, verbose=0, warm_start=False)<\/pre><\/div><\/div><\/div><\/div><\/div>"
      ]
     },
     "metadata":{},
     "output_type":"display_data"
    }
   ],
   "metadata":{
    "datalore":{
     "node_id":"Zp8JbVdoLBu3Iz0iASxIl1",
     "type":"CODE",
     "hide_input_from_viewers":true,
     "hide_output_from_viewers":true
    }
   }
  },
  {
   "cell_type":"code",
   "source":[
    "#Evaluation des performances du modèle\n",
    "y_pred = model.predict(X_test)\n",
    "accuracy = accuracy_score(y_test, y_pred)\n",
    "report = classification_report(y_test, y_pred)\n",
    "\n",
    "print(\"Précision du modèle :\", accuracy)\n",
    "print(\"Rapport de classification :\")\n",
    "print(report)"
   ],
   "execution_count":52,
   "outputs":[
    {
     "name":"stdout",
     "text":[
      "Précision du modèle : 0.8524590163934426\n",
      "Rapport de classification :\n",
      "              precision    recall  f1-score   support\n",
      "\n",
      "           0       0.86      0.83      0.84        29\n",
      "           1       0.85      0.88      0.86        32\n",
      "\n",
      "    accuracy                           0.85        61\n",
      "   macro avg       0.85      0.85      0.85        61\n",
      "weighted avg       0.85      0.85      0.85        61\n",
      "\n"
     ],
     "output_type":"stream"
    }
   ],
   "metadata":{
    "datalore":{
     "node_id":"sR9FQm6XEjLtVRtA7jWvyp",
     "type":"CODE",
     "hide_input_from_viewers":true,
     "hide_output_from_viewers":true
    }
   }
  },
  {
   "cell_type":"code",
   "source":[
    "#Essai du modèle sur de nouvelle donnés inconnues\n",
    "new_data = pd.DataFrame({\n",
    "    \"age\": [50],\n",
    "    \"sex\": [1],\n",
    "    \"cp\": [2],\n",
    "    \"trtbps\": [130],\n",
    "    \"chol\": [220],\n",
    "    \"fbs\": [125],\n",
    "    \"restecg\": [1],\n",
    "    \"thalachh\": [190],\n",
    "    \"exng\" : [0],\n",
    "    \"oldpeak\": [3.0],\n",
    "    \"slp\" : [2],\n",
    "    \"caa\": [2],\n",
    "    \"thall\": [2]\n",
    "})"
   ],
   "execution_count":53,
   "outputs":[],
   "metadata":{
    "datalore":{
     "node_id":"8Jzf2vuLw98jB7L8The5Ly",
     "type":"CODE",
     "hide_input_from_viewers":true,
     "hide_output_from_viewers":true
    }
   }
  },
  {
   "cell_type":"code",
   "source":[
    "new_predictions = model.predict(new_data)\n",
    "print(\"Prédictions pour de nouvelles données :\", new_predictions)"
   ],
   "execution_count":54,
   "outputs":[
    {
     "name":"stdout",
     "text":[
      "Prédictions pour de nouvelles données : [1]\n"
     ],
     "output_type":"stream"
    }
   ],
   "metadata":{
    "datalore":{
     "node_id":"5IV1jNGCS5DOHE5XKHdudK",
     "type":"CODE",
     "hide_input_from_viewers":true,
     "hide_output_from_viewers":true
    }
   }
  },
  {
   "cell_type":"code",
   "source":[
    "#Utilisation du modèle de regression logistique\n",
    "model = LogisticRegression(max_iter = 1000)"
   ],
   "execution_count":55,
   "outputs":[],
   "metadata":{
    "datalore":{
     "node_id":"2HeqqU7jBrlJPNGZ3VreyV",
     "type":"CODE",
     "hide_input_from_viewers":true,
     "hide_output_from_viewers":true
    }
   }
  },
  {
   "cell_type":"code",
   "source":[
    "#Entraînement du modèle\n",
    "model.fit(X_train, y_train)"
   ],
   "execution_count":56,
   "outputs":[
    {
     "data":{
      "text\/html":[
       "<style>#sk-container-id-7 {color: black;background-color: white;}#sk-container-id-7 pre{padding: 0;}#sk-container-id-7 div.sk-toggleable {background-color: white;}#sk-container-id-7 label.sk-toggleable__label {cursor: pointer;display: block;width: 100%;margin-bottom: 0;padding: 0.3em;box-sizing: border-box;text-align: center;}#sk-container-id-7 label.sk-toggleable__label-arrow:before {content: \"▸\";float: left;margin-right: 0.25em;color: #696969;}#sk-container-id-7 label.sk-toggleable__label-arrow:hover:before {color: black;}#sk-container-id-7 div.sk-estimator:hover label.sk-toggleable__label-arrow:before {color: black;}#sk-container-id-7 div.sk-toggleable__content {max-height: 0;max-width: 0;overflow: hidden;text-align: left;background-color: #f0f8ff;}#sk-container-id-7 div.sk-toggleable__content pre {margin: 0.2em;color: black;border-radius: 0.25em;background-color: #f0f8ff;}#sk-container-id-7 input.sk-toggleable__control:checked~div.sk-toggleable__content {max-height: 200px;max-width: 100%;overflow: auto;}#sk-container-id-7 input.sk-toggleable__control:checked~label.sk-toggleable__label-arrow:before {content: \"▾\";}#sk-container-id-7 div.sk-estimator input.sk-toggleable__control:checked~label.sk-toggleable__label {background-color: #d4ebff;}#sk-container-id-7 div.sk-label input.sk-toggleable__control:checked~label.sk-toggleable__label {background-color: #d4ebff;}#sk-container-id-7 input.sk-hidden--visually {border: 0;clip: rect(1px 1px 1px 1px);clip: rect(1px, 1px, 1px, 1px);height: 1px;margin: -1px;overflow: hidden;padding: 0;position: absolute;width: 1px;}#sk-container-id-7 div.sk-estimator {font-family: monospace;background-color: #f0f8ff;border: 1px dotted black;border-radius: 0.25em;box-sizing: border-box;margin-bottom: 0.5em;}#sk-container-id-7 div.sk-estimator:hover {background-color: #d4ebff;}#sk-container-id-7 div.sk-parallel-item::after {content: \"\";width: 100%;border-bottom: 1px solid gray;flex-grow: 1;}#sk-container-id-7 div.sk-label:hover label.sk-toggleable__label {background-color: #d4ebff;}#sk-container-id-7 div.sk-serial::before {content: \"\";position: absolute;border-left: 1px solid gray;box-sizing: border-box;top: 0;bottom: 0;left: 50%;z-index: 0;}#sk-container-id-7 div.sk-serial {display: flex;flex-direction: column;align-items: center;background-color: white;padding-right: 0.2em;padding-left: 0.2em;position: relative;}#sk-container-id-7 div.sk-item {position: relative;z-index: 1;}#sk-container-id-7 div.sk-parallel {display: flex;align-items: stretch;justify-content: center;background-color: white;position: relative;}#sk-container-id-7 div.sk-item::before, #sk-container-id-7 div.sk-parallel-item::before {content: \"\";position: absolute;border-left: 1px solid gray;box-sizing: border-box;top: 0;bottom: 0;left: 50%;z-index: -1;}#sk-container-id-7 div.sk-parallel-item {display: flex;flex-direction: column;z-index: 1;position: relative;background-color: white;}#sk-container-id-7 div.sk-parallel-item:first-child::after {align-self: flex-end;width: 50%;}#sk-container-id-7 div.sk-parallel-item:last-child::after {align-self: flex-start;width: 50%;}#sk-container-id-7 div.sk-parallel-item:only-child::after {width: 0;}#sk-container-id-7 div.sk-dashed-wrapped {border: 1px dashed gray;margin: 0 0.4em 0.5em 0.4em;box-sizing: border-box;padding-bottom: 0.4em;background-color: white;}#sk-container-id-7 div.sk-label label {font-family: monospace;font-weight: bold;display: inline-block;line-height: 1.2em;}#sk-container-id-7 div.sk-label-container {text-align: center;}#sk-container-id-7 div.sk-container {\/* jupyter's `normalize.less` sets `[hidden] { display: none; }` but bootstrap.min.css set `[hidden] { display: none !important; }` so we also need the `!important` here to be able to override the default hidden behavior on the sphinx rendered scikit-learn.org. See: https:\/\/github.com\/scikit-learn\/scikit-learn\/issues\/21755 *\/display: inline-block !important;position: relative;}#sk-container-id-7 div.sk-text-repr-fallback {display: none;}<\/style><div id=\"sk-container-id-7\" class=\"sk-top-container\"><div class=\"sk-text-repr-fallback\"><pre>LogisticRegression(C=1.0, class_weight=None, dual=False, fit_intercept=True,\n",
       "                   intercept_scaling=1, l1_ratio=None, max_iter=1000,\n",
       "                   multi_class=&#x27;auto&#x27;, n_jobs=None, penalty=&#x27;l2&#x27;,\n",
       "                   random_state=None, solver=&#x27;lbfgs&#x27;, tol=0.0001, verbose=0,\n",
       "                   warm_start=False)<\/pre><b>In a Jupyter environment, please rerun this cell to show the HTML representation or trust the notebook. <br \/>On GitHub, the HTML representation is unable to render, please try loading this page with nbviewer.org.<\/b><\/div><div class=\"sk-container\" hidden><div class=\"sk-item\"><div class=\"sk-estimator sk-toggleable\"><input class=\"sk-toggleable__control sk-hidden--visually\" id=\"sk-estimator-id-7\" type=\"checkbox\" checked><label for=\"sk-estimator-id-7\" class=\"sk-toggleable__label sk-toggleable__label-arrow\">LogisticRegression<\/label><div class=\"sk-toggleable__content\"><pre>LogisticRegression(C=1.0, class_weight=None, dual=False, fit_intercept=True,\n",
       "                   intercept_scaling=1, l1_ratio=None, max_iter=1000,\n",
       "                   multi_class=&#x27;auto&#x27;, n_jobs=None, penalty=&#x27;l2&#x27;,\n",
       "                   random_state=None, solver=&#x27;lbfgs&#x27;, tol=0.0001, verbose=0,\n",
       "                   warm_start=False)<\/pre><\/div><\/div><\/div><\/div><\/div>"
      ]
     },
     "metadata":{},
     "output_type":"display_data"
    }
   ],
   "metadata":{
    "datalore":{
     "node_id":"KrAW2icEOIMMb1SIpY8L20",
     "type":"CODE",
     "hide_input_from_viewers":true,
     "hide_output_from_viewers":true
    }
   }
  },
  {
   "cell_type":"code",
   "source":[
    "#Evaluation des performances du modèle\n",
    "y_pred = model.predict(X_test)\n",
    "accuracy = accuracy_score(y_test, y_pred)\n",
    "report = classification_report(y_test, y_pred)\n",
    "\n",
    "print(\"Précision du modèle :\", accuracy)\n",
    "print(\"Rapport de classification :\")\n",
    "print(report)"
   ],
   "execution_count":57,
   "outputs":[
    {
     "name":"stdout",
     "text":[
      "Précision du modèle : 0.8852459016393442\n",
      "Rapport de classification :\n",
      "              precision    recall  f1-score   support\n",
      "\n",
      "           0       0.89      0.86      0.88        29\n",
      "           1       0.88      0.91      0.89        32\n",
      "\n",
      "    accuracy                           0.89        61\n",
      "   macro avg       0.89      0.88      0.88        61\n",
      "weighted avg       0.89      0.89      0.89        61\n",
      "\n"
     ],
     "output_type":"stream"
    }
   ],
   "metadata":{
    "datalore":{
     "node_id":"dzMLNSnjFcU9u0oVGk5hEG",
     "type":"CODE",
     "hide_input_from_viewers":true,
     "hide_output_from_viewers":true
    }
   }
  },
  {
   "cell_type":"code",
   "source":[
    "#Prédictions sur de nouvelles données\n",
    "new_predictions = model.predict(new_data)\n",
    "print(\"Prédictions pour de nouvelles données :\", new_predictions)"
   ],
   "execution_count":58,
   "outputs":[
    {
     "name":"stdout",
     "text":[
      "Prédictions pour de nouvelles données : [1]\n"
     ],
     "output_type":"stream"
    }
   ],
   "metadata":{
    "datalore":{
     "node_id":"4rJUNDHM6lOKCQepQwlSP7",
     "type":"CODE",
     "hide_input_from_viewers":true,
     "hide_output_from_viewers":true
    }
   }
  },
  {
   "cell_type":"code",
   "source":[
    "#Installation de la bibliothèque xgboost\n",
    "pip install xgboost"
   ],
   "execution_count":61,
   "outputs":[
    {
     "ename":"SyntaxError",
     "evalue":"SyntaxError: invalid syntax",
     "traceback":[
      "\u001b[0;31m---------------------------------------------------------------------------",
      "Traceback (most recent call last)",
      "SyntaxError: invalid syntax"
     ],
     "output_type":"error"
    }
   ],
   "metadata":{
    "datalore":{
     "node_id":"9VEBcamD2DVY5SMJmiF3i8",
     "type":"CODE",
     "hide_input_from_viewers":true,
     "hide_output_from_viewers":true
    }
   }
  },
  {
   "cell_type":"code",
   "source":[
    "#Création et entraînement du modèle XGBoost\n",
    "model = xgb.XGBClassifier()\n",
    "model.fit(X_train, y_train)"
   ],
   "execution_count":62,
   "outputs":[
    {
     "data":{
      "text\/html":[
       "<style>#sk-container-id-8 {color: black;background-color: white;}#sk-container-id-8 pre{padding: 0;}#sk-container-id-8 div.sk-toggleable {background-color: white;}#sk-container-id-8 label.sk-toggleable__label {cursor: pointer;display: block;width: 100%;margin-bottom: 0;padding: 0.3em;box-sizing: border-box;text-align: center;}#sk-container-id-8 label.sk-toggleable__label-arrow:before {content: \"▸\";float: left;margin-right: 0.25em;color: #696969;}#sk-container-id-8 label.sk-toggleable__label-arrow:hover:before {color: black;}#sk-container-id-8 div.sk-estimator:hover label.sk-toggleable__label-arrow:before {color: black;}#sk-container-id-8 div.sk-toggleable__content {max-height: 0;max-width: 0;overflow: hidden;text-align: left;background-color: #f0f8ff;}#sk-container-id-8 div.sk-toggleable__content pre {margin: 0.2em;color: black;border-radius: 0.25em;background-color: #f0f8ff;}#sk-container-id-8 input.sk-toggleable__control:checked~div.sk-toggleable__content {max-height: 200px;max-width: 100%;overflow: auto;}#sk-container-id-8 input.sk-toggleable__control:checked~label.sk-toggleable__label-arrow:before {content: \"▾\";}#sk-container-id-8 div.sk-estimator input.sk-toggleable__control:checked~label.sk-toggleable__label {background-color: #d4ebff;}#sk-container-id-8 div.sk-label input.sk-toggleable__control:checked~label.sk-toggleable__label {background-color: #d4ebff;}#sk-container-id-8 input.sk-hidden--visually {border: 0;clip: rect(1px 1px 1px 1px);clip: rect(1px, 1px, 1px, 1px);height: 1px;margin: -1px;overflow: hidden;padding: 0;position: absolute;width: 1px;}#sk-container-id-8 div.sk-estimator {font-family: monospace;background-color: #f0f8ff;border: 1px dotted black;border-radius: 0.25em;box-sizing: border-box;margin-bottom: 0.5em;}#sk-container-id-8 div.sk-estimator:hover {background-color: #d4ebff;}#sk-container-id-8 div.sk-parallel-item::after {content: \"\";width: 100%;border-bottom: 1px solid gray;flex-grow: 1;}#sk-container-id-8 div.sk-label:hover label.sk-toggleable__label {background-color: #d4ebff;}#sk-container-id-8 div.sk-serial::before {content: \"\";position: absolute;border-left: 1px solid gray;box-sizing: border-box;top: 0;bottom: 0;left: 50%;z-index: 0;}#sk-container-id-8 div.sk-serial {display: flex;flex-direction: column;align-items: center;background-color: white;padding-right: 0.2em;padding-left: 0.2em;position: relative;}#sk-container-id-8 div.sk-item {position: relative;z-index: 1;}#sk-container-id-8 div.sk-parallel {display: flex;align-items: stretch;justify-content: center;background-color: white;position: relative;}#sk-container-id-8 div.sk-item::before, #sk-container-id-8 div.sk-parallel-item::before {content: \"\";position: absolute;border-left: 1px solid gray;box-sizing: border-box;top: 0;bottom: 0;left: 50%;z-index: -1;}#sk-container-id-8 div.sk-parallel-item {display: flex;flex-direction: column;z-index: 1;position: relative;background-color: white;}#sk-container-id-8 div.sk-parallel-item:first-child::after {align-self: flex-end;width: 50%;}#sk-container-id-8 div.sk-parallel-item:last-child::after {align-self: flex-start;width: 50%;}#sk-container-id-8 div.sk-parallel-item:only-child::after {width: 0;}#sk-container-id-8 div.sk-dashed-wrapped {border: 1px dashed gray;margin: 0 0.4em 0.5em 0.4em;box-sizing: border-box;padding-bottom: 0.4em;background-color: white;}#sk-container-id-8 div.sk-label label {font-family: monospace;font-weight: bold;display: inline-block;line-height: 1.2em;}#sk-container-id-8 div.sk-label-container {text-align: center;}#sk-container-id-8 div.sk-container {\/* jupyter's `normalize.less` sets `[hidden] { display: none; }` but bootstrap.min.css set `[hidden] { display: none !important; }` so we also need the `!important` here to be able to override the default hidden behavior on the sphinx rendered scikit-learn.org. See: https:\/\/github.com\/scikit-learn\/scikit-learn\/issues\/21755 *\/display: inline-block !important;position: relative;}#sk-container-id-8 div.sk-text-repr-fallback {display: none;}<\/style><div id=\"sk-container-id-8\" class=\"sk-top-container\"><div class=\"sk-text-repr-fallback\"><pre>XGBClassifier(base_score=None, booster=None, callbacks=None,\n",
       "              colsample_bylevel=None, colsample_bynode=None,\n",
       "              colsample_bytree=None, early_stopping_rounds=None,\n",
       "              enable_categorical=False, eval_metric=None, feature_types=None,\n",
       "              gamma=None, gpu_id=None, grow_policy=None, importance_type=None,\n",
       "              interaction_constraints=None, learning_rate=None, max_bin=None,\n",
       "              max_cat_threshold=None, max_cat_to_onehot=None,\n",
       "              max_delta_step=None, max_depth=None, max_leaves=None,\n",
       "              min_child_weight=None, missing=nan, monotone_constraints=None,\n",
       "              n_estimators=100, n_jobs=None, num_parallel_tree=None,\n",
       "              objective=&#x27;binary:logistic&#x27;, predictor=None, ...)<\/pre><b>In a Jupyter environment, please rerun this cell to show the HTML representation or trust the notebook. <br \/>On GitHub, the HTML representation is unable to render, please try loading this page with nbviewer.org.<\/b><\/div><div class=\"sk-container\" hidden><div class=\"sk-item\"><div class=\"sk-estimator sk-toggleable\"><input class=\"sk-toggleable__control sk-hidden--visually\" id=\"sk-estimator-id-8\" type=\"checkbox\" checked><label for=\"sk-estimator-id-8\" class=\"sk-toggleable__label sk-toggleable__label-arrow\">XGBClassifier<\/label><div class=\"sk-toggleable__content\"><pre>XGBClassifier(base_score=None, booster=None, callbacks=None,\n",
       "              colsample_bylevel=None, colsample_bynode=None,\n",
       "              colsample_bytree=None, early_stopping_rounds=None,\n",
       "              enable_categorical=False, eval_metric=None, feature_types=None,\n",
       "              gamma=None, gpu_id=None, grow_policy=None, importance_type=None,\n",
       "              interaction_constraints=None, learning_rate=None, max_bin=None,\n",
       "              max_cat_threshold=None, max_cat_to_onehot=None,\n",
       "              max_delta_step=None, max_depth=None, max_leaves=None,\n",
       "              min_child_weight=None, missing=nan, monotone_constraints=None,\n",
       "              n_estimators=100, n_jobs=None, num_parallel_tree=None,\n",
       "              objective=&#x27;binary:logistic&#x27;, predictor=None, ...)<\/pre><\/div><\/div><\/div><\/div><\/div>"
      ]
     },
     "metadata":{},
     "output_type":"display_data"
    }
   ],
   "metadata":{
    "datalore":{
     "node_id":"IPJDYSYyijnZUD4ukdsovB",
     "type":"CODE",
     "hide_input_from_viewers":true,
     "hide_output_from_viewers":true
    }
   }
  },
  {
   "cell_type":"code",
   "source":[
    "#Evaluation des performances du modèle\n",
    "y_pred = model.predict(X_test)\n",
    "accuracy = accuracy_score(y_test, y_pred)\n",
    "report = classification_report(y_test, y_pred)\n",
    "\n",
    "print(\"Précision du modèle :\", accuracy)\n",
    "print(\"Rapport de classification :\")\n",
    "\n",
    "print(report)"
   ],
   "execution_count":24,
   "outputs":[
    {
     "name":"stdout",
     "text":[
      "Précision du modèle : 0.819672131147541\n",
      "Rapport de classification :\n",
      "              precision    recall  f1-score   support\n",
      "\n",
      "           0       0.78      0.86      0.82        29\n",
      "           1       0.86      0.78      0.82        32\n",
      "\n",
      "    accuracy                           0.82        61\n",
      "   macro avg       0.82      0.82      0.82        61\n",
      "weighted avg       0.82      0.82      0.82        61\n",
      "\n"
     ],
     "output_type":"stream"
    }
   ],
   "metadata":{
    "datalore":{
     "node_id":"2Eum1CNbjqTGba7RyMt6K8",
     "type":"CODE",
     "hide_input_from_viewers":true,
     "hide_output_from_viewers":true
    }
   }
  },
  {
   "cell_type":"code",
   "source":[
    "#Installation de la bibliothèque pycaret\n",
    "pip install pycaret"
   ],
   "execution_count":37,
   "outputs":[
    {
     "ename":"SyntaxError",
     "evalue":"SyntaxError: invalid syntax",
     "traceback":[
      "\u001b[0;31m---------------------------------------------------------------------------",
      "Traceback (most recent call last)",
      "SyntaxError: invalid syntax"
     ],
     "output_type":"error"
    }
   ],
   "metadata":{
    "datalore":{
     "node_id":"mdAgdD3ngvQ0L8ECpm3r2y",
     "type":"CODE",
     "hide_input_from_viewers":true,
     "hide_output_from_viewers":true
    }
   }
  },
  {
   "cell_type":"code",
   "source":[
    "setup(df, target=\"output\") #Initialitiation de l'environnement\n",
    "top5 = compare_models() #Appelation de la fonction pour comparer les différents modèles"
   ],
   "execution_count":63,
   "outputs":[
    {
     "data":{
      "text\/html":[
       "<style type=\"text\/css\">\n",
       "#T_6d199_row8_col1 {\n",
       "  background-color: lightgreen;\n",
       "}\n",
       "<\/style>\n",
       "<table id=\"T_6d199\">\n",
       "  <thead>\n",
       "    <tr>\n",
       "      <th class=\"blank level0\" >&nbsp;<\/th>\n",
       "      <th id=\"T_6d199_level0_col0\" class=\"col_heading level0 col0\" >Description<\/th>\n",
       "      <th id=\"T_6d199_level0_col1\" class=\"col_heading level0 col1\" >Value<\/th>\n",
       "    <\/tr>\n",
       "  <\/thead>\n",
       "  <tbody>\n",
       "    <tr>\n",
       "      <th id=\"T_6d199_level0_row0\" class=\"row_heading level0 row0\" >0<\/th>\n",
       "      <td id=\"T_6d199_row0_col0\" class=\"data row0 col0\" >Session id<\/td>\n",
       "      <td id=\"T_6d199_row0_col1\" class=\"data row0 col1\" >4581<\/td>\n",
       "    <\/tr>\n",
       "    <tr>\n",
       "      <th id=\"T_6d199_level0_row1\" class=\"row_heading level0 row1\" >1<\/th>\n",
       "      <td id=\"T_6d199_row1_col0\" class=\"data row1 col0\" >Target<\/td>\n",
       "      <td id=\"T_6d199_row1_col1\" class=\"data row1 col1\" >output<\/td>\n",
       "    <\/tr>\n",
       "    <tr>\n",
       "      <th id=\"T_6d199_level0_row2\" class=\"row_heading level0 row2\" >2<\/th>\n",
       "      <td id=\"T_6d199_row2_col0\" class=\"data row2 col0\" >Target type<\/td>\n",
       "      <td id=\"T_6d199_row2_col1\" class=\"data row2 col1\" >Binary<\/td>\n",
       "    <\/tr>\n",
       "    <tr>\n",
       "      <th id=\"T_6d199_level0_row3\" class=\"row_heading level0 row3\" >3<\/th>\n",
       "      <td id=\"T_6d199_row3_col0\" class=\"data row3 col0\" >Original data shape<\/td>\n",
       "      <td id=\"T_6d199_row3_col1\" class=\"data row3 col1\" >(303, 14)<\/td>\n",
       "    <\/tr>\n",
       "    <tr>\n",
       "      <th id=\"T_6d199_level0_row4\" class=\"row_heading level0 row4\" >4<\/th>\n",
       "      <td id=\"T_6d199_row4_col0\" class=\"data row4 col0\" >Transformed data shape<\/td>\n",
       "      <td id=\"T_6d199_row4_col1\" class=\"data row4 col1\" >(303, 14)<\/td>\n",
       "    <\/tr>\n",
       "    <tr>\n",
       "      <th id=\"T_6d199_level0_row5\" class=\"row_heading level0 row5\" >5<\/th>\n",
       "      <td id=\"T_6d199_row5_col0\" class=\"data row5 col0\" >Transformed train set shape<\/td>\n",
       "      <td id=\"T_6d199_row5_col1\" class=\"data row5 col1\" >(212, 14)<\/td>\n",
       "    <\/tr>\n",
       "    <tr>\n",
       "      <th id=\"T_6d199_level0_row6\" class=\"row_heading level0 row6\" >6<\/th>\n",
       "      <td id=\"T_6d199_row6_col0\" class=\"data row6 col0\" >Transformed test set shape<\/td>\n",
       "      <td id=\"T_6d199_row6_col1\" class=\"data row6 col1\" >(91, 14)<\/td>\n",
       "    <\/tr>\n",
       "    <tr>\n",
       "      <th id=\"T_6d199_level0_row7\" class=\"row_heading level0 row7\" >7<\/th>\n",
       "      <td id=\"T_6d199_row7_col0\" class=\"data row7 col0\" >Numeric features<\/td>\n",
       "      <td id=\"T_6d199_row7_col1\" class=\"data row7 col1\" >13<\/td>\n",
       "    <\/tr>\n",
       "    <tr>\n",
       "      <th id=\"T_6d199_level0_row8\" class=\"row_heading level0 row8\" >8<\/th>\n",
       "      <td id=\"T_6d199_row8_col0\" class=\"data row8 col0\" >Preprocess<\/td>\n",
       "      <td id=\"T_6d199_row8_col1\" class=\"data row8 col1\" >True<\/td>\n",
       "    <\/tr>\n",
       "    <tr>\n",
       "      <th id=\"T_6d199_level0_row9\" class=\"row_heading level0 row9\" >9<\/th>\n",
       "      <td id=\"T_6d199_row9_col0\" class=\"data row9 col0\" >Imputation type<\/td>\n",
       "      <td id=\"T_6d199_row9_col1\" class=\"data row9 col1\" >simple<\/td>\n",
       "    <\/tr>\n",
       "    <tr>\n",
       "      <th id=\"T_6d199_level0_row10\" class=\"row_heading level0 row10\" >10<\/th>\n",
       "      <td id=\"T_6d199_row10_col0\" class=\"data row10 col0\" >Numeric imputation<\/td>\n",
       "      <td id=\"T_6d199_row10_col1\" class=\"data row10 col1\" >mean<\/td>\n",
       "    <\/tr>\n",
       "    <tr>\n",
       "      <th id=\"T_6d199_level0_row11\" class=\"row_heading level0 row11\" >11<\/th>\n",
       "      <td id=\"T_6d199_row11_col0\" class=\"data row11 col0\" >Categorical imputation<\/td>\n",
       "      <td id=\"T_6d199_row11_col1\" class=\"data row11 col1\" >mode<\/td>\n",
       "    <\/tr>\n",
       "    <tr>\n",
       "      <th id=\"T_6d199_level0_row12\" class=\"row_heading level0 row12\" >12<\/th>\n",
       "      <td id=\"T_6d199_row12_col0\" class=\"data row12 col0\" >Fold Generator<\/td>\n",
       "      <td id=\"T_6d199_row12_col1\" class=\"data row12 col1\" >StratifiedKFold<\/td>\n",
       "    <\/tr>\n",
       "    <tr>\n",
       "      <th id=\"T_6d199_level0_row13\" class=\"row_heading level0 row13\" >13<\/th>\n",
       "      <td id=\"T_6d199_row13_col0\" class=\"data row13 col0\" >Fold Number<\/td>\n",
       "      <td id=\"T_6d199_row13_col1\" class=\"data row13 col1\" >10<\/td>\n",
       "    <\/tr>\n",
       "    <tr>\n",
       "      <th id=\"T_6d199_level0_row14\" class=\"row_heading level0 row14\" >14<\/th>\n",
       "      <td id=\"T_6d199_row14_col0\" class=\"data row14 col0\" >CPU Jobs<\/td>\n",
       "      <td id=\"T_6d199_row14_col1\" class=\"data row14 col1\" >-1<\/td>\n",
       "    <\/tr>\n",
       "    <tr>\n",
       "      <th id=\"T_6d199_level0_row15\" class=\"row_heading level0 row15\" >15<\/th>\n",
       "      <td id=\"T_6d199_row15_col0\" class=\"data row15 col0\" >Use GPU<\/td>\n",
       "      <td id=\"T_6d199_row15_col1\" class=\"data row15 col1\" >False<\/td>\n",
       "    <\/tr>\n",
       "    <tr>\n",
       "      <th id=\"T_6d199_level0_row16\" class=\"row_heading level0 row16\" >16<\/th>\n",
       "      <td id=\"T_6d199_row16_col0\" class=\"data row16 col0\" >Log Experiment<\/td>\n",
       "      <td id=\"T_6d199_row16_col1\" class=\"data row16 col1\" >False<\/td>\n",
       "    <\/tr>\n",
       "    <tr>\n",
       "      <th id=\"T_6d199_level0_row17\" class=\"row_heading level0 row17\" >17<\/th>\n",
       "      <td id=\"T_6d199_row17_col0\" class=\"data row17 col0\" >Experiment Name<\/td>\n",
       "      <td id=\"T_6d199_row17_col1\" class=\"data row17 col1\" >clf-default-name<\/td>\n",
       "    <\/tr>\n",
       "    <tr>\n",
       "      <th id=\"T_6d199_level0_row18\" class=\"row_heading level0 row18\" >18<\/th>\n",
       "      <td id=\"T_6d199_row18_col0\" class=\"data row18 col0\" >USI<\/td>\n",
       "      <td id=\"T_6d199_row18_col1\" class=\"data row18 col1\" >b243<\/td>\n",
       "    <\/tr>\n",
       "  <\/tbody>\n",
       "<\/table>\n"
      ]
     },
     "metadata":{},
     "output_type":"display_data"
    },
    {
     "data":{
      "text\/html":[]
     },
     "metadata":{},
     "output_type":"display_data"
    },
    {
     "data":{
      "text\/html":[
       "<style type=\"text\/css\">\n",
       "#T_ce060 th {\n",
       "  text-align: left;\n",
       "}\n",
       "#T_ce060_row0_col0, #T_ce060_row0_col2, #T_ce060_row0_col3, #T_ce060_row0_col4, #T_ce060_row1_col0, #T_ce060_row1_col1, #T_ce060_row1_col3, #T_ce060_row1_col5, #T_ce060_row1_col6, #T_ce060_row1_col7, #T_ce060_row2_col0, #T_ce060_row2_col1, #T_ce060_row2_col2, #T_ce060_row2_col3, #T_ce060_row2_col4, #T_ce060_row2_col5, #T_ce060_row2_col6, #T_ce060_row2_col7, #T_ce060_row3_col0, #T_ce060_row3_col1, #T_ce060_row3_col2, #T_ce060_row3_col3, #T_ce060_row3_col4, #T_ce060_row3_col5, #T_ce060_row3_col6, #T_ce060_row3_col7, #T_ce060_row4_col0, #T_ce060_row4_col1, #T_ce060_row4_col2, #T_ce060_row4_col3, #T_ce060_row4_col4, #T_ce060_row4_col5, #T_ce060_row4_col6, #T_ce060_row4_col7, #T_ce060_row5_col0, #T_ce060_row5_col1, #T_ce060_row5_col2, #T_ce060_row5_col3, #T_ce060_row5_col4, #T_ce060_row5_col5, #T_ce060_row5_col6, #T_ce060_row5_col7, #T_ce060_row6_col0, #T_ce060_row6_col1, #T_ce060_row6_col2, #T_ce060_row6_col3, #T_ce060_row6_col4, #T_ce060_row6_col5, #T_ce060_row6_col6, #T_ce060_row6_col7, #T_ce060_row7_col0, #T_ce060_row7_col1, #T_ce060_row7_col2, #T_ce060_row7_col3, #T_ce060_row7_col4, #T_ce060_row7_col5, #T_ce060_row7_col6, #T_ce060_row7_col7, #T_ce060_row8_col0, #T_ce060_row8_col1, #T_ce060_row8_col2, #T_ce060_row8_col3, #T_ce060_row8_col4, #T_ce060_row8_col5, #T_ce060_row8_col6, #T_ce060_row8_col7, #T_ce060_row9_col0, #T_ce060_row9_col1, #T_ce060_row9_col2, #T_ce060_row9_col3, #T_ce060_row9_col4, #T_ce060_row9_col5, #T_ce060_row9_col6, #T_ce060_row9_col7, #T_ce060_row10_col0, #T_ce060_row10_col1, #T_ce060_row10_col2, #T_ce060_row10_col3, #T_ce060_row10_col4, #T_ce060_row10_col5, #T_ce060_row10_col6, #T_ce060_row10_col7, #T_ce060_row11_col0, #T_ce060_row11_col1, #T_ce060_row11_col2, #T_ce060_row11_col3, #T_ce060_row11_col4, #T_ce060_row11_col5, #T_ce060_row11_col6, #T_ce060_row11_col7, #T_ce060_row12_col0, #T_ce060_row12_col1, #T_ce060_row12_col2, #T_ce060_row12_col3, #T_ce060_row12_col4, #T_ce060_row12_col5, #T_ce060_row12_col6, #T_ce060_row12_col7, #T_ce060_row13_col0, #T_ce060_row13_col1, #T_ce060_row13_col2, #T_ce060_row13_col3, #T_ce060_row13_col4, #T_ce060_row13_col5, #T_ce060_row13_col6, #T_ce060_row13_col7, #T_ce060_row14_col0, #T_ce060_row14_col1, #T_ce060_row14_col2, #T_ce060_row14_col4, #T_ce060_row14_col5, #T_ce060_row14_col6, #T_ce060_row14_col7 {\n",
       "  text-align: left;\n",
       "}\n",
       "#T_ce060_row0_col1, #T_ce060_row0_col5, #T_ce060_row0_col6, #T_ce060_row0_col7, #T_ce060_row1_col2, #T_ce060_row1_col4, #T_ce060_row14_col3 {\n",
       "  text-align: left;\n",
       "  background-color: yellow;\n",
       "}\n",
       "#T_ce060_row0_col8, #T_ce060_row1_col8, #T_ce060_row3_col8, #T_ce060_row4_col8, #T_ce060_row5_col8, #T_ce060_row6_col8, #T_ce060_row7_col8, #T_ce060_row8_col8, #T_ce060_row9_col8, #T_ce060_row10_col8, #T_ce060_row11_col8, #T_ce060_row12_col8, #T_ce060_row13_col8, #T_ce060_row14_col8 {\n",
       "  text-align: left;\n",
       "  background-color: lightgrey;\n",
       "}\n",
       "#T_ce060_row2_col8 {\n",
       "  text-align: left;\n",
       "  background-color: yellow;\n",
       "  background-color: lightgrey;\n",
       "}\n",
       "<\/style>\n",
       "<table id=\"T_ce060\">\n",
       "  <thead>\n",
       "    <tr>\n",
       "      <th class=\"blank level0\" >&nbsp;<\/th>\n",
       "      <th id=\"T_ce060_level0_col0\" class=\"col_heading level0 col0\" >Model<\/th>\n",
       "      <th id=\"T_ce060_level0_col1\" class=\"col_heading level0 col1\" >Accuracy<\/th>\n",
       "      <th id=\"T_ce060_level0_col2\" class=\"col_heading level0 col2\" >AUC<\/th>\n",
       "      <th id=\"T_ce060_level0_col3\" class=\"col_heading level0 col3\" >Recall<\/th>\n",
       "      <th id=\"T_ce060_level0_col4\" class=\"col_heading level0 col4\" >Prec.<\/th>\n",
       "      <th id=\"T_ce060_level0_col5\" class=\"col_heading level0 col5\" >F1<\/th>\n",
       "      <th id=\"T_ce060_level0_col6\" class=\"col_heading level0 col6\" >Kappa<\/th>\n",
       "      <th id=\"T_ce060_level0_col7\" class=\"col_heading level0 col7\" >MCC<\/th>\n",
       "      <th id=\"T_ce060_level0_col8\" class=\"col_heading level0 col8\" >TT (Sec)<\/th>\n",
       "    <\/tr>\n",
       "  <\/thead>\n",
       "  <tbody>\n",
       "    <tr>\n",
       "      <th id=\"T_ce060_level0_row0\" class=\"row_heading level0 row0\" >rf<\/th>\n",
       "      <td id=\"T_ce060_row0_col0\" class=\"data row0 col0\" >Random Forest Classifier<\/td>\n",
       "      <td id=\"T_ce060_row0_col1\" class=\"data row0 col1\" >0.8489<\/td>\n",
       "      <td id=\"T_ce060_row0_col2\" class=\"data row0 col2\" >0.9114<\/td>\n",
       "      <td id=\"T_ce060_row0_col3\" class=\"data row0 col3\" >0.9030<\/td>\n",
       "      <td id=\"T_ce060_row0_col4\" class=\"data row0 col4\" >0.8391<\/td>\n",
       "      <td id=\"T_ce060_row0_col5\" class=\"data row0 col5\" >0.8657<\/td>\n",
       "      <td id=\"T_ce060_row0_col6\" class=\"data row0 col6\" >0.6922<\/td>\n",
       "      <td id=\"T_ce060_row0_col7\" class=\"data row0 col7\" >0.7026<\/td>\n",
       "      <td id=\"T_ce060_row0_col8\" class=\"data row0 col8\" >0.2480<\/td>\n",
       "    <\/tr>\n",
       "    <tr>\n",
       "      <th id=\"T_ce060_level0_row1\" class=\"row_heading level0 row1\" >et<\/th>\n",
       "      <td id=\"T_ce060_row1_col0\" class=\"data row1 col0\" >Extra Trees Classifier<\/td>\n",
       "      <td id=\"T_ce060_row1_col1\" class=\"data row1 col1\" >0.8439<\/td>\n",
       "      <td id=\"T_ce060_row1_col2\" class=\"data row1 col2\" >0.9143<\/td>\n",
       "      <td id=\"T_ce060_row1_col3\" class=\"data row1 col3\" >0.8492<\/td>\n",
       "      <td id=\"T_ce060_row1_col4\" class=\"data row1 col4\" >0.8648<\/td>\n",
       "      <td id=\"T_ce060_row1_col5\" class=\"data row1 col5\" >0.8529<\/td>\n",
       "      <td id=\"T_ce060_row1_col6\" class=\"data row1 col6\" >0.6847<\/td>\n",
       "      <td id=\"T_ce060_row1_col7\" class=\"data row1 col7\" >0.6917<\/td>\n",
       "      <td id=\"T_ce060_row1_col8\" class=\"data row1 col8\" >0.1870<\/td>\n",
       "    <\/tr>\n",
       "    <tr>\n",
       "      <th id=\"T_ce060_level0_row2\" class=\"row_heading level0 row2\" >ridge<\/th>\n",
       "      <td id=\"T_ce060_row2_col0\" class=\"data row2 col0\" >Ridge Classifier<\/td>\n",
       "      <td id=\"T_ce060_row2_col1\" class=\"data row2 col1\" >0.8340<\/td>\n",
       "      <td id=\"T_ce060_row2_col2\" class=\"data row2 col2\" >0.0000<\/td>\n",
       "      <td id=\"T_ce060_row2_col3\" class=\"data row2 col3\" >0.9106<\/td>\n",
       "      <td id=\"T_ce060_row2_col4\" class=\"data row2 col4\" >0.8101<\/td>\n",
       "      <td id=\"T_ce060_row2_col5\" class=\"data row2 col5\" >0.8549<\/td>\n",
       "      <td id=\"T_ce060_row2_col6\" class=\"data row2 col6\" >0.6609<\/td>\n",
       "      <td id=\"T_ce060_row2_col7\" class=\"data row2 col7\" >0.6748<\/td>\n",
       "      <td id=\"T_ce060_row2_col8\" class=\"data row2 col8\" >0.0260<\/td>\n",
       "    <\/tr>\n",
       "    <tr>\n",
       "      <th id=\"T_ce060_level0_row3\" class=\"row_heading level0 row3\" >lda<\/th>\n",
       "      <td id=\"T_ce060_row3_col0\" class=\"data row3 col0\" >Linear Discriminant Analysis<\/td>\n",
       "      <td id=\"T_ce060_row3_col1\" class=\"data row3 col1\" >0.8340<\/td>\n",
       "      <td id=\"T_ce060_row3_col2\" class=\"data row3 col2\" >0.8981<\/td>\n",
       "      <td id=\"T_ce060_row3_col3\" class=\"data row3 col3\" >0.9106<\/td>\n",
       "      <td id=\"T_ce060_row3_col4\" class=\"data row3 col4\" >0.8101<\/td>\n",
       "      <td id=\"T_ce060_row3_col5\" class=\"data row3 col5\" >0.8549<\/td>\n",
       "      <td id=\"T_ce060_row3_col6\" class=\"data row3 col6\" >0.6609<\/td>\n",
       "      <td id=\"T_ce060_row3_col7\" class=\"data row3 col7\" >0.6748<\/td>\n",
       "      <td id=\"T_ce060_row3_col8\" class=\"data row3 col8\" >0.0380<\/td>\n",
       "    <\/tr>\n",
       "    <tr>\n",
       "      <th id=\"T_ce060_level0_row4\" class=\"row_heading level0 row4\" >lr<\/th>\n",
       "      <td id=\"T_ce060_row4_col0\" class=\"data row4 col0\" >Logistic Regression<\/td>\n",
       "      <td id=\"T_ce060_row4_col1\" class=\"data row4 col1\" >0.8292<\/td>\n",
       "      <td id=\"T_ce060_row4_col2\" class=\"data row4 col2\" >0.9128<\/td>\n",
       "      <td id=\"T_ce060_row4_col3\" class=\"data row4 col3\" >0.8924<\/td>\n",
       "      <td id=\"T_ce060_row4_col4\" class=\"data row4 col4\" >0.8142<\/td>\n",
       "      <td id=\"T_ce060_row4_col5\" class=\"data row4 col5\" >0.8477<\/td>\n",
       "      <td id=\"T_ce060_row4_col6\" class=\"data row4 col6\" >0.6519<\/td>\n",
       "      <td id=\"T_ce060_row4_col7\" class=\"data row4 col7\" >0.6658<\/td>\n",
       "      <td id=\"T_ce060_row4_col8\" class=\"data row4 col8\" >0.2970<\/td>\n",
       "    <\/tr>\n",
       "    <tr>\n",
       "      <th id=\"T_ce060_level0_row5\" class=\"row_heading level0 row5\" >nb<\/th>\n",
       "      <td id=\"T_ce060_row5_col0\" class=\"data row5 col0\" >Naive Bayes<\/td>\n",
       "      <td id=\"T_ce060_row5_col1\" class=\"data row5 col1\" >0.8149<\/td>\n",
       "      <td id=\"T_ce060_row5_col2\" class=\"data row5 col2\" >0.8906<\/td>\n",
       "      <td id=\"T_ce060_row5_col3\" class=\"data row5 col3\" >0.8402<\/td>\n",
       "      <td id=\"T_ce060_row5_col4\" class=\"data row5 col4\" >0.8249<\/td>\n",
       "      <td id=\"T_ce060_row5_col5\" class=\"data row5 col5\" >0.8290<\/td>\n",
       "      <td id=\"T_ce060_row5_col6\" class=\"data row5 col6\" >0.6254<\/td>\n",
       "      <td id=\"T_ce060_row5_col7\" class=\"data row5 col7\" >0.6316<\/td>\n",
       "      <td id=\"T_ce060_row5_col8\" class=\"data row5 col8\" >0.0310<\/td>\n",
       "    <\/tr>\n",
       "    <tr>\n",
       "      <th id=\"T_ce060_level0_row6\" class=\"row_heading level0 row6\" >gbc<\/th>\n",
       "      <td id=\"T_ce060_row6_col0\" class=\"data row6 col0\" >Gradient Boosting Classifier<\/td>\n",
       "      <td id=\"T_ce060_row6_col1\" class=\"data row6 col1\" >0.7974<\/td>\n",
       "      <td id=\"T_ce060_row6_col2\" class=\"data row6 col2\" >0.8669<\/td>\n",
       "      <td id=\"T_ce060_row6_col3\" class=\"data row6 col3\" >0.8432<\/td>\n",
       "      <td id=\"T_ce060_row6_col4\" class=\"data row6 col4\" >0.8013<\/td>\n",
       "      <td id=\"T_ce060_row6_col5\" class=\"data row6 col5\" >0.8158<\/td>\n",
       "      <td id=\"T_ce060_row6_col6\" class=\"data row6 col6\" >0.5897<\/td>\n",
       "      <td id=\"T_ce060_row6_col7\" class=\"data row6 col7\" >0.6019<\/td>\n",
       "      <td id=\"T_ce060_row6_col8\" class=\"data row6 col8\" >0.1120<\/td>\n",
       "    <\/tr>\n",
       "    <tr>\n",
       "      <th id=\"T_ce060_level0_row7\" class=\"row_heading level0 row7\" >xgboost<\/th>\n",
       "      <td id=\"T_ce060_row7_col0\" class=\"data row7 col0\" >Extreme Gradient Boosting<\/td>\n",
       "      <td id=\"T_ce060_row7_col1\" class=\"data row7 col1\" >0.7972<\/td>\n",
       "      <td id=\"T_ce060_row7_col2\" class=\"data row7 col2\" >0.8885<\/td>\n",
       "      <td id=\"T_ce060_row7_col3\" class=\"data row7 col3\" >0.8424<\/td>\n",
       "      <td id=\"T_ce060_row7_col4\" class=\"data row7 col4\" >0.8027<\/td>\n",
       "      <td id=\"T_ce060_row7_col5\" class=\"data row7 col5\" >0.8154<\/td>\n",
       "      <td id=\"T_ce060_row7_col6\" class=\"data row7 col6\" >0.5889<\/td>\n",
       "      <td id=\"T_ce060_row7_col7\" class=\"data row7 col7\" >0.6011<\/td>\n",
       "      <td id=\"T_ce060_row7_col8\" class=\"data row7 col8\" >0.0870<\/td>\n",
       "    <\/tr>\n",
       "    <tr>\n",
       "      <th id=\"T_ce060_level0_row8\" class=\"row_heading level0 row8\" >lightgbm<\/th>\n",
       "      <td id=\"T_ce060_row8_col0\" class=\"data row8 col0\" >Light Gradient Boosting Machine<\/td>\n",
       "      <td id=\"T_ce060_row8_col1\" class=\"data row8 col1\" >0.7972<\/td>\n",
       "      <td id=\"T_ce060_row8_col2\" class=\"data row8 col2\" >0.8935<\/td>\n",
       "      <td id=\"T_ce060_row8_col3\" class=\"data row8 col3\" >0.8432<\/td>\n",
       "      <td id=\"T_ce060_row8_col4\" class=\"data row8 col4\" >0.8036<\/td>\n",
       "      <td id=\"T_ce060_row8_col5\" class=\"data row8 col5\" >0.8169<\/td>\n",
       "      <td id=\"T_ce060_row8_col6\" class=\"data row8 col6\" >0.5871<\/td>\n",
       "      <td id=\"T_ce060_row8_col7\" class=\"data row8 col7\" >0.5995<\/td>\n",
       "      <td id=\"T_ce060_row8_col8\" class=\"data row8 col8\" >1.5160<\/td>\n",
       "    <\/tr>\n",
       "    <tr>\n",
       "      <th id=\"T_ce060_level0_row9\" class=\"row_heading level0 row9\" >qda<\/th>\n",
       "      <td id=\"T_ce060_row9_col0\" class=\"data row9 col0\" >Quadratic Discriminant Analysis<\/td>\n",
       "      <td id=\"T_ce060_row9_col1\" class=\"data row9 col1\" >0.7965<\/td>\n",
       "      <td id=\"T_ce060_row9_col2\" class=\"data row9 col2\" >0.8879<\/td>\n",
       "      <td id=\"T_ce060_row9_col3\" class=\"data row9 col3\" >0.7871<\/td>\n",
       "      <td id=\"T_ce060_row9_col4\" class=\"data row9 col4\" >0.8305<\/td>\n",
       "      <td id=\"T_ce060_row9_col5\" class=\"data row9 col5\" >0.8006<\/td>\n",
       "      <td id=\"T_ce060_row9_col6\" class=\"data row9 col6\" >0.5914<\/td>\n",
       "      <td id=\"T_ce060_row9_col7\" class=\"data row9 col7\" >0.6022<\/td>\n",
       "      <td id=\"T_ce060_row9_col8\" class=\"data row9 col8\" >0.0290<\/td>\n",
       "    <\/tr>\n",
       "    <tr>\n",
       "      <th id=\"T_ce060_level0_row10\" class=\"row_heading level0 row10\" >ada<\/th>\n",
       "      <td id=\"T_ce060_row10_col0\" class=\"data row10 col0\" >Ada Boost Classifier<\/td>\n",
       "      <td id=\"T_ce060_row10_col1\" class=\"data row10 col1\" >0.7922<\/td>\n",
       "      <td id=\"T_ce060_row10_col2\" class=\"data row10 col2\" >0.8623<\/td>\n",
       "      <td id=\"T_ce060_row10_col3\" class=\"data row10 col3\" >0.8341<\/td>\n",
       "      <td id=\"T_ce060_row10_col4\" class=\"data row10 col4\" >0.7999<\/td>\n",
       "      <td id=\"T_ce060_row10_col5\" class=\"data row10 col5\" >0.8104<\/td>\n",
       "      <td id=\"T_ce060_row10_col6\" class=\"data row10 col6\" >0.5793<\/td>\n",
       "      <td id=\"T_ce060_row10_col7\" class=\"data row10 col7\" >0.5917<\/td>\n",
       "      <td id=\"T_ce060_row10_col8\" class=\"data row10 col8\" >0.1560<\/td>\n",
       "    <\/tr>\n",
       "    <tr>\n",
       "      <th id=\"T_ce060_level0_row11\" class=\"row_heading level0 row11\" >dt<\/th>\n",
       "      <td id=\"T_ce060_row11_col0\" class=\"data row11 col0\" >Decision Tree Classifier<\/td>\n",
       "      <td id=\"T_ce060_row11_col1\" class=\"data row11 col1\" >0.7729<\/td>\n",
       "      <td id=\"T_ce060_row11_col2\" class=\"data row11 col2\" >0.7733<\/td>\n",
       "      <td id=\"T_ce060_row11_col3\" class=\"data row11 col3\" >0.7644<\/td>\n",
       "      <td id=\"T_ce060_row11_col4\" class=\"data row11 col4\" >0.8181<\/td>\n",
       "      <td id=\"T_ce060_row11_col5\" class=\"data row11 col5\" >0.7800<\/td>\n",
       "      <td id=\"T_ce060_row11_col6\" class=\"data row11 col6\" >0.5455<\/td>\n",
       "      <td id=\"T_ce060_row11_col7\" class=\"data row11 col7\" >0.5583<\/td>\n",
       "      <td id=\"T_ce060_row11_col8\" class=\"data row11 col8\" >0.0340<\/td>\n",
       "    <\/tr>\n",
       "    <tr>\n",
       "      <th id=\"T_ce060_level0_row12\" class=\"row_heading level0 row12\" >knn<\/th>\n",
       "      <td id=\"T_ce060_row12_col0\" class=\"data row12 col0\" >K Neighbors Classifier<\/td>\n",
       "      <td id=\"T_ce060_row12_col1\" class=\"data row12 col1\" >0.6608<\/td>\n",
       "      <td id=\"T_ce060_row12_col2\" class=\"data row12 col2\" >0.6867<\/td>\n",
       "      <td id=\"T_ce060_row12_col3\" class=\"data row12 col3\" >0.7038<\/td>\n",
       "      <td id=\"T_ce060_row12_col4\" class=\"data row12 col4\" >0.6914<\/td>\n",
       "      <td id=\"T_ce060_row12_col5\" class=\"data row12 col5\" >0.6924<\/td>\n",
       "      <td id=\"T_ce060_row12_col6\" class=\"data row12 col6\" >0.3126<\/td>\n",
       "      <td id=\"T_ce060_row12_col7\" class=\"data row12 col7\" >0.3183<\/td>\n",
       "      <td id=\"T_ce060_row12_col8\" class=\"data row12 col8\" >0.0360<\/td>\n",
       "    <\/tr>\n",
       "    <tr>\n",
       "      <th id=\"T_ce060_level0_row13\" class=\"row_heading level0 row13\" >svm<\/th>\n",
       "      <td id=\"T_ce060_row13_col0\" class=\"data row13 col0\" >SVM - Linear Kernel<\/td>\n",
       "      <td id=\"T_ce060_row13_col1\" class=\"data row13 col1\" >0.6089<\/td>\n",
       "      <td id=\"T_ce060_row13_col2\" class=\"data row13 col2\" >0.0000<\/td>\n",
       "      <td id=\"T_ce060_row13_col3\" class=\"data row13 col3\" >0.5924<\/td>\n",
       "      <td id=\"T_ce060_row13_col4\" class=\"data row13 col4\" >0.6837<\/td>\n",
       "      <td id=\"T_ce060_row13_col5\" class=\"data row13 col5\" >0.5474<\/td>\n",
       "      <td id=\"T_ce060_row13_col6\" class=\"data row13 col6\" >0.2100<\/td>\n",
       "      <td id=\"T_ce060_row13_col7\" class=\"data row13 col7\" >0.2651<\/td>\n",
       "      <td id=\"T_ce060_row13_col8\" class=\"data row13 col8\" >0.0300<\/td>\n",
       "    <\/tr>\n",
       "    <tr>\n",
       "      <th id=\"T_ce060_level0_row14\" class=\"row_heading level0 row14\" >dummy<\/th>\n",
       "      <td id=\"T_ce060_row14_col0\" class=\"data row14 col0\" >Dummy Classifier<\/td>\n",
       "      <td id=\"T_ce060_row14_col1\" class=\"data row14 col1\" >0.5424<\/td>\n",
       "      <td id=\"T_ce060_row14_col2\" class=\"data row14 col2\" >0.5000<\/td>\n",
       "      <td id=\"T_ce060_row14_col3\" class=\"data row14 col3\" >1.0000<\/td>\n",
       "      <td id=\"T_ce060_row14_col4\" class=\"data row14 col4\" >0.5424<\/td>\n",
       "      <td id=\"T_ce060_row14_col5\" class=\"data row14 col5\" >0.7031<\/td>\n",
       "      <td id=\"T_ce060_row14_col6\" class=\"data row14 col6\" >0.0000<\/td>\n",
       "      <td id=\"T_ce060_row14_col7\" class=\"data row14 col7\" >0.0000<\/td>\n",
       "      <td id=\"T_ce060_row14_col8\" class=\"data row14 col8\" >0.0370<\/td>\n",
       "    <\/tr>\n",
       "  <\/tbody>\n",
       "<\/table>\n"
      ]
     },
     "metadata":{},
     "output_type":"display_data"
    },
    {
     "data":{
      "application\/vnd.jupyter.widget-view+json":{
       "version_major":2,
       "version_minor":0,
       "model_id":"4286023179a34e498528939785e320d6"
      }
     },
     "metadata":{
      "application\/vnd.jupyter.widget-view+json":{
       "datalore":{
        "widget_id":"MxlqNoLL89wtzQyrqOsEV6"
       }
      }
     },
     "output_type":"display_data"
    }
   ],
   "metadata":{
    "datalore":{
     "node_id":"0OeWESV94LBWDrRH9FATJ3",
     "type":"CODE",
     "hide_input_from_viewers":true,
     "hide_output_from_viewers":true
    }
   }
  },
  {
   "cell_type":"code",
   "source":[
    "#Création et entrînement du modèle Naives_bayes\n",
    "from sklearn.naive_bayes import GaussianNB\n",
    "model = GaussianNB()\n",
    "model.fit(X_train, y_train)"
   ],
   "execution_count":27,
   "outputs":[
    {
     "data":{
      "text\/html":[
       "<style>#sk-container-id-4 {color: black;background-color: white;}#sk-container-id-4 pre{padding: 0;}#sk-container-id-4 div.sk-toggleable {background-color: white;}#sk-container-id-4 label.sk-toggleable__label {cursor: pointer;display: block;width: 100%;margin-bottom: 0;padding: 0.3em;box-sizing: border-box;text-align: center;}#sk-container-id-4 label.sk-toggleable__label-arrow:before {content: \"▸\";float: left;margin-right: 0.25em;color: #696969;}#sk-container-id-4 label.sk-toggleable__label-arrow:hover:before {color: black;}#sk-container-id-4 div.sk-estimator:hover label.sk-toggleable__label-arrow:before {color: black;}#sk-container-id-4 div.sk-toggleable__content {max-height: 0;max-width: 0;overflow: hidden;text-align: left;background-color: #f0f8ff;}#sk-container-id-4 div.sk-toggleable__content pre {margin: 0.2em;color: black;border-radius: 0.25em;background-color: #f0f8ff;}#sk-container-id-4 input.sk-toggleable__control:checked~div.sk-toggleable__content {max-height: 200px;max-width: 100%;overflow: auto;}#sk-container-id-4 input.sk-toggleable__control:checked~label.sk-toggleable__label-arrow:before {content: \"▾\";}#sk-container-id-4 div.sk-estimator input.sk-toggleable__control:checked~label.sk-toggleable__label {background-color: #d4ebff;}#sk-container-id-4 div.sk-label input.sk-toggleable__control:checked~label.sk-toggleable__label {background-color: #d4ebff;}#sk-container-id-4 input.sk-hidden--visually {border: 0;clip: rect(1px 1px 1px 1px);clip: rect(1px, 1px, 1px, 1px);height: 1px;margin: -1px;overflow: hidden;padding: 0;position: absolute;width: 1px;}#sk-container-id-4 div.sk-estimator {font-family: monospace;background-color: #f0f8ff;border: 1px dotted black;border-radius: 0.25em;box-sizing: border-box;margin-bottom: 0.5em;}#sk-container-id-4 div.sk-estimator:hover {background-color: #d4ebff;}#sk-container-id-4 div.sk-parallel-item::after {content: \"\";width: 100%;border-bottom: 1px solid gray;flex-grow: 1;}#sk-container-id-4 div.sk-label:hover label.sk-toggleable__label {background-color: #d4ebff;}#sk-container-id-4 div.sk-serial::before {content: \"\";position: absolute;border-left: 1px solid gray;box-sizing: border-box;top: 0;bottom: 0;left: 50%;z-index: 0;}#sk-container-id-4 div.sk-serial {display: flex;flex-direction: column;align-items: center;background-color: white;padding-right: 0.2em;padding-left: 0.2em;position: relative;}#sk-container-id-4 div.sk-item {position: relative;z-index: 1;}#sk-container-id-4 div.sk-parallel {display: flex;align-items: stretch;justify-content: center;background-color: white;position: relative;}#sk-container-id-4 div.sk-item::before, #sk-container-id-4 div.sk-parallel-item::before {content: \"\";position: absolute;border-left: 1px solid gray;box-sizing: border-box;top: 0;bottom: 0;left: 50%;z-index: -1;}#sk-container-id-4 div.sk-parallel-item {display: flex;flex-direction: column;z-index: 1;position: relative;background-color: white;}#sk-container-id-4 div.sk-parallel-item:first-child::after {align-self: flex-end;width: 50%;}#sk-container-id-4 div.sk-parallel-item:last-child::after {align-self: flex-start;width: 50%;}#sk-container-id-4 div.sk-parallel-item:only-child::after {width: 0;}#sk-container-id-4 div.sk-dashed-wrapped {border: 1px dashed gray;margin: 0 0.4em 0.5em 0.4em;box-sizing: border-box;padding-bottom: 0.4em;background-color: white;}#sk-container-id-4 div.sk-label label {font-family: monospace;font-weight: bold;display: inline-block;line-height: 1.2em;}#sk-container-id-4 div.sk-label-container {text-align: center;}#sk-container-id-4 div.sk-container {\/* jupyter's `normalize.less` sets `[hidden] { display: none; }` but bootstrap.min.css set `[hidden] { display: none !important; }` so we also need the `!important` here to be able to override the default hidden behavior on the sphinx rendered scikit-learn.org. See: https:\/\/github.com\/scikit-learn\/scikit-learn\/issues\/21755 *\/display: inline-block !important;position: relative;}#sk-container-id-4 div.sk-text-repr-fallback {display: none;}<\/style><div id=\"sk-container-id-4\" class=\"sk-top-container\"><div class=\"sk-text-repr-fallback\"><pre>GaussianNB(priors=None, var_smoothing=1e-09)<\/pre><b>In a Jupyter environment, please rerun this cell to show the HTML representation or trust the notebook. <br \/>On GitHub, the HTML representation is unable to render, please try loading this page with nbviewer.org.<\/b><\/div><div class=\"sk-container\" hidden><div class=\"sk-item\"><div class=\"sk-estimator sk-toggleable\"><input class=\"sk-toggleable__control sk-hidden--visually\" id=\"sk-estimator-id-4\" type=\"checkbox\" checked><label for=\"sk-estimator-id-4\" class=\"sk-toggleable__label sk-toggleable__label-arrow\">GaussianNB<\/label><div class=\"sk-toggleable__content\"><pre>GaussianNB(priors=None, var_smoothing=1e-09)<\/pre><\/div><\/div><\/div><\/div><\/div>"
      ]
     },
     "metadata":{},
     "output_type":"display_data"
    }
   ],
   "metadata":{
    "datalore":{
     "node_id":"YEcFfT69zzNGqu3YqL3qSV",
     "type":"CODE",
     "hide_input_from_viewers":true,
     "hide_output_from_viewers":true
    }
   }
  },
  {
   "cell_type":"code",
   "source":[
    "#Evaluation des performances du modèle\n",
    "y_pred = model.predict(X_test)\n",
    "accuracy = accuracy_score(y_test, y_pred)\n",
    "report = classification_report(y_test, y_pred)\n",
    "\n",
    "print(\"Précision du modèle :\", accuracy)\n",
    "print(\"Rapport de classification :\")\n",
    "print(report)"
   ],
   "execution_count":28,
   "outputs":[
    {
     "name":"stdout",
     "text":[
      "Précision du modèle : 0.8688524590163934\n",
      "Rapport de classification :\n",
      "              precision    recall  f1-score   support\n",
      "\n",
      "           0       0.84      0.90      0.87        29\n",
      "           1       0.90      0.84      0.87        32\n",
      "\n",
      "    accuracy                           0.87        61\n",
      "   macro avg       0.87      0.87      0.87        61\n",
      "weighted avg       0.87      0.87      0.87        61\n",
      "\n"
     ],
     "output_type":"stream"
    }
   ],
   "metadata":{
    "datalore":{
     "node_id":"lBHlIVhVlakesX0mckqbpT",
     "type":"CODE",
     "hide_input_from_viewers":true,
     "hide_output_from_viewers":true
    }
   }
  },
  {
   "cell_type":"code",
   "source":[
    "'''\n",
    "En se basant sur les performances des modèles de prédiction des maladies cardiaques évalués (Random Forest, Régression Logistique, XGBoost...), voici une conclusion possible :\n",
    "\n",
    "La Régression Logistique a démontré la meilleure performance parmi les modèles évalués en termes de précision, rappel et F1-score pour la prédiction des maladies cardiaques. Avec une précision de 88.5%, un rappel de 91% pour la classe 1, et un F1-score de 0.89, ce modèle est capable de prédire avec succès la probabilité de maladies cardiaques chez les patients.\n",
    "\n",
    "Le modèle Random Forest a également donné de bons résultats avec une précision de 85.2% et un rappel de 88% pour la classe 1. Les mesures de performance sont généralement équilibrées, indiquant une capacité solide à prédire la maladie cardiaque.\n",
    "\n",
    "Le modèle XGBoost a donné des performances légèrement inférieures aux deux autres modèles, avec une précision de 82% et un rappel de 78% pour la classe 1. Cependant, il reste un modèle raisonnablement efficace pour la prédiction des maladies cardiaques.\n",
    "\n",
    "Il est essentiel de noter que le choix du modèle dépend de divers facteurs, y compris les besoins spécifiques de l'application, la facilité d'interprétation du modèle, la complexité, et d'autres considérations. La Régression Logistique, en tant que modèle linéaire simple, est à la fois puissante et interprétable, ce qui peut la rendre appropriée dans un contexte clinique où l'interprétabilité est essentielle.\n",
    "\n",
    "Cependant, pour une application en temps réel ou lorsque des performances plus élevées sont nécessaires, le modèle Random Forest peut être une alternative valable en raison de ses performances solides.\n",
    "'''"
   ],
   "execution_count":null,
   "outputs":[],
   "metadata":{
    "datalore":{
     "node_id":"eONK2bYJsdHjZUIhOwhiQq",
     "type":"CODE",
     "hide_input_from_viewers":true,
     "hide_output_from_viewers":true
    }
   }
  }
 ],
 "metadata":{
  "widgets":{
   "application\/vnd.jupyter.widget-state+json":{
    "version_major":2,
    "version_minor":0,
    "state":{
     "43fa818713804edf8d0c4449ed7fa34f":{
      "model_name":"LayoutModel",
      "model_module":"@jupyter-widgets\/base",
      "model_module_version":"1.2.0",
      "state":{}
     },
     "47cdde99d23047078540be61a4bc9c71":{
      "model_name":"DescriptionStyleModel",
      "model_module":"@jupyter-widgets\/controls",
      "model_module_version":"1.5.0",
      "state":{
       "description_width":""
      }
     },
     "c5e698a65f854ff49f8cc4c266889fbf":{
      "model_name":"HTMLModel",
      "model_module":"@jupyter-widgets\/controls",
      "model_module_version":"1.5.0",
      "state":{
       "layout":"IPY_MODEL_43fa818713804edf8d0c4449ed7fa34f",
       "style":"IPY_MODEL_47cdde99d23047078540be61a4bc9c71",
       "value":"Processing: 100%"
      }
     },
     "dfa1dcf969ba474e96cc94213147b01f":{
      "model_name":"LayoutModel",
      "model_module":"@jupyter-widgets\/base",
      "model_module_version":"1.2.0",
      "state":{}
     },
     "804b6b313efa480b85c95eb53df2a554":{
      "model_name":"ProgressStyleModel",
      "model_module":"@jupyter-widgets\/controls",
      "model_module_version":"1.5.0",
      "state":{
       "description_width":""
      }
     },
     "a6433e74aeb343efbdb5623775d0e90a":{
      "model_name":"FloatProgressModel",
      "model_module":"@jupyter-widgets\/controls",
      "model_module_version":"1.5.0",
      "state":{
       "layout":"IPY_MODEL_dfa1dcf969ba474e96cc94213147b01f",
       "max":65,
       "style":"IPY_MODEL_804b6b313efa480b85c95eb53df2a554",
       "value":65
      }
     },
     "a99c951539614174a0e9367daf99d332":{
      "model_name":"LayoutModel",
      "model_module":"@jupyter-widgets\/base",
      "model_module_version":"1.2.0",
      "state":{}
     },
     "b789d5bf444b49d98a3d5ae3c1fc0d32":{
      "model_name":"DescriptionStyleModel",
      "model_module":"@jupyter-widgets\/controls",
      "model_module_version":"1.5.0",
      "state":{
       "description_width":""
      }
     },
     "d2511437b6f245778aaa832047ce424e":{
      "model_name":"HTMLModel",
      "model_module":"@jupyter-widgets\/controls",
      "model_module_version":"1.5.0",
      "state":{
       "layout":"IPY_MODEL_a99c951539614174a0e9367daf99d332",
       "style":"IPY_MODEL_b789d5bf444b49d98a3d5ae3c1fc0d32",
       "value":" 65\/65 [00:31&lt;00:00,  1.40it\/s]"
      }
     },
     "317d1d57ab5341849f306d560ada17dc":{
      "model_name":"LayoutModel",
      "model_module":"@jupyter-widgets\/base",
      "model_module_version":"1.2.0",
      "state":{
       "visibility":"hidden"
      }
     },
     "4286023179a34e498528939785e320d6":{
      "model_name":"HBoxModel",
      "model_module":"@jupyter-widgets\/controls",
      "model_module_version":"1.5.0",
      "state":{
       "children":[
        "IPY_MODEL_c5e698a65f854ff49f8cc4c266889fbf",
        "IPY_MODEL_a6433e74aeb343efbdb5623775d0e90a",
        "IPY_MODEL_d2511437b6f245778aaa832047ce424e"
       ],
       "layout":"IPY_MODEL_317d1d57ab5341849f306d560ada17dc"
      }
     }
    }
   }
  },
  "kernelspec":{
   "display_name":"Python",
   "language":"python",
   "name":"python"
  },
  "datalore":{
   "computation_mode":"JUPYTER",
   "package_manager":"pip",
   "base_environment":"default",
   "packages":[],
   "report_row_ids":[],
   "version":3
  }
 },
 "nbformat":4,
 "nbformat_minor":4
}