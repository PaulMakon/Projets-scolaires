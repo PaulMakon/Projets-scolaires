{
 "cells":[
  {
   "cell_type":"markdown",
   "source":[
    "# Regression\n",
    "\n",
    "CREDIT: This practical was inspired from [this notebook on regression](https:\/\/www.kaggle.com\/code\/caesarmario\/ww2-temperatures-w-linear-regression\/notebook)."
   ],
   "attachments":{},
   "metadata":{
    "datalore":{
     "node_id":"GVo10nb36uDS9vJ9EhxcZ4",
     "type":"MD",
     "hide_input_from_viewers":false,
     "hide_output_from_viewers":false,
     "report_properties":{
      "rowId":"JoHk2C319pxhiBaGkNQMDg"
     }
    }
   }
  },
  {
   "cell_type":"markdown",
   "source":[
    "## Setup\n",
    "### Imports"
   ],
   "attachments":{},
   "metadata":{
    "datalore":{
     "node_id":"XRS0rFPXUlRgtEHlNxcpID",
     "type":"MD",
     "hide_input_from_viewers":false,
     "hide_output_from_viewers":false,
     "report_properties":{
      "rowId":"UcaZxTvte2AQBKxsfYBVTL"
     }
    }
   }
  },
  {
   "cell_type":"code",
   "source":[
    "import string\n",
    "\n",
    "import pandas as pd                                     # for dataset manipulation (DataFrames)\n",
    "import numpy as np                                      # allows some mathematical operations\n",
    "import matplotlib.pyplot as plt                         # library used to display graphs\n",
    "import seaborn as sns                                   # more convenient visualisation library for dataframes\n",
    "import time                                             # for execution time measurement\n",
    "from sklearn.model_selection import train_test_split, cross_val_score, ShuffleSplit, cross_val_predict\n",
    "from sklearn.linear_model import LinearRegression\n",
    "from sklearn import metrics"
   ],
   "execution_count":2,
   "outputs":[],
   "metadata":{
    "datalore":{
     "node_id":"TbLv57fkMm1TbExf2jVxHh",
     "type":"CODE",
     "hide_input_from_viewers":false,
     "hide_output_from_viewers":false,
     "report_properties":{
      "rowId":"PvEHx5cM4msrC9cCg1cW9N"
     }
    }
   }
  },
  {
   "cell_type":"markdown",
   "source":[
    "### Loading the dataset\n",
    "\n",
    "Today's dataset is the [Weather Conditions in World War Two](https:\/\/www.kaggle.com\/datasets\/smid80\/weatherww2) dataset."
   ],
   "attachments":{},
   "metadata":{
    "datalore":{
     "node_id":"roC8fhRxYVMNP9BazhamMZ",
     "type":"MD",
     "hide_input_from_viewers":false,
     "hide_output_from_viewers":false,
     "report_properties":{
      "rowId":"88aGZKjbW2yebOUDzoYtf1"
     }
    }
   }
  },
  {
   "cell_type":"code",
   "source":[
    "df = pd.read_csv(\"Summary of Weather.csv\")"
   ],
   "execution_count":3,
   "outputs":[
    {
     "name":"stderr",
     "text":[
      "<ipython-input-3-ce9a816bd962>:1: DtypeWarning: Columns (7,8,18,25) have mixed types. Specify dtype option on import or set low_memory=False.\n",
      "  df = pd.read_csv(\"Summary of Weather.csv\")\n"
     ],
     "output_type":"stream"
    }
   ],
   "metadata":{
    "datalore":{
     "node_id":"LT7askPVkCQDzzBDo777dR",
     "type":"CODE",
     "hide_input_from_viewers":false,
     "hide_output_from_viewers":false,
     "report_properties":{
      "rowId":"fTZ8YWjegGDKILAMu1D44H"
     }
    }
   }
  },
  {
   "cell_type":"markdown",
   "source":[
    "## Observing the dataset"
   ],
   "attachments":{},
   "metadata":{
    "datalore":{
     "node_id":"VhvP6VsmxzButdDGtKctr5",
     "type":"MD",
     "hide_input_from_viewers":false,
     "hide_output_from_viewers":false,
     "report_properties":{
      "rowId":"HWQmszIy97KJ1RhraFUAj8"
     }
    }
   }
  },
  {
   "cell_type":"markdown",
   "source":[
    "Using what you have learned in the previous lessons, examine the dataset and see what you can learn about it. In the cells underneath, write any information that seems relevant to you. Focus in particular on the understanding of what the dataset and its columns contain.\n",
    "\n",
    "In today's practical, we will try to predict the value of `MaxTemp`. Which feature(s) seem more adapted to perform this task, and why?"
   ],
   "attachments":{},
   "metadata":{
    "datalore":{
     "node_id":"Br0fRmNF168hoevpFnJssQ",
     "type":"MD",
     "hide_input_from_viewers":false,
     "hide_output_from_viewers":false,
     "report_properties":{
      "rowId":"JuCjblwngnvBdfqezYhilA"
     }
    }
   }
  },
  {
   "cell_type":"code",
   "source":[
    "# Your code here"
   ],
   "execution_count":null,
   "outputs":[],
   "metadata":{
    "datalore":{
     "node_id":"QvgeExPUpAocDGVJLirA8E",
     "type":"CODE",
     "hide_input_from_viewers":false,
     "hide_output_from_viewers":false,
     "report_properties":{
      "rowId":"aBltzOrMTRxDSy0ZNPzYHb"
     }
    }
   }
  },
  {
   "cell_type":"markdown",
   "source":[
    "*[Your comments here]*"
   ],
   "attachments":{},
   "metadata":{
    "datalore":{
     "node_id":"rJjfWDEZ6bw2eZUNa4tiWF",
     "type":"MD",
     "hide_input_from_viewers":false,
     "hide_output_from_viewers":false,
     "report_properties":{
      "rowId":"WQafdfYaFmr4q44RPvLyJb"
     }
    }
   }
  },
  {
   "cell_type":"code",
   "source":[
    "df.head()"
   ],
   "execution_count":3,
   "outputs":[
    {
     "data":{
      "text\/html":[
       "<div>\n",
       "<style scoped>\n",
       "    .dataframe tbody tr th:only-of-type {\n",
       "        vertical-align: middle;\n",
       "    }\n",
       "\n",
       "    .dataframe tbody tr th {\n",
       "        vertical-align: top;\n",
       "    }\n",
       "\n",
       "    .dataframe thead th {\n",
       "        text-align: right;\n",
       "    }\n",
       "<\/style>\n",
       "<table border=\"1\" class=\"dataframe\">\n",
       "  <thead>\n",
       "    <tr style=\"text-align: right;\">\n",
       "      <th><\/th>\n",
       "      <th>STA<\/th>\n",
       "      <th>Date<\/th>\n",
       "      <th>Precip<\/th>\n",
       "      <th>WindGustSpd<\/th>\n",
       "      <th>MaxTemp<\/th>\n",
       "      <th>MinTemp<\/th>\n",
       "      <th>MeanTemp<\/th>\n",
       "      <th>Snowfall<\/th>\n",
       "      <th>PoorWeather<\/th>\n",
       "      <th>YR<\/th>\n",
       "      <th>...<\/th>\n",
       "      <th>FB<\/th>\n",
       "      <th>FTI<\/th>\n",
       "      <th>ITH<\/th>\n",
       "      <th>PGT<\/th>\n",
       "      <th>TSHDSBRSGF<\/th>\n",
       "      <th>SD3<\/th>\n",
       "      <th>RHX<\/th>\n",
       "      <th>RHN<\/th>\n",
       "      <th>RVG<\/th>\n",
       "      <th>WTE<\/th>\n",
       "    <\/tr>\n",
       "  <\/thead>\n",
       "  <tbody>\n",
       "    <tr>\n",
       "      <th>0<\/th>\n",
       "      <td>10001<\/td>\n",
       "      <td>1942-7-1<\/td>\n",
       "      <td>1.016<\/td>\n",
       "      <td>NaN<\/td>\n",
       "      <td>25.555556<\/td>\n",
       "      <td>22.222222<\/td>\n",
       "      <td>23.888889<\/td>\n",
       "      <td>0.0<\/td>\n",
       "      <td>NaN<\/td>\n",
       "      <td>42<\/td>\n",
       "      <td>...<\/td>\n",
       "      <td>NaN<\/td>\n",
       "      <td>NaN<\/td>\n",
       "      <td>NaN<\/td>\n",
       "      <td>NaN<\/td>\n",
       "      <td>NaN<\/td>\n",
       "      <td>NaN<\/td>\n",
       "      <td>NaN<\/td>\n",
       "      <td>NaN<\/td>\n",
       "      <td>NaN<\/td>\n",
       "      <td>NaN<\/td>\n",
       "    <\/tr>\n",
       "    <tr>\n",
       "      <th>1<\/th>\n",
       "      <td>10001<\/td>\n",
       "      <td>1942-7-2<\/td>\n",
       "      <td>0<\/td>\n",
       "      <td>NaN<\/td>\n",
       "      <td>28.888889<\/td>\n",
       "      <td>21.666667<\/td>\n",
       "      <td>25.555556<\/td>\n",
       "      <td>0.0<\/td>\n",
       "      <td>NaN<\/td>\n",
       "      <td>42<\/td>\n",
       "      <td>...<\/td>\n",
       "      <td>NaN<\/td>\n",
       "      <td>NaN<\/td>\n",
       "      <td>NaN<\/td>\n",
       "      <td>NaN<\/td>\n",
       "      <td>NaN<\/td>\n",
       "      <td>NaN<\/td>\n",
       "      <td>NaN<\/td>\n",
       "      <td>NaN<\/td>\n",
       "      <td>NaN<\/td>\n",
       "      <td>NaN<\/td>\n",
       "    <\/tr>\n",
       "    <tr>\n",
       "      <th>2<\/th>\n",
       "      <td>10001<\/td>\n",
       "      <td>1942-7-3<\/td>\n",
       "      <td>2.54<\/td>\n",
       "      <td>NaN<\/td>\n",
       "      <td>26.111111<\/td>\n",
       "      <td>22.222222<\/td>\n",
       "      <td>24.444444<\/td>\n",
       "      <td>0.0<\/td>\n",
       "      <td>NaN<\/td>\n",
       "      <td>42<\/td>\n",
       "      <td>...<\/td>\n",
       "      <td>NaN<\/td>\n",
       "      <td>NaN<\/td>\n",
       "      <td>NaN<\/td>\n",
       "      <td>NaN<\/td>\n",
       "      <td>NaN<\/td>\n",
       "      <td>NaN<\/td>\n",
       "      <td>NaN<\/td>\n",
       "      <td>NaN<\/td>\n",
       "      <td>NaN<\/td>\n",
       "      <td>NaN<\/td>\n",
       "    <\/tr>\n",
       "    <tr>\n",
       "      <th>3<\/th>\n",
       "      <td>10001<\/td>\n",
       "      <td>1942-7-4<\/td>\n",
       "      <td>2.54<\/td>\n",
       "      <td>NaN<\/td>\n",
       "      <td>26.666667<\/td>\n",
       "      <td>22.222222<\/td>\n",
       "      <td>24.444444<\/td>\n",
       "      <td>0.0<\/td>\n",
       "      <td>NaN<\/td>\n",
       "      <td>42<\/td>\n",
       "      <td>...<\/td>\n",
       "      <td>NaN<\/td>\n",
       "      <td>NaN<\/td>\n",
       "      <td>NaN<\/td>\n",
       "      <td>NaN<\/td>\n",
       "      <td>NaN<\/td>\n",
       "      <td>NaN<\/td>\n",
       "      <td>NaN<\/td>\n",
       "      <td>NaN<\/td>\n",
       "      <td>NaN<\/td>\n",
       "      <td>NaN<\/td>\n",
       "    <\/tr>\n",
       "    <tr>\n",
       "      <th>4<\/th>\n",
       "      <td>10001<\/td>\n",
       "      <td>1942-7-5<\/td>\n",
       "      <td>0<\/td>\n",
       "      <td>NaN<\/td>\n",
       "      <td>26.666667<\/td>\n",
       "      <td>21.666667<\/td>\n",
       "      <td>24.444444<\/td>\n",
       "      <td>0.0<\/td>\n",
       "      <td>NaN<\/td>\n",
       "      <td>42<\/td>\n",
       "      <td>...<\/td>\n",
       "      <td>NaN<\/td>\n",
       "      <td>NaN<\/td>\n",
       "      <td>NaN<\/td>\n",
       "      <td>NaN<\/td>\n",
       "      <td>NaN<\/td>\n",
       "      <td>NaN<\/td>\n",
       "      <td>NaN<\/td>\n",
       "      <td>NaN<\/td>\n",
       "      <td>NaN<\/td>\n",
       "      <td>NaN<\/td>\n",
       "    <\/tr>\n",
       "  <\/tbody>\n",
       "<\/table>\n",
       "<p>5 rows × 31 columns<\/p>\n",
       "<\/div>"
      ]
     },
     "metadata":{},
     "output_type":"display_data"
    }
   ],
   "metadata":{
    "datalore":{
     "node_id":"4ssSvpjyi2hyqKknZmwZsa",
     "type":"CODE",
     "hide_input_from_viewers":true,
     "hide_output_from_viewers":true
    }
   }
  },
  {
   "cell_type":"code",
   "source":[
    "df.shape"
   ],
   "execution_count":4,
   "outputs":[
    {
     "data":{
      "text\/plain":[
       "(119040, 31)"
      ]
     },
     "metadata":{},
     "output_type":"display_data"
    }
   ],
   "metadata":{
    "datalore":{
     "node_id":"lQ0jxueSRK3LB5KMLtTUKd",
     "type":"CODE",
     "hide_input_from_viewers":true,
     "hide_output_from_viewers":true
    }
   }
  },
  {
   "cell_type":"code",
   "source":[
    "df.describe ()"
   ],
   "execution_count":4,
   "outputs":[
    {
     "data":{
      "text\/html":[
       "<div>\n",
       "<style scoped>\n",
       "    .dataframe tbody tr th:only-of-type {\n",
       "        vertical-align: middle;\n",
       "    }\n",
       "\n",
       "    .dataframe tbody tr th {\n",
       "        vertical-align: top;\n",
       "    }\n",
       "\n",
       "    .dataframe thead th {\n",
       "        text-align: right;\n",
       "    }\n",
       "<\/style>\n",
       "<table border=\"1\" class=\"dataframe\">\n",
       "  <thead>\n",
       "    <tr style=\"text-align: right;\">\n",
       "      <th><\/th>\n",
       "      <th>STA<\/th>\n",
       "      <th>WindGustSpd<\/th>\n",
       "      <th>MaxTemp<\/th>\n",
       "      <th>MinTemp<\/th>\n",
       "      <th>MeanTemp<\/th>\n",
       "      <th>YR<\/th>\n",
       "      <th>MO<\/th>\n",
       "      <th>DA<\/th>\n",
       "      <th>DR<\/th>\n",
       "      <th>SPD<\/th>\n",
       "      <th>...<\/th>\n",
       "      <th>FT<\/th>\n",
       "      <th>FB<\/th>\n",
       "      <th>FTI<\/th>\n",
       "      <th>ITH<\/th>\n",
       "      <th>PGT<\/th>\n",
       "      <th>SD3<\/th>\n",
       "      <th>RHX<\/th>\n",
       "      <th>RHN<\/th>\n",
       "      <th>RVG<\/th>\n",
       "      <th>WTE<\/th>\n",
       "    <\/tr>\n",
       "  <\/thead>\n",
       "  <tbody>\n",
       "    <tr>\n",
       "      <th>count<\/th>\n",
       "      <td>119040.000000<\/td>\n",
       "      <td>532.000000<\/td>\n",
       "      <td>119040.000000<\/td>\n",
       "      <td>119040.000000<\/td>\n",
       "      <td>119040.000000<\/td>\n",
       "      <td>119040.000000<\/td>\n",
       "      <td>119040.000000<\/td>\n",
       "      <td>119040.000000<\/td>\n",
       "      <td>533.000000<\/td>\n",
       "      <td>532.000000<\/td>\n",
       "      <td>...<\/td>\n",
       "      <td>0.0<\/td>\n",
       "      <td>0.0<\/td>\n",
       "      <td>0.0<\/td>\n",
       "      <td>0.0<\/td>\n",
       "      <td>525.000000<\/td>\n",
       "      <td>0.0<\/td>\n",
       "      <td>0.0<\/td>\n",
       "      <td>0.0<\/td>\n",
       "      <td>0.0<\/td>\n",
       "      <td>0.0<\/td>\n",
       "    <\/tr>\n",
       "    <tr>\n",
       "      <th>mean<\/th>\n",
       "      <td>29659.435795<\/td>\n",
       "      <td>37.774534<\/td>\n",
       "      <td>27.045111<\/td>\n",
       "      <td>17.789511<\/td>\n",
       "      <td>22.411631<\/td>\n",
       "      <td>43.805284<\/td>\n",
       "      <td>6.726016<\/td>\n",
       "      <td>15.797530<\/td>\n",
       "      <td>26.998124<\/td>\n",
       "      <td>20.396617<\/td>\n",
       "      <td>...<\/td>\n",
       "      <td>NaN<\/td>\n",
       "      <td>NaN<\/td>\n",
       "      <td>NaN<\/td>\n",
       "      <td>NaN<\/td>\n",
       "      <td>12.085333<\/td>\n",
       "      <td>NaN<\/td>\n",
       "      <td>NaN<\/td>\n",
       "      <td>NaN<\/td>\n",
       "      <td>NaN<\/td>\n",
       "      <td>NaN<\/td>\n",
       "    <\/tr>\n",
       "    <tr>\n",
       "      <th>std<\/th>\n",
       "      <td>20953.209402<\/td>\n",
       "      <td>10.297808<\/td>\n",
       "      <td>8.717817<\/td>\n",
       "      <td>8.334572<\/td>\n",
       "      <td>8.297982<\/td>\n",
       "      <td>1.136718<\/td>\n",
       "      <td>3.425561<\/td>\n",
       "      <td>8.794541<\/td>\n",
       "      <td>15.221732<\/td>\n",
       "      <td>5.560371<\/td>\n",
       "      <td>...<\/td>\n",
       "      <td>NaN<\/td>\n",
       "      <td>NaN<\/td>\n",
       "      <td>NaN<\/td>\n",
       "      <td>NaN<\/td>\n",
       "      <td>5.731328<\/td>\n",
       "      <td>NaN<\/td>\n",
       "      <td>NaN<\/td>\n",
       "      <td>NaN<\/td>\n",
       "      <td>NaN<\/td>\n",
       "      <td>NaN<\/td>\n",
       "    <\/tr>\n",
       "    <tr>\n",
       "      <th>min<\/th>\n",
       "      <td>10001.000000<\/td>\n",
       "      <td>18.520000<\/td>\n",
       "      <td>-33.333333<\/td>\n",
       "      <td>-38.333333<\/td>\n",
       "      <td>-35.555556<\/td>\n",
       "      <td>40.000000<\/td>\n",
       "      <td>1.000000<\/td>\n",
       "      <td>1.000000<\/td>\n",
       "      <td>2.000000<\/td>\n",
       "      <td>10.000000<\/td>\n",
       "      <td>...<\/td>\n",
       "      <td>NaN<\/td>\n",
       "      <td>NaN<\/td>\n",
       "      <td>NaN<\/td>\n",
       "      <td>NaN<\/td>\n",
       "      <td>0.000000<\/td>\n",
       "      <td>NaN<\/td>\n",
       "      <td>NaN<\/td>\n",
       "      <td>NaN<\/td>\n",
       "      <td>NaN<\/td>\n",
       "      <td>NaN<\/td>\n",
       "    <\/tr>\n",
       "    <tr>\n",
       "      <th>25%<\/th>\n",
       "      <td>11801.000000<\/td>\n",
       "      <td>29.632000<\/td>\n",
       "      <td>25.555556<\/td>\n",
       "      <td>15.000000<\/td>\n",
       "      <td>20.555556<\/td>\n",
       "      <td>43.000000<\/td>\n",
       "      <td>4.000000<\/td>\n",
       "      <td>8.000000<\/td>\n",
       "      <td>11.000000<\/td>\n",
       "      <td>16.000000<\/td>\n",
       "      <td>...<\/td>\n",
       "      <td>NaN<\/td>\n",
       "      <td>NaN<\/td>\n",
       "      <td>NaN<\/td>\n",
       "      <td>NaN<\/td>\n",
       "      <td>8.500000<\/td>\n",
       "      <td>NaN<\/td>\n",
       "      <td>NaN<\/td>\n",
       "      <td>NaN<\/td>\n",
       "      <td>NaN<\/td>\n",
       "      <td>NaN<\/td>\n",
       "    <\/tr>\n",
       "    <tr>\n",
       "      <th>50%<\/th>\n",
       "      <td>22508.000000<\/td>\n",
       "      <td>37.040000<\/td>\n",
       "      <td>29.444444<\/td>\n",
       "      <td>21.111111<\/td>\n",
       "      <td>25.555556<\/td>\n",
       "      <td>44.000000<\/td>\n",
       "      <td>7.000000<\/td>\n",
       "      <td>16.000000<\/td>\n",
       "      <td>32.000000<\/td>\n",
       "      <td>20.000000<\/td>\n",
       "      <td>...<\/td>\n",
       "      <td>NaN<\/td>\n",
       "      <td>NaN<\/td>\n",
       "      <td>NaN<\/td>\n",
       "      <td>NaN<\/td>\n",
       "      <td>11.600000<\/td>\n",
       "      <td>NaN<\/td>\n",
       "      <td>NaN<\/td>\n",
       "      <td>NaN<\/td>\n",
       "      <td>NaN<\/td>\n",
       "      <td>NaN<\/td>\n",
       "    <\/tr>\n",
       "    <tr>\n",
       "      <th>75%<\/th>\n",
       "      <td>33501.000000<\/td>\n",
       "      <td>43.059000<\/td>\n",
       "      <td>31.666667<\/td>\n",
       "      <td>23.333333<\/td>\n",
       "      <td>27.222222<\/td>\n",
       "      <td>45.000000<\/td>\n",
       "      <td>10.000000<\/td>\n",
       "      <td>23.000000<\/td>\n",
       "      <td>34.000000<\/td>\n",
       "      <td>23.250000<\/td>\n",
       "      <td>...<\/td>\n",
       "      <td>NaN<\/td>\n",
       "      <td>NaN<\/td>\n",
       "      <td>NaN<\/td>\n",
       "      <td>NaN<\/td>\n",
       "      <td>15.000000<\/td>\n",
       "      <td>NaN<\/td>\n",
       "      <td>NaN<\/td>\n",
       "      <td>NaN<\/td>\n",
       "      <td>NaN<\/td>\n",
       "      <td>NaN<\/td>\n",
       "    <\/tr>\n",
       "    <tr>\n",
       "      <th>max<\/th>\n",
       "      <td>82506.000000<\/td>\n",
       "      <td>75.932000<\/td>\n",
       "      <td>50.000000<\/td>\n",
       "      <td>34.444444<\/td>\n",
       "      <td>40.000000<\/td>\n",
       "      <td>45.000000<\/td>\n",
       "      <td>12.000000<\/td>\n",
       "      <td>31.000000<\/td>\n",
       "      <td>78.000000<\/td>\n",
       "      <td>41.000000<\/td>\n",
       "      <td>...<\/td>\n",
       "      <td>NaN<\/td>\n",
       "      <td>NaN<\/td>\n",
       "      <td>NaN<\/td>\n",
       "      <td>NaN<\/td>\n",
       "      <td>23.900000<\/td>\n",
       "      <td>NaN<\/td>\n",
       "      <td>NaN<\/td>\n",
       "      <td>NaN<\/td>\n",
       "      <td>NaN<\/td>\n",
       "      <td>NaN<\/td>\n",
       "    <\/tr>\n",
       "  <\/tbody>\n",
       "<\/table>\n",
       "<p>8 rows × 24 columns<\/p>\n",
       "<\/div>"
      ]
     },
     "metadata":{},
     "output_type":"display_data"
    }
   ],
   "metadata":{
    "datalore":{
     "node_id":"Is2u0P12QK5EcnIcNn4Apl",
     "type":"CODE",
     "hide_input_from_viewers":true,
     "hide_output_from_viewers":true
    }
   }
  },
  {
   "cell_type":"code",
   "source":[
    "df.info ()"
   ],
   "execution_count":5,
   "outputs":[
    {
     "name":"stdout",
     "text":[
      "<class 'pandas.core.frame.DataFrame'>\n",
      "RangeIndex: 119040 entries, 0 to 119039\n",
      "Data columns (total 31 columns):\n",
      " #   Column       Non-Null Count   Dtype  \n",
      "---  ------       --------------   -----  \n",
      " 0   STA          119040 non-null  int64  \n",
      " 1   Date         119040 non-null  object \n",
      " 2   Precip       119040 non-null  object \n",
      " 3   WindGustSpd  532 non-null     float64\n",
      " 4   MaxTemp      119040 non-null  float64\n",
      " 5   MinTemp      119040 non-null  float64\n",
      " 6   MeanTemp     119040 non-null  float64\n",
      " 7   Snowfall     117877 non-null  object \n",
      " 8   PoorWeather  34237 non-null   object \n",
      " 9   YR           119040 non-null  int64  \n",
      " 10  MO           119040 non-null  int64  \n",
      " 11  DA           119040 non-null  int64  \n",
      " 12  PRCP         117108 non-null  object \n",
      " 13  DR           533 non-null     float64\n",
      " 14  SPD          532 non-null     float64\n",
      " 15  MAX          118566 non-null  float64\n",
      " 16  MIN          118572 non-null  float64\n",
      " 17  MEA          118542 non-null  float64\n",
      " 18  SNF          117877 non-null  object \n",
      " 19  SND          5563 non-null    float64\n",
      " 20  FT           0 non-null       float64\n",
      " 21  FB           0 non-null       float64\n",
      " 22  FTI          0 non-null       float64\n",
      " 23  ITH          0 non-null       float64\n",
      " 24  PGT          525 non-null     float64\n",
      " 25  TSHDSBRSGF   34237 non-null   object \n",
      " 26  SD3          0 non-null       float64\n",
      " 27  RHX          0 non-null       float64\n",
      " 28  RHN          0 non-null       float64\n",
      " 29  RVG          0 non-null       float64\n",
      " 30  WTE          0 non-null       float64\n",
      "dtypes: float64(20), int64(4), object(7)\n",
      "memory usage: 28.2+ MB\n"
     ],
     "output_type":"stream"
    }
   ],
   "metadata":{
    "datalore":{
     "node_id":"URvhqN3CjbC6WcwIZg4RKD",
     "type":"CODE",
     "hide_input_from_viewers":true,
     "hide_output_from_viewers":true
    }
   }
  },
  {
   "cell_type":"code",
   "source":[
    "sns.heatmap(df.corr())"
   ],
   "execution_count":6,
   "outputs":[
    {
     "name":"stderr",
     "text":[
      "<ipython-input-6-aa4f4450a243>:1: FutureWarning: The default value of numeric_only in DataFrame.corr is deprecated. In a future version, it will default to False. Select only valid columns or specify the value of numeric_only to silence this warning.\n",
      "  sns.heatmap(df.corr())\n"
     ],
     "output_type":"stream"
    },
    {
     "data":{
      "text\/plain":[
       "<Axes: >"
      ]
     },
     "metadata":{},
     "output_type":"display_data"
    },
    {
     "data":{
      "image\/png":"[encoded data removed]"
     },
     "metadata":{
      "image\/png":{}
     },
     "output_type":"display_data"
    }
   ],
   "metadata":{
    "datalore":{
     "node_id":"y6tVp9WYSGAcfxPCXDixiL",
     "type":"CODE",
     "hide_input_from_viewers":true,
     "hide_output_from_viewers":true
    }
   }
  },
  {
   "cell_type":"code",
   "source":[
    "sns.pairplot(df[[\"MaxTemp\", 'MinTemp', \"MeanTemp\"]])"
   ],
   "execution_count":7,
   "outputs":[
    {
     "data":{
      "text\/plain":[
       "<seaborn.axisgrid.PairGrid at 0x7f1c8bd5bd30>"
      ]
     },
     "metadata":{},
     "output_type":"display_data"
    },
    {
     "data":{
      "image\/png":"[encoded data removed]"
     },
     "metadata":{
      "image\/png":{}
     },
     "output_type":"display_data"
    }
   ],
   "metadata":{
    "datalore":{
     "node_id":"xRBdBD9rxOTtFlG1ni097B",
     "type":"CODE",
     "hide_input_from_viewers":true,
     "hide_output_from_viewers":true
    }
   }
  },
  {
   "cell_type":"markdown",
   "source":[
    "## Preparing the data\n",
    "\n",
    "We will be performing regression on the `MaxTemp` feature, using the `MinTemp` feature only.\n",
    "In the following cell:\n",
    "1. Define the input (X) and output (y) of the regression.\n",
    "2. Using `scikit-learn`'s `train_test_split` function, separate X and y into training and test sets. Make it so that 80% of the data is used for training, and 20% for testing. \n",
    "3. Why do we typically want to maximise the data used for training?"
   ],
   "attachments":{},
   "metadata":{
    "datalore":{
     "node_id":"3cJmYRlPYUBx9XBuNGh7Mv",
     "type":"MD",
     "hide_input_from_viewers":true,
     "hide_output_from_viewers":true
    }
   }
  },
  {
   "cell_type":"markdown",
   "source":[
    "*[Your comments here]*"
   ],
   "attachments":{},
   "metadata":{
    "datalore":{
     "node_id":"NvlCxJPRdYjoz2SCYIj9Xz",
     "type":"MD",
     "hide_input_from_viewers":false,
     "hide_output_from_viewers":false,
     "report_properties":{
      "rowId":"IbeFU91sge26OfdQM8lJz3"
     }
    }
   }
  },
  {
   "cell_type":"code",
   "source":[
    "X = df[\"MinTemp\"]"
   ],
   "execution_count":4,
   "outputs":[],
   "metadata":{
    "datalore":{
     "node_id":"S42dMH2TkTBD3gs12GjCQT",
     "type":"CODE",
     "hide_input_from_viewers":false,
     "hide_output_from_viewers":false,
     "report_properties":{
      "rowId":"IbeFU91sge26OfdQM8lJz3"
     }
    }
   }
  },
  {
   "cell_type":"code",
   "source":[
    "y = df[\"MaxTemp\"]"
   ],
   "execution_count":5,
   "outputs":[],
   "metadata":{
    "datalore":{
     "node_id":"v7eJp9k5K8JzYVoiGIWrvs",
     "type":"CODE",
     "hide_input_from_viewers":true,
     "hide_output_from_viewers":true
    }
   }
  },
  {
   "cell_type":"code",
   "source":[
    "X_train, X_test, y_train, y_test = train_test_split (X, y, test_size = 0.2)"
   ],
   "execution_count":6,
   "outputs":[],
   "metadata":{
    "datalore":{
     "node_id":"9Qu375vbcPgG8OY0wrhMRf",
     "type":"CODE",
     "hide_input_from_viewers":true,
     "hide_output_from_viewers":true
    }
   }
  },
  {
   "cell_type":"code",
   "source":[
    "print (X_train.shape, X_test.shape)"
   ],
   "execution_count":7,
   "outputs":[
    {
     "name":"stdout",
     "text":[
      "(95232,) (23808,)\n"
     ],
     "output_type":"stream"
    }
   ],
   "metadata":{
    "datalore":{
     "node_id":"3A3B4z0LINXWby3Cl1B8ub",
     "type":"CODE",
     "hide_input_from_viewers":true,
     "hide_output_from_viewers":true
    }
   }
  },
  {
   "cell_type":"markdown",
   "source":[
    "## Performing regression\n",
    "\n",
    "1. Using the observations you made above, justify which regression model is best fit for this task.\n",
    "2. Using `scikit-learn`, train this regression model on the training set.\n",
    "3. Give the formula of the regression model.\n",
    "4. Display the regression model on a graph along with your test set. Comment on what you see."
   ],
   "attachments":{},
   "metadata":{
    "datalore":{
     "node_id":"GgKHlurWfw75UJmXSjSH1C",
     "type":"MD",
     "hide_input_from_viewers":true,
     "hide_output_from_viewers":true
    }
   }
  },
  {
   "cell_type":"markdown",
   "source":[
    "*[Your comments here]*"
   ],
   "attachments":{},
   "metadata":{
    "datalore":{
     "node_id":"I5ofBocecIOXr76q5HqNHP",
     "type":"MD",
     "hide_input_from_viewers":false,
     "hide_output_from_viewers":false,
     "report_properties":{
      "rowId":"IbeFU91sge26OfdQM8lJz3"
     }
    }
   }
  },
  {
   "cell_type":"code",
   "source":[
    "X = df[\"MinTemp\"]\n",
    "y = df[\"MaxTemp\"]\n",
    "model = LinearRegression()\n",
    "model.fit(np.array(X_train).reshape(-1,1), np.array(y_train).reshape(-1,1))\n",
    "y_pred = model.predict(np.array(X_test).reshape(-1,1))"
   ],
   "execution_count":8,
   "outputs":[],
   "metadata":{
    "datalore":{
     "node_id":"Rw7yCfqZKVNNlRtLhNRnoJ",
     "type":"CODE",
     "hide_input_from_viewers":true,
     "hide_output_from_viewers":true
    }
   }
  },
  {
   "cell_type":"code",
   "source":[
    "np.abs(y_test-y_pred)"
   ],
   "execution_count":null,
   "outputs":[],
   "metadata":{
    "datalore":{
     "node_id":"NPbMOQUqtwQxIZX4iyqBuF",
     "type":"CODE",
     "hide_input_from_viewers":true,
     "hide_output_from_viewers":true
    }
   }
  },
  {
   "cell_type":"code",
   "source":[
    "# Obtenir la pente (coefficient) et l'ordonnée à l'origine\n",
    "slope = model.coef_[0]\n",
    "intercept = model.intercept_\n",
    "\n",
    "# Créer des points pour tracer la droite\n",
    "x_values = np.linspace(min(X_train), max(X_train))\n",
    "y_values = intercept + slope * x_values\n",
    "\n",
    "# Tracer la droite de régression\n",
    "plt.scatter(X_train, y_train, color='blue', label='Données d\\'entraînement')\n",
    "plt.plot(x_values, y_values, color='red', label='Régression linéaire')\n",
    "plt.xlabel('X')\n",
    "plt.ylabel('y')\n",
    "plt.legend()\n",
    "plt.show()"
   ],
   "execution_count":37,
   "outputs":[
    {
     "ename":"ValueError",
     "evalue":"ValueError: The truth value of an array with more than one element is ambiguous. Use a.any() or a.all()",
     "traceback":[
      "\u001b[0;31m---------------------------------------------------------------------------",
      "Traceback (most recent call last)",
      "ValueError: The truth value of an array with more than one element is ambiguous. Use a.any() or a.all()"
     ],
     "output_type":"error"
    }
   ],
   "metadata":{
    "datalore":{
     "node_id":"LP6Qv10Rzdr2avqnu4aNLG",
     "type":"CODE",
     "hide_input_from_viewers":true,
     "hide_output_from_viewers":true
    }
   }
  },
  {
   "cell_type":"markdown",
   "source":[
    "## Evaluating the model\n",
    "\n",
    "Let us consider three metrics: MAE, MSE, RMSE. For each of these, answer the following questions:\n",
    "1. What does the acronym mean?\n",
    "2. What does the metric measure?\n",
    "3. What are the pros and cons compared to the other two metrics?\n",
    "4. Using their implementation in `scikit-learn`, measure the performance of your regression model.\n",
    "\n",
    "After measuring all three metrics, interpret your results."
   ],
   "attachments":{},
   "metadata":{
    "datalore":{
     "node_id":"DIpN4wpMfLu0UaBkeqO0WY",
     "type":"MD",
     "hide_input_from_viewers":true,
     "hide_output_from_viewers":true
    }
   }
  },
  {
   "cell_type":"markdown",
   "source":[
    "*[Your comments here]*"
   ],
   "attachments":{},
   "metadata":{
    "datalore":{
     "node_id":"EENeSwweSNuEr7FE2SqROF",
     "type":"MD",
     "hide_input_from_viewers":false,
     "hide_output_from_viewers":false,
     "report_properties":{
      "rowId":"IbeFU91sge26OfdQM8lJz3"
     }
    }
   }
  },
  {
   "cell_type":"code",
   "source":[
    "metrics.mean_squared_error(y_test,y_pred)"
   ],
   "execution_count":11,
   "outputs":[
    {
     "data":{
      "text\/plain":[
       "17.754443450590202"
      ]
     },
     "metadata":{},
     "output_type":"display_data"
    }
   ],
   "metadata":{
    "datalore":{
     "node_id":"ayxXuUIk8sNTr0qZPdSaGd",
     "type":"CODE",
     "hide_input_from_viewers":false,
     "hide_output_from_viewers":false,
     "report_properties":{
      "rowId":"IbeFU91sge26OfdQM8lJz3"
     }
    }
   }
  },
  {
   "cell_type":"code",
   "source":[
    "np.sqrt(metrics.mean_squared_error(y_test,y_pred))"
   ],
   "execution_count":12,
   "outputs":[
    {
     "data":{
      "text\/plain":[
       "4.213602194155281"
      ]
     },
     "metadata":{},
     "output_type":"display_data"
    }
   ],
   "metadata":{
    "datalore":{
     "node_id":"Kd0XO7sfJJAIrJecnUB5uj",
     "type":"CODE",
     "hide_input_from_viewers":true,
     "hide_output_from_viewers":true
    }
   }
  },
  {
   "cell_type":"markdown",
   "source":[
    "## Bonus questions\n",
    "1. Try training a model to predict the value of `MaxTemp` using more features. Evaluate this new model and compare the results. How are the metrics impacted? How do you interpret this?\n",
    "2. Try fitting a different regression model to the data. Observe and analyze the new results."
   ],
   "attachments":{},
   "metadata":{
    "datalore":{
     "node_id":"NqkZCjuLSpgjcsWVUkn79C",
     "type":"MD",
     "hide_input_from_viewers":true,
     "hide_output_from_viewers":true
    }
   }
  },
  {
   "cell_type":"markdown",
   "source":[
    "*[Your comments here]*"
   ],
   "attachments":{},
   "metadata":{
    "datalore":{
     "node_id":"YoQJGWTo4jx28zrXt6u8Yk",
     "type":"MD",
     "hide_input_from_viewers":false,
     "hide_output_from_viewers":false,
     "report_properties":{
      "rowId":"IbeFU91sge26OfdQM8lJz3"
     }
    }
   }
  },
  {
   "cell_type":"code",
   "source":[
    "X = df[[\"MinTemp\",\"MeanTemp\"]].to_numpy()\n",
    "X"
   ],
   "execution_count":13,
   "outputs":[
    {
     "data":{
      "text\/html":[
       "<pre>array([[22.22222222, 23.88888889],\n",
       "       [21.66666667, 25.55555556],\n",
       "       [22.22222222, 24.44444444],\n",
       "       ...,\n",
       "       [18.33333333, 23.33333333],\n",
       "       [18.33333333, 23.33333333],\n",
       "       [17.22222222, 23.33333333]])<\/pre>"
      ]
     },
     "metadata":{},
     "output_type":"display_data"
    }
   ],
   "metadata":{
    "datalore":{
     "node_id":"tfcuEdkD3hWL0t39wD17yH",
     "type":"CODE",
     "hide_input_from_viewers":false,
     "hide_output_from_viewers":false,
     "report_properties":{
      "rowId":"IbeFU91sge26OfdQM8lJz3"
     }
    }
   }
  },
  {
   "cell_type":"code",
   "source":[
    "y = df[\"MaxTemp\"]\n",
    "y"
   ],
   "execution_count":15,
   "outputs":[
    {
     "data":{
      "text\/html":[
       "<pre>0         25.555556\n",
       "1         28.888889\n",
       "2         26.111111\n",
       "3         26.666667\n",
       "4         26.666667\n",
       "            ...    \n",
       "119035    28.333333\n",
       "119036    29.444444\n",
       "119037    28.333333\n",
       "119038    28.333333\n",
       "119039    29.444444\n",
       "Name: MaxTemp, Length: 119040, dtype: float64<\/pre>"
      ]
     },
     "metadata":{},
     "output_type":"display_data"
    }
   ],
   "metadata":{
    "datalore":{
     "node_id":"AsGIm2d5hFCPowcyncSkHQ",
     "type":"CODE",
     "hide_input_from_viewers":true,
     "hide_output_from_viewers":true
    }
   }
  },
  {
   "cell_type":"code",
   "source":[
    "plt.scatter(X,y)"
   ],
   "execution_count":23,
   "outputs":[
    {
     "data":{
      "text\/plain":[
       "<matplotlib.collections.PathCollection at 0x7fc5a47ac310>"
      ]
     },
     "metadata":{},
     "output_type":"display_data"
    },
    {
     "data":{
      "image\/png":"[encoded data removed]"
     },
     "metadata":{
      "image\/png":{}
     },
     "output_type":"display_data"
    }
   ],
   "metadata":{
    "datalore":{
     "node_id":"1nwmeMquKOAxfbdEspaI7Q",
     "type":"CODE",
     "hide_input_from_viewers":true,
     "hide_output_from_viewers":true
    }
   }
  },
  {
   "cell_type":"code",
   "source":[
    "X_train, X_test, y_train, y_test = train_test_split (X, y, test_size = 0.2)"
   ],
   "execution_count":16,
   "outputs":[],
   "metadata":{
    "datalore":{
     "node_id":"OsO0jR8dHo60WJ8GCdm52C",
     "type":"CODE",
     "hide_input_from_viewers":true,
     "hide_output_from_viewers":true
    }
   }
  },
  {
   "cell_type":"code",
   "source":[
    "print (X_train.shape, X_test.shape)"
   ],
   "execution_count":17,
   "outputs":[
    {
     "name":"stdout",
     "text":[
      "(95232, 2) (23808, 2)\n"
     ],
     "output_type":"stream"
    }
   ],
   "metadata":{
    "datalore":{
     "node_id":"dis744FnNpMVkVmZJzeNlq",
     "type":"CODE",
     "hide_input_from_viewers":true,
     "hide_output_from_viewers":true
    }
   }
  },
  {
   "cell_type":"code",
   "source":[
    "X = df[\"MinTemp\"]\n",
    "y = df[\"MaxTemp\"]\n",
    "model = LinearRegression()\n",
    "model.fit(np.array(X_train), np.array(y_train).reshape(-1,1))\n",
    "y_pred = model.predict(np.array(X_test))"
   ],
   "execution_count":18,
   "outputs":[],
   "metadata":{
    "datalore":{
     "node_id":"PlzOCiMRsGl7iaC23GyJ6E",
     "type":"CODE",
     "hide_input_from_viewers":true,
     "hide_output_from_viewers":true
    }
   }
  },
  {
   "cell_type":"code",
   "source":[
    "metrics.mean_squared_error(y_test,y_pred)"
   ],
   "execution_count":19,
   "outputs":[
    {
     "data":{
      "text\/plain":[
       "1.0179481039155613"
      ]
     },
     "metadata":{},
     "output_type":"display_data"
    }
   ],
   "metadata":{
    "datalore":{
     "node_id":"cirT3hlW3oqagQVZ26uuJh",
     "type":"CODE",
     "hide_input_from_viewers":true,
     "hide_output_from_viewers":true
    }
   }
  },
  {
   "cell_type":"code",
   "source":[
    "np.sqrt(metrics.mean_squared_error(y_test,y_pred))"
   ],
   "execution_count":20,
   "outputs":[
    {
     "data":{
      "text\/plain":[
       "1.0089341425066165"
      ]
     },
     "metadata":{},
     "output_type":"display_data"
    }
   ],
   "metadata":{
    "datalore":{
     "node_id":"wVYJXl4C9nENlLcA54woCt",
     "type":"CODE",
     "hide_input_from_viewers":true,
     "hide_output_from_viewers":true
    }
   }
  },
  {
   "cell_type":"code",
   "source":[
    "# Obtenir la pente (coefficient) et l'ordonnée à l'origine\n",
    "slope = model.coef_[0]\n",
    "intercept = model.intercept_\n",
    "\n",
    "# Créer des points pour tracer la droite\n",
    "x_values = np.linspace(np.min(X_train), np.max(X_train)).reshape(-1,1)\n",
    "y_values = (intercept + slope * x_values).reshape()\n",
    "\n",
    "# Tracer la droite de régression\n",
    "plt.scatter(X_train, y_train, color='blue', label='Données d\\'entraînement')\n",
    "plt.plot(x_values, y_values, color='red', label='Régression linéaire')\n",
    "plt.xlabel('X')\n",
    "plt.ylabel('y')\n",
    "plt.legend()\n",
    "plt.show()"
   ],
   "execution_count":32,
   "outputs":[
    {
     "ename":"ValueError",
     "evalue":"ValueError: x and y must be the same size",
     "traceback":[
      "\u001b[0;31m---------------------------------------------------------------------------",
      "Traceback (most recent call last)",
      "ValueError: x and y must be the same size"
     ],
     "output_type":"error"
    },
    {
     "data":{
      "image\/png":"[encoded data removed]"
     },
     "metadata":{
      "image\/png":{}
     },
     "output_type":"display_data"
    }
   ],
   "metadata":{
    "datalore":{
     "node_id":"WZvyEqz8McA5McmtQv3k3I",
     "type":"CODE",
     "hide_input_from_viewers":true,
     "hide_output_from_viewers":true
    }
   }
  }
 ],
 "metadata":{
  "kernelspec":{
   "display_name":"Python",
   "language":"python",
   "name":"python"
  },
  "datalore":{
   "computation_mode":"JUPYTER",
   "package_manager":"pip",
   "base_environment":"default",
   "packages":[
    {
     "name":"slope",
     "source":"PIP"
    }
   ],
   "report_row_ids":[
    "JoHk2C319pxhiBaGkNQMDg",
    "UcaZxTvte2AQBKxsfYBVTL",
    "PvEHx5cM4msrC9cCg1cW9N",
    "88aGZKjbW2yebOUDzoYtf1",
    "fTZ8YWjegGDKILAMu1D44H",
    "HWQmszIy97KJ1RhraFUAj8",
    "JuCjblwngnvBdfqezYhilA",
    "aBltzOrMTRxDSy0ZNPzYHb",
    "WQafdfYaFmr4q44RPvLyJb",
    "HJbPfYQCr5TUK3CPEuiAKs",
    "b9jr8VKK89SanxajR65i20",
    "Xa86OEruzAcfgy1yLvogKb",
    "Ckq38I69B3KQnn3Jbyi3re",
    "EwsEGtNBOPdgD6K6wmAiiD",
    "0p61ATR4JOGt74Cgrd10Nj",
    "P9l3UkPXvxi6tPvYFZV6Lj",
    "T4GPV8l4bUkW9fiHtP1PqI",
    "lVKEpvgJSu6x8mEotFcbO9",
    "1e0m1jgvZl9f5gxqAVVPzV",
    "yB9vNEzq8slDwpUBl5UWhm",
    "RCLbNOz5te9A83IbKRJsTR",
    "hEQmNI6MOoBEBQYnExGp2K",
    "m5bakJ18PgHb9SMNwRKkiu",
    "dq50A9krJH464ellM28HIb"
   ],
   "version":3
  }
 },
 "nbformat":4,
 "nbformat_minor":4
}